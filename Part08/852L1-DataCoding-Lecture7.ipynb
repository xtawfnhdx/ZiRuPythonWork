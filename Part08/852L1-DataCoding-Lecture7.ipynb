{
 "cells": [
  {
   "cell_type": "markdown",
   "metadata": {},
   "source": [
    "# Lecture 7: Sequence types and control flow"
   ]
  },
  {
   "cell_type": "markdown",
   "metadata": {},
   "source": [
    "In our previous lecture, we introduced a few basic commands and concepts in Python 🐍, i.e. printing and storing values in variables, and two important data types: **numbers** (integers, floats) and **strings**.\n",
    "\n",
    "In this lecture, we introduce additional data types and another important concept: **Control Flow**\n",
    "\n",
    "> In programming, **Control Flow** is the order in which individual statements, commands, or function calls are evaluated.\n",
    "\n",
    "Consider the example of computing the cost of a basket that we have seen last week:\n",
    "\n",
    "```python\n",
    "# Compute cost of individual goods and store them in a variables\n",
    "cost_cola      = 1.25 * 5\n",
    "cost_water     = 0.75 * 7\n",
    "cost_chocolate = 3 * 4\n",
    "\n",
    "# Use above variables to store the cost of the basket\n",
    "cost_basket = cost_cola + cost_water + cost_chocolate\n",
    "\n",
    "# Display the result to screen\n",
    "print(cost_basket)\n",
    "```\n",
    "\n",
    "When the above code is run, Python evaluates the above operations, variable assignments, and function calls ***sequentially***.\n",
    "\n",
    "However, there are cases in which the **number** and **correct order** of instructions is not as simple as the one above. For instance, you might have that\n",
    "\n",
    "- Your shopping list is quite long, say 100+ products, which requires you to type all computations by hand\n",
    "- The quantity to buy might depend on the price of the good\n",
    "\n",
    "\n",
    "In such cases, Python have built-in statements that allow us to regulate a program's control flow:\n",
    "\n",
    "- **Loops**\n",
    "- **Conditional statements**\n",
    "\n",
    "We will start working with these during this week's lecture."
   ]
  },
  {
   "cell_type": "markdown",
   "metadata": {},
   "source": [
    "# Sequence types: lists, tuples, and dictionaries\n",
    "Before we discuss loops and conditional statements, we need introduce additional data types. As we will see, these data types are essential when working with control flow statements.\n",
    "\n",
    "We know how to store information in single variables. Numbers and text can be assigned to a variable using the two data types we introduced above: **Numbers** and **Strings**.\n",
    "\n",
    "That's great but what if we have lots of them?\n",
    "\n",
    "Sometimes it is useful to store information in a single place. This can result in a tidier code and less usage of many redundant variables.\n",
    "\n",
    "Python can store multiples numbers and strings in so-called **sequence types**\n",
    "\n",
    "- **Lists**\n",
    "- **Tuples**\n",
    "- **Dictionaries**\n",
    "\n",
    "Let's introduce them!"
   ]
  },
  {
   "cell_type": "markdown",
   "metadata": {},
   "source": [
    "## Lists\n",
    "\n",
    "In Python, a **list** is a collection of objects enclosed by square brackets ```[]``` and separated by commas ```,```.\n",
    "\n",
    "Lists can be created and stored in a variable ```list_name``` using the following syntax:\n",
    "\n",
    "```python\n",
    "list_name = [first_object, second_objects, ... , last_object]\n",
    "```\n",
    "\n",
    "As mentioned above, lists are useful when we have many values that we want to store in a single place.\n"
   ]
  },
  {
   "cell_type": "markdown",
   "metadata": {},
   "source": [
    "### Creating lists\n",
    "\n",
    "Let's revisit the example of computing the cost of a basket once again. All relevant information is contained in the table below:\n",
    "\n",
    "| **Good**      | **Price**       | **Quantity** |\n",
    "| :------------ | :------------:  | :----------: |\n",
    "| Cola          | 1.25            | 5            |\n",
    "| Water         | 0.75            | 7            |\n",
    "| Chocolate     | 3               | 4            |\n",
    "\n",
    "The aim is to store all relevant information in fewer variables than we can access later on. Here's two approaches to do so:\n",
    "\n",
    "- **Approach #1**: Group prices and quantities according to the goods purchased\n",
    "- **Approach #2**: Group all prices and all quantities separately\n",
    "\n",
    "Let's see these approaches in action."
   ]
  },
  {
   "cell_type": "markdown",
   "metadata": {},
   "source": [
    "#### Approach #1"
   ]
  },
  {
   "cell_type": "code",
   "execution_count": null,
   "metadata": {},
   "outputs": [],
   "source": [
    "# For each good, create a list containing the price and quantity purchased\n",
    "cola      = [1.25, 5]\n",
    "water     = [0.75, 7]\n",
    "chocolate = [3, 4]\n",
    "\n",
    "# Display prices and quantities for each good\n",
    "print(cola)\n",
    "print(water)\n",
    "print(chocolate)"
   ]
  },
  {
   "cell_type": "markdown",
   "metadata": {},
   "source": [
    "#### Approach #2"
   ]
  },
  {
   "cell_type": "code",
   "execution_count": null,
   "metadata": {},
   "outputs": [],
   "source": [
    "# Create a list with all prices\n",
    "prices = [1.25, 0.75, 3]\n",
    "\n",
    "# Create a list with all quantities\n",
    "quantities = [5, 7, 4]\n",
    "\n",
    "# Display prices and quantities\n",
    "print(prices)\n",
    "print(quantities)"
   ]
  },
  {
   "cell_type": "markdown",
   "metadata": {},
   "source": [
    "### Accessing lists elements: indexing and slicing\n",
    "Now that we have stored all information in lists, we want to be able to access them.\n",
    "\n",
    "Similarly to strings, we can do that with **indexing** and **slicing**. The syntax for accessing individual or subsets of elements is identical to the one that you would use with strings.\n",
    "\n",
    "#### Indexing\n",
    "Given a list ```list_name```, we can access the element in position ```index``` with\n",
    "\n",
    "```python\n",
    "list_name[index]\n",
    "```\n",
    "\n",
    "#### Slicing\n",
    "Given a list ```list_name```, we can access the elements from ```start``` (included) to ```end``` (**not** included) with\n",
    "\n",
    "```python\n",
    "list_name[start:end]\n",
    "```\n",
    "\n",
    "This will allow us to access the individual elements, i.e. prices and quantities, and compute the cost of the basket."
   ]
  },
  {
   "cell_type": "code",
   "execution_count": null,
   "metadata": {},
   "outputs": [],
   "source": [
    "# Compute the cost of the basket\n",
    "# Approach #1\n",
    "cost_basket1 = cola[0]*cola[1] + water[0]*water[1] + chocolate[0]*chocolate[1]\n",
    "print(cost_basket1)\n",
    "\n",
    "# Approach #2\n",
    "cost_basket2 = prices[0]*quantities[0] + prices[1]*quantities[1] + prices[2]*quantities[2]\n",
    "print(cost_basket2)"
   ]
  },
  {
   "cell_type": "markdown",
   "metadata": {},
   "source": [
    "### What can be stored in a list? Well, everything!\n",
    "Lists are a super-flexible objects. Indeed, lists can contain all data types in Python including numbers, strings, and much more.\n",
    "\n",
    "Here's an example:"
   ]
  },
  {
   "cell_type": "code",
   "execution_count": null,
   "metadata": {},
   "outputs": [],
   "source": [
    "# Define a list containing numbers and strings\n",
    "many_types_list = [12, \"Ciao\", 3.14, \"Pizza\".upper()]\n",
    "print(many_types_list)"
   ]
  },
  {
   "cell_type": "markdown",
   "metadata": {},
   "source": [
    "Lists can even contain lists themselves! 🤯\n",
    "\n",
    "> Lists that contain other lists are called **nested lists**.\n",
    "\n",
    "They allows us to store all information related to our basket in one variable:"
   ]
  },
  {
   "cell_type": "code",
   "execution_count": null,
   "metadata": {},
   "outputs": [],
   "source": [
    "# Store all information in one variable\n",
    "basket = [cola, water, chocolate]\n",
    "print(basket)"
   ]
  },
  {
   "cell_type": "markdown",
   "metadata": {},
   "source": [
    "We can then access the values we are interested in by indexing the list **sequentially**:\n",
    "\n",
    "```list_name[outer_list_index][inner_list_index]```"
   ]
  },
  {
   "cell_type": "code",
   "execution_count": null,
   "metadata": {},
   "outputs": [],
   "source": [
    "# Get the price of chocolate\n",
    "print(f\"The price of chocolate is £ {basket[-1][0]}\")"
   ]
  },
  {
   "cell_type": "markdown",
   "metadata": {},
   "source": [
    "### Working with lists #1: updating lists\n",
    "\n",
    "Lists are **mutable** objects. This means that the elements of a list can be updated with new information if necessary.\n",
    "\n",
    "This allow us to reflect changes in the **existing** list without having to create a new list.\n",
    "\n",
    "The syntax to update elements in a list is\n",
    "\n",
    "```python\n",
    "list_name[old_value_index] = new_value\n",
    "```\n"
   ]
  },
  {
   "cell_type": "markdown",
   "metadata": {},
   "source": [
    "For instance, let's say that the price of cola has changed from £1.25 to £1.50. We can update it as follows:"
   ]
  },
  {
   "cell_type": "code",
   "execution_count": null,
   "metadata": {},
   "outputs": [],
   "source": [
    "# Display old value\n",
    "print(f\"The price of cola was £{cola[0]}\")\n",
    "\n",
    "# Update value\n",
    "cola[0] = 1.5\n",
    "\n",
    "# Display new value\n",
    "print(f\"The price of cola is now £{cola[0]}\")"
   ]
  },
  {
   "cell_type": "markdown",
   "metadata": {},
   "source": [
    "### Working with lists #2: list methods\n",
    "\n",
    "When working with lists we are not limited to updating single elements. We can add new elements, delete existing elements, combine two lists into one, and more. This is done using **list methods**.\n",
    "\n",
    "Similarly to strings methods, a list method is a command that allow us to transform the existing list.\n",
    "\n",
    "The general syntax for calling a list method is:\n",
    "\n",
    "```python\n",
    "list_name.method_name(<arguments>)\n",
    "```\n",
    "\n",
    "A complete list of list methods can be found in the official Python documentation [here](https://docs.python.org/3/tutorial/datastructures.html)."
   ]
  },
  {
   "cell_type": "markdown",
   "metadata": {},
   "source": [
    "#### Updating goods in the basket\n",
    "You arrived at the self checkout and suddenly you changed your mind on the chocolate. You fancy crisps instead!\n",
    "\n",
    "Therefore, you want to update your basket by **adding** crisps and **dropping** chocolate.\n",
    "\n",
    "Imagine that you have a physical basket with you. You would do two things:\n",
    "\n",
    "1. First you will add the bags of crisps in the basket\n",
    "    - This is done with the ```list.append()``` method\n",
    "2. Then you will remove the chocolate from it\n",
    "    - This is done with the ```del``` statement\n",
    "    \n"
   ]
  },
  {
   "cell_type": "code",
   "execution_count": null,
   "metadata": {},
   "outputs": [],
   "source": [
    "# Store the price and quantity of crisps in a list\n",
    "crisps = [1.95, 3]\n",
    "\n",
    "# Add the crisps to your basket list\n",
    "basket.append(crisps)\n",
    "\n",
    "# Check that the crisps are there\n",
    "print(basket)\n",
    "\n",
    "# Take chocolate out of the basket (you need to know where it is)\n",
    "del basket[-2]\n",
    "\n",
    "# Check that the basket contains what you want\n",
    "print(basket)"
   ]
  },
  {
   "cell_type": "markdown",
   "metadata": {},
   "source": [
    "## Tuples\n",
    "A **tuple** is another data type that can represent a sequence of elements.\n",
    "\n",
    "Tuples are very similar to lists, except they are **immutable**. Once they are created, they **cannot** be modified.\n",
    "\n",
    "Tuples are defined by comma-separated values enclosed in round brackets ```()``` according to the following syntax\n",
    "\n",
    "\n",
    "```python\n",
    "tuple_name = (first_object, second_objects, ... , last_object)\n",
    "```\n",
    "\n",
    "where round brackets ```()``` may be omitted in some cases."
   ]
  },
  {
   "cell_type": "markdown",
   "metadata": {},
   "source": [
    "As with lists, tuples can contain different data types. For instance:"
   ]
  },
  {
   "cell_type": "code",
   "execution_count": null,
   "metadata": {},
   "outputs": [],
   "source": [
    "# Define a tuple with different data types\n",
    "my_tuple = (1, \"Ciao\", [20, \"Nov\", 2020])\n",
    "print(my_tuple)"
   ]
  },
  {
   "cell_type": "markdown",
   "metadata": {},
   "source": [
    "### Unpacking\n",
    "Tuples can be very handy when we want to assign different variables to individual elements of a sequence. This operation is called **unpacking**:"
   ]
  },
  {
   "cell_type": "code",
   "execution_count": null,
   "metadata": {},
   "outputs": [],
   "source": [
    "# Assign the elements of my_tuple to individual variables\n",
    "a, b, c = my_tuple\n",
    "print(f\"The value of a is {a}\")\n",
    "print(f\"The value of b is {b}\")\n",
    "print(f\"The value of c is {c}\")"
   ]
  },
  {
   "cell_type": "markdown",
   "metadata": {},
   "source": [
    "## Dictionaries\n",
    "Another data type that can represent a collection of items is a **dictionary**.\n",
    "\n",
    "> A **dictionary** is a comma-separated list of ```key: value``` pairs that allow us to store a collection of **values** and associated **keys**.\n",
    "\n",
    "More precisely, a dictionary is a **mapping type** since it associates (maps) keys into values.\n",
    "\n",
    "Dictionaries are defined by a comma-separated list of keys and values enclosed in curly brackets ```{}```. That is\n",
    "\n",
    "```python\n",
    "dict_name = {key1: value1, key2: value2, ... , keyN: valueN}\n",
    "```\n",
    "\n",
    "where\n",
    "\n",
    "- The ```key``` must be an **immutable** object\n",
    "- The ```value``` can be any data type\n",
    "\n",
    "Dictionaries can be defined on a multiple lines as well. See an example below:"
   ]
  },
  {
   "cell_type": "code",
   "execution_count": null,
   "metadata": {
    "scrolled": false
   },
   "outputs": [],
   "source": [
    "# Define a dictionary containing first name, surname, and age of your lecturer\n",
    "Luca = {\n",
    "        \"firstname\": \"Luca\",\n",
    "        \"surname\": \"Rondina\",\n",
    "        \"age\": 30\n",
    "       }\n",
    "\n",
    "print(Luca)"
   ]
  },
  {
   "cell_type": "markdown",
   "metadata": {},
   "source": [
    "Dictionaries are well suited to those cases where we want to store and access information with different interpretation but related to the same case. In the example above, each value has a different interpretation but all values refer to one person."
   ]
  },
  {
   "cell_type": "markdown",
   "metadata": {},
   "source": [
    "### Working with dictionaries #1: accessing values through keys\n",
    "\n",
    "A dictionary ```value``` can be accessed by using the correspondent ```key``` with the following syntax:\n",
    "\n",
    "```python\n",
    "dict_name[key]\n",
    "```\n",
    "\n",
    "Notice the difference between lists and dictionaries:\n",
    "\n",
    "- Lists elements are **ordered** and are associated to an **positional index**\n",
    "- Dictionary values are **unordered** and are associated to a **key**\n"
   ]
  },
  {
   "cell_type": "code",
   "execution_count": null,
   "metadata": {},
   "outputs": [],
   "source": [
    "# Display the age of your lecturer\n",
    "print(Luca['age'])"
   ]
  },
  {
   "cell_type": "markdown",
   "metadata": {},
   "source": [
    "As with lists, dictionary values can be updated."
   ]
  },
  {
   "cell_type": "code",
   "execution_count": null,
   "metadata": {
    "scrolled": true
   },
   "outputs": [],
   "source": [
    "# Suppose we are in 2021: update the age value\n",
    "Luca['age'] = 31\n",
    "print(Luca)"
   ]
  },
  {
   "cell_type": "markdown",
   "metadata": {},
   "source": [
    "#### Nested dictionaries\n",
    "Similarly to lists, we can have a **nested dictionary**, that is a dictionary whose values are dictionary themselves.\n",
    "\n",
    "Our shopping basket is a perfect example of a good use of a nested dictionary:"
   ]
  },
  {
   "cell_type": "code",
   "execution_count": null,
   "metadata": {},
   "outputs": [],
   "source": [
    "# Redefine the basket variable as a nested dictionary\n",
    "basket = {\n",
    "          \"cola\"     :  {\"price\": 1.25, \"quantity\": 5},\n",
    "          \"water\"    :  {\"price\": 0.75, \"quantity\": 7},\n",
    "          \"chocolate\":  {\"price\": 3   , \"quantity\": 4},\n",
    "}\n",
    "\n",
    "# Get and display the price of water\n",
    "price_water = basket['water']['price']\n",
    "print(price_water)"
   ]
  },
  {
   "cell_type": "markdown",
   "metadata": {},
   "source": [
    "### Working with dictionaries #2: dictionary methods\n",
    "\n",
    "Similarly to lists, dictionaries come with built-in methods that allows us to update, add, and delete values in a dictionary as well as perform other operations.\n",
    "\n",
    "Some of the most used methods are:\n",
    "\n",
    "\n",
    "| Method name |     Method description                                              |     Usage                     |\n",
    "| :---------- | :------------------------------------------------------------------ | :---------------------------- |\n",
    "| clear()     | Deletes everything from a dictionary and leaves an empty dictionary | ```dict_name.clear()```       |\n",
    "| get()       | Returns the value of key. If key is not found it returns ```None```, instead of throwing ```KeyError``` exception                                                            | ```dict_name.get(<key>)```    |\n",
    "| pop()       | Removes the item from the dictionary and returns its value as output. If the key is not found, ```KeyError``` will be thrown                                                       | ```dict_name.pop(<key>)```    |\n",
    "| update()    | Updates the dictionary with another dictionary or a sequence of key-value pairs                                                                                                           | ```dict_name.update(<obj>)``` |\n",
    "| keys()      | Returns a list of all keys in the dictionary                        | ```dict_name.keys()```        |\n",
    "| values()    | Returns a list of all values in the dictionary                      | ```dict_name.values()```      |\n",
    "| items()     | Returns a list of tuples with all (keys, values) pairs in the dictionary                                                                                                                   | ```dict_name.items()```       |\n",
    "\n",
    "For a complete list of dictionary methods see the Python official documentation [here](https://docs.python.org/3/library/stdtypes.html#mapping-types-dict)."
   ]
  },
  {
   "cell_type": "markdown",
   "metadata": {},
   "source": [
    "# Control flow\n",
    "\n",
    "We now turn our attention to control flow statements and constructs. As we will see, the sequence and mapping data types above will be tightly intertwined with loops and conditional statements."
   ]
  },
  {
   "cell_type": "markdown",
   "metadata": {},
   "source": [
    "## Loops\n",
    "\n",
    "There are cases in which our program consists of many repetitive tasks.\n",
    "\n",
    "Let's say that we want to write a program that sequentially prints out the name of each person from a given list of names.\n",
    "\n",
    "One alternative is the following:"
   ]
  },
  {
   "cell_type": "code",
   "execution_count": null,
   "metadata": {},
   "outputs": [],
   "source": [
    "# Define a list containg names\n",
    "names = [\"Luca\", \"Chiara\", \"Marco\", \"Gabriella\", \"Davide\"]\n",
    "\n",
    "# Sequentially print out the names from the list\n",
    "print(names[0])\n",
    "print(names[1])\n",
    "print(names[2])\n",
    "print(names[3])\n",
    "print(names[4])"
   ]
  },
  {
   "cell_type": "markdown",
   "metadata": {},
   "source": [
    "As you can see in the program above, we are **repeating** the ```print``` command over and over. The only difference is that each time we are indexing the list to access the next name and print it to screen.\n",
    "\n",
    "This is not a big deal with 5 names as above, but you can see how typing ```print(names[index])``` can be time consuming if we have 100 names or more in the list."
   ]
  },
  {
   "cell_type": "markdown",
   "metadata": {},
   "source": [
    "### For loops\n",
    "\n",
    "Luckily, Python is on our side. In programs similar to the one above and in many other situations, Python allows us to perform *repetitive tasks* by using a **for loop**.\n",
    "\n",
    "> In programming, a **for loop** is a control flow statement that allows a portion of code to be executed iteratively.\n",
    "\n",
    "In Python, the general syntax of a for loop is\n",
    "\n",
    "```python\n",
    "for item in iterable:\n",
    "    statement(s)\n",
    "```\n",
    "\n",
    "where\n",
    "\n",
    "- ```iterable``` is any data type or expression that can return one ```item``` at a time\n",
    "    - This is the sequence of elements we want to **iterate over**\n",
    "    - List, tuples, and dictionaries are examples of iterables\n",
    "- ```item``` is the object that is returned from the ```iterable``` at each iteration of the loop. This will be used in the ```statement(s)``` block.\n",
    "    - This can be a single value, e.g. an element of a list, or multiple values, e.g. a tuple of values.\n",
    "- ```statement(s)``` is the portion of code that is **repeated** at each iteration of the loop.\n",
    "    - This can be a single statement in one line as well as a more complicated block of statements over multiple lines\n",
    "\n",
    "**Important**: the portion of code that we want Python to evaluate iteratively within the loop **must be indented**, that is must be written with same number of leading whitespaces. The above definition reflects this."
   ]
  },
  {
   "cell_type": "markdown",
   "metadata": {},
   "source": [
    "Let's revisit our program that prints out names from a list of names. This can be easily done with a for loop as follows:"
   ]
  },
  {
   "cell_type": "code",
   "execution_count": null,
   "metadata": {},
   "outputs": [],
   "source": [
    "# Print out the names from the list using a for loop\n",
    "for name in names:\n",
    "    print(name)"
   ]
  },
  {
   "cell_type": "markdown",
   "metadata": {},
   "source": [
    "Another alternative is to iteratively access each element in the list of names by indexing the list at each iteration of the loop.\n",
    "\n",
    "In order to so we need to be able to create and iterate over a **sequence of integers** which we will use as indexes. This is done using the ```range()``` function."
   ]
  },
  {
   "cell_type": "code",
   "execution_count": null,
   "metadata": {},
   "outputs": [],
   "source": [
    "# Iterate over a sequence of integers with range() and display the value at each iteration\n",
    "for i in range(5):\n",
    "    print(i)"
   ]
  },
  {
   "cell_type": "markdown",
   "metadata": {},
   "source": [
    "As you can see, the for loop above exactly creates the integers we need to index all elements in the list iteratively, that is at each iteration of the loop.\n",
    "\n",
    "To do that we simply need to index the list in the ```statements``` block of the for loop:"
   ]
  },
  {
   "cell_type": "code",
   "execution_count": null,
   "metadata": {},
   "outputs": [],
   "source": [
    "# Print out the names from the list by indexing the list directly\n",
    "for i in range(5):\n",
    "    current_name = names[i]\n",
    "    print(current_name)"
   ]
  },
  {
   "cell_type": "markdown",
   "metadata": {},
   "source": [
    "### While loops\n",
    "\n",
    "Another way to iteratively execute a block of statements is by using a **while loop**.\n",
    "\n",
    "> In programming, a **while loop** is a control flow statement that allows a portion of code to be executed iteratively **as long as a certain condition is met**.\n",
    "\n",
    "In Python, the general syntax of a while loop is\n",
    "\n",
    "```python\n",
    "while condition:\n",
    "    statement(s)\n",
    "```\n",
    "\n",
    "where\n",
    "\n",
    "- ```condition``` is **conditional expression** that is either ```True``` or ```False```,\n",
    "    - ```True``` and ```False``` are known as Booleans, which is another data type in Python.\n",
    "    - ```condition``` can be either a conditional expression that evaluates to a Boolean or a Boolean itself.\n",
    "\n",
    "- ```statement(s)``` is a portion of code that is executed **only if** the ```condition``` is ```True```.\n",
    "\n",
    "In plain English, the while loop can be thought as the equivalent to \"while condition is true, execute statements\".\n",
    "\n",
    "**Important: variable initialisation**\n",
    "\n",
    "While loops always check whether the condition is met **before** entering the next iteration and executing the ```statement(s)``` block. \n",
    "\n",
    "This applies to the very first iteration as well. Therefore, it is necessary to **initialise** any value contained in the conditional expression **before** the while loop."
   ]
  },
  {
   "cell_type": "markdown",
   "metadata": {},
   "source": [
    "**While loops in action**\n",
    "\n",
    "Let's say that we want to write the following program:\n",
    "\n",
    "> Given an initial number, keep doubling it until it reaches 100\n",
    "\n",
    "In other words, **as long as** the number is below 100 the program should keep on doubling the number. Therefore, the ```condition``` is that the number should be **less than** 100 and the ```statement``` is the doubling of the number itself."
   ]
  },
  {
   "cell_type": "code",
   "execution_count": null,
   "metadata": {},
   "outputs": [],
   "source": [
    "# Initialise the number to a value and print it\n",
    "number = 1\n",
    "print(f\"We started with {number}\\n\")\n",
    "\n",
    "# Keep doubling the number until it reaches 100\n",
    "while number < 100:\n",
    "    # Double the number\n",
    "    number *= 2          # This is equivalent to number = number * 2\n",
    "    \n",
    "    # Print to keep track of the update\n",
    "    print(f\"We are now at {number}\")\n",
    "\n",
    "# Print the final result\n",
    "print(f\"\\nWe ended with {number}\")"
   ]
  },
  {
   "cell_type": "markdown",
   "metadata": {},
   "source": [
    "## Conditional statements\n",
    "\n",
    "Everyday we make decisions based on the outcome of particular event:\n",
    "\n",
    "```\n",
    "If it rains, I'll stay at home.\n",
    "\n",
    "If I win this bet, I'll get £100; otherwise I'll lose £100.\n",
    "\n",
    "If I win this bet, I'll go celebrate; otherwise I'll check my bank account first before joining my friends at the pub.\n",
    "```\n",
    "\n",
    "In programming, the same concept applies. Often times we want to execute a series of instructions that **depend on** the result of previous instructions.\n",
    "\n",
    "In Python, we can do that by using a combination of **conditional expressions** and ```if..else``` statements.\n",
    "\n",
    "> A **conditional expression** is an expression that returns a Boolean value of either ```True``` or ```False```\n",
    "\n",
    "> An ```if..else``` statement is a **conditional statement** that executes a series of instructions depending on the value of a conditional expression.\n"
   ]
  },
  {
   "cell_type": "markdown",
   "metadata": {},
   "source": [
    "### Conditional expressions: True or False?\n",
    "\n",
    "Conditional expressions allow us to verify whether a certain conjecture holds. When evaluated they return a Boolean value of ```True``` or ```False```.\n"
   ]
  },
  {
   "cell_type": "markdown",
   "metadata": {},
   "source": [
    "#### Comparison operators\n",
    "\n",
    "If we want to compare two (or more) instances of the same data type we use **comparison operators**:\n",
    "\n",
    "| Operator | Meaning                  | Usage  | Result                                                    |\n",
    "| :------: | :------------------------| :----: | :-------------------------------------------------------- |\n",
    "| ```==```       | Equal                    | ```x == y``` | ```True``` if value of ```x``` is equal to value of ```y```, otherwise ```False``` |\n",
    "| ```!=```       | Not equal                | ```x != y``` | ```True``` if value of ```x``` is not equal to value of ```y```, otherwise ```False```    |\n",
    "| ```>```        | Greater than             | ```x > y```  | ```True``` if ```x``` is greater than ```y```, otherwise ```False``` |\n",
    "| ```<```        | Less than                | ```x < y```  | ```True``` if ```x``` is less than ```y```, otherwise ```False``` |\n",
    "| ```>=```       | Greater than or equal to | ```x >= y``` | ```True``` if ```x``` is greater than or equal to ```y```, otherwise ```False``` |\n",
    "| ```<=```       | Less than or equal to    | ```x <= y``` | ```True``` if ```x``` is less than or equal to ```y```, otherwise ```False``` |\n",
    "\n",
    "Let's see a few examples:"
   ]
  },
  {
   "cell_type": "code",
   "execution_count": null,
   "metadata": {},
   "outputs": [],
   "source": [
    "4 == 5"
   ]
  },
  {
   "cell_type": "code",
   "execution_count": null,
   "metadata": {},
   "outputs": [],
   "source": [
    "4 != 5"
   ]
  },
  {
   "cell_type": "code",
   "execution_count": null,
   "metadata": {},
   "outputs": [],
   "source": [
    "4 < 5 < 7"
   ]
  },
  {
   "cell_type": "code",
   "execution_count": null,
   "metadata": {
    "scrolled": true
   },
   "outputs": [],
   "source": [
    "4 > 5 < 7"
   ]
  },
  {
   "cell_type": "markdown",
   "metadata": {},
   "source": [
    "The result of a conditional expression can be saved in a variable and used at a later stage. The data type of this variable will be a Boolean.\n",
    "\n",
    "As the example below shows, we can compare strings as well:"
   ]
  },
  {
   "cell_type": "code",
   "execution_count": null,
   "metadata": {},
   "outputs": [],
   "source": [
    "# Check if capitalise and lowercase strings are the same\n",
    "string_equality = \"Coding\" == \"coding\"\n",
    "\n",
    "# Print result and data type\n",
    "print(string_equality)\n",
    "type(string_equality)"
   ]
  },
  {
   "cell_type": "markdown",
   "metadata": {},
   "source": [
    "#### Boolean operators\n",
    "\n",
    "Also known as logical operators, **Boolean operators** allow us to check multiple conditions at the same time.\n",
    "\n",
    "| Operator  | Usage                           | Result |\n",
    "| :-------- | :-----------------------------: | :----- |\n",
    "| ```and``` | condition1 ```and``` condition2 | ```True``` if both conditions are ```True```, otherwise ```False``` |\n",
    "| ```or```  | condition1 ```or``` condition2  | ```True``` if at least one of the conditions is ```True```, otherwise ```False``` |\n",
    "| ```not``` | ```not``` condition             | ```True``` if condition is ```False```, and vice versa |"
   ]
  },
  {
   "cell_type": "code",
   "execution_count": null,
   "metadata": {},
   "outputs": [],
   "source": [
    "2 < 3 and 4 < 5"
   ]
  },
  {
   "cell_type": "code",
   "execution_count": null,
   "metadata": {},
   "outputs": [],
   "source": [
    "2 == 3 or 4 != 5"
   ]
  },
  {
   "cell_type": "code",
   "execution_count": null,
   "metadata": {},
   "outputs": [],
   "source": [
    "not string_equality"
   ]
  },
  {
   "cell_type": "markdown",
   "metadata": {},
   "source": [
    "#### Membership operators\n",
    "\n",
    "Finally, **membership operators** allows use to check whether a given element is present in a sequence of elements"
   ]
  },
  {
   "cell_type": "code",
   "execution_count": null,
   "metadata": {},
   "outputs": [],
   "source": [
    "\"Luca\" in names"
   ]
  },
  {
   "cell_type": "code",
   "execution_count": null,
   "metadata": {},
   "outputs": [],
   "source": [
    "\"econ\" not in \"economics\""
   ]
  },
  {
   "cell_type": "markdown",
   "metadata": {},
   "source": [
    "### ```if..else``` statements\n",
    "\n",
    "We are now ready to use conditional expressions to control which set of instructions gets executed. This is achieved using ```if..else``` statements.\n",
    "\n",
    "In Python, the general syntax of an ```if..else``` statement is\n",
    "\n",
    "```python\n",
    "if condition:\n",
    "    <statements block 1>\n",
    "else:\n",
    "    <statements block 2>\n",
    "```\n",
    "\n",
    "where\n",
    "\n",
    "- ```<statements block 1>``` is executed if ```condition``` is ```True```\n",
    "\n",
    "- ```<statements block 2>``` is executed if ```condition``` is ```False```\n",
    "\n",
    "The ```else``` block can be omitted, in which case nothing gets executed if ```condition``` is ```False```. The program ignores the ```if..else``` altogether and continues to the next set of instructions."
   ]
  },
  {
   "cell_type": "markdown",
   "metadata": {},
   "source": [
    "Let's consider our real life example above. In plain English, we have\n",
    "\n",
    "```\n",
    "If it rains, I'll stay at home.\n",
    "```\n",
    "\n",
    "In Python, this is programmed as follows"
   ]
  },
  {
   "cell_type": "code",
   "execution_count": null,
   "metadata": {},
   "outputs": [],
   "source": [
    "# Set the weather\n",
    "weather = \"sunny\"\n",
    "\n",
    "# Choose an action depending on the weather\n",
    "if weather == \"rain\":\n",
    "    print(\"No thanks, I'll stay inside.\")\n",
    "else:\n",
    "    print(\"Cool, let's go outside!\")"
   ]
  },
  {
   "cell_type": "markdown",
   "metadata": {},
   "source": [
    "Or for instance\n",
    "```\n",
    "If I win this bet, I'll get £100; otherwise I'll lose £100.\n",
    "```\n",
    "becomes"
   ]
  },
  {
   "cell_type": "code",
   "execution_count": null,
   "metadata": {},
   "outputs": [],
   "source": [
    "# Set bet result and income\n",
    "won_bet = False\n",
    "income  = 1000\n",
    "\n",
    "# Update income depending on the result of the bet\n",
    "if won_bet:\n",
    "    income += 100\n",
    "else:\n",
    "    income -= 100\n",
    "\n",
    "# Display final income\n",
    "print(income)"
   ]
  },
  {
   "cell_type": "markdown",
   "metadata": {},
   "source": [
    "### Nested if statements: ```if..elif..else```\n",
    "Finally, consider our last example\n",
    "\n",
    "```\n",
    "If I win this bet, I'll go celebrate; otherwise I'll check my bank account first before joining my friends at the pub.\n",
    "```\n",
    "\n",
    "Notice that there are **two** conditionals. The winning of the bet, and the amount of money in the bank account. These are considered sequentially.\n",
    "\n",
    "First, I am checking whether I have won the bet\n",
    "- If yes, I'll go celebrate straight away\n",
    "\n",
    "Second, I am checking how much money I have in my account *in case I have lost the bet*\n",
    "- If I have enough money, I'll go the pub anyway\n",
    "- If I am broke, I'll stay at home\n",
    "\n",
    "In Python, such cases are handled by **nested if statements**. The general syntax is\n",
    "\n",
    "```python\n",
    "if condition1:\n",
    "    <statements block 1>\n",
    "elif condition2:\n",
    "    <statements block 2>\n",
    "else:\n",
    "    <statements block 3>\n",
    "```\n",
    "\n",
    "where the ```elif``` block, short for \"else if\", allows us to check an additional condition and execute an additional set of instructions.\n",
    "\n",
    "The two conditions, ```condition1``` and ```condition2```, are considered sequentially:\n",
    "\n",
    "- If ```condition1``` is ```True```, then ```<statements block 1>``` is executed ***regardless*** of the value of ```condition2```.\n",
    "\n",
    "- If ```condition1``` is ```False```, then the value taken by ```condition2``` determines whether ```<statements block 2>``` or ```<statements block 3>``` is executed.\n",
    "\n",
    "In Python words, this is done as follows"
   ]
  },
  {
   "cell_type": "code",
   "execution_count": null,
   "metadata": {},
   "outputs": [],
   "source": [
    "# Set bet result and bank account balance\n",
    "won_bet = False\n",
    "balance = 500\n",
    "\n",
    "# Update bank account balance\n",
    "balance += (100 if won_bet else -100)\n",
    "print(f\"As a result of the bet your balance is now £{balance}\\n\")\n",
    "\n",
    "# Choose an action\n",
    "if won_bet:\n",
    "    print(\"I have won! Let's celebrate 🍻🎉\")\n",
    "elif balance > 300:\n",
    "    print(\"I have lost but I have enough money. I'll have a pint anyway...\")\n",
    "else:\n",
    "    print(\"I have lost and I am broke. Better stay at home.\")"
   ]
  }
 ],
 "metadata": {
  "kernelspec": {
   "display_name": "Python 3",
   "language": "python",
   "name": "python3"
  },
  "language_info": {
   "codemirror_mode": {
    "name": "ipython",
    "version": 3
   },
   "file_extension": ".py",
   "mimetype": "text/x-python",
   "name": "python",
   "nbconvert_exporter": "python",
   "pygments_lexer": "ipython3",
   "version": "3.8.3"
  },
  "toc": {
   "base_numbering": 1,
   "nav_menu": {
    "height": "433px",
    "width": "431px"
   },
   "number_sections": false,
   "sideBar": true,
   "skip_h1_title": false,
   "title_cell": "Table of Contents",
   "title_sidebar": "Contents",
   "toc_cell": false,
   "toc_position": {
    "height": "calc(100% - 180px)",
    "left": "10px",
    "top": "150px",
    "width": "182px"
   },
   "toc_section_display": true,
   "toc_window_display": false
  },
  "varInspector": {
   "cols": {
    "lenName": 16,
    "lenType": 16,
    "lenVar": 40
   },
   "kernels_config": {
    "python": {
     "delete_cmd_postfix": "",
     "delete_cmd_prefix": "del ",
     "library": "var_list.py",
     "varRefreshCmd": "print(var_dic_list())"
    },
    "r": {
     "delete_cmd_postfix": ") ",
     "delete_cmd_prefix": "rm(",
     "library": "var_list.r",
     "varRefreshCmd": "cat(var_dic_list()) "
    }
   },
   "position": {
    "height": "506px",
    "left": "418px",
    "right": "20px",
    "top": "120px",
    "width": "522px"
   },
   "types_to_exclude": [
    "module",
    "function",
    "builtin_function_or_method",
    "instance",
    "_Feature"
   ],
   "window_display": false
  }
 },
 "nbformat": 4,
 "nbformat_minor": 4
}
