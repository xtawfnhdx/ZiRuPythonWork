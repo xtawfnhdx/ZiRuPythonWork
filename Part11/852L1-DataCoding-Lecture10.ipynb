{
 "cells": [
  {
   "cell_type": "markdown",
   "metadata": {},
   "source": [
    "# Lecture 10: Data Visualisation with Python"
   ]
  },
  {
   "cell_type": "markdown",
   "metadata": {},
   "source": [
    "In our previous lecture, we introduced the basics of data analysis with Python using the Pandas library.\n",
    "\n",
    "In this lecture, we will cover some of the visualisation tools available in Python and the main library for plotting and creating graphs, i.e. **Matplotlib**.\n"
   ]
  },
  {
   "cell_type": "markdown",
   "metadata": {},
   "source": [
    "## Introductory example: unemployment rates\n",
    "\n",
    "Let's start with a simple, but rich enough, example that illustrates some of the basic features of plotting in Python. We will then cover each of the features in detail in order to understand how they work.\n",
    "\n",
    "Our goal for this example is to create a plot showing how the unemployment rate in different U.S. regions evolves over time. First, let's create a few variables that will represent our data.\n"
   ]
  },
  {
   "cell_type": "code",
   "execution_count": null,
   "metadata": {},
   "outputs": [],
   "source": [
    "# Create a dictionary of lists containing unemployment rate for each U.S. region\n",
    "unemployment = {\n",
    "    \"NorthEast\": [5.9,  5.6,  4.4,  3.8,  5.8,  4.9,  4.3,  7.1,  8.3,  7.9,  5.7],\n",
    "    \"MidWest\": [4.5,  4.3,  3.6,  4. ,  5.7,  5.7,  4.9,  8.1,  8.7,  7.4,  5.1],\n",
    "    \"South\": [5.3,  5.2,  4.2,  4. ,  5.7,  5.2,  4.3,  7.6,  9.1,  7.4,  5.5],\n",
    "    \"West\": [6.6, 6., 5.2, 4.6, 6.5, 5.5, 4.5, 8.6, 10.7, 8.5, 6.1],\n",
    "    \"National\": [5.6, 5.3, 4.3, 4.2, 5.8, 5.3, 4.6, 7.8, 9.1, 8., 5.7]\n",
    "}\n",
    "\n",
    "# Create a list that represents the years\n",
    "years = list(range(1995, 2017, 2))"
   ]
  },
  {
   "cell_type": "markdown",
   "metadata": {},
   "source": [
    "Given the unemployment data stored in a dictionary and the associated years in a list, we can create a time-series plot in two steps:\n",
    "\n",
    "1. Import the plotting module **pyplot** from the library **matplotlib**.\n",
    "2. Create and show the plot."
   ]
  },
  {
   "cell_type": "code",
   "execution_count": null,
   "metadata": {},
   "outputs": [],
   "source": [
    "# Import the plotting library\n",
    "import matplotlib.pyplot as plt\n",
    "plt.style.use(\"default\")"
   ]
  },
  {
   "cell_type": "markdown",
   "metadata": {},
   "source": [
    "Now that Python has access to the necessary plotting functions, we are ready to create the graph with the following code"
   ]
  },
  {
   "cell_type": "code",
   "execution_count": null,
   "metadata": {},
   "outputs": [],
   "source": [
    "# Sequentially plot unemployment rate on the same figure\n",
    "for region, unemp_rate in unemployment.items():\n",
    "    plt.plot(years, unemp_rate, label=region)\n",
    "\n",
    "# Display useful information\n",
    "plt.title(\"U.S. unemployment rate by region\")\n",
    "plt.xlabel(\"Years\")\n",
    "plt.ylabel(\"Unemployment rate (%)\")\n",
    "plt.grid()\n",
    "plt.legend()\n",
    "plt.show()"
   ]
  },
  {
   "cell_type": "markdown",
   "metadata": {},
   "source": [
    "Even a simple graph like the one above illustrates the advantages of data visualisation. The time-series plot immediately shows in which years the unemployment rate was higher than average, and in which region the unemployment rate was the highest."
   ]
  },
  {
   "cell_type": "markdown",
   "metadata": {},
   "source": [
    "In order to create the plot, we had to import the **Matplotlib** library first. Any time we are working with plots and other visualisation tools, we can import the ```pyplot``` module of Matplotlib with\n",
    "\n",
    "```python\n",
    "import matplotlib.pyplot as plt\n",
    "```"
   ]
  },
  {
   "cell_type": "markdown",
   "metadata": {},
   "source": [
    "# Matplotlib: the plotting library\n",
    "\n",
    "**Matplotlib** is the de facto standard library for plotting in Python.\n",
    "\n",
    "According to the [official website](https://matplotlib.org/):\n",
    "\n",
    "> **Matplotlib** is a comprehensive library for creating static, animated, and interactive visualizations in Python.\n",
    "\n",
    "Matplotlib is a very powerful and flexible library that allows researchers and practitioners to produce publication quality plots with a high degree of customisation.\n",
    "\n",
    "Matplotlib is also used internally by other libraries as their main plotting engine. Examples are the data analysis library Pandas and the data visualisation library [**Seaborn**](http://seaborn.pydata.org/).\n",
    "\n",
    "In what follows, we will go over the main features and functionalities of Matplotlib, starting from plotting a simple line."
   ]
  },
  {
   "cell_type": "markdown",
   "metadata": {},
   "source": [
    "## A simple $(x, y)$ plot\n",
    "\n",
    "Let's say that we want to plot a straight line. Mathematically, a straight line is represented by the linear relationship\n",
    "\n",
    "$$ y = ax $$\n",
    "\n",
    "where $x$ are all real numbers measured on the horizontal axis, $a$ is a constant, and $y$ are the correspondent numbers measured on the vertical axis.\n",
    "\n",
    "To understand how Matplotlib works, it is best to view this linear relationship as a **sequence of points in the $(x, y)$ plane**. For instance, given $a=2$, the linear relationship for the first 5 natural numbers is summarised by\n",
    "\n",
    "|        |   |   |   |   |    |\n",
    "|:------:|---|---|---|---|:--:|\n",
    "| **x**  | 1 | 2 | 3 | 4 | 5  |\n",
    "| **y**  | 2 | 4 | 6 | 8 | 10 |\n",
    "\n",
    "\n",
    "In order to create a line, the function ```plt.plot()``` takes **a sequence of $x$ values** and **a sequence of associated $y$ values**, and maps the $x$ and $y$ values to the correspondent $(x,y)$ points on the $(x,y)$ plane.\n",
    "\n",
    "In its most basic form, the syntax for creating a line plot is\n",
    "\n",
    "```\n",
    "plt.plot([sequence of x values], [sequence of y values])\n",
    "```\n",
    "\n",
    "Therefore, the linear relationship $y=2x$ is easily plotted as follows "
   ]
  },
  {
   "cell_type": "code",
   "execution_count": null,
   "metadata": {},
   "outputs": [],
   "source": [
    "# Create two lists of x and y coordinates\n",
    "x_values = [1, 2, 3, 4, 5]\n",
    "y_values = [2, 4, 6, 8, 10]\n",
    "\n",
    "# Create the plot with plt.plot()\n",
    "plt.plot(x_values, y_values)\n",
    "\n",
    "# Display the plot\n",
    "plt.show()"
   ]
  },
  {
   "cell_type": "markdown",
   "metadata": {},
   "source": [
    "Of course, the same procedure applies to more complicated functions. For instance, if we want to plot the trigonometric function $y=\\sin{x}$ between 0 and $2\\pi$ we can do that with"
   ]
  },
  {
   "cell_type": "code",
   "execution_count": null,
   "metadata": {},
   "outputs": [],
   "source": [
    "# Import sin() function and pi constant from math library\n",
    "from math import sin, pi\n",
    "# Import arange() function from numpy to create a range of floats\n",
    "from numpy import arange\n",
    "\n",
    "# Create x and y=sin(x) coordinates\n",
    "x_values = arange(0, 2*pi, pi/4)\n",
    "y_values = [sin(x) for x in x_values]\n",
    "\n",
    "# Create the plot with plt.plot()\n",
    "plt.plot(x_values, y_values)\n",
    "\n",
    "# Display the plot\n",
    "plt.show()"
   ]
  },
  {
   "cell_type": "markdown",
   "metadata": {},
   "source": [
    "## Plotting multiple lines\n",
    "\n",
    "There are many situations in which we want to have two or more lines in the same graph. This is very useful when we want to plot two or more mathematical functions, or compare the behaviour over time of two or more variables. The unemployment example above is one of such cases.\n",
    "\n",
    "Plotting multiple lines is easily done by sequentially calling the ```plt.plot()``` function, each time with a different set of $(x,y)$ coordinates. That is\n",
    "\n",
    "```\n",
    "plt.plot([1st sequence of x values], [1st sequence of y values])\n",
    "plt.plot([2nd sequence of x values], [2nd sequence of y values])\n",
    "...\n",
    "plt.plot([nth sequence of x values], [nth sequence of y values])\n",
    "```\n",
    "\n",
    "In the background, Matplotlib creates a new **figure** on the first call of ```plt.plot()``` and then subsequently adds new lines to the **same** figure on subsequent calls of ```plt.plot()```.\n",
    "\n",
    "*Note: In a Jupyter notebook, subsequent calls of ```plt.plot()``` must be in the same cell in order to produce the desired result.*\n"
   ]
  },
  {
   "cell_type": "code",
   "execution_count": null,
   "metadata": {},
   "outputs": [],
   "source": [
    "# Create (x, y) coordinates representing y=2x\n",
    "x1 = [1, 2, 3, 4, 5]\n",
    "y1 = [2, 4, 6, 8, 10]\n",
    "\n",
    "# Create the first plot\n",
    "plt.plot(x1, y1)\n",
    "\n",
    "# Create (x,y) coordinates where y is the square of x\n",
    "x2 = [1, 2, 3, 4, 5]\n",
    "y2 = [1, 4, 9, 16, 25]\n",
    "\n",
    "# Create the second plot\n",
    "plt.plot(x2, y2)\n",
    "\n",
    "# Display the graph\n",
    "plt.show()"
   ]
  },
  {
   "cell_type": "markdown",
   "metadata": {},
   "source": [
    "## Adding information to your graph\n",
    "\n",
    "We have now created a simple plot with two lines but we are far from having a complete graph. Every time we want to include a graph in a report or in a presentation, the graph should display a minimum amount of information to make the reader aware of what the graph is showing."
   ]
  },
  {
   "cell_type": "markdown",
   "metadata": {},
   "source": [
    "### Adding a legend\n",
    "\n",
    "Whenever we are plotting multiple lines in the same figure, it is a really good idea to add labels that indicate what each line represents. This is done by creating a **legend** via the ```plt.legend()``` function."
   ]
  },
  {
   "cell_type": "code",
   "execution_count": null,
   "metadata": {},
   "outputs": [],
   "source": [
    "x1 = [1, 2, 3, 4, 5]\n",
    "y1 = [2, 4, 6, 8, 10]\n",
    "plt.plot(x1, y1)\n",
    "\n",
    "x2 = [1, 2, 3, 4, 5]\n",
    "y2 = [1, 4, 9, 16, 25]\n",
    "plt.plot(x2, y2)\n",
    "\n",
    "# Create the legend with a list of string as argument\n",
    "plt.legend([\"2 times x\", \"square of x\"])\n",
    "\n",
    "# Display the graph\n",
    "plt.show()"
   ]
  },
  {
   "cell_type": "markdown",
   "metadata": {},
   "source": [
    "Or alternatively"
   ]
  },
  {
   "cell_type": "code",
   "execution_count": null,
   "metadata": {},
   "outputs": [],
   "source": [
    "x1 = [1, 2, 3, 4, 5]\n",
    "y1 = [2, 4, 6, 8, 10]\n",
    "\n",
    "# Add a keyword argument label along with the desired string\n",
    "plt.plot(x1, y1, label=\"2 times x\")\n",
    "\n",
    "x2 = [1, 2, 3, 4, 5]\n",
    "y2 = [1, 4, 9, 16, 25]\n",
    "\n",
    "# Add a keyword argument label along with the  string\n",
    "plt.plot(x2, y2, label=\"square of x\")\n",
    "\n",
    "# Create the legend\n",
    "plt.legend()\n",
    "\n",
    "# Display the graph\n",
    "plt.show()"
   ]
  },
  {
   "cell_type": "markdown",
   "metadata": {},
   "source": [
    "### Adding axes labels\n",
    "\n",
    "We can indicate what the unit of measurement are on $x$ and $y$ axes with the ```plt.xlabel(label_string)``` and ```plt.ylabel(label_string)``` functions, respectively. Both functions will take a string as an argument."
   ]
  },
  {
   "cell_type": "markdown",
   "metadata": {},
   "source": [
    "### Adding a title\n",
    "\n",
    "A figure title is added with ```plt.title(title_string)``` where a string should passed as an argument."
   ]
  },
  {
   "cell_type": "markdown",
   "metadata": {},
   "source": [
    "### Adding a grid\n",
    "\n",
    "Optionally, a grid can be added to increase the readability of the graph."
   ]
  },
  {
   "cell_type": "markdown",
   "metadata": {},
   "source": [
    "Let's now add all these elements to our simple graph with two lines:"
   ]
  },
  {
   "cell_type": "code",
   "execution_count": null,
   "metadata": {},
   "outputs": [],
   "source": [
    "x1 = [1, 2, 3, 4, 5]\n",
    "y1 = [2, 4, 6, 8, 10]\n",
    "plt.plot(x1, y1, label=\"2 times x\")\n",
    "\n",
    "x2 = [1, 2, 3, 4, 5]\n",
    "y2 = [1, 4, 9, 16, 25]\n",
    "plt.plot(x2, y2, label=\"square of x\")\n",
    "\n",
    "# Create the legend\n",
    "plt.legend()\n",
    "\n",
    "# Add axes labels\n",
    "plt.xlabel(\"x\")\n",
    "plt.ylabel(\"y\")\n",
    "\n",
    "# Add title\n",
    "plt.title(\"Two functions\")\n",
    "\n",
    "# Add grid\n",
    "plt.grid()\n",
    "\n",
    "# Display the graph\n",
    "plt.show()"
   ]
  },
  {
   "cell_type": "markdown",
   "metadata": {},
   "source": [
    "## Plot customisation\n",
    "\n",
    "A nice feature of Matplotlib plots is that you can change the default appearance of the graph to one of your choice. \n"
   ]
  },
  {
   "cell_type": "markdown",
   "metadata": {},
   "source": [
    "### Customising lines\n",
    "\n",
    "Individual lines in a graph can be customised in many different ways by passing a comma-separated list of keyword arguments to ```plt.plot()``` when the plot is created.\n",
    "\n",
    "Here are some of the possible customisation options:\n",
    "\n",
    "- ```color```: Sets the color of the line\n",
    "    - Example values: {'b' for blue, 'g' for green, 'r' for red}\n",
    "    - Reference page with all options [here](https://matplotlib.org/tutorials/colors/colors.html#specifying-colors)\n",
    "\n",
    "- ```linestyle```: Set the style of the line\n",
    "    - Values: {'-' or 'solid', '--' or 'dashed', '-.' or 'dashdot', ':' or 'dotted'}\n",
    "\n",
    "- ```linewidth```: Set the thickness of the line\n",
    "    - Values: numerical (float)\n",
    "    \n",
    "- ```marker```: Set whether to display a marker at $(x,y)$ coordinate\n",
    "    - Example values: {'.' for point, 'o' for circle, 's' for square}\n",
    "    - Reference page with all options [here](https://matplotlib.org/api/markers_api.html#module-matplotlib.markers)\n",
    "    \n"
   ]
  },
  {
   "cell_type": "markdown",
   "metadata": {},
   "source": [
    "Let's use the graph above to show a customisation example"
   ]
  },
  {
   "cell_type": "code",
   "execution_count": null,
   "metadata": {},
   "outputs": [],
   "source": [
    "x1 = [1, 2, 3, 4, 5]\n",
    "y1 = [2, 4, 6, 8, 10]\n",
    "\n",
    "# Customise the line appearance\n",
    "plt.plot(x1, y1, color=\"g\", linestyle=\"--\", marker=\".\")\n",
    "\n",
    "x2 = [1, 2, 3, 4, 5]\n",
    "y2 = [1, 4, 9, 16, 25]\n",
    "\n",
    "# Customise the line appearance\n",
    "plt.plot(x2, y2, color=\"r\", linestyle=\"-.\", linewidth=3)\n",
    "\n",
    "# Add info\n",
    "plt.legend([\"2 times x\", \"square of x\"])\n",
    "plt.xlabel(\"x\")\n",
    "plt.ylabel(\"y\")\n",
    "plt.title(\"Two functions\")\n",
    "plt.grid()\n",
    "\n",
    "# Display the graph\n",
    "plt.show()"
   ]
  },
  {
   "cell_type": "markdown",
   "metadata": {},
   "source": [
    "Line customisation can be really useful if we want to highlight specific features of the data.\n",
    "\n",
    "Using the U.S. unemployment data, suppose that we want to highlight the National and West unemployment rates. The goal is to create a graph where the evolution of these variables stand out immediately."
   ]
  },
  {
   "cell_type": "code",
   "execution_count": null,
   "metadata": {},
   "outputs": [],
   "source": [
    "# Highlight the unemployment rate of National and West\n",
    "for region, unemp_rate in unemployment.items():\n",
    "    if region == \"National\":\n",
    "        plt.plot(years, unemp_rate, label=region, color='g')\n",
    "    elif region == \"West\":\n",
    "        plt.plot(years, unemp_rate, label=region, color='b')\n",
    "    else:\n",
    "        plt.plot(years, unemp_rate, linestyle=\"--\", color='0.75')\n",
    "\n",
    "# Display useful information\n",
    "plt.title(\"U.S. National and West unemp. rate vs other regions\")\n",
    "plt.xlabel(\"Years\")\n",
    "plt.ylabel(\"Unemployment rate (%)\")\n",
    "plt.grid()\n",
    "plt.legend()\n",
    "plt.show()"
   ]
  },
  {
   "cell_type": "markdown",
   "metadata": {},
   "source": [
    "### Customisation styles\n",
    "\n",
    "In addition to customise individual lines, you have the option of changing the overall appearance of the entire graph with ```plt.style.use()```.\n",
    "\n",
    "You can check with styles are available with"
   ]
  },
  {
   "cell_type": "code",
   "execution_count": null,
   "metadata": {},
   "outputs": [],
   "source": [
    "print(plt.style.available)"
   ]
  },
  {
   "cell_type": "markdown",
   "metadata": {},
   "source": [
    "Let's see a few examples:"
   ]
  },
  {
   "cell_type": "code",
   "execution_count": null,
   "metadata": {},
   "outputs": [],
   "source": [
    "plt.style.use(\"default\")\n",
    "\n",
    "x1 = [1, 2, 3, 4, 5]\n",
    "y1 = [2, 4, 6, 8, 10]\n",
    "plt.plot(x1, y1, label=\"2 times x\")\n",
    "\n",
    "x2 = [1, 2, 3, 4, 5]\n",
    "y2 = [1, 4, 9, 16, 25]\n",
    "plt.plot(x2, y2, label=\"square of x\")\n",
    "\n",
    "plt.legend(loc=\"best\")\n",
    "plt.xlabel(\"x\")\n",
    "plt.ylabel(\"y\")\n",
    "plt.title(\"Two functions\")\n",
    "plt.grid()\n",
    "\n",
    "plt.show()"
   ]
  },
  {
   "cell_type": "markdown",
   "metadata": {},
   "source": [
    "## Working with categorical data\n",
    "\n",
    "Matplotlib can help us visualising categorical and numerical data together by creating **bar charts** and **pie charts** as well. To see how they work, let's borrow an example from one of our earlier lectures.\n",
    "\n",
    "The table below shows the market shares of major grocery stores in the UK in 2017:\n",
    "\n",
    "|     Grocer             |     Share ( % )    |\n",
    "| :--------------------- |:------------------:|\n",
    "|     Aldi               |         6.8        |\n",
    "|     Asda               |         15.7       |\n",
    "|     Lidl               |         4.9        |\n",
    "|     Morrisons          |         10.4       |\n",
    "|     Sainsbury's        |         16.1       |\n",
    "|     Tesco              |         27.6       |\n",
    "|     The Cooperative    |         6.1        |\n",
    "|     Waitrose           |         5.1        |\n",
    "|     Other              |         7.3        |\n",
    "\n",
    "This can be easily organised in a dictionary of lists as follows"
   ]
  },
  {
   "cell_type": "code",
   "execution_count": null,
   "metadata": {},
   "outputs": [],
   "source": [
    "grocery_data = {\n",
    "    \"grocer\": [\"Aldi\", \"Asda\", \"Lidl\", \"Morrisons\", \"Sainsbury's\", \"Tesco\", \"The Cooperative\", \"Waitrose\", \"Other\"],\n",
    "    \"market share\": [6.8, 15.7, 4.9, 10.4, 16.1, 27.6, 6.1, 5.1, 7.3]\n",
    "}"
   ]
  },
  {
   "cell_type": "markdown",
   "metadata": {},
   "source": [
    "To create a bar chart, we will use the ```plt.bar()``` function.\n",
    "\n",
    "Similarly to the ```plt.plot()``` function, we need to pass the values that we would like on the horizontal axis first, and the values on the vertical axis second. In this case, the grocery store names will be passed as x values, and the market share as y values."
   ]
  },
  {
   "cell_type": "code",
   "execution_count": null,
   "metadata": {},
   "outputs": [],
   "source": [
    "# Change plotting style\n",
    "plt.style.use(\"seaborn-white\")\n",
    "\n",
    "# Use the function ```plt.bar()``` to create a bar chart. Grocer names as x values, and market shares as y values\n",
    "plt.bar(grocery_data[\"grocer\"], grocery_data[\"market share\"])\n",
    "\n",
    "# Rotate x labels to increase readability\n",
    "plt.xticks(rotation=45)\n",
    "\n",
    "# Add useful information\n",
    "plt.ylabel(\"Market shares (%)\")\n",
    "plt.title(\"Market shares of major grocers in the U.K. (2017)\")\n",
    "plt.grid()\n",
    "\n",
    "plt.show()"
   ]
  },
  {
   "cell_type": "markdown",
   "metadata": {},
   "source": [
    "And to create a **pie chart** we can use the ```plt.pie()``` function.\n",
    "\n",
    "This time the market share values should be passed in as the first argument, and the grocery stores names should be passed using the keyword ```label```."
   ]
  },
  {
   "cell_type": "code",
   "execution_count": null,
   "metadata": {},
   "outputs": [],
   "source": [
    "# Change plotting style\n",
    "plt.style.use(\"ggplot\")\n",
    "\n",
    "# Use plt.pie() to create a pie chart\n",
    "plt.pie(grocery_data[\"market share\"], labels=grocery_data[\"grocer\"], autopct='%1.1f%%', pctdistance=0.8)\n",
    "\n",
    "plt.title(\"Market shares of major grocers in the U.K. (2017)\")\n",
    "plt.show()"
   ]
  },
  {
   "cell_type": "markdown",
   "metadata": {},
   "source": [
    "## Additional features and options"
   ]
  },
  {
   "cell_type": "markdown",
   "metadata": {},
   "source": [
    "### Plotting labelled data\n",
    "\n",
    "*Source: [matplotlib official documentation](https://matplotlib.org/3.1.0/api/_as_gen/matplotlib.pyplot.plot.html#matplotlib-pyplot-plot)*\n",
    "\n",
    "There's a convenient way for plotting objects with labelled data (i.e. data that can be accessed by index ```obj['y']```). Instead of giving the data in x and y, you can provide the object in the data parameter and just give the labels for x and y:\n",
    "\n",
    "```python\n",
    "plot('xlabel', 'ylabel', data=obj)\n",
    "```\n",
    "\n",
    "All indexable objects are supported. This could e.g. be a ```dict```, a ```pandas.DataFrame``` or a structured numpy array."
   ]
  },
  {
   "cell_type": "markdown",
   "metadata": {},
   "source": [
    "### Displaying figures outside the Jupyter notebook\n",
    "\n",
    "You have the option of displaying figures outside the notebook with the ```%matplotlib``` magic command. A **magic** command is a command preceded by a percentage sign ```%``` that alters the behaviour of Jupyter notebooks and/or controls other settings.\n",
    "\n",
    "In the case of Matplotlib, we can choose to display our plot in a **separate stand-alone window** with"
   ]
  },
  {
   "cell_type": "code",
   "execution_count": null,
   "metadata": {
    "scrolled": true
   },
   "outputs": [],
   "source": [
    "%matplotlib"
   ]
  },
  {
   "cell_type": "markdown",
   "metadata": {},
   "source": [
    "After the magic command is invoked, all plots will displayed in a separate interactive window. This feature is really useful if we want to have a closer look at the plot, and do other things such as zooming.\n",
    "\n",
    "If we now plot the time-series of unemployment, this will create a figure in a separate window:"
   ]
  },
  {
   "cell_type": "code",
   "execution_count": null,
   "metadata": {},
   "outputs": [],
   "source": [
    "# Sequentially plot unemployment rate on the same figure\n",
    "for region, unemp_rate in unemployment.items():\n",
    "    plt.plot(years, unemp_rate, label=region)\n",
    "\n",
    "# Display useful information\n",
    "plt.title(\"U.S. unemployment rate by region\")\n",
    "plt.xlabel(\"Years\")\n",
    "plt.ylabel(\"Unemployment rate (%)\")\n",
    "plt.grid()\n",
    "plt.legend()\n",
    "plt.show()"
   ]
  },
  {
   "cell_type": "markdown",
   "metadata": {},
   "source": [
    "When working with figures in stand-alone windows outside Jupyter, we need to be careful not to overwrite the current plot. This is because the current figure is still \"active\", so any plot command will be displayed in the **current** figure!\n",
    "\n",
    "If, by mistake, I try to create a new plot this will be positioned on top of the current figure."
   ]
  },
  {
   "cell_type": "code",
   "execution_count": null,
   "metadata": {},
   "outputs": [],
   "source": [
    "# Plot a straigth line\n",
    "plt.plot(years, [i for i in range(1, len(years)+1)])\n",
    "plt.show()"
   ]
  },
  {
   "cell_type": "markdown",
   "metadata": {},
   "source": [
    "In order to avoid this, we have two options:\n",
    "\n",
    "1. Close the current figure before creating a new plot. This is done with ```plt.close()```.\n",
    "2. Create a **new** figure with ```plt.figure()```\n",
    "\n",
    "Either way, ```plt.close()``` or ```plt.figure()``` must be invoked **before** the new figure is created."
   ]
  },
  {
   "cell_type": "markdown",
   "metadata": {},
   "source": [
    "If you want to revert back to the default behaviour of displaying plots within the Jupyter notebook, you can do so with the following magic command:"
   ]
  },
  {
   "cell_type": "code",
   "execution_count": null,
   "metadata": {},
   "outputs": [],
   "source": [
    "%matplotlib inline"
   ]
  },
  {
   "cell_type": "code",
   "execution_count": null,
   "metadata": {},
   "outputs": [],
   "source": [
    "# Sequentially plot unemployment rate on the same figure\n",
    "for region, unemp_rate in unemployment.items():\n",
    "    plt.plot(years, unemp_rate, label=region)\n",
    "\n",
    "# Display useful information\n",
    "plt.title(\"U.S. unemployment rate by region\")\n",
    "plt.xlabel(\"Years\")\n",
    "plt.ylabel(\"Unemployment rate (%)\")\n",
    "plt.grid()\n",
    "plt.legend()\n",
    "plt.show() "
   ]
  }
 ],
 "metadata": {
  "kernelspec": {
   "display_name": "Python 3",
   "language": "python",
   "name": "python3"
  },
  "language_info": {
   "codemirror_mode": {
    "name": "ipython",
    "version": 3
   },
   "file_extension": ".py",
   "mimetype": "text/x-python",
   "name": "python",
   "nbconvert_exporter": "python",
   "pygments_lexer": "ipython3",
   "version": "3.8.3"
  },
  "toc": {
   "base_numbering": 1,
   "nav_menu": {},
   "number_sections": false,
   "sideBar": true,
   "skip_h1_title": false,
   "title_cell": "Table of Contents",
   "title_sidebar": "Contents",
   "toc_cell": false,
   "toc_position": {
    "height": "calc(100% - 180px)",
    "left": "10px",
    "top": "150px",
    "width": "278.097px"
   },
   "toc_section_display": true,
   "toc_window_display": false
  },
  "varInspector": {
   "cols": {
    "lenName": 16,
    "lenType": 16,
    "lenVar": 40
   },
   "kernels_config": {
    "python": {
     "delete_cmd_postfix": "",
     "delete_cmd_prefix": "del ",
     "library": "var_list.py",
     "varRefreshCmd": "print(var_dic_list())"
    },
    "r": {
     "delete_cmd_postfix": ") ",
     "delete_cmd_prefix": "rm(",
     "library": "var_list.r",
     "varRefreshCmd": "cat(var_dic_list()) "
    }
   },
   "position": {
    "height": "536.719px",
    "left": "1369.45px",
    "right": "20px",
    "top": "120px",
    "width": "356.009px"
   },
   "types_to_exclude": [
    "module",
    "function",
    "builtin_function_or_method",
    "instance",
    "_Feature"
   ],
   "window_display": false
  }
 },
 "nbformat": 4,
 "nbformat_minor": 4
}
