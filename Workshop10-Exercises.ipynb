{
 "cells": [
  {
   "cell_type": "code",
   "execution_count": null,
   "metadata": {},
   "outputs": [],
   "source": [
    "import matplotlib.pyplot as plt"
   ]
  },
  {
   "cell_type": "markdown",
   "metadata": {},
   "source": [
    "## Exercise 1\n",
    "\n",
    "Given the following lists of $x$ and $y$ values:\n",
    "\n",
    "```python\n",
    "x = [2, 4, 6, 8]\n",
    "y = [1, 0.5, 0.25, 0.125]\n",
    "```\n",
    "\n",
    "Plot the correspondent line using ```plt.plot()```."
   ]
  },
  {
   "cell_type": "code",
   "execution_count": null,
   "metadata": {},
   "outputs": [],
   "source": []
  },
  {
   "cell_type": "markdown",
   "metadata": {},
   "source": [
    "## Exercise 2\n",
    "\n",
    "Given the following mathematical functions:\n",
    "\n",
    "$$f(x) = 5x$$\n",
    "\n",
    "$$f(x) = 3x + 2$$\n",
    "\n",
    "$$f(x) = -\\frac{1}{2}x + 5$$\n",
    "\n",
    "Create a graph that plots all three functions in the interval $[0, 7]$. Make sure to include a legend, axes labels, and a title."
   ]
  },
  {
   "cell_type": "code",
   "execution_count": null,
   "metadata": {},
   "outputs": [],
   "source": []
  },
  {
   "cell_type": "markdown",
   "metadata": {},
   "source": [
    "## Exercise 3\n",
    "\n",
    "Repeat the exercise above with a ```for loop```."
   ]
  },
  {
   "cell_type": "code",
   "execution_count": null,
   "metadata": {},
   "outputs": [],
   "source": []
  },
  {
   "cell_type": "markdown",
   "metadata": {},
   "source": [
    "## Exercise 4\n",
    "\n",
    "Given the following mathematical functions:\n",
    "\n",
    "$$ f(x) = \\sin(2x) $$\n",
    "$$ f(x) = \\cos(x) $$\n",
    "$$ f(x) = 2\\sin(x) + \\cos(2x) $$\n",
    "\n",
    "Create a graph that plots all three functions in the interval $[0, 4\\pi]$. Make sure to include a legend, axes labels, and a title.\n",
    "\n",
    "Import the ```sin()``` and ```cos()``` functions and the constant ```pi``` from the ```math``` module, and the ```linspace()``` function from the ```numpy``` library.\n",
    "\n",
    "Use the ```help()``` function or ```fun_name?``` command to get the relevant documentation."
   ]
  },
  {
   "cell_type": "code",
   "execution_count": null,
   "metadata": {},
   "outputs": [],
   "source": []
  },
  {
   "cell_type": "markdown",
   "metadata": {},
   "source": [
    "## Exercise 5\n",
    "\n",
    "Repeat the exercise above with a ```for loop```."
   ]
  },
  {
   "cell_type": "code",
   "execution_count": null,
   "metadata": {},
   "outputs": [],
   "source": []
  },
  {
   "cell_type": "markdown",
   "metadata": {},
   "source": [
    "## Exercise 6\n",
    "\n",
    "The file ```inflation_data.csv``` contains data on the inflation rate for the following years and countries:\n",
    "\n",
    "- 1970 to 2013\n",
    "- France, Germany, Italy, Spain, UK, and USA\n",
    "\n",
    "Create a data frame from the CSV file, and plot the inflation rate for all countries in the same graph."
   ]
  },
  {
   "cell_type": "code",
   "execution_count": null,
   "metadata": {},
   "outputs": [],
   "source": []
  },
  {
   "cell_type": "markdown",
   "metadata": {},
   "source": [
    "## Exercise 7\n",
    "\n",
    "The file ```health_data.csv``` contains a small dataset with two variables for a set of countries. For each country, the dataset reports\n",
    "\n",
    "- The life expectancy at birth measured in years\n",
    "- The health expenditure per capita\n",
    "\n",
    "Import the dataset and plot a scatterplot where health expenditure is the predictor variable and life expectancy is the predicted variable.\n",
    "\n",
    "To create a scatterplot, you can use the ```plt.scatter()``` function from Matplotlib. Use the ```help()``` function or read the [official documentation](https://matplotlib.org/3.3.3/api/_as_gen/matplotlib.pyplot.scatter.html#matplotlib-pyplot-scatter) to understand the required syntax."
   ]
  },
  {
   "cell_type": "code",
   "execution_count": null,
   "metadata": {},
   "outputs": [],
   "source": []
  },
  {
   "cell_type": "markdown",
   "metadata": {},
   "source": [
    "## Exercise 8\n",
    "\n",
    "The file ```expenditure_data.csv``` contains data on weekly expenditure and other variables collected from a survey of British households.\n",
    "\n",
    "Import the dataset and create a histogram for the expenditure variable.\n",
    "\n",
    "To create a histogram, you can use the ```plt.hist()``` function from Matplotlib. Use the ```help()``` function or read the [official documentation](https://matplotlib.org/3.3.3/api/_as_gen/matplotlib.pyplot.hist.html#matplotlib-pyplot-hist) to understand the required syntax."
   ]
  },
  {
   "cell_type": "code",
   "execution_count": null,
   "metadata": {},
   "outputs": [],
   "source": []
  }
 ],
 "metadata": {
  "kernelspec": {
   "display_name": "Python 3",
   "language": "python",
   "name": "python3"
  },
  "language_info": {
   "codemirror_mode": {
    "name": "ipython",
    "version": 3
   },
   "file_extension": ".py",
   "mimetype": "text/x-python",
   "name": "python",
   "nbconvert_exporter": "python",
   "pygments_lexer": "ipython3",
   "version": "3.8.3"
  },
  "toc": {
   "base_numbering": 1,
   "nav_menu": {},
   "number_sections": false,
   "sideBar": true,
   "skip_h1_title": false,
   "title_cell": "Table of Contents",
   "title_sidebar": "Contents",
   "toc_cell": false,
   "toc_position": {},
   "toc_section_display": true,
   "toc_window_display": false
  },
  "varInspector": {
   "cols": {
    "lenName": 16,
    "lenType": 16,
    "lenVar": 40
   },
   "kernels_config": {
    "python": {
     "delete_cmd_postfix": "",
     "delete_cmd_prefix": "del ",
     "library": "var_list.py",
     "varRefreshCmd": "print(var_dic_list())"
    },
    "r": {
     "delete_cmd_postfix": ") ",
     "delete_cmd_prefix": "rm(",
     "library": "var_list.r",
     "varRefreshCmd": "cat(var_dic_list()) "
    }
   },
   "types_to_exclude": [
    "module",
    "function",
    "builtin_function_or_method",
    "instance",
    "_Feature"
   ],
   "window_display": false
  }
 },
 "nbformat": 4,
 "nbformat_minor": 4
}
