{
 "cells": [
  {
   "cell_type": "markdown",
   "metadata": {},
   "source": [
    "### Question 1\n",
    "#### Write a function named rate_my_movie that takes an integer between 1 and 5 as an argument and returns a string of stars (*) representing a movie’s rating. One star (*) is the lowest rating, and 5 stars (*****) is the highest rating.\n"
   ]
  },
  {
   "cell_type": "markdown",
   "metadata": {},
   "source": [
    "### 解题思路\n",
    "#### 使用 n* 字符串 的形式输出结果"
   ]
  },
  {
   "cell_type": "code",
   "execution_count": 10,
   "metadata": {},
   "outputs": [
    {
     "name": "stdout",
     "output_type": "stream",
     "text": [
      "**\n",
      "*****\n"
     ]
    }
   ],
   "source": [
    "def rate_my_movie(num):\n",
    "    if num>5 or num<1:\n",
    "        return \"ERROR\"\n",
    "    else:\n",
    "        return num*\"*\"\n",
    "print(rate_my_movie(2))\n",
    "print(rate_my_movie(5))"
   ]
  },
  {
   "cell_type": "markdown",
   "metadata": {},
   "source": [
    "### 第二题\n",
    "#### 问题拷贝到这里"
   ]
  },
  {
   "cell_type": "markdown",
   "metadata": {},
   "source": [
    "### 解题思路\n",
    "#### 使用for循环遍历List\n",
    "#### 使用len函数输出长度\n",
    "#### 使用upper函数转换成大写\n",
    "#### 使用print函数打印结果"
   ]
  },
  {
   "cell_type": "code",
   "execution_count": 1,
   "metadata": {},
   "outputs": [
    {
     "name": "stdout",
     "output_type": "stream",
     "text": [
      "4 THIS\n",
      "2 IS\n",
      "1 A\n",
      "5 SHORT\n",
      "8 SENTENCE\n",
      "7 ANOTHER\n",
      "8 SENTENCE\n"
     ]
    }
   ],
   "source": [
    "def printListMsg(lists):\n",
    "    for item in lists:\n",
    "        print(len(item),item.upper())\n",
    "list=[\"This\", \"is\", \"a\", \"short\", \"sentence\"]\n",
    "printListMsg(list)\n",
    "\n",
    "list2=[\"Another\", \"sentence\"]\n",
    "printListMsg(list2)"
   ]
  },
  {
   "cell_type": "markdown",
   "metadata": {},
   "source": [
    "### 第三题答案"
   ]
  },
  {
   "cell_type": "code",
   "execution_count": 2,
   "metadata": {},
   "outputs": [
    {
     "name": "stdout",
     "output_type": "stream",
     "text": [
      "MMGEEEWWOOOO\n"
     ]
    }
   ],
   "source": [
    "def abc(strs):\n",
    "    result=\"\"\n",
    "    for index in range(0,len(strs),2):\n",
    "        result+= int(strs[index]) * str(strs[index+1])\n",
    "    print(result)\n",
    "    \n",
    "str1=\"2M1G3E2W4O\"\n",
    "abc(str1)"
   ]
  },
  {
   "cell_type": "markdown",
   "metadata": {},
   "source": [
    "### 第四题第一小问"
   ]
  },
  {
   "cell_type": "code",
   "execution_count": 6,
   "metadata": {},
   "outputs": [
    {
     "data": {
      "text/html": [
       "<div>\n",
       "<style scoped>\n",
       "    .dataframe tbody tr th:only-of-type {\n",
       "        vertical-align: middle;\n",
       "    }\n",
       "\n",
       "    .dataframe tbody tr th {\n",
       "        vertical-align: top;\n",
       "    }\n",
       "\n",
       "    .dataframe thead th {\n",
       "        text-align: right;\n",
       "    }\n",
       "</style>\n",
       "<table border=\"1\" class=\"dataframe\">\n",
       "  <thead>\n",
       "    <tr style=\"text-align: right;\">\n",
       "      <th></th>\n",
       "      <th>expenditure</th>\n",
       "      <th>income</th>\n",
       "      <th>maininc</th>\n",
       "      <th>region</th>\n",
       "      <th>nadults</th>\n",
       "      <th>nkids</th>\n",
       "      <th>SexHRP</th>\n",
       "      <th>housing</th>\n",
       "      <th>internet</th>\n",
       "    </tr>\n",
       "  </thead>\n",
       "  <tbody>\n",
       "    <tr>\n",
       "      <th>0</th>\n",
       "      <td>380.69580</td>\n",
       "      <td>465.3600</td>\n",
       "      <td>earnings</td>\n",
       "      <td>East Mid</td>\n",
       "      <td>2 adults</td>\n",
       "      <td>Two or m</td>\n",
       "      <td>Female</td>\n",
       "      <td>Public r</td>\n",
       "      <td>1</td>\n",
       "    </tr>\n",
       "    <tr>\n",
       "      <th>1</th>\n",
       "      <td>546.41340</td>\n",
       "      <td>855.2600</td>\n",
       "      <td>earnings</td>\n",
       "      <td>London</td>\n",
       "      <td>2 adults</td>\n",
       "      <td>No child</td>\n",
       "      <td>Female</td>\n",
       "      <td>Owned</td>\n",
       "      <td>1</td>\n",
       "    </tr>\n",
       "    <tr>\n",
       "      <th>2</th>\n",
       "      <td>242.18900</td>\n",
       "      <td>160.9600</td>\n",
       "      <td>earnings</td>\n",
       "      <td>South Ea</td>\n",
       "      <td>1 adult</td>\n",
       "      <td>No child</td>\n",
       "      <td>Female</td>\n",
       "      <td>Owned</td>\n",
       "      <td>1</td>\n",
       "    </tr>\n",
       "    <tr>\n",
       "      <th>3</th>\n",
       "      <td>421.38240</td>\n",
       "      <td>656.2200</td>\n",
       "      <td>earnings</td>\n",
       "      <td>Eastern</td>\n",
       "      <td>2 adults</td>\n",
       "      <td>No child</td>\n",
       "      <td>Male</td>\n",
       "      <td>Owned</td>\n",
       "      <td>1</td>\n",
       "    </tr>\n",
       "    <tr>\n",
       "      <th>4</th>\n",
       "      <td>370.40560</td>\n",
       "      <td>398.8000</td>\n",
       "      <td>earnings</td>\n",
       "      <td>South Ea</td>\n",
       "      <td>1 adult</td>\n",
       "      <td>No child</td>\n",
       "      <td>Male</td>\n",
       "      <td>Owned</td>\n",
       "      <td>1</td>\n",
       "    </tr>\n",
       "    <tr>\n",
       "      <th>5</th>\n",
       "      <td>172.39720</td>\n",
       "      <td>321.0200</td>\n",
       "      <td>earnings</td>\n",
       "      <td>Scotland</td>\n",
       "      <td>1 adult</td>\n",
       "      <td>No child</td>\n",
       "      <td>Male</td>\n",
       "      <td>Public r</td>\n",
       "      <td>0</td>\n",
       "    </tr>\n",
       "    <tr>\n",
       "      <th>6</th>\n",
       "      <td>202.42500</td>\n",
       "      <td>350.8340</td>\n",
       "      <td>other so</td>\n",
       "      <td>Northern</td>\n",
       "      <td>2 adults</td>\n",
       "      <td>No child</td>\n",
       "      <td>Male</td>\n",
       "      <td>Owned</td>\n",
       "      <td>1</td>\n",
       "    </tr>\n",
       "    <tr>\n",
       "      <th>7</th>\n",
       "      <td>730.65800</td>\n",
       "      <td>1184.9900</td>\n",
       "      <td>earnings</td>\n",
       "      <td>South Ea</td>\n",
       "      <td>4 and mo</td>\n",
       "      <td>No child</td>\n",
       "      <td>Female</td>\n",
       "      <td>Public r</td>\n",
       "      <td>1</td>\n",
       "    </tr>\n",
       "    <tr>\n",
       "      <th>8</th>\n",
       "      <td>361.93100</td>\n",
       "      <td>619.5700</td>\n",
       "      <td>earnings</td>\n",
       "      <td>Wales</td>\n",
       "      <td>2 adults</td>\n",
       "      <td>No child</td>\n",
       "      <td>Male</td>\n",
       "      <td>Owned</td>\n",
       "      <td>1</td>\n",
       "    </tr>\n",
       "    <tr>\n",
       "      <th>9</th>\n",
       "      <td>659.91170</td>\n",
       "      <td>1117.8420</td>\n",
       "      <td>other so</td>\n",
       "      <td>Yorkshir</td>\n",
       "      <td>2 adults</td>\n",
       "      <td>No child</td>\n",
       "      <td>Male</td>\n",
       "      <td>Owned</td>\n",
       "      <td>1</td>\n",
       "    </tr>\n",
       "    <tr>\n",
       "      <th>10</th>\n",
       "      <td>338.70710</td>\n",
       "      <td>375.8000</td>\n",
       "      <td>other so</td>\n",
       "      <td>West Mid</td>\n",
       "      <td>2 adults</td>\n",
       "      <td>Two or m</td>\n",
       "      <td>Male</td>\n",
       "      <td>Public r</td>\n",
       "      <td>1</td>\n",
       "    </tr>\n",
       "    <tr>\n",
       "      <th>11</th>\n",
       "      <td>238.21460</td>\n",
       "      <td>819.4675</td>\n",
       "      <td>earnings</td>\n",
       "      <td>Wales</td>\n",
       "      <td>1 adult</td>\n",
       "      <td>No child</td>\n",
       "      <td>Male</td>\n",
       "      <td>Owned</td>\n",
       "      <td>1</td>\n",
       "    </tr>\n",
       "    <tr>\n",
       "      <th>12</th>\n",
       "      <td>507.49310</td>\n",
       "      <td>687.9345</td>\n",
       "      <td>other so</td>\n",
       "      <td>Eastern</td>\n",
       "      <td>2 adults</td>\n",
       "      <td>No child</td>\n",
       "      <td>Male</td>\n",
       "      <td>Owned</td>\n",
       "      <td>1</td>\n",
       "    </tr>\n",
       "    <tr>\n",
       "      <th>13</th>\n",
       "      <td>92.62071</td>\n",
       "      <td>209.8500</td>\n",
       "      <td>other so</td>\n",
       "      <td>Yorkshir</td>\n",
       "      <td>1 adult</td>\n",
       "      <td>No child</td>\n",
       "      <td>Male</td>\n",
       "      <td>Public r</td>\n",
       "      <td>1</td>\n",
       "    </tr>\n",
       "    <tr>\n",
       "      <th>14</th>\n",
       "      <td>593.81020</td>\n",
       "      <td>841.1100</td>\n",
       "      <td>earnings</td>\n",
       "      <td>West Mid</td>\n",
       "      <td>3 adults</td>\n",
       "      <td>No child</td>\n",
       "      <td>Male</td>\n",
       "      <td>Owned</td>\n",
       "      <td>0</td>\n",
       "    </tr>\n",
       "    <tr>\n",
       "      <th>15</th>\n",
       "      <td>583.53770</td>\n",
       "      <td>534.7007</td>\n",
       "      <td>earnings</td>\n",
       "      <td>South We</td>\n",
       "      <td>2 adults</td>\n",
       "      <td>One chil</td>\n",
       "      <td>Female</td>\n",
       "      <td>Public r</td>\n",
       "      <td>1</td>\n",
       "    </tr>\n",
       "    <tr>\n",
       "      <th>16</th>\n",
       "      <td>371.21700</td>\n",
       "      <td>510.2800</td>\n",
       "      <td>earnings</td>\n",
       "      <td>Scotland</td>\n",
       "      <td>2 adults</td>\n",
       "      <td>One chil</td>\n",
       "      <td>Female</td>\n",
       "      <td>Public r</td>\n",
       "      <td>0</td>\n",
       "    </tr>\n",
       "    <tr>\n",
       "      <th>17</th>\n",
       "      <td>420.31770</td>\n",
       "      <td>701.6000</td>\n",
       "      <td>earnings</td>\n",
       "      <td>West Mid</td>\n",
       "      <td>1 adult</td>\n",
       "      <td>No child</td>\n",
       "      <td>Male</td>\n",
       "      <td>Owned</td>\n",
       "      <td>1</td>\n",
       "    </tr>\n",
       "    <tr>\n",
       "      <th>18</th>\n",
       "      <td>252.03000</td>\n",
       "      <td>332.4650</td>\n",
       "      <td>other so</td>\n",
       "      <td>Eastern</td>\n",
       "      <td>1 adult</td>\n",
       "      <td>Two or m</td>\n",
       "      <td>Female</td>\n",
       "      <td>Private</td>\n",
       "      <td>1</td>\n",
       "    </tr>\n",
       "    <tr>\n",
       "      <th>19</th>\n",
       "      <td>675.00490</td>\n",
       "      <td>1184.9900</td>\n",
       "      <td>earnings</td>\n",
       "      <td>South We</td>\n",
       "      <td>3 adults</td>\n",
       "      <td>No child</td>\n",
       "      <td>Male</td>\n",
       "      <td>Owned</td>\n",
       "      <td>1</td>\n",
       "    </tr>\n",
       "    <tr>\n",
       "      <th>20</th>\n",
       "      <td>675.49860</td>\n",
       "      <td>521.0420</td>\n",
       "      <td>earnings</td>\n",
       "      <td>Eastern</td>\n",
       "      <td>2 adults</td>\n",
       "      <td>No child</td>\n",
       "      <td>Female</td>\n",
       "      <td>Owned</td>\n",
       "      <td>1</td>\n",
       "    </tr>\n",
       "    <tr>\n",
       "      <th>21</th>\n",
       "      <td>359.11580</td>\n",
       "      <td>104.8500</td>\n",
       "      <td>other so</td>\n",
       "      <td>Eastern</td>\n",
       "      <td>2 adults</td>\n",
       "      <td>No child</td>\n",
       "      <td>Female</td>\n",
       "      <td>Public r</td>\n",
       "      <td>0</td>\n",
       "    </tr>\n",
       "    <tr>\n",
       "      <th>22</th>\n",
       "      <td>350.90180</td>\n",
       "      <td>585.6700</td>\n",
       "      <td>earnings</td>\n",
       "      <td>South Ea</td>\n",
       "      <td>1 adult</td>\n",
       "      <td>No child</td>\n",
       "      <td>Female</td>\n",
       "      <td>Owned</td>\n",
       "      <td>1</td>\n",
       "    </tr>\n",
       "    <tr>\n",
       "      <th>23</th>\n",
       "      <td>1175.00000</td>\n",
       "      <td>1184.9900</td>\n",
       "      <td>earnings</td>\n",
       "      <td>West Mid</td>\n",
       "      <td>2 adults</td>\n",
       "      <td>One chil</td>\n",
       "      <td>Male</td>\n",
       "      <td>Owned</td>\n",
       "      <td>1</td>\n",
       "    </tr>\n",
       "    <tr>\n",
       "      <th>24</th>\n",
       "      <td>162.20210</td>\n",
       "      <td>169.9420</td>\n",
       "      <td>other so</td>\n",
       "      <td>Scotland</td>\n",
       "      <td>1 adult</td>\n",
       "      <td>No child</td>\n",
       "      <td>Female</td>\n",
       "      <td>Public r</td>\n",
       "      <td>0</td>\n",
       "    </tr>\n",
       "  </tbody>\n",
       "</table>\n",
       "</div>"
      ],
      "text/plain": [
       "    expenditure     income   maininc    region   nadults     nkids  SexHRP  \\\n",
       "0     380.69580   465.3600  earnings  East Mid  2 adults  Two or m  Female   \n",
       "1     546.41340   855.2600  earnings    London  2 adults  No child  Female   \n",
       "2     242.18900   160.9600  earnings  South Ea   1 adult  No child  Female   \n",
       "3     421.38240   656.2200  earnings   Eastern  2 adults  No child    Male   \n",
       "4     370.40560   398.8000  earnings  South Ea   1 adult  No child    Male   \n",
       "5     172.39720   321.0200  earnings  Scotland   1 adult  No child    Male   \n",
       "6     202.42500   350.8340  other so  Northern  2 adults  No child    Male   \n",
       "7     730.65800  1184.9900  earnings  South Ea  4 and mo  No child  Female   \n",
       "8     361.93100   619.5700  earnings     Wales  2 adults  No child    Male   \n",
       "9     659.91170  1117.8420  other so  Yorkshir  2 adults  No child    Male   \n",
       "10    338.70710   375.8000  other so  West Mid  2 adults  Two or m    Male   \n",
       "11    238.21460   819.4675  earnings     Wales   1 adult  No child    Male   \n",
       "12    507.49310   687.9345  other so   Eastern  2 adults  No child    Male   \n",
       "13     92.62071   209.8500  other so  Yorkshir   1 adult  No child    Male   \n",
       "14    593.81020   841.1100  earnings  West Mid  3 adults  No child    Male   \n",
       "15    583.53770   534.7007  earnings  South We  2 adults  One chil  Female   \n",
       "16    371.21700   510.2800  earnings  Scotland  2 adults  One chil  Female   \n",
       "17    420.31770   701.6000  earnings  West Mid   1 adult  No child    Male   \n",
       "18    252.03000   332.4650  other so   Eastern   1 adult  Two or m  Female   \n",
       "19    675.00490  1184.9900  earnings  South We  3 adults  No child    Male   \n",
       "20    675.49860   521.0420  earnings   Eastern  2 adults  No child  Female   \n",
       "21    359.11580   104.8500  other so   Eastern  2 adults  No child  Female   \n",
       "22    350.90180   585.6700  earnings  South Ea   1 adult  No child  Female   \n",
       "23   1175.00000  1184.9900  earnings  West Mid  2 adults  One chil    Male   \n",
       "24    162.20210   169.9420  other so  Scotland   1 adult  No child  Female   \n",
       "\n",
       "     housing  internet  \n",
       "0   Public r         1  \n",
       "1      Owned         1  \n",
       "2      Owned         1  \n",
       "3      Owned         1  \n",
       "4      Owned         1  \n",
       "5   Public r         0  \n",
       "6      Owned         1  \n",
       "7   Public r         1  \n",
       "8      Owned         1  \n",
       "9      Owned         1  \n",
       "10  Public r         1  \n",
       "11     Owned         1  \n",
       "12     Owned         1  \n",
       "13  Public r         1  \n",
       "14     Owned         0  \n",
       "15  Public r         1  \n",
       "16  Public r         0  \n",
       "17     Owned         1  \n",
       "18   Private         1  \n",
       "19     Owned         1  \n",
       "20     Owned         1  \n",
       "21  Public r         0  \n",
       "22     Owned         1  \n",
       "23     Owned         1  \n",
       "24  Public r         0  "
      ]
     },
     "execution_count": 6,
     "metadata": {},
     "output_type": "execute_result"
    }
   ],
   "source": [
    "import pandas as pd\n",
    "df_exp = pd.read_csv(\"expenditure_data.csv\")\n",
    "df_exp.head(25)"
   ]
  },
  {
   "cell_type": "markdown",
   "metadata": {},
   "source": [
    "### 第四题第二小问"
   ]
  },
  {
   "cell_type": "code",
   "execution_count": 32,
   "metadata": {},
   "outputs": [
    {
     "data": {
      "text/plain": [
       "912"
      ]
     },
     "execution_count": 32,
     "metadata": {},
     "output_type": "execute_result"
    }
   ],
   "source": [
    "import pandas as pd\n",
    "df_exp = pd.read_csv(\"expenditure_data.csv\")\n",
    "temp=df_exp.loc[df_exp[\"internet\"]==0]\n",
    "temp[\"internet\"].count()"
   ]
  },
  {
   "cell_type": "code",
   "execution_count": 37,
   "metadata": {},
   "outputs": [
    {
     "data": {
      "text/plain": [
       "912"
      ]
     },
     "execution_count": 37,
     "metadata": {},
     "output_type": "execute_result"
    }
   ],
   "source": [
    "import pandas as pd\n",
    "df_exp = pd.read_csv(\"expenditure_data.csv\")\n",
    "temp=df_exp[\"internet\"].value_counts()\n",
    "temp[0]"
   ]
  },
  {
   "cell_type": "markdown",
   "metadata": {},
   "source": [
    "### 第四题第三小问"
   ]
  },
  {
   "cell_type": "code",
   "execution_count": 62,
   "metadata": {},
   "outputs": [
    {
     "name": "stdout",
     "output_type": "stream",
     "text": [
      "伦敦地区的平均数为 678.8151504166651,非伦敦地区的平均数为 614.4251753430607,二者的差额为64.38997507360443\n"
     ]
    }
   ],
   "source": [
    "import pandas as pd\n",
    "df_exp = pd.read_csv(\"expenditure_data.csv\")\n",
    "check= (df_exp[\"region\"]==\"London\")\n",
    "LonDon=df_exp.loc[check,\"income\"].mean()\n",
    "NoLonDon=df_exp.loc[~check,\"income\"].mean()\n",
    "print(f\"伦敦地区的平均数为 {LonDon},非伦敦地区的平均数为 {NoLonDon},二者的差额为{LonDon-NoLonDon}\")"
   ]
  },
  {
   "cell_type": "markdown",
   "metadata": {},
   "source": [
    "### 第四题第四小问"
   ]
  },
  {
   "cell_type": "code",
   "execution_count": 70,
   "metadata": {},
   "outputs": [
    {
     "name": "stdout",
     "output_type": "stream",
     "text": [
      "苏格兰和威尔士总家庭数为658，储蓄大于300的为162,百分比为24.620060790273556%\n"
     ]
    }
   ],
   "source": [
    "import pandas as pd\n",
    "df_exp = pd.read_csv(\"expenditure_data.csv\")\n",
    "df_exp\n",
    "temp=df_exp.loc[(df_exp[\"region\"]==\"Scotland\") | (df_exp[\"region\"]==\"Wales\")]\n",
    "t1=temp[\"region\"].count()\n",
    "tt=temp.loc[temp[\"income\"]-temp[\"expenditure\"]>300]\n",
    "t2=tt[\"region\"].count()\n",
    "print(f\"苏格兰和威尔士总家庭数为{t1}，储蓄大于300的为{t2},百分比为{t2/t1*100}%\")"
   ]
  },
  {
   "cell_type": "code",
   "execution_count": 100,
   "metadata": {},
   "outputs": [
    {
     "name": "stdout",
     "output_type": "stream",
     "text": [
      "East Mid地区小孩的平均数为:0.4339622641509434,中位数为:0.0\n",
      "Eastern地区小孩的平均数为:0.4567404426559356,中位数为:0.0\n",
      "London地区小孩的平均数为:0.5479166666666667,中位数为:0.0\n",
      "North Ea地区小孩的平均数为:0.5099601593625498,中位数为:0.0\n",
      "North We地区小孩的平均数为:0.4666666666666667,中位数为:0.0\n",
      "Northern地区小孩的平均数为:0.5496688741721855,中位数为:0.0\n",
      "Scotland地区小孩的平均数为:0.42961165048543687,中位数为:0.0\n",
      "South Ea地区小孩的平均数为:0.47577092511013214,中位数为:0.0\n",
      "South We地区小孩的平均数为:0.44522144522144524,中位数为:0.0\n",
      "Wales地区小孩的平均数为:0.491869918699187,中位数为:0.0\n",
      "West Mid地区小孩的平均数为:0.5038022813688213,中位数为:0.0\n",
      "Yorkshir地区小孩的平均数为:0.4069264069264069,中位数为:0.0\n"
     ]
    }
   ],
   "source": [
    "import pandas as pd\n",
    "df_exp = pd.read_csv(\"expenditure_data.csv\")\n",
    "df_exp.replace({\"No child\": 0, \"One chil\": 1, \"Two or m\": 2}, inplace=True)\n",
    "grou=df_exp.groupby(\"region\")\n",
    "for name,group in grou:\n",
    "    mean1=group[\"nkids\"].mean()\n",
    "    median1=group[\"nkids\"].median()\n",
    "    print(f\"{name}地区小孩的平均数为:{mean1},中位数为:{median1}\")"
   ]
  },
  {
   "cell_type": "code",
   "execution_count": null,
   "metadata": {},
   "outputs": [],
   "source": []
  }
 ],
 "metadata": {
  "kernelspec": {
   "display_name": "Python 3",
   "language": "python",
   "name": "python3"
  },
  "language_info": {
   "codemirror_mode": {
    "name": "ipython",
    "version": 3
   },
   "file_extension": ".py",
   "mimetype": "text/x-python",
   "name": "python",
   "nbconvert_exporter": "python",
   "pygments_lexer": "ipython3",
   "version": "3.8.5"
  },
  "toc": {
   "base_numbering": 1,
   "nav_menu": {},
   "number_sections": true,
   "sideBar": true,
   "skip_h1_title": false,
   "title_cell": "Table of Contents",
   "title_sidebar": "Contents",
   "toc_cell": false,
   "toc_position": {},
   "toc_section_display": true,
   "toc_window_display": false
  }
 },
 "nbformat": 4,
 "nbformat_minor": 4
}
