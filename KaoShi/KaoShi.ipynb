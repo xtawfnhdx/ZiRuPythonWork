{
 "cells": [
  {
   "cell_type": "markdown",
   "metadata": {},
   "source": [
    "### Question 1\n",
    "#### Write a function named rate_my_movie that takes an integer between 1 and 5 as an argument and returns a string of stars (*) representing a movie’s rating. One star (*) is the lowest rating, and 5 stars (*****) is the highest rating.\n"
   ]
  },
  {
   "cell_type": "markdown",
   "metadata": {},
   "source": [
    "### 解题思路\n",
    "#### 使用 n* 字符串 的形式输出结果"
   ]
  },
  {
   "cell_type": "code",
   "execution_count": 10,
   "metadata": {},
   "outputs": [
    {
     "name": "stdout",
     "output_type": "stream",
     "text": [
      "**\n",
      "*****\n"
     ]
    }
   ],
   "source": [
    "def rate_my_movie(num):\n",
    "    if num>5 or num<1:\n",
    "        return \"ERROR\"\n",
    "    else:\n",
    "        return num*\"*\"\n",
    "print(rate_my_movie(2))\n",
    "print(rate_my_movie(5))"
   ]
  },
  {
   "cell_type": "markdown",
   "metadata": {},
   "source": [
    "### 第二题\n",
    "#### 问题拷贝到这里"
   ]
  },
  {
   "cell_type": "markdown",
   "metadata": {},
   "source": [
    "### 解题思路\n",
    "#### 使用for循环遍历List\n",
    "#### 使用len函数输出长度\n",
    "#### 使用upper函数转换成大写\n",
    "#### 使用print函数打印结果"
   ]
  },
  {
   "cell_type": "code",
   "execution_count": 17,
   "metadata": {},
   "outputs": [
    {
     "name": "stdout",
     "output_type": "stream",
     "text": [
      "4 THIS\n",
      "2 IS\n",
      "1 A\n",
      "5 SHORT\n",
      "8 SENTENCE\n",
      "7 ANOTHER\n",
      "8 SENTENCE\n"
     ]
    }
   ],
   "source": [
    "def printListMsg(lists):\n",
    "    for item in lists:\n",
    "        print(len(item),item.upper())\n",
    "list=[\"This\", \"is\", \"a\", \"short\", \"sentence\"]\n",
    "printListMsg(list)\n",
    "\n",
    "list2=[\"Another\", \"sentence\"]\n",
    "printListMsg(list2)"
   ]
  },
  {
   "cell_type": "code",
   "execution_count": 26,
   "metadata": {},
   "outputs": [
    {
     "name": "stdout",
     "output_type": "stream",
     "text": [
      "MMGEEEWWOOOO\n"
     ]
    }
   ],
   "source": [
    "def abc(strs):\n",
    "    result=\"\"\n",
    "    for index in range(0,len(strs),2):\n",
    "        result+= int(strs[index]) * str(strs[index+1])\n",
    "    print(result)\n",
    "    \n",
    "str1=\"2M1G3E2W4O\"\n",
    "abc(str1)"
   ]
  }
 ],
 "metadata": {
  "kernelspec": {
   "display_name": "Python 3",
   "language": "python",
   "name": "python3"
  },
  "language_info": {
   "codemirror_mode": {
    "name": "ipython",
    "version": 3
   },
   "file_extension": ".py",
   "mimetype": "text/x-python",
   "name": "python",
   "nbconvert_exporter": "python",
   "pygments_lexer": "ipython3",
   "version": "3.8.5"
  },
  "toc": {
   "base_numbering": 1,
   "nav_menu": {},
   "number_sections": true,
   "sideBar": true,
   "skip_h1_title": false,
   "title_cell": "Table of Contents",
   "title_sidebar": "Contents",
   "toc_cell": false,
   "toc_position": {},
   "toc_section_display": true,
   "toc_window_display": false
  }
 },
 "nbformat": 4,
 "nbformat_minor": 4
}
