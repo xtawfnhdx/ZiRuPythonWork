{
 "cells": [
  {
   "cell_type": "markdown",
   "metadata": {},
   "source": [
    "## Exercise 1\n",
    "\n",
    "Write a program that checks whether the following conditional expressions are ```True``` or ```False```:\n",
    "\n",
    "- The number 1 is not equal to the number 1\n",
    "- The number 3 is equal to the number 4\n",
    "- The number 2 is greater than or equal to 2\n",
    "- The number 5 is equal to the number 5.0\n",
    "- The data type of the number 5 is equal to the data type of the number 5.0\n",
    "- The letter ```C``` is not in ```coding```\n",
    "- The letter ```E``` is in either ```Economics``` or ```economics```\n",
    "- The key ```model``` is in the dictionary ```my_car = {\"model\": \"Fiesta\", \"year\": 2016}```\n",
    "- The value ```2016``` is in the dictionary ```my_car = {\"model\": \"Fiesta\", \"year\": 2016}```\n",
    "\n",
    "Evaluate each expression in a separate cell. "
   ]
  },
  {
   "cell_type": "code",
   "execution_count": 1,
   "metadata": {},
   "outputs": [
    {
     "data": {
      "text/plain": [
       "False"
      ]
     },
     "execution_count": 1,
     "metadata": {},
     "output_type": "execute_result"
    }
   ],
   "source": [
    "1 != 1"
   ]
  },
  {
   "cell_type": "code",
   "execution_count": 2,
   "metadata": {},
   "outputs": [
    {
     "data": {
      "text/plain": [
       "False"
      ]
     },
     "execution_count": 2,
     "metadata": {},
     "output_type": "execute_result"
    }
   ],
   "source": [
    "3 == 4"
   ]
  },
  {
   "cell_type": "code",
   "execution_count": 3,
   "metadata": {},
   "outputs": [
    {
     "data": {
      "text/plain": [
       "True"
      ]
     },
     "execution_count": 3,
     "metadata": {},
     "output_type": "execute_result"
    }
   ],
   "source": [
    "2 >= 2"
   ]
  },
  {
   "cell_type": "code",
   "execution_count": 4,
   "metadata": {},
   "outputs": [
    {
     "data": {
      "text/plain": [
       "True"
      ]
     },
     "execution_count": 4,
     "metadata": {},
     "output_type": "execute_result"
    }
   ],
   "source": [
    "5 == 5.0"
   ]
  },
  {
   "cell_type": "code",
   "execution_count": 5,
   "metadata": {},
   "outputs": [
    {
     "data": {
      "text/plain": [
       "False"
      ]
     },
     "execution_count": 5,
     "metadata": {},
     "output_type": "execute_result"
    }
   ],
   "source": [
    "type(5) == type(5.0)"
   ]
  },
  {
   "cell_type": "code",
   "execution_count": 6,
   "metadata": {},
   "outputs": [
    {
     "data": {
      "text/plain": [
       "True"
      ]
     },
     "execution_count": 6,
     "metadata": {},
     "output_type": "execute_result"
    }
   ],
   "source": [
    "\"C\" not in \"coding\""
   ]
  },
  {
   "cell_type": "code",
   "execution_count": 7,
   "metadata": {},
   "outputs": [
    {
     "data": {
      "text/plain": [
       "True"
      ]
     },
     "execution_count": 7,
     "metadata": {},
     "output_type": "execute_result"
    }
   ],
   "source": [
    "\"E\" in \"Economics\" or \"E\" in \"economics\""
   ]
  },
  {
   "cell_type": "code",
   "execution_count": 8,
   "metadata": {},
   "outputs": [
    {
     "name": "stdout",
     "output_type": "stream",
     "text": [
      "{'model': 'Fiesta', 'year': 2016}\n"
     ]
    }
   ],
   "source": [
    "my_car = {\"model\": \"Fiesta\", \"year\":2016}\n",
    "print(my_car)"
   ]
  },
  {
   "cell_type": "code",
   "execution_count": 9,
   "metadata": {},
   "outputs": [
    {
     "data": {
      "text/plain": [
       "True"
      ]
     },
     "execution_count": 9,
     "metadata": {},
     "output_type": "execute_result"
    }
   ],
   "source": [
    "\"model\" in my_car"
   ]
  },
  {
   "cell_type": "code",
   "execution_count": 10,
   "metadata": {},
   "outputs": [
    {
     "data": {
      "text/plain": [
       "True"
      ]
     },
     "execution_count": 10,
     "metadata": {},
     "output_type": "execute_result"
    }
   ],
   "source": [
    "2016 in my_car.values()"
   ]
  },
  {
   "cell_type": "markdown",
   "metadata": {},
   "source": [
    "## Exercise 2\n",
    "\n",
    "Given a variable ```number```, checks whether the value of the number falls in the interval $[3, 9]$."
   ]
  },
  {
   "cell_type": "code",
   "execution_count": 11,
   "metadata": {},
   "outputs": [
    {
     "data": {
      "text/plain": [
       "True"
      ]
     },
     "execution_count": 11,
     "metadata": {},
     "output_type": "execute_result"
    }
   ],
   "source": [
    "number = 6\n",
    "\n",
    "3 < number < 9"
   ]
  },
  {
   "cell_type": "markdown",
   "metadata": {},
   "source": [
    "## Exercise 3\n",
    "\n",
    "Given a variable ```number```, checks whether the value of the number falls in the interval $[3, 9]$ **and** $[4, 12]$."
   ]
  },
  {
   "cell_type": "code",
   "execution_count": 12,
   "metadata": {},
   "outputs": [
    {
     "data": {
      "text/plain": [
       "False"
      ]
     },
     "execution_count": 12,
     "metadata": {},
     "output_type": "execute_result"
    }
   ],
   "source": [
    "number = 11\n",
    "\n",
    "3 < number < 9 and 4 < number < 12"
   ]
  },
  {
   "cell_type": "markdown",
   "metadata": {},
   "source": [
    "## Exercise 4\n",
    "\n",
    "Given a variable ```number```, checks whether the value of the number falls in the interval $[3, 9]$ **or** $[4, 12]$"
   ]
  },
  {
   "cell_type": "code",
   "execution_count": 13,
   "metadata": {},
   "outputs": [
    {
     "data": {
      "text/plain": [
       "True"
      ]
     },
     "execution_count": 13,
     "metadata": {},
     "output_type": "execute_result"
    }
   ],
   "source": [
    "number = 11\n",
    "\n",
    "3 < number < 9 or 4 < number < 12"
   ]
  },
  {
   "cell_type": "markdown",
   "metadata": {},
   "source": [
    "## Exercise 5\n",
    "\n",
    "Given a variable ```number```, checks whether the value of the number falls in the interval $[3, 9]$ or $[4, 12]$, but **not** in both intervals. "
   ]
  },
  {
   "cell_type": "code",
   "execution_count": 14,
   "metadata": {},
   "outputs": [
    {
     "data": {
      "text/plain": [
       "True"
      ]
     },
     "execution_count": 14,
     "metadata": {},
     "output_type": "execute_result"
    }
   ],
   "source": [
    "number = 10\n",
    "\n",
    "(3 < number < 9 or 4 < number < 12) and not (3 < number < 9 and 4 < number < 12) "
   ]
  },
  {
   "cell_type": "markdown",
   "metadata": {},
   "source": [
    "## Exercise 6\n",
    "\n",
    "Write a program that asks the user to input an integer number and subsequently prints out\n",
    "\n",
    "```The number is strictly greater than five```\n",
    "\n",
    "only if the entered integer is strictly greater than 5."
   ]
  },
  {
   "cell_type": "code",
   "execution_count": 15,
   "metadata": {},
   "outputs": [
    {
     "name": "stdout",
     "output_type": "stream",
     "text": [
      "Enter another integer: 3\n"
     ]
    },
    {
     "data": {
      "text/plain": [
       "str"
      ]
     },
     "execution_count": 15,
     "metadata": {},
     "output_type": "execute_result"
    }
   ],
   "source": [
    "# Run this cell to understand how the input() function works\n",
    "# input(\"Enter an integer: \")\n",
    "type(input(\"Enter another integer: \"))"
   ]
  },
  {
   "cell_type": "code",
   "execution_count": 16,
   "metadata": {},
   "outputs": [
    {
     "name": "stdout",
     "output_type": "stream",
     "text": [
      "Enter an integer: 3\n"
     ]
    }
   ],
   "source": [
    "# Use this cell to write your program\n",
    "number = int(input(\"Enter an integer: \"))\n",
    "\n",
    "if number > 5:\n",
    "    print(\"The number is strictly greater than five\")"
   ]
  },
  {
   "cell_type": "markdown",
   "metadata": {},
   "source": [
    "## Exercise 7\n",
    "\n",
    "Write a program that asks the user to input an integer number and subsequently prints out\n",
    "\n",
    "```The number is strictly greater than five```\n",
    "\n",
    "if the entered integer is strictly greater than 5. Otherwise, it prints\n",
    "\n",
    "```The number is less than or equal to five```"
   ]
  },
  {
   "cell_type": "code",
   "execution_count": 17,
   "metadata": {},
   "outputs": [
    {
     "name": "stdout",
     "output_type": "stream",
     "text": [
      "Enter an integer: 2\n",
      "The number is less than or equal to five\n"
     ]
    }
   ],
   "source": [
    "number = int(input(\"Enter an integer: \"))\n",
    "\n",
    "if number > 5:\n",
    "    print(\"The number is strictly greater than five\")\n",
    "else:\n",
    "    print(\"The number is less than or equal to five\")"
   ]
  },
  {
   "cell_type": "markdown",
   "metadata": {},
   "source": [
    "## Exercise 8\n",
    "\n",
    "Write a program that asks the user to input an integer number and subsequently prints out\n",
    "\n",
    "```The number is strictly greater than five```\n",
    "\n",
    "if the entered integer is strictly greater than 5. Otherwise, it checks whether the number is greater than or equal to 2 and, if true, it prints \n",
    "\n",
    "```The number is between two (included) and five (included)```\n",
    "\n",
    "or\n",
    "\n",
    "```The number is less than two```\n",
    "\n",
    "otherwise."
   ]
  },
  {
   "cell_type": "code",
   "execution_count": 18,
   "metadata": {},
   "outputs": [
    {
     "name": "stdout",
     "output_type": "stream",
     "text": [
      "Enter an integer: 3\n",
      "The number is between two (included) and five (included)\n"
     ]
    }
   ],
   "source": [
    "# Use this cell to write your program\n",
    "number = int(input(\"Enter an integer: \"))\n",
    "\n",
    "if number > 5:\n",
    "    print(\"The number is strictly greater than five\")\n",
    "elif number >= 2:\n",
    "    print(\"The number is between two (included) and five (included)\")\n",
    "else:\n",
    "    print(\"The number is less than two\")"
   ]
  },
  {
   "cell_type": "markdown",
   "metadata": {},
   "source": [
    "## Exercise 9\n",
    "\n",
    "Repeat the exercise above with 7 instead of 2. What do you notice?"
   ]
  },
  {
   "cell_type": "code",
   "execution_count": 19,
   "metadata": {},
   "outputs": [
    {
     "name": "stdout",
     "output_type": "stream",
     "text": [
      "Enter an integer: 8\n",
      "The number is strictly greater than five\n"
     ]
    }
   ],
   "source": [
    "# Use this cell to write your program\n",
    "number = int(input(\"Enter an integer: \"))\n",
    "\n",
    "if number > 5:\n",
    "    print(\"The number is strictly greater than five\")\n",
    "elif number >= 7:\n",
    "    # This branch will NEVER be reached!\n",
    "    # The condition that activates this branch is always False whenever the initial condition is False.\n",
    "    # Otherwise if the initial condition is true, this condition is not even evaluated as Python executes the first conditional branch\n",
    "    print(\"The number is between seven (included) and five (included)\")\n",
    "else:\n",
    "    print(\"The number is less than five\")"
   ]
  },
  {
   "cell_type": "markdown",
   "metadata": {},
   "source": [
    "## Exercise 10\n",
    "\n",
    "Consider a slight modification of the real life example seen in class:\n",
    "\n",
    "``` If I win this bet and I have enough money, I'll celebrate; otherwise I'll stay at home.```\n",
    "\n",
    "Modify the program in Lecture 7 to reflect the change above."
   ]
  },
  {
   "cell_type": "code",
   "execution_count": 20,
   "metadata": {},
   "outputs": [
    {
     "name": "stdout",
     "output_type": "stream",
     "text": [
      "As a result of having lost the bet your balance is now £400\n",
      "\n",
      "I have lost. Better stay at home\n"
     ]
    }
   ],
   "source": [
    "# Set bet result and bank account balance\n",
    "won_bet = False\n",
    "balance = 500\n",
    "\n",
    "# Update bank account balance\n",
    "balance += (100 if won_bet else -100)\n",
    "print(f\"As a result of having {'won' if won_bet else 'lost'} the bet your balance is now £{balance}\\n\")\n",
    "\n",
    "# Choose an action\n",
    "if won_bet and balance > 300:\n",
    "    print(\"I have won! Let's celebrate 🍻🎉\")\n",
    "elif won_bet:\n",
    "    print(\"I have won but I am still broke. Better stay at home.\")\n",
    "else:\n",
    "    print(\"I have lost. Better stay at home\")"
   ]
  },
  {
   "cell_type": "markdown",
   "metadata": {},
   "source": [
    "## Exercise 11\n",
    "\n",
    "Given a variable ```password``` containing a string of any alphanumeric sequence of characters representing a password, write a program that asks the user to input the correct password.\n",
    "\n",
    "The program should respect the following rules:\n",
    "\n",
    "- If the entered password is incorrect, the program keeps asking the password to the user.\n",
    "- If the entered the password is correct, the program asks to repeat the correct password a second time.\n",
    "    - If the second entered password is correct, the program is completed.\n",
    "    - If the second entered password is incorrect, the program restarts.\n"
   ]
  },
  {
   "cell_type": "code",
   "execution_count": 21,
   "metadata": {},
   "outputs": [
    {
     "name": "stdout",
     "output_type": "stream",
     "text": [
      "Enter your password: wrong\n",
      "Enter your password: still wrong\n",
      "Enter your password: p4ssw0rd!@£$\n",
      "Re-enter your password: secondtimewrong\n",
      "Enter your password: p4ssw0rd!@£$\n",
      "Re-enter your password: p4ssw0rd!@£$\n",
      "The password is correct!\n"
     ]
    }
   ],
   "source": [
    "# Create a variable storing the password\n",
    "password = \"p4ssw0rd!@£$\"\n",
    "\n",
    "# Initialise a Boolean variable that check whether the password is correct\n",
    "correct_password = False\n",
    "\n",
    "# Keep asking the user for the correct password until it is correct\n",
    "while not correct_password:\n",
    "    # Ask the user for the password\n",
    "    user_attempt = input(\"Enter your password: \")\n",
    "    \n",
    "    # Update the Boolean variable\n",
    "    correct_password = user_attempt == password\n",
    "    \n",
    "    # If correct, ask user to re-enter the password\n",
    "    if correct_password:\n",
    "        # Ask the user for the password again\n",
    "        user_attempt = input(\"Re-enter your password: \")\n",
    "        \n",
    "        # Update the Boolean variable\n",
    "        correct_password = user_attempt == password\n",
    "\n",
    "# Tell user that password is correct\n",
    "print(\"The password is correct!\")"
   ]
  },
  {
   "cell_type": "markdown",
   "metadata": {},
   "source": [
    "## Exercise 12\n",
    "\n",
    "Define a function named ```hello()``` that prints out ```Hello World!``` whenever it is called"
   ]
  },
  {
   "cell_type": "code",
   "execution_count": 22,
   "metadata": {},
   "outputs": [],
   "source": [
    "# Define your function here\n",
    "def hello():\n",
    "    print(\"Hello World!\")"
   ]
  },
  {
   "cell_type": "code",
   "execution_count": 23,
   "metadata": {},
   "outputs": [
    {
     "name": "stdout",
     "output_type": "stream",
     "text": [
      "Hello World!\n",
      "Hello World!\n",
      "Hello World!\n"
     ]
    }
   ],
   "source": [
    "# Call your function here\n",
    "hello()\n",
    "hello()\n",
    "hello()"
   ]
  },
  {
   "cell_type": "markdown",
   "metadata": {},
   "source": [
    "## Exercise 13\n",
    "\n",
    "Modify the ```hello()``` function so that it prints out ```Hello {name}!``` where the variable ```name``` is passed into the function as an argument.\n",
    "\n",
    "If the function is called without any arguments, it should print out ```Hello World!```"
   ]
  },
  {
   "cell_type": "code",
   "execution_count": 24,
   "metadata": {},
   "outputs": [],
   "source": [
    "# Define your function here\n",
    "def hello(name=\"World\"):\n",
    "    print(f\"Hello {name}!\")"
   ]
  },
  {
   "cell_type": "code",
   "execution_count": 25,
   "metadata": {},
   "outputs": [
    {
     "name": "stdout",
     "output_type": "stream",
     "text": [
      "Hello World!\n",
      "Hello Luca!\n",
      "Hello Roger!\n",
      "Hello Rafa!\n"
     ]
    }
   ],
   "source": [
    "# Call your function here\n",
    "hello()\n",
    "hello(\"Luca\")\n",
    "roger_name = \"Roger\"\n",
    "hello(roger_name)\n",
    "hello(\"rafa\".capitalize())"
   ]
  },
  {
   "cell_type": "markdown",
   "metadata": {},
   "source": [
    "## Exercise 14\n",
    "\n",
    "Modify the ```hello()``` function so that it **returns** the string ```Hello {name}!``` where the variable ```name``` is passed into the function as an argument.\n",
    "\n",
    "If the function is called without any arguments, it should **return** ```Hello World!```"
   ]
  },
  {
   "cell_type": "code",
   "execution_count": 26,
   "metadata": {},
   "outputs": [],
   "source": [
    "# Define your function here\n",
    "def hello(name=\"World\"):\n",
    "    return f\"Hello {name}!\""
   ]
  },
  {
   "cell_type": "code",
   "execution_count": 27,
   "metadata": {},
   "outputs": [
    {
     "name": "stdout",
     "output_type": "stream",
     "text": [
      "Hello World!\n",
      "Hello Luca!\n",
      "Hello Roger!\n"
     ]
    },
    {
     "data": {
      "text/plain": [
       "'Hello Rafa!'"
      ]
     },
     "execution_count": 27,
     "metadata": {},
     "output_type": "execute_result"
    }
   ],
   "source": [
    "# Call your function here\n",
    "print(hello())\n",
    "print(hello(\"Luca\"))\n",
    "roger_name = \"Roger\"\n",
    "print(hello(roger_name))\n",
    "hello(\"rafa\".capitalize())"
   ]
  },
  {
   "cell_type": "markdown",
   "metadata": {},
   "source": [
    "## Exercise 15\n",
    "\n",
    "Write a function called ```favourite_movie()``` that accepts two parameters, ```title``` and ```director```.\n",
    "\n",
    "The function should print a message, such as\n",
    "\n",
    "```My favourite movie is Kill Bill: Vol. 1 by Quentin Tarantino```\n",
    "\n",
    "where the movie title and director are determined by the arguments in the function call."
   ]
  },
  {
   "cell_type": "code",
   "execution_count": 28,
   "metadata": {},
   "outputs": [],
   "source": [
    "# Define your function here\n",
    "def favourite_movie(title, director):\n",
    "    print(f\"My favourite movie is {title} by {director}\")"
   ]
  },
  {
   "cell_type": "code",
   "execution_count": 29,
   "metadata": {},
   "outputs": [
    {
     "name": "stdout",
     "output_type": "stream",
     "text": [
      "My favourite movie is Inception by Christopher Nolan\n"
     ]
    }
   ],
   "source": [
    "# Call your function here\n",
    "favourite_movie(\"Inception\", \"Christopher Nolan\")"
   ]
  },
  {
   "cell_type": "markdown",
   "metadata": {},
   "source": [
    "## Exercise 16\n",
    "\n",
    "Write a function named ```doubleif(number, lower, upper)``` which returns a value equal to double ```number``` if ```number``` is within the interval delimited by ```lower``` and ```upper```.\n",
    "\n",
    "If ```number``` is above ```upper```, the function should return the string ```{number} is above {upper}```. Otherwise, it returns nothing."
   ]
  },
  {
   "cell_type": "code",
   "execution_count": 30,
   "metadata": {},
   "outputs": [],
   "source": [
    "# Define your function here\n",
    "def doubleif(number, lower, upper):\n",
    "    if lower < number < upper:\n",
    "        return 2*number\n",
    "    \n",
    "    # This will not be printed if number is within the interval. This is because Python executes the return statment\n",
    "    print(f\"The condition (lower < number < upper) was {lower < number < upper}\")\n",
    "    \n",
    "    if number > upper:\n",
    "        return f\"{number} is above {upper}\"\n",
    "    \n",
    "    print(f\"The condition (number > upper) was {number > upper}\")"
   ]
  },
  {
   "cell_type": "code",
   "execution_count": 31,
   "metadata": {},
   "outputs": [
    {
     "name": "stdout",
     "output_type": "stream",
     "text": [
      "The condition (lower < number < upper) was False\n",
      "The condition (number > upper) was False\n"
     ]
    }
   ],
   "source": [
    "# Call your function here\n",
    "doubleif(2,3,7)"
   ]
  },
  {
   "cell_type": "markdown",
   "metadata": {},
   "source": [
    "## Exercise 17\n",
    "Consider the ```bmi()``` function seen in class\n",
    "\n",
    "```python\n",
    "def bmi(height, weight):\n",
    "    height_m = 0.3048 * (height[0] + height[1]/12)\n",
    "    weight_kg = 0.453592 * weight\n",
    "    bmi_index = weight_kg / height_m ** 2\n",
    "    \n",
    "    return bmi_index\n",
    "```\n",
    "\n",
    "Modify the function to accept a Boolean argument that selects whether the function should be printing out the string ```\"The BMI index is {bmi_index}.\"```"
   ]
  },
  {
   "cell_type": "code",
   "execution_count": 32,
   "metadata": {},
   "outputs": [],
   "source": [
    "def bmi(height, weight, show=False):\n",
    "    height_m = 0.3048 * (height[0] + height[1]/12)\n",
    "    weight_kg = 0.453592 * weight\n",
    "    bmi_index = weight_kg / height_m ** 2\n",
    "    \n",
    "    if show:\n",
    "        print(f\"The BMI index is {bmi_index}\")\n",
    "    \n",
    "    return bmi_index"
   ]
  },
  {
   "cell_type": "code",
   "execution_count": 33,
   "metadata": {},
   "outputs": [
    {
     "name": "stdout",
     "output_type": "stream",
     "text": [
      "The BMI index is 24.412118268680974\n"
     ]
    },
    {
     "data": {
      "text/plain": [
       "24.412118268680974"
      ]
     },
     "execution_count": 33,
     "metadata": {},
     "output_type": "execute_result"
    }
   ],
   "source": [
    "# Default is to not print out\n",
    "bmi([6, 0], 180)\n",
    "\n",
    "# Prompt function to print out by passing third argument\n",
    "bmi([6, 0], 180, True)"
   ]
  },
  {
   "cell_type": "markdown",
   "metadata": {},
   "source": [
    "## Exercise 18\n",
    "\n",
    "Consider the password exercise above.\n",
    "\n",
    "Write a function that returns a Boolean value of ```True``` in case the user enters the correct password within a pre-specified number of attempts. Otherwise, the function should return ```False```.\n",
    "\n",
    "The pre-specified number of attempts should be given as an argument into the function. Name the correspondent parameter ```max_attempts```."
   ]
  },
  {
   "cell_type": "code",
   "execution_count": 34,
   "metadata": {},
   "outputs": [],
   "source": [
    "# Function definition\n",
    "def insert_password(max_attempts):\n",
    "    # Create a variable that keeps track of the remaining attempts\n",
    "    attempts_left = max_attempts\n",
    "    \n",
    "    # Initialise a Boolean variable that check whether the password is correct\n",
    "    correct_password = False\n",
    "    \n",
    "    # Keep asking the user for the correct password until it is correct\n",
    "    while not correct_password and attempts_left > 0:\n",
    "        # Print remaining attempts\n",
    "        print(f\"You have {attempts_left} attempts remaining\")\n",
    "        \n",
    "        # Ask the user for the password\n",
    "        user_attempt = input(\"Enter your password: \")\n",
    "        \n",
    "        # Update remaining attempts\n",
    "        attempts_left -= 1\n",
    "        \n",
    "        # Update the Boolean variable\n",
    "        correct_password = user_attempt == password\n",
    "        \n",
    "        # If correct, ask user to re-enter the password\n",
    "        if correct_password:\n",
    "            # Ask the user for the password again\n",
    "            user_attempt = input(\"Re-enter your password: \")\n",
    "            \n",
    "            # Update the Boolean variable\n",
    "            correct_password = user_attempt == password\n",
    "    \n",
    "    # Return the Boolean\n",
    "    return correct_password"
   ]
  },
  {
   "cell_type": "code",
   "execution_count": 35,
   "metadata": {},
   "outputs": [
    {
     "name": "stdout",
     "output_type": "stream",
     "text": [
      "You have 3 attempts remaining\n",
      "Enter your password: firsttimewrong\n",
      "You have 2 attempts remaining\n",
      "Enter your password: p4ssw0rd!@£$\n",
      "Re-enter your password: secondtimewrong\n",
      "You have 1 attempts remaining\n",
      "Enter your password: thirdtimewrong\n"
     ]
    },
    {
     "data": {
      "text/plain": [
       "False"
      ]
     },
     "execution_count": 35,
     "metadata": {},
     "output_type": "execute_result"
    }
   ],
   "source": [
    "# Create a variable storing the password\n",
    "password = \"p4ssw0rd!@£$\"\n",
    "\n",
    "# Function call\n",
    "insert_password(3)"
   ]
  },
  {
   "cell_type": "markdown",
   "metadata": {},
   "source": [
    "## Exercise 19\n",
    "\n",
    "Create a new module named ```simple_maths.py``` with three functions:\n",
    "\n",
    "- A function ```sum(x, y)``` that returns the sum of two numbers\n",
    "- A function ```minus(x, y)``` that returns the difference between ```x``` and ```y```.\n",
    "- A function ```prod(x, y)``` that returns the product of two numbers\n",
    "\n",
    "Import the module and test your functions in the cell below"
   ]
  },
  {
   "cell_type": "code",
   "execution_count": 36,
   "metadata": {
    "scrolled": true
   },
   "outputs": [
    {
     "name": "stdout",
     "output_type": "stream",
     "text": [
      "Importing simple_maths module ... \n"
     ]
    }
   ],
   "source": [
    "# Import the entire module here\n",
    "import simple_maths"
   ]
  },
  {
   "cell_type": "code",
   "execution_count": 37,
   "metadata": {},
   "outputs": [
    {
     "name": "stdout",
     "output_type": "stream",
     "text": [
      "Help on module simple_maths:\n",
      "\n",
      "NAME\n",
      "    simple_maths - This module defines three simple functions: sum(), minus(), and prod()\n",
      "\n",
      "FUNCTIONS\n",
      "    minus(x, y)\n",
      "        This function takes two numbers as input an returns their difference\n",
      "    \n",
      "    prod(x, y)\n",
      "        This function takes two numbers as input an returns their product\n",
      "    \n",
      "    sum(x, y)\n",
      "        This function takes two numbers as input an returns their sum\n",
      "\n",
      "FILE\n",
      "    /Users/Luca/OneDrive - University of Sussex/UniSussex/Modules/852L1-DataProcessingCodingVisualisation/Workshops/Workshop8/simple_maths.py\n",
      "\n",
      "\n"
     ]
    }
   ],
   "source": [
    "# Get function documentation. This is created by inserting a \"Docstring\" in the function definition. Check simple_maths.py\n",
    "help(simple_maths)"
   ]
  },
  {
   "cell_type": "code",
   "execution_count": 38,
   "metadata": {},
   "outputs": [
    {
     "data": {
      "text/plain": [
       "['__builtins__',\n",
       " '__cached__',\n",
       " '__doc__',\n",
       " '__file__',\n",
       " '__loader__',\n",
       " '__name__',\n",
       " '__package__',\n",
       " '__spec__',\n",
       " 'minus',\n",
       " 'prod',\n",
       " 'sum']"
      ]
     },
     "execution_count": 38,
     "metadata": {},
     "output_type": "execute_result"
    }
   ],
   "source": [
    "# The dir() function is useful to also show the contents of a module\n",
    "dir(simple_maths)"
   ]
  },
  {
   "cell_type": "code",
   "execution_count": 39,
   "metadata": {},
   "outputs": [
    {
     "name": "stdout",
     "output_type": "stream",
     "text": [
      "Help on function sum in module simple_maths:\n",
      "\n",
      "sum(x, y)\n",
      "    This function takes two numbers as input an returns their sum\n",
      "\n"
     ]
    }
   ],
   "source": [
    "help(simple_maths.sum)"
   ]
  },
  {
   "cell_type": "code",
   "execution_count": 40,
   "metadata": {},
   "outputs": [
    {
     "data": {
      "text/plain": [
       "3"
      ]
     },
     "execution_count": 40,
     "metadata": {},
     "output_type": "execute_result"
    }
   ],
   "source": [
    "# Tests your functions here\n",
    "simple_maths.sum(1,2)"
   ]
  },
  {
   "cell_type": "code",
   "execution_count": 41,
   "metadata": {},
   "outputs": [],
   "source": [
    "# Import entire module using an alias \n",
    "import simple_maths as sm"
   ]
  },
  {
   "cell_type": "code",
   "execution_count": 42,
   "metadata": {},
   "outputs": [
    {
     "data": {
      "text/plain": [
       "<function simple_maths.minus(x, y)>"
      ]
     },
     "execution_count": 42,
     "metadata": {},
     "output_type": "execute_result"
    }
   ],
   "source": [
    "# You can now use the alias instead of the full name of the module\n",
    "sm.minus"
   ]
  },
  {
   "cell_type": "code",
   "execution_count": 43,
   "metadata": {},
   "outputs": [],
   "source": [
    "# Import specific functions from the module\n",
    "from simple_maths import sum, prod"
   ]
  },
  {
   "cell_type": "code",
   "execution_count": 44,
   "metadata": {},
   "outputs": [
    {
     "data": {
      "text/plain": [
       "<function simple_maths.sum(x, y)>"
      ]
     },
     "execution_count": 44,
     "metadata": {},
     "output_type": "execute_result"
    }
   ],
   "source": [
    "sum"
   ]
  },
  {
   "cell_type": "code",
   "execution_count": 45,
   "metadata": {},
   "outputs": [
    {
     "data": {
      "text/plain": [
       "<function simple_maths.prod(x, y)>"
      ]
     },
     "execution_count": 45,
     "metadata": {},
     "output_type": "execute_result"
    }
   ],
   "source": [
    "prod"
   ]
  },
  {
   "cell_type": "code",
   "execution_count": 46,
   "metadata": {},
   "outputs": [],
   "source": [
    "# Import specific functions from the module and assign an alias\n",
    "from simple_maths import sum as s, prod as pd"
   ]
  },
  {
   "cell_type": "code",
   "execution_count": 47,
   "metadata": {},
   "outputs": [
    {
     "data": {
      "text/plain": [
       "<function simple_maths.sum(x, y)>"
      ]
     },
     "execution_count": 47,
     "metadata": {},
     "output_type": "execute_result"
    }
   ],
   "source": [
    "s"
   ]
  },
  {
   "cell_type": "code",
   "execution_count": 48,
   "metadata": {},
   "outputs": [
    {
     "data": {
      "text/plain": [
       "<function simple_maths.prod(x, y)>"
      ]
     },
     "execution_count": 48,
     "metadata": {},
     "output_type": "execute_result"
    }
   ],
   "source": [
    "pd"
   ]
  }
 ],
 "metadata": {
  "kernelspec": {
   "display_name": "Python 3",
   "language": "python",
   "name": "python3"
  },
  "language_info": {
   "codemirror_mode": {
    "name": "ipython",
    "version": 3
   },
   "file_extension": ".py",
   "mimetype": "text/x-python",
   "name": "python",
   "nbconvert_exporter": "python",
   "pygments_lexer": "ipython3",
   "version": "3.8.3"
  },
  "toc": {
   "base_numbering": 1,
   "nav_menu": {},
   "number_sections": false,
   "sideBar": true,
   "skip_h1_title": false,
   "title_cell": "Table of Contents",
   "title_sidebar": "Contents",
   "toc_cell": false,
   "toc_position": {},
   "toc_section_display": true,
   "toc_window_display": false
  },
  "varInspector": {
   "cols": {
    "lenName": 16,
    "lenType": 16,
    "lenVar": 40
   },
   "kernels_config": {
    "python": {
     "delete_cmd_postfix": "",
     "delete_cmd_prefix": "del ",
     "library": "var_list.py",
     "varRefreshCmd": "print(var_dic_list())"
    },
    "r": {
     "delete_cmd_postfix": ") ",
     "delete_cmd_prefix": "rm(",
     "library": "var_list.r",
     "varRefreshCmd": "cat(var_dic_list()) "
    }
   },
   "types_to_exclude": [
    "module",
    "function",
    "builtin_function_or_method",
    "instance",
    "_Feature"
   ],
   "window_display": false
  }
 },
 "nbformat": 4,
 "nbformat_minor": 4
}
