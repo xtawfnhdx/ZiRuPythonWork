{
 "cells": [
  {
   "cell_type": "markdown",
   "metadata": {},
   "source": [
    "# Lecture 8: Functions and modules"
   ]
  },
  {
   "cell_type": "markdown",
   "metadata": {},
   "source": [
    "In our previous lectures, we introduced the basic tools of programming: **data types** and **control flow**. \n",
    "\n",
    "Along with operators and variables assignments, **data types** are the building blocks of our programs and **control flow** is what allows us to organise the set of instructions in a meaningful way. Using these tools, we could potentially write complex programs already.\n",
    "\n",
    "However, as our programs grow in size and complexity so does the set of instructions that we need to write. Chances are that some of these instructions will be repeated over and over in several parts of our code. This creates two problems:\n",
    "\n",
    "1. The code is unnecessarily long and hard to read\n",
    "2. The code is hard to debug and edit\n",
    "    - Fixing an error in a section of the program that performs a specific task requires editing several blocks of code\n",
    "\n",
    "A solution to the above problems is **Modularity**:\n",
    "\n",
    "> **Modularity** is the concept of breaking up complex codes into smaller units that perform specific tasks.\n",
    "\n",
    "Modularity can be thought of as the equivalent to specialisation and outsourcing in Economics.\n",
    "\n",
    "Code modularity in Python is enabled by **Functions**:\n",
    "\n",
    "> **Functions** are *self-contained* blocks of code that allow us to encapsulate a set of instructions related to a specific task\n",
    "\n",
    "In this lecture, we introduce functions and modules in Python. We will start with simple examples and build on these to show all properties and usage of functions."
   ]
  },
  {
   "cell_type": "markdown",
   "metadata": {},
   "source": [
    "# Functions\n",
    "\n",
    "Suppose that you have written the following code:\n",
    "\n",
    "```python\n",
    "# Block of code 1\n",
    " <statement(s)>\n",
    "print(\"Hi there! Welcome to Python.\")\n",
    "\n",
    "# Block of code 2\n",
    "<statement(s)>\n",
    "print(\"Hi there! Welcome to Python.\")\n",
    "\n",
    "# Block of code 3\n",
    "<statement(s)>\n",
    "print(\"Hi there! Welcome to Python.\")\n",
    "\n",
    "# Block of code 4\n",
    "<statement(s)>\n",
    "print(\"Hi there! Welcome to Python.\")\n",
    "```\n",
    "\n",
    "where ```<statement(s)>``` are blocks of code that perform operations that are potentially *different* from each other.\n",
    "\n",
    "For whatever reason, at the end of each block of code you want the program to print a string that greets the user with a welcome message. This has been implemented above by repeating the print command over and over. Notice that since the ```<statement(s)>``` blocks are potentially different a **loop** could not be used in this program."
   ]
  },
  {
   "cell_type": "markdown",
   "metadata": {},
   "source": [
    "## Do not Repeat Yourself (DRY): the case for functions\n",
    "\n",
    "Imagine now that you want to change your greeting message to ```\"Hello there. Welcome to Python!\"```. That requires\n",
    "\n",
    "- Searching within your code for all occurences of the ```print()``` statement\n",
    "- Manually editing all strings within the ```print()``` statement\n",
    "\n",
    "This lengthy and error-prone approach can be avoided by using a **function** that performs the greeting task instead.\n",
    "\n",
    "The greeting function can be defined as follows:"
   ]
  },
  {
   "cell_type": "code",
   "execution_count": null,
   "metadata": {},
   "outputs": [],
   "source": [
    "# Define a function that greets the user with a welcome message\n",
    "def greeting():\n",
    "    print(\"Hi there! Welcome to Python.\")"
   ]
  },
  {
   "cell_type": "markdown",
   "metadata": {},
   "source": [
    "The function definition above allows us to give a **name** to all statements contained *within* the **function body**, i.e. the indented block of code.\n",
    "\n",
    "Whenever we want to the greeting task to be performed, we can **call** the greeting function by typing its name in our code."
   ]
  },
  {
   "cell_type": "code",
   "execution_count": null,
   "metadata": {},
   "outputs": [],
   "source": [
    "# Block of code 1\n",
    "# <statement(s)>\n",
    "greeting()\n",
    "\n",
    "# Block of code 2\n",
    "# <statement(s)>\n",
    "greeting()\n",
    "\n",
    "# Block of code 3\n",
    "# <statement(s)>\n",
    "greeting()\n",
    "\n",
    "# Block of code 4\n",
    "# <statement(s)>\n",
    "greeting()"
   ]
  },
  {
   "cell_type": "markdown",
   "metadata": {},
   "source": [
    "The greeting message can now be changed very easily by simply changing the body of our function."
   ]
  },
  {
   "cell_type": "code",
   "execution_count": null,
   "metadata": {},
   "outputs": [],
   "source": [
    "# Update the greeting message by editing the body of the function\n",
    "def greeting():\n",
    "    print(\"Hello there. Welcome to Python!\")"
   ]
  },
  {
   "cell_type": "markdown",
   "metadata": {},
   "source": [
    "The above program can now be run **without any modification to any of its lines of codes**. The greeting message, however, will be updated."
   ]
  },
  {
   "cell_type": "code",
   "execution_count": null,
   "metadata": {},
   "outputs": [],
   "source": [
    "# Block of code 1\n",
    "# <statement(s)>\n",
    "greeting()\n",
    "\n",
    "# Block of code 2\n",
    "# <statement(s)>\n",
    "greeting()\n",
    "\n",
    "# Block of code 3\n",
    "# <statement(s)>\n",
    "greeting()\n",
    "\n",
    "# Block of code 4\n",
    "# <statement(s)>\n",
    "greeting()"
   ]
  },
  {
   "cell_type": "markdown",
   "metadata": {},
   "source": [
    "## Passing data to functions: parameters and arguments\n",
    "\n",
    "Functions can do much more than simply giving a name to a set of instructions. For instance, functions can use information or data generated in other parts of the code or provided by the user to perform a set of instructions that **depend on that data**.\n",
    "\n",
    "Let's say that we want to personalise the greeting message above to display the name of the user instead of a generic greeting message. We can do that by **passing** that the name into the function when this is called. Internally, the function will use the name to print a personalised message."
   ]
  },
  {
   "cell_type": "code",
   "execution_count": null,
   "metadata": {},
   "outputs": [],
   "source": [
    "# Update the greeting function to take a name as an argument\n",
    "def greeting(name):\n",
    "    print(f\"Hi {name}! Welcome to Python.\")"
   ]
  },
  {
   "cell_type": "markdown",
   "metadata": {},
   "source": [
    "We can now personalise the greetings in the original program by passing different strings contaning the user names as **arguments** in the function call."
   ]
  },
  {
   "cell_type": "code",
   "execution_count": null,
   "metadata": {},
   "outputs": [],
   "source": [
    "# Block of code 1\n",
    "# <statement(s)>\n",
    "greeting(\"Luca\")\n",
    "\n",
    "# Block of code 2\n",
    "# <statement(s)>\n",
    "greeting(\"Roger\")\n",
    "\n",
    "# Block of code 3\n",
    "# <statement(s)>\n",
    "greeting(\"Rafael\")\n",
    "\n",
    "# Block of code 4\n",
    "# <statement(s)>\n",
    "greeting(\"Novak\")"
   ]
  },
  {
   "cell_type": "markdown",
   "metadata": {},
   "source": [
    "Notice the difference between the **function definition** \n",
    "\n",
    "```python\n",
    "def greeting(name):\n",
    "    print(f\"Hi {name}! Welcome to Python.\")\n",
    "```\n",
    "\n",
    "and the **function call**\n",
    "\n",
    "```python\n",
    "greeting(\"Luca\")\n",
    "```\n",
    "\n",
    "In a function definition context, the ```name``` keyword is known as a **parameter**. This keyword is chosen once when you define the function and fixed throughout.\n",
    "\n",
    "In a function call context, the string typed within the parenthesis ```()``` is known as the **argument**. Arguments can change at each call of the function and carry the information needed by the function.\n",
    "\n",
    "When the function is called, the value of the argument ```\"Luca\"``` is **bound** to the keyword ```name```. It is **as if** a variable ```name``` with value ```\"Luca\"``` was defined within the body of the function.\n",
    "\n",
    "When the statements within the function body are executed, Python will substitute the string ```\"Luca\"``` wherever the keyword ```name``` is used."
   ]
  },
  {
   "cell_type": "markdown",
   "metadata": {},
   "source": [
    "### Multiple parameters and arguments\n",
    "\n",
    "Functions can take many arguments as inputs.\n",
    "\n",
    "Let's say that we want to enrich our message by displaying the user surname and the version of Python they use. This is achieved by adding two parameters to our ```greeting()``` function definition: ```surname``` and ```version```."
   ]
  },
  {
   "cell_type": "code",
   "execution_count": null,
   "metadata": {},
   "outputs": [],
   "source": [
    "# Update the greeting function to take multiple arguments as inputs\n",
    "def greeting(name, surname, version):\n",
    "    print(f\"Hi {name} {surname}! Welcome to Python {version}.\")"
   ]
  },
  {
   "cell_type": "markdown",
   "metadata": {},
   "source": [
    "Once a function with multiple parameters is defined, we need a systematic way to pass the correct information to the relevant parameter when we call the function.\n",
    "\n",
    "There are two ways of passing arguments to a function:\n",
    "\n",
    "- **Positional arguments**\n",
    "- **Keyword arguments**"
   ]
  },
  {
   "cell_type": "markdown",
   "metadata": {},
   "source": [
    "#### Positional arguments\n",
    "\n",
    "Arguments are passed into the function call as an **comma-separated list** of values, variable names, or expressions.\n",
    "\n",
    "Arguments **must be listed in the same order as that of parameters** in the function definition.\n"
   ]
  },
  {
   "cell_type": "code",
   "execution_count": null,
   "metadata": {},
   "outputs": [],
   "source": [
    "# Correct call via direct passing of values\n",
    "greeting(\"Luca\", \"Rondina\", 3.9)\n",
    "\n",
    "# Correct call via passing of variable names\n",
    "roger_version = 3.8\n",
    "greeting(\"Roger\", \"Federer\", roger_version)\n",
    "\n",
    "# Correct call via passing of variable names and expressions\n",
    "rafa_surname = \"Nadal\"\n",
    "greeting(\"Rafael\", rafa_surname, roger_version - 1)\n",
    "\n",
    "# WRONG CALL due to INCORRECT ORDER\n",
    "greeting(2, \"Novak\", \"Djokovic\")"
   ]
  },
  {
   "cell_type": "markdown",
   "metadata": {},
   "source": [
    "#### Keyword arguments\n",
    "\n",
    "Arguments are passed into the function call as a comma-separated list of ```keyword=value``` pairs.\n",
    "\n",
    "The order of the arguments is not relevant but the ```keyword```s **must match the parameter name** in the function definition.\n",
    "\n",
    "Notice the arguments order and ```keywords``` in the example below:"
   ]
  },
  {
   "cell_type": "code",
   "execution_count": null,
   "metadata": {},
   "outputs": [],
   "source": [
    "# Correct call via direct passing of values\n",
    "greeting(version=3.9, name=\"Luca\", surname=\"Rondina\")\n",
    "\n",
    "# Correct call via passing of variable names\n",
    "roger_version = 3.8\n",
    "greeting(surname=\"Federer\", name=\"Roger\", version=roger_version)\n",
    "\n",
    "# Correct call via passing of variable names and expressions\n",
    "rafa_surname = \"Nadal\"\n",
    "greeting(name=\"Rafael\", version=roger_version - 1, surname=rafa_surname)\n",
    "\n",
    "# WRONG CALL due to INCORRECT KEYWORD\n",
    "greeting(name=\"Novak\", surname=\"Djokovic\", python_version=2)"
   ]
  },
  {
   "cell_type": "markdown",
   "metadata": {},
   "source": [
    "Positional and keyword arguments can be combined in a function call. When doing so all positional arguments must be specified **before** keyword arguments."
   ]
  },
  {
   "cell_type": "code",
   "execution_count": null,
   "metadata": {},
   "outputs": [],
   "source": [
    "# Correct order of positional and keyword arguments\n",
    "greeting(\"Luca\", \"Rondina\", version=3.9)\n",
    "\n",
    "# WRONG order of positional and keyword arguments\n",
    "greeting(\"Novak\", surname=\"Djokovic\", 2)"
   ]
  },
  {
   "cell_type": "markdown",
   "metadata": {},
   "source": [
    "### Default values\n",
    "\n",
    "There are situations in which you may want to assign a **default value** to one or more of the parameters. When a parameter has been assigned a default value in the function definition, the associated argument becomes **optional**.\n",
    "\n",
    "For instance, in our example we might want to specify a default Python version in case the user does not know the version they use."
   ]
  },
  {
   "cell_type": "code",
   "execution_count": null,
   "metadata": {},
   "outputs": [],
   "source": [
    "# Update the greeting function to specify a default Python version\n",
    "def greeting(name, surname, version=3):\n",
    "    print(f\"Hi {name} {surname}! Welcome to Python {version}.\")"
   ]
  },
  {
   "cell_type": "markdown",
   "metadata": {},
   "source": [
    "*Note: When using default values, any parameter with a default value needs to be listed after all the parameters without default values. This way Python understands which arguments are **required** and which are **optional**.*"
   ]
  },
  {
   "cell_type": "code",
   "execution_count": null,
   "metadata": {
    "scrolled": true
   },
   "outputs": [],
   "source": [
    "# When an optional argument is NOT specified, the function falls back to the default value of the parameter\n",
    "greeting(\"Luca\", \"Rondina\")\n",
    "\n",
    "# When an optional argument IS specified, the function overrides the default value of the parameter\n",
    "greeting(\"Luca\", \"Rondina\", 3.9)"
   ]
  },
  {
   "cell_type": "markdown",
   "metadata": {},
   "source": [
    "## Getting back data from functions: the ```return``` statement\n",
    "\n",
    "As mentioned in the beginning, the main motivation behind using functions is that they allow us to simplify our program by sub-dividing it into smaller dedicated tasks.\n",
    "\n",
    "In the examples above, we have seen how we can simplify a printing command by collecting all relevant information and passing it as input into a function. \n",
    "\n",
    "In many situations, however, we are not interested in merely *displaying* the outcome of a sequence of operations, but rather we are interested in the outcome *itself*. This is especially true if we want to use that outcome later on in our code to perform other tasks.\n",
    "\n",
    "As an example, let's say that we want to compute the average BMI index of a group of people given data on their height in feet and inches, and weight in pounds.\n",
    "\n",
    "We will have to write a program that for each person\n",
    "\n",
    "1. Takes the height as input in feet and inches, and converts it to metres\n",
    "2. Takes the weight as input in pounds and converts it to kilograms\n",
    "3. Use the relevant formula to compute the BMI index\n",
    "\n",
    "and finally collects all BMI indexes to compute the average BMI index.\n",
    "\n",
    "The key insight of **modularity** is that from the perspective of the main program, i.e. computing the average BMI, we should not be concerned with any of the intermediate steps. All we need is the BMI index of each person given their height and weight.\n",
    "\n",
    "Steps 1 to 3 should then be considered as a \"black box\" that takes inputs (height, weight) and **returns** an output, the BMI index.\n",
    "\n",
    "In Python, functions can be seen as \"black boxes\" that take inputs, i.e. the arguments, and give back the required data as output. Data is sent back to the main program using a ```return``` statement."
   ]
  },
  {
   "cell_type": "code",
   "execution_count": null,
   "metadata": {},
   "outputs": [],
   "source": [
    "# Define a function that computes the BMI index\n",
    "def bmi(height, weight):\n",
    "    # 1. Convert the height in feet and inches to metres\n",
    "    # The parameter height is a list that stores [feet, inches]\n",
    "    height_m = 0.3048 * (height[0] + height[1]/12)\n",
    "    \n",
    "    # 2. Convert the weight in pounds to kg\n",
    "    weight_kg = 0.453592 * weight\n",
    "    \n",
    "    # 3. Compute the BMI index using the formula\n",
    "    bmi_index = weight_kg / height_m ** 2\n",
    "    \n",
    "    # Return the BMI index with a return statement\n",
    "    return bmi_index"
   ]
  },
  {
   "cell_type": "markdown",
   "metadata": {},
   "source": [
    "We can now write our main program as follows"
   ]
  },
  {
   "cell_type": "code",
   "execution_count": null,
   "metadata": {},
   "outputs": [],
   "source": [
    "# Compute the BMI index for each person using the bmi() function\n",
    "Luca_bmi   = bmi(height=[5, 9], weight=154.324)\n",
    "Marco_bmi  = bmi([5, 6], 143.3)\n",
    "Andrea_bmi = bmi([6, 0], 202.825)\n",
    "\n",
    "# Compute and display the average bmi\n",
    "average_bmi = (Luca_bmi + Marco_bmi + Andrea_bmi) / 3\n",
    "print(average_bmi)"
   ]
  },
  {
   "cell_type": "markdown",
   "metadata": {},
   "source": [
    "### Returning multiple values\n",
    "\n",
    "Let's say we are interested in returning the converted height and weight to the main program in addition to the BMI index.\n",
    "\n",
    "In Python, functions can return multiples values by specifying a comma-separated list of variables or expressions in the ```return``` statement."
   ]
  },
  {
   "cell_type": "code",
   "execution_count": null,
   "metadata": {},
   "outputs": [],
   "source": [
    "# Modify the bmi() function to return multiple values\n",
    "def bmi(height, weight):\n",
    "    height_m = 0.3048 * (height[0] + height[1]/12)\n",
    "    weight_kg = 0.453592 * weight\n",
    "    bmi_index = weight_kg / height_m ** 2\n",
    "    \n",
    "    # Return a comma-separated list of variables or expressions\n",
    "    return bmi_index, height_m, weight_kg"
   ]
  },
  {
   "cell_type": "markdown",
   "metadata": {},
   "source": [
    "If we look closely, any comma-separated list of values in Python is always a **tuple**.\n",
    "\n",
    "Indeed, whenever the ```bmi()``` function is called it is actually returning a **tuple** which can be then unpacked to assign the return values to single variables"
   ]
  },
  {
   "cell_type": "code",
   "execution_count": null,
   "metadata": {},
   "outputs": [],
   "source": [
    "Luca_bmi, Luca_height_m, Luca_weight_kg = bmi(height=[5, 9], weight=154.324)\n",
    "\n",
    "print(Luca_bmi)\n",
    "print(Luca_height_m)\n",
    "print(Luca_weight_kg)"
   ]
  },
  {
   "cell_type": "markdown",
   "metadata": {},
   "source": [
    "# Modules\n",
    "\n",
    "We have seen how to break down a long and complex code into smaller self-contained tasks with functions. Nevertheless, we defined all of our functions into the main program itself. If we have hundreds of function definitions, the main program can become lengthy and hard to read.\n",
    "\n",
    "A further step towards modularity is to \"hide\" all function definitions into **modules**. A **module** is a Python file with extension ```.py``` that allow us to store all of our function definitions in one place, and later reuse them in the main program."
   ]
  },
  {
   "cell_type": "markdown",
   "metadata": {},
   "source": [
    "## Importing modules\n",
    "\n",
    "In order to use the functions defined in a module in our main program we first need to import the module.\n",
    "\n",
    "Let's say that we have a module named ```body_mass_index.py``` containing three functions:\n",
    "\n",
    "- A function ```bmi()``` that computes the body mass index\n",
    "- A function ```average_bmi()``` that computes the average bmi\n",
    "- A function ```show_bmi()``` that computes and displays the bmi index\n",
    "\n",
    "This module can be imported into the main program with the following statement"
   ]
  },
  {
   "cell_type": "code",
   "execution_count": null,
   "metadata": {},
   "outputs": [],
   "source": [
    "import body_mass_index"
   ]
  },
  {
   "cell_type": "markdown",
   "metadata": {},
   "source": [
    "When invoked, the ```import``` statement creates a **namespace** that allows us to call the functions defined in ```body_mass_index.py```.\n",
    "\n",
    "We can call the imported functions by typing ```module_name.function_name()```. For instance"
   ]
  },
  {
   "cell_type": "code",
   "execution_count": null,
   "metadata": {},
   "outputs": [],
   "source": [
    "# Call the bmi() function from the body_mass_index module\n",
    "Luca_bmi   = body_mass_index.bmi(height=[5, 9], weight=154.324)\n",
    "Marco_bmi  = body_mass_index.bmi([5, 6], 143.3)\n",
    "Andrea_bmi = body_mass_index.bmi([6, 0], 202.825)\n",
    "\n",
    "# Call the average_bmi() function from the body_mass_index module\n",
    "mean_bmi = body_mass_index.average_bmi(Luca_bmi, Marco_bmi, Andrea_bmi)\n",
    "print(f\"The average BMI index is {mean_bmi}\")\n",
    "\n",
    "# Call the show_bmi() function from the body_mass_index module\n",
    "body_mass_index.show_bmi(height=[5, 9], weight=154.324)"
   ]
  }
 ],
 "metadata": {
  "kernelspec": {
   "display_name": "Python 3",
   "language": "python",
   "name": "python3"
  },
  "language_info": {
   "codemirror_mode": {
    "name": "ipython",
    "version": 3
   },
   "file_extension": ".py",
   "mimetype": "text/x-python",
   "name": "python",
   "nbconvert_exporter": "python",
   "pygments_lexer": "ipython3",
   "version": "3.8.3"
  },
  "toc": {
   "base_numbering": 1,
   "nav_menu": {},
   "number_sections": false,
   "sideBar": true,
   "skip_h1_title": false,
   "title_cell": "Table of Contents",
   "title_sidebar": "Contents",
   "toc_cell": false,
   "toc_position": {},
   "toc_section_display": true,
   "toc_window_display": false
  },
  "varInspector": {
   "cols": {
    "lenName": 16,
    "lenType": 16,
    "lenVar": 40
   },
   "kernels_config": {
    "python": {
     "delete_cmd_postfix": "",
     "delete_cmd_prefix": "del ",
     "library": "var_list.py",
     "varRefreshCmd": "print(var_dic_list())"
    },
    "r": {
     "delete_cmd_postfix": ") ",
     "delete_cmd_prefix": "rm(",
     "library": "var_list.r",
     "varRefreshCmd": "cat(var_dic_list()) "
    }
   },
   "types_to_exclude": [
    "module",
    "function",
    "builtin_function_or_method",
    "instance",
    "_Feature"
   ],
   "window_display": false
  }
 },
 "nbformat": 4,
 "nbformat_minor": 4
}
