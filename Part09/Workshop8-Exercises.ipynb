{
 "cells": [
  {
   "cell_type": "markdown",
   "metadata": {},
   "source": [
    "## Exercise 1\n",
    "\n",
    "Write a program that checks whether the following conditional expressions are ```True``` or ```False```:\n",
    "\n",
    "- The number 1 is not equal to the number 1\n",
    "- The number 3 is equal to the number 4\n",
    "- The number 2 is greater than or equal to 2\n",
    "- The number 5 is equal to the number 5.0\n",
    "- The data type of the number 5 is equal to the data type of the number 5.0\n",
    "- The letter ```C``` is not in ```coding```\n",
    "- The letter ```E``` is in either ```Economics``` or ```economics```\n",
    "- The key ```model``` is in the dictionary ```my_car = {\"model\": \"Fiesta\", \"year\":2016}```\n",
    "- The value ```2016``` is in the dictionary ```my_car = {\"model\": \"Fiesta\", \"year\":2016}```\n",
    "\n",
    "Evaluate each expression in a separate cell. "
   ]
  },
  {
   "cell_type": "code",
   "execution_count": null,
   "metadata": {},
   "outputs": [],
   "source": []
  },
  {
   "cell_type": "markdown",
   "metadata": {},
   "source": [
    "## Exercise 2\n",
    "\n",
    "Given a variable ```number```, checks whether the value of the number falls in the interval $[3, 9]$."
   ]
  },
  {
   "cell_type": "code",
   "execution_count": null,
   "metadata": {},
   "outputs": [],
   "source": []
  },
  {
   "cell_type": "markdown",
   "metadata": {},
   "source": [
    "## Exercise 3\n",
    "\n",
    "Given a variable ```number```, checks whether the value of the number falls in the interval $[3, 9]$ **and** $[4, 12]$."
   ]
  },
  {
   "cell_type": "code",
   "execution_count": null,
   "metadata": {},
   "outputs": [],
   "source": []
  },
  {
   "cell_type": "markdown",
   "metadata": {},
   "source": [
    "## Exercise 4\n",
    "\n",
    "Given a variable ```number```, checks whether the value of the number falls in the interval $[3, 9]$ **or** $[4, 12]$"
   ]
  },
  {
   "cell_type": "code",
   "execution_count": null,
   "metadata": {},
   "outputs": [],
   "source": []
  },
  {
   "cell_type": "markdown",
   "metadata": {},
   "source": [
    "## Exercise 5\n",
    "\n",
    "Given a variable ```number```, checks whether the value of the number falls in the interval $[3, 9]$ or $[4, 12]$, but **not** in both intervals. "
   ]
  },
  {
   "cell_type": "code",
   "execution_count": null,
   "metadata": {},
   "outputs": [],
   "source": []
  },
  {
   "cell_type": "markdown",
   "metadata": {},
   "source": [
    "## Exercise 6\n",
    "\n",
    "Write a program that asks the user to input an integer number and subsequently prints out\n",
    "\n",
    "```The number is strictly greater than five```\n",
    "\n",
    "only if the entered integer is strictly greater than 5."
   ]
  },
  {
   "cell_type": "code",
   "execution_count": null,
   "metadata": {},
   "outputs": [],
   "source": [
    "# Run this cell to understand how the input() function works\n",
    "input(\"Enter an integer: \")\n",
    "type(input(\"Enter another integer: \"))"
   ]
  },
  {
   "cell_type": "code",
   "execution_count": null,
   "metadata": {},
   "outputs": [],
   "source": [
    "# Use this cell to write your program\n"
   ]
  },
  {
   "cell_type": "markdown",
   "metadata": {},
   "source": [
    "## Exercise 7\n",
    "\n",
    "Write a program that asks the user to input an integer number and subsequently prints out\n",
    "\n",
    "```The number is strictly greater than five```\n",
    "\n",
    "if the entered integer is strictly greater than 5. Otherwise, it prints\n",
    "\n",
    "```The number is less than or equal to five```"
   ]
  },
  {
   "cell_type": "code",
   "execution_count": null,
   "metadata": {},
   "outputs": [],
   "source": []
  },
  {
   "cell_type": "markdown",
   "metadata": {},
   "source": [
    "## Exercise 8\n",
    "\n",
    "Write a program that asks the user to input an integer number and subsequently prints out\n",
    "\n",
    "```The number is strictly greater than five```\n",
    "\n",
    "if the entered integer is strictly greater than 5. Otherwise, it checks whether the number is greater than or equal to 2 and, if true, it prints \n",
    "\n",
    "```The number is between two (included) and five (excluded)```\n",
    "\n",
    "or\n",
    "\n",
    "```The number is less than two```\n",
    "\n",
    "otherwise."
   ]
  },
  {
   "cell_type": "code",
   "execution_count": null,
   "metadata": {},
   "outputs": [],
   "source": []
  },
  {
   "cell_type": "markdown",
   "metadata": {},
   "source": [
    "## Exercise 9\n",
    "\n",
    "Repeat the exercise above with 7 instead of 2. What do you notice?"
   ]
  },
  {
   "cell_type": "code",
   "execution_count": null,
   "metadata": {},
   "outputs": [],
   "source": []
  },
  {
   "cell_type": "markdown",
   "metadata": {},
   "source": [
    "## Exercise 10\n",
    "\n",
    "Consider a slight modification of the real life example seen in class:\n",
    "\n",
    "``` If I win this bet and I have enough money, I'll celebrate; otherwise I'll stay at home.```\n",
    "\n",
    "Modify the program in Lecture 7 to reflect the change above."
   ]
  },
  {
   "cell_type": "code",
   "execution_count": null,
   "metadata": {},
   "outputs": [],
   "source": []
  },
  {
   "cell_type": "markdown",
   "metadata": {},
   "source": [
    "## Exercise 11\n",
    "\n",
    "Given a variable ```password``` containing a string of any alphanumeric sequence of characters representing a password, write a program that asks the user to input the correct password.\n",
    "\n",
    "The program should respect the following rules:\n",
    "\n",
    "- If the entered password is incorrect, the program keeps asking the password to the user.\n",
    "- If the entered the password is correct, the program asks to repeat the correct password a second time.\n",
    "    - If the second entered password is correct, the program is completed.\n",
    "    - If the second entered password is incorrect, the program restarts.\n"
   ]
  },
  {
   "cell_type": "code",
   "execution_count": null,
   "metadata": {},
   "outputs": [],
   "source": []
  },
  {
   "cell_type": "markdown",
   "metadata": {},
   "source": [
    "## Exercise 12\n",
    "\n",
    "Define a function named ```hello()``` that prints out ```Hello World!``` whenever it is called"
   ]
  },
  {
   "cell_type": "code",
   "execution_count": null,
   "metadata": {},
   "outputs": [],
   "source": [
    "# Define your function here\n"
   ]
  },
  {
   "cell_type": "code",
   "execution_count": null,
   "metadata": {},
   "outputs": [],
   "source": [
    "# Call your function here\n"
   ]
  },
  {
   "cell_type": "markdown",
   "metadata": {},
   "source": [
    "## Exercise 13\n",
    "\n",
    "Modify the ```hello()``` function so that it prints out ```Hello {name}!``` where the variable ```name``` is passed into the function as an argument.\n",
    "\n",
    "If the function is called without any arguments, it should print out ```Hello World!```"
   ]
  },
  {
   "cell_type": "code",
   "execution_count": null,
   "metadata": {},
   "outputs": [],
   "source": [
    "# Define your function here\n"
   ]
  },
  {
   "cell_type": "code",
   "execution_count": null,
   "metadata": {},
   "outputs": [],
   "source": [
    "# Call your function here\n"
   ]
  },
  {
   "cell_type": "markdown",
   "metadata": {},
   "source": [
    "## Exercise 14\n",
    "\n",
    "Modify the ```hello()``` function so that it **returns** the string ```Hello {name}!``` where the variable ```name``` is passed into the function as an argument.\n",
    "\n",
    "If the function is called without any arguments, it should **return** ```Hello World!```"
   ]
  },
  {
   "cell_type": "code",
   "execution_count": null,
   "metadata": {},
   "outputs": [],
   "source": [
    "# Define your function here\n"
   ]
  },
  {
   "cell_type": "code",
   "execution_count": null,
   "metadata": {},
   "outputs": [],
   "source": [
    "# Call your function here\n"
   ]
  },
  {
   "cell_type": "markdown",
   "metadata": {},
   "source": [
    "## Exercise 15\n",
    "\n",
    "Write a function called ```favorite_movie()``` that accepts two parameters, ```title``` and ```director```.\n",
    "\n",
    "The function should print a message, such as\n",
    "\n",
    "```My favourite movie is Kill Bill: Vol. 1 by Quentin Tarantino```\n",
    "\n",
    "where the movie title and director are determined by the arguments in the function call."
   ]
  },
  {
   "cell_type": "code",
   "execution_count": null,
   "metadata": {},
   "outputs": [],
   "source": [
    "# Define your function here\n"
   ]
  },
  {
   "cell_type": "code",
   "execution_count": null,
   "metadata": {},
   "outputs": [],
   "source": [
    "# Call your function here\n"
   ]
  },
  {
   "cell_type": "markdown",
   "metadata": {},
   "source": [
    "## Exercise 16\n",
    "\n",
    "Write a function named ```doubleif(number, lower, upper)``` which returns a value equal to double ```number``` if ```number``` is within the interval delimited by ```lower``` and ```upper```.\n",
    "\n",
    "If ```number``` is above ```upper```, the function should return the string ```{number} is above {upper}```. Otherwise, it returns nothing."
   ]
  },
  {
   "cell_type": "code",
   "execution_count": null,
   "metadata": {},
   "outputs": [],
   "source": [
    "# Define your function here\n"
   ]
  },
  {
   "cell_type": "code",
   "execution_count": null,
   "metadata": {},
   "outputs": [],
   "source": [
    "# Call your function here\n"
   ]
  },
  {
   "cell_type": "markdown",
   "metadata": {},
   "source": [
    "## Exercise 17\n",
    "Consider the ```bmi()``` function seen in class\n",
    "\n",
    "```python\n",
    "def bmi(height, weight):\n",
    "    height_m = 0.3048 * (height[0] + height[1]/12)\n",
    "    weight_kg = 0.453592 * weight\n",
    "    bmi_index = weight_kg / height_m ** 2\n",
    "    \n",
    "    return bmi_index\n",
    "```\n",
    "\n",
    "Modify the function to accept an Boolean argument that selects whether the function should be printing out the string ```\"The BMI index is {bmi_index}.\"```"
   ]
  },
  {
   "cell_type": "code",
   "execution_count": null,
   "metadata": {},
   "outputs": [],
   "source": []
  },
  {
   "cell_type": "markdown",
   "metadata": {},
   "source": [
    "## Exercise 18\n",
    "\n",
    "Consider the password exercise above.\n",
    "\n",
    "Write a function that returns a Boolean value of ```True``` in case the user enters the correct password within a pre-specified number of attempts. Otherwise, the function should return ```False```.\n",
    "\n",
    "The pre-specified number of attempts should be given as an argument into the function. Name the correspondent parameter ```max_attempts```."
   ]
  },
  {
   "cell_type": "code",
   "execution_count": null,
   "metadata": {},
   "outputs": [],
   "source": []
  },
  {
   "cell_type": "markdown",
   "metadata": {},
   "source": [
    "## Exercise 19\n",
    "\n",
    "Create a new module named ```simple_maths.py``` with three functions:\n",
    "\n",
    "- A function ```sum(x, y)``` that returns the sum of two numbers\n",
    "- A function ```minus(x, y)``` that returns the difference between ```x``` and ```y```.\n",
    "- A function ```prod(x, y)``` that returns the product of two numbers\n",
    "\n",
    "Import the module and test your functions in the cell below"
   ]
  },
  {
   "cell_type": "code",
   "execution_count": null,
   "metadata": {},
   "outputs": [],
   "source": [
    "# Import the module here\n"
   ]
  },
  {
   "cell_type": "code",
   "execution_count": null,
   "metadata": {},
   "outputs": [],
   "source": [
    "# Tests your functions here\n"
   ]
  }
 ],
 "metadata": {
  "kernelspec": {
   "display_name": "Python 3",
   "language": "python",
   "name": "python3"
  },
  "language_info": {
   "codemirror_mode": {
    "name": "ipython",
    "version": 3
   },
   "file_extension": ".py",
   "mimetype": "text/x-python",
   "name": "python",
   "nbconvert_exporter": "python",
   "pygments_lexer": "ipython3",
   "version": "3.8.3"
  },
  "toc": {
   "base_numbering": 1,
   "nav_menu": {},
   "number_sections": false,
   "sideBar": true,
   "skip_h1_title": false,
   "title_cell": "Table of Contents",
   "title_sidebar": "Contents",
   "toc_cell": false,
   "toc_position": {},
   "toc_section_display": true,
   "toc_window_display": false
  },
  "varInspector": {
   "cols": {
    "lenName": 16,
    "lenType": 16,
    "lenVar": 40
   },
   "kernels_config": {
    "python": {
     "delete_cmd_postfix": "",
     "delete_cmd_prefix": "del ",
     "library": "var_list.py",
     "varRefreshCmd": "print(var_dic_list())"
    },
    "r": {
     "delete_cmd_postfix": ") ",
     "delete_cmd_prefix": "rm(",
     "library": "var_list.r",
     "varRefreshCmd": "cat(var_dic_list()) "
    }
   },
   "types_to_exclude": [
    "module",
    "function",
    "builtin_function_or_method",
    "instance",
    "_Feature"
   ],
   "window_display": false
  }
 },
 "nbformat": 4,
 "nbformat_minor": 4
}
