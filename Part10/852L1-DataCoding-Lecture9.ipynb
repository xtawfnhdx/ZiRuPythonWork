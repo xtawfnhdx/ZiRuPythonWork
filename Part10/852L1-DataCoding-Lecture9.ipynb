{
 "cells": [
  {
   "cell_type": "markdown",
   "metadata": {},
   "source": [
    "# Lecture 9: Data Science with Python"
   ]
  },
  {
   "cell_type": "markdown",
   "metadata": {},
   "source": [
    "In our previous lectures, we have learnt the basics of programming with Python: data types, control flow (loops and conditional statements), and functions.\n",
    "\n",
    "In this lecture, we want to put our Python knowledge to practical use and strengthen one of the most fundamental skills in Economics: **Data Analysis**.\n"
   ]
  },
  {
   "cell_type": "markdown",
   "metadata": {},
   "source": [
    "# Welcome Pandas, the library for data analysis\n",
    "\n",
    "In the data science community, **Pandas** has emerged as the reference library for data analysis within the Python ecosystem.\n",
    "\n",
    "According to the [official website](https://pandas.pydata.org/):\n",
    "\n",
    "> **Pandas** is a fast, powerful, flexible and easy to use open source data analysis and manipulation tool, built on top of the Python programming language.\n",
    "\n",
    "Pandas allows us to import a dataset from a standard Comma-Separated Values (.csv) file or Excel file, and convert it into a Python object called **data frame** packed with attributes and methods specifically designed for data analysis.\n",
    "\n",
    "Pandas is the perfect tool for data reading, data manipulation, aggregation, and visualisation. Among many other features, Pandas allows economists to \n",
    "\n",
    "- Access and read data via indexing\n",
    "- Find data that meets certain conditions via filtering\n",
    "- Update, add, or delete data\n",
    "- Compute main descriptive statistics\n",
    "- Aggregate and group data to find patterns\n"
   ]
  },
  {
   "cell_type": "markdown",
   "metadata": {},
   "source": [
    "## Importing and reading data\n",
    "\n",
    "The very first thing that we want to do is to import the library itself. If you are using Python via the Anaconda distribution, Pandas should already be installed and ready to use.\n"
   ]
  },
  {
   "cell_type": "code",
   "execution_count": 2,
   "metadata": {},
   "outputs": [],
   "source": [
    "# Import pandas library using the conventional alias\n",
    "import pandas as pd"
   ]
  },
  {
   "cell_type": "markdown",
   "metadata": {},
   "source": [
    "Great, Pandas is now loaded!\n",
    "\n",
    "Next we want to load an example dataset to understand how Pandas handles it. As we will see, Pandas creates a **data frame** object from raw data.\n",
    "\n",
    "Pandas can import datasets from many formats, including\n",
    "\n",
    "- Comma-separated values (csv) files\n",
    "- Excel files (xls, xlsx)\n",
    "- Stata data files (dta)\n",
    "\n",
    "and many more.\n",
    "\n",
    "Each format has its own Pandas method, i.e. function, to be used in order to import the dataset and convert it into a data frame. A complete list of importing methods can be found [here](https://pandas.pydata.org/pandas-docs/stable/reference/io.html).\n",
    "\n",
    "In this lecture, we will work a **comma-separated values** file containing data on expenditure and other variables collected from a survey of British households.\n",
    "\n",
    "To import the CSV file, we need to use the ```pd.read_csv()``` method which syntax is\n",
    "\n",
    "```python\n",
    "df_name = pd.read_csv(\"path/file_name.csv\") \n",
    "```\n",
    "\n",
    "where ```path``` indicates the location and ```file_name``` the name of the CSV file containing your data."
   ]
  },
  {
   "cell_type": "code",
   "execution_count": 3,
   "metadata": {},
   "outputs": [],
   "source": [
    "# Import household expenditure dataset from CSV files and create a data frame object\n",
    "df_exp = pd.read_csv(\"expenditure_data.csv\")"
   ]
  },
  {
   "cell_type": "markdown",
   "metadata": {},
   "source": [
    "Pandas has now read the CSV file and created a new **data frame** object named ```df_exp```. To confirm this, let's quickly check the data type of the newly created variable:"
   ]
  },
  {
   "cell_type": "code",
   "execution_count": 4,
   "metadata": {},
   "outputs": [
    {
     "data": {
      "text/plain": [
       "pandas.core.frame.DataFrame"
      ]
     },
     "execution_count": 4,
     "metadata": {},
     "output_type": "execute_result"
    }
   ],
   "source": [
    "# Check data type of imported dataset\n",
    "type(df_exp)"
   ]
  },
  {
   "cell_type": "markdown",
   "metadata": {},
   "source": [
    "Simply put, a **data frame** can be seen as a table with rows and columns, where\n",
    "\n",
    "- Each **column** represents a different **variable**\n",
    "- Each **row** represents a different **observation**\n",
    "\n",
    "To see this first-hand, let's print out our expenditure survey data frame."
   ]
  },
  {
   "cell_type": "code",
   "execution_count": 5,
   "metadata": {},
   "outputs": [
    {
     "data": {
      "text/html": [
       "<div>\n",
       "<style scoped>\n",
       "    .dataframe tbody tr th:only-of-type {\n",
       "        vertical-align: middle;\n",
       "    }\n",
       "\n",
       "    .dataframe tbody tr th {\n",
       "        vertical-align: top;\n",
       "    }\n",
       "\n",
       "    .dataframe thead th {\n",
       "        text-align: right;\n",
       "    }\n",
       "</style>\n",
       "<table border=\"1\" class=\"dataframe\">\n",
       "  <thead>\n",
       "    <tr style=\"text-align: right;\">\n",
       "      <th></th>\n",
       "      <th>expenditure</th>\n",
       "      <th>income</th>\n",
       "      <th>maininc</th>\n",
       "      <th>region</th>\n",
       "      <th>nadults</th>\n",
       "      <th>nkids</th>\n",
       "      <th>SexHRP</th>\n",
       "      <th>housing</th>\n",
       "      <th>internet</th>\n",
       "    </tr>\n",
       "  </thead>\n",
       "  <tbody>\n",
       "    <tr>\n",
       "      <th>0</th>\n",
       "      <td>380.6958</td>\n",
       "      <td>465.360</td>\n",
       "      <td>earnings</td>\n",
       "      <td>East Mid</td>\n",
       "      <td>2 adults</td>\n",
       "      <td>Two or m</td>\n",
       "      <td>Female</td>\n",
       "      <td>Public r</td>\n",
       "      <td>1</td>\n",
       "    </tr>\n",
       "    <tr>\n",
       "      <th>1</th>\n",
       "      <td>546.4134</td>\n",
       "      <td>855.260</td>\n",
       "      <td>earnings</td>\n",
       "      <td>London</td>\n",
       "      <td>2 adults</td>\n",
       "      <td>No child</td>\n",
       "      <td>Female</td>\n",
       "      <td>Owned</td>\n",
       "      <td>1</td>\n",
       "    </tr>\n",
       "    <tr>\n",
       "      <th>2</th>\n",
       "      <td>242.1890</td>\n",
       "      <td>160.960</td>\n",
       "      <td>earnings</td>\n",
       "      <td>South Ea</td>\n",
       "      <td>1 adult</td>\n",
       "      <td>No child</td>\n",
       "      <td>Female</td>\n",
       "      <td>Owned</td>\n",
       "      <td>1</td>\n",
       "    </tr>\n",
       "    <tr>\n",
       "      <th>3</th>\n",
       "      <td>421.3824</td>\n",
       "      <td>656.220</td>\n",
       "      <td>earnings</td>\n",
       "      <td>Eastern</td>\n",
       "      <td>2 adults</td>\n",
       "      <td>No child</td>\n",
       "      <td>Male</td>\n",
       "      <td>Owned</td>\n",
       "      <td>1</td>\n",
       "    </tr>\n",
       "    <tr>\n",
       "      <th>4</th>\n",
       "      <td>370.4056</td>\n",
       "      <td>398.800</td>\n",
       "      <td>earnings</td>\n",
       "      <td>South Ea</td>\n",
       "      <td>1 adult</td>\n",
       "      <td>No child</td>\n",
       "      <td>Male</td>\n",
       "      <td>Owned</td>\n",
       "      <td>1</td>\n",
       "    </tr>\n",
       "    <tr>\n",
       "      <th>...</th>\n",
       "      <td>...</td>\n",
       "      <td>...</td>\n",
       "      <td>...</td>\n",
       "      <td>...</td>\n",
       "      <td>...</td>\n",
       "      <td>...</td>\n",
       "      <td>...</td>\n",
       "      <td>...</td>\n",
       "      <td>...</td>\n",
       "    </tr>\n",
       "    <tr>\n",
       "      <th>5139</th>\n",
       "      <td>482.4708</td>\n",
       "      <td>782.040</td>\n",
       "      <td>earnings</td>\n",
       "      <td>North We</td>\n",
       "      <td>2 adults</td>\n",
       "      <td>No child</td>\n",
       "      <td>Female</td>\n",
       "      <td>Private</td>\n",
       "      <td>1</td>\n",
       "    </tr>\n",
       "    <tr>\n",
       "      <th>5140</th>\n",
       "      <td>282.6099</td>\n",
       "      <td>612.272</td>\n",
       "      <td>other so</td>\n",
       "      <td>West Mid</td>\n",
       "      <td>2 adults</td>\n",
       "      <td>No child</td>\n",
       "      <td>Male</td>\n",
       "      <td>Owned</td>\n",
       "      <td>1</td>\n",
       "    </tr>\n",
       "    <tr>\n",
       "      <th>5141</th>\n",
       "      <td>934.1562</td>\n",
       "      <td>1134.920</td>\n",
       "      <td>earnings</td>\n",
       "      <td>Wales</td>\n",
       "      <td>1 adult</td>\n",
       "      <td>Two or m</td>\n",
       "      <td>Female</td>\n",
       "      <td>Owned</td>\n",
       "      <td>1</td>\n",
       "    </tr>\n",
       "    <tr>\n",
       "      <th>5142</th>\n",
       "      <td>426.5105</td>\n",
       "      <td>663.669</td>\n",
       "      <td>other so</td>\n",
       "      <td>North We</td>\n",
       "      <td>2 adults</td>\n",
       "      <td>No child</td>\n",
       "      <td>Male</td>\n",
       "      <td>Owned</td>\n",
       "      <td>1</td>\n",
       "    </tr>\n",
       "    <tr>\n",
       "      <th>5143</th>\n",
       "      <td>700.0040</td>\n",
       "      <td>1076.870</td>\n",
       "      <td>earnings</td>\n",
       "      <td>Scotland</td>\n",
       "      <td>3 adults</td>\n",
       "      <td>No child</td>\n",
       "      <td>Male</td>\n",
       "      <td>Owned</td>\n",
       "      <td>1</td>\n",
       "    </tr>\n",
       "  </tbody>\n",
       "</table>\n",
       "<p>5144 rows × 9 columns</p>\n",
       "</div>"
      ],
      "text/plain": [
       "      expenditure    income   maininc    region   nadults     nkids  SexHRP  \\\n",
       "0        380.6958   465.360  earnings  East Mid  2 adults  Two or m  Female   \n",
       "1        546.4134   855.260  earnings    London  2 adults  No child  Female   \n",
       "2        242.1890   160.960  earnings  South Ea   1 adult  No child  Female   \n",
       "3        421.3824   656.220  earnings   Eastern  2 adults  No child    Male   \n",
       "4        370.4056   398.800  earnings  South Ea   1 adult  No child    Male   \n",
       "...           ...       ...       ...       ...       ...       ...     ...   \n",
       "5139     482.4708   782.040  earnings  North We  2 adults  No child  Female   \n",
       "5140     282.6099   612.272  other so  West Mid  2 adults  No child    Male   \n",
       "5141     934.1562  1134.920  earnings     Wales   1 adult  Two or m  Female   \n",
       "5142     426.5105   663.669  other so  North We  2 adults  No child    Male   \n",
       "5143     700.0040  1076.870  earnings  Scotland  3 adults  No child    Male   \n",
       "\n",
       "       housing  internet  \n",
       "0     Public r         1  \n",
       "1        Owned         1  \n",
       "2        Owned         1  \n",
       "3        Owned         1  \n",
       "4        Owned         1  \n",
       "...        ...       ...  \n",
       "5139   Private         1  \n",
       "5140     Owned         1  \n",
       "5141     Owned         1  \n",
       "5142     Owned         1  \n",
       "5143     Owned         1  \n",
       "\n",
       "[5144 rows x 9 columns]"
      ]
     },
     "execution_count": 5,
     "metadata": {},
     "output_type": "execute_result"
    }
   ],
   "source": [
    "# Display the expenditure survey data frame\n",
    "df_exp"
   ]
  },
  {
   "cell_type": "markdown",
   "metadata": {},
   "source": [
    "The advantage of data frames over simple tables is that they come with lots of functionalities that allow us to read, access, and modify the data contained in a data frame.\n",
    "\n",
    "For instance, we can visually inspect the **first** and **last** observations in the data frame using the ```head()``` and ```tail()``` methods."
   ]
  },
  {
   "cell_type": "code",
   "execution_count": 5,
   "metadata": {},
   "outputs": [
    {
     "data": {
      "text/html": [
       "<div>\n",
       "<style scoped>\n",
       "    .dataframe tbody tr th:only-of-type {\n",
       "        vertical-align: middle;\n",
       "    }\n",
       "\n",
       "    .dataframe tbody tr th {\n",
       "        vertical-align: top;\n",
       "    }\n",
       "\n",
       "    .dataframe thead th {\n",
       "        text-align: right;\n",
       "    }\n",
       "</style>\n",
       "<table border=\"1\" class=\"dataframe\">\n",
       "  <thead>\n",
       "    <tr style=\"text-align: right;\">\n",
       "      <th></th>\n",
       "      <th>expenditure</th>\n",
       "      <th>income</th>\n",
       "      <th>maininc</th>\n",
       "      <th>region</th>\n",
       "      <th>nadults</th>\n",
       "      <th>nkids</th>\n",
       "      <th>SexHRP</th>\n",
       "      <th>housing</th>\n",
       "      <th>internet</th>\n",
       "    </tr>\n",
       "  </thead>\n",
       "  <tbody>\n",
       "    <tr>\n",
       "      <th>0</th>\n",
       "      <td>380.6958</td>\n",
       "      <td>465.360</td>\n",
       "      <td>earnings</td>\n",
       "      <td>East Mid</td>\n",
       "      <td>2 adults</td>\n",
       "      <td>Two or m</td>\n",
       "      <td>Female</td>\n",
       "      <td>Public r</td>\n",
       "      <td>1</td>\n",
       "    </tr>\n",
       "    <tr>\n",
       "      <th>1</th>\n",
       "      <td>546.4134</td>\n",
       "      <td>855.260</td>\n",
       "      <td>earnings</td>\n",
       "      <td>London</td>\n",
       "      <td>2 adults</td>\n",
       "      <td>No child</td>\n",
       "      <td>Female</td>\n",
       "      <td>Owned</td>\n",
       "      <td>1</td>\n",
       "    </tr>\n",
       "    <tr>\n",
       "      <th>2</th>\n",
       "      <td>242.1890</td>\n",
       "      <td>160.960</td>\n",
       "      <td>earnings</td>\n",
       "      <td>South Ea</td>\n",
       "      <td>1 adult</td>\n",
       "      <td>No child</td>\n",
       "      <td>Female</td>\n",
       "      <td>Owned</td>\n",
       "      <td>1</td>\n",
       "    </tr>\n",
       "    <tr>\n",
       "      <th>3</th>\n",
       "      <td>421.3824</td>\n",
       "      <td>656.220</td>\n",
       "      <td>earnings</td>\n",
       "      <td>Eastern</td>\n",
       "      <td>2 adults</td>\n",
       "      <td>No child</td>\n",
       "      <td>Male</td>\n",
       "      <td>Owned</td>\n",
       "      <td>1</td>\n",
       "    </tr>\n",
       "    <tr>\n",
       "      <th>4</th>\n",
       "      <td>370.4056</td>\n",
       "      <td>398.800</td>\n",
       "      <td>earnings</td>\n",
       "      <td>South Ea</td>\n",
       "      <td>1 adult</td>\n",
       "      <td>No child</td>\n",
       "      <td>Male</td>\n",
       "      <td>Owned</td>\n",
       "      <td>1</td>\n",
       "    </tr>\n",
       "    <tr>\n",
       "      <th>5</th>\n",
       "      <td>172.3972</td>\n",
       "      <td>321.020</td>\n",
       "      <td>earnings</td>\n",
       "      <td>Scotland</td>\n",
       "      <td>1 adult</td>\n",
       "      <td>No child</td>\n",
       "      <td>Male</td>\n",
       "      <td>Public r</td>\n",
       "      <td>0</td>\n",
       "    </tr>\n",
       "    <tr>\n",
       "      <th>6</th>\n",
       "      <td>202.4250</td>\n",
       "      <td>350.834</td>\n",
       "      <td>other so</td>\n",
       "      <td>Northern</td>\n",
       "      <td>2 adults</td>\n",
       "      <td>No child</td>\n",
       "      <td>Male</td>\n",
       "      <td>Owned</td>\n",
       "      <td>1</td>\n",
       "    </tr>\n",
       "    <tr>\n",
       "      <th>7</th>\n",
       "      <td>730.6580</td>\n",
       "      <td>1184.990</td>\n",
       "      <td>earnings</td>\n",
       "      <td>South Ea</td>\n",
       "      <td>4 and mo</td>\n",
       "      <td>No child</td>\n",
       "      <td>Female</td>\n",
       "      <td>Public r</td>\n",
       "      <td>1</td>\n",
       "    </tr>\n",
       "    <tr>\n",
       "      <th>8</th>\n",
       "      <td>361.9310</td>\n",
       "      <td>619.570</td>\n",
       "      <td>earnings</td>\n",
       "      <td>Wales</td>\n",
       "      <td>2 adults</td>\n",
       "      <td>No child</td>\n",
       "      <td>Male</td>\n",
       "      <td>Owned</td>\n",
       "      <td>1</td>\n",
       "    </tr>\n",
       "    <tr>\n",
       "      <th>9</th>\n",
       "      <td>659.9117</td>\n",
       "      <td>1117.842</td>\n",
       "      <td>other so</td>\n",
       "      <td>Yorkshir</td>\n",
       "      <td>2 adults</td>\n",
       "      <td>No child</td>\n",
       "      <td>Male</td>\n",
       "      <td>Owned</td>\n",
       "      <td>1</td>\n",
       "    </tr>\n",
       "  </tbody>\n",
       "</table>\n",
       "</div>"
      ],
      "text/plain": [
       "   expenditure    income   maininc    region   nadults     nkids  SexHRP  \\\n",
       "0     380.6958   465.360  earnings  East Mid  2 adults  Two or m  Female   \n",
       "1     546.4134   855.260  earnings    London  2 adults  No child  Female   \n",
       "2     242.1890   160.960  earnings  South Ea   1 adult  No child  Female   \n",
       "3     421.3824   656.220  earnings   Eastern  2 adults  No child    Male   \n",
       "4     370.4056   398.800  earnings  South Ea   1 adult  No child    Male   \n",
       "5     172.3972   321.020  earnings  Scotland   1 adult  No child    Male   \n",
       "6     202.4250   350.834  other so  Northern  2 adults  No child    Male   \n",
       "7     730.6580  1184.990  earnings  South Ea  4 and mo  No child  Female   \n",
       "8     361.9310   619.570  earnings     Wales  2 adults  No child    Male   \n",
       "9     659.9117  1117.842  other so  Yorkshir  2 adults  No child    Male   \n",
       "\n",
       "    housing  internet  \n",
       "0  Public r         1  \n",
       "1     Owned         1  \n",
       "2     Owned         1  \n",
       "3     Owned         1  \n",
       "4     Owned         1  \n",
       "5  Public r         0  \n",
       "6     Owned         1  \n",
       "7  Public r         1  \n",
       "8     Owned         1  \n",
       "9     Owned         1  "
      ]
     },
     "execution_count": 5,
     "metadata": {},
     "output_type": "execute_result"
    }
   ],
   "source": [
    "# Display first 10 observations\n",
    "df_exp.head(10)"
   ]
  },
  {
   "cell_type": "code",
   "execution_count": 6,
   "metadata": {},
   "outputs": [
    {
     "data": {
      "text/html": [
       "<div>\n",
       "<style scoped>\n",
       "    .dataframe tbody tr th:only-of-type {\n",
       "        vertical-align: middle;\n",
       "    }\n",
       "\n",
       "    .dataframe tbody tr th {\n",
       "        vertical-align: top;\n",
       "    }\n",
       "\n",
       "    .dataframe thead th {\n",
       "        text-align: right;\n",
       "    }\n",
       "</style>\n",
       "<table border=\"1\" class=\"dataframe\">\n",
       "  <thead>\n",
       "    <tr style=\"text-align: right;\">\n",
       "      <th></th>\n",
       "      <th>expenditure</th>\n",
       "      <th>income</th>\n",
       "      <th>maininc</th>\n",
       "      <th>region</th>\n",
       "      <th>nadults</th>\n",
       "      <th>nkids</th>\n",
       "      <th>SexHRP</th>\n",
       "      <th>housing</th>\n",
       "      <th>internet</th>\n",
       "    </tr>\n",
       "  </thead>\n",
       "  <tbody>\n",
       "    <tr>\n",
       "      <th>5129</th>\n",
       "      <td>1175.00000</td>\n",
       "      <td>1184.9900</td>\n",
       "      <td>earnings</td>\n",
       "      <td>South Ea</td>\n",
       "      <td>3 adults</td>\n",
       "      <td>One chil</td>\n",
       "      <td>Male</td>\n",
       "      <td>Owned</td>\n",
       "      <td>1</td>\n",
       "    </tr>\n",
       "    <tr>\n",
       "      <th>5130</th>\n",
       "      <td>83.81268</td>\n",
       "      <td>84.6625</td>\n",
       "      <td>other so</td>\n",
       "      <td>West Mid</td>\n",
       "      <td>1 adult</td>\n",
       "      <td>No child</td>\n",
       "      <td>Male</td>\n",
       "      <td>Owned</td>\n",
       "      <td>0</td>\n",
       "    </tr>\n",
       "    <tr>\n",
       "      <th>5131</th>\n",
       "      <td>560.71360</td>\n",
       "      <td>1184.9900</td>\n",
       "      <td>earnings</td>\n",
       "      <td>Wales</td>\n",
       "      <td>3 adults</td>\n",
       "      <td>One chil</td>\n",
       "      <td>Male</td>\n",
       "      <td>Owned</td>\n",
       "      <td>1</td>\n",
       "    </tr>\n",
       "    <tr>\n",
       "      <th>5132</th>\n",
       "      <td>140.16690</td>\n",
       "      <td>297.6000</td>\n",
       "      <td>other so</td>\n",
       "      <td>London</td>\n",
       "      <td>1 adult</td>\n",
       "      <td>Two or m</td>\n",
       "      <td>Female</td>\n",
       "      <td>Public r</td>\n",
       "      <td>1</td>\n",
       "    </tr>\n",
       "    <tr>\n",
       "      <th>5133</th>\n",
       "      <td>241.42590</td>\n",
       "      <td>201.9300</td>\n",
       "      <td>earnings</td>\n",
       "      <td>North We</td>\n",
       "      <td>1 adult</td>\n",
       "      <td>No child</td>\n",
       "      <td>Female</td>\n",
       "      <td>Private</td>\n",
       "      <td>1</td>\n",
       "    </tr>\n",
       "    <tr>\n",
       "      <th>5134</th>\n",
       "      <td>449.14870</td>\n",
       "      <td>137.1420</td>\n",
       "      <td>other so</td>\n",
       "      <td>North We</td>\n",
       "      <td>1 adult</td>\n",
       "      <td>No child</td>\n",
       "      <td>Female</td>\n",
       "      <td>Owned</td>\n",
       "      <td>1</td>\n",
       "    </tr>\n",
       "    <tr>\n",
       "      <th>5135</th>\n",
       "      <td>509.64130</td>\n",
       "      <td>1184.9900</td>\n",
       "      <td>earnings</td>\n",
       "      <td>Wales</td>\n",
       "      <td>4 and mo</td>\n",
       "      <td>No child</td>\n",
       "      <td>Male</td>\n",
       "      <td>Owned</td>\n",
       "      <td>1</td>\n",
       "    </tr>\n",
       "    <tr>\n",
       "      <th>5136</th>\n",
       "      <td>164.50280</td>\n",
       "      <td>246.7820</td>\n",
       "      <td>other so</td>\n",
       "      <td>North We</td>\n",
       "      <td>1 adult</td>\n",
       "      <td>No child</td>\n",
       "      <td>Female</td>\n",
       "      <td>Owned</td>\n",
       "      <td>0</td>\n",
       "    </tr>\n",
       "    <tr>\n",
       "      <th>5137</th>\n",
       "      <td>244.63870</td>\n",
       "      <td>858.2250</td>\n",
       "      <td>earnings</td>\n",
       "      <td>Wales</td>\n",
       "      <td>1 adult</td>\n",
       "      <td>No child</td>\n",
       "      <td>Male</td>\n",
       "      <td>Owned</td>\n",
       "      <td>0</td>\n",
       "    </tr>\n",
       "    <tr>\n",
       "      <th>5138</th>\n",
       "      <td>155.61500</td>\n",
       "      <td>215.3800</td>\n",
       "      <td>other so</td>\n",
       "      <td>South Ea</td>\n",
       "      <td>1 adult</td>\n",
       "      <td>Two or m</td>\n",
       "      <td>Female</td>\n",
       "      <td>Private</td>\n",
       "      <td>1</td>\n",
       "    </tr>\n",
       "    <tr>\n",
       "      <th>5139</th>\n",
       "      <td>482.47080</td>\n",
       "      <td>782.0400</td>\n",
       "      <td>earnings</td>\n",
       "      <td>North We</td>\n",
       "      <td>2 adults</td>\n",
       "      <td>No child</td>\n",
       "      <td>Female</td>\n",
       "      <td>Private</td>\n",
       "      <td>1</td>\n",
       "    </tr>\n",
       "    <tr>\n",
       "      <th>5140</th>\n",
       "      <td>282.60990</td>\n",
       "      <td>612.2720</td>\n",
       "      <td>other so</td>\n",
       "      <td>West Mid</td>\n",
       "      <td>2 adults</td>\n",
       "      <td>No child</td>\n",
       "      <td>Male</td>\n",
       "      <td>Owned</td>\n",
       "      <td>1</td>\n",
       "    </tr>\n",
       "    <tr>\n",
       "      <th>5141</th>\n",
       "      <td>934.15620</td>\n",
       "      <td>1134.9200</td>\n",
       "      <td>earnings</td>\n",
       "      <td>Wales</td>\n",
       "      <td>1 adult</td>\n",
       "      <td>Two or m</td>\n",
       "      <td>Female</td>\n",
       "      <td>Owned</td>\n",
       "      <td>1</td>\n",
       "    </tr>\n",
       "    <tr>\n",
       "      <th>5142</th>\n",
       "      <td>426.51050</td>\n",
       "      <td>663.6690</td>\n",
       "      <td>other so</td>\n",
       "      <td>North We</td>\n",
       "      <td>2 adults</td>\n",
       "      <td>No child</td>\n",
       "      <td>Male</td>\n",
       "      <td>Owned</td>\n",
       "      <td>1</td>\n",
       "    </tr>\n",
       "    <tr>\n",
       "      <th>5143</th>\n",
       "      <td>700.00400</td>\n",
       "      <td>1076.8700</td>\n",
       "      <td>earnings</td>\n",
       "      <td>Scotland</td>\n",
       "      <td>3 adults</td>\n",
       "      <td>No child</td>\n",
       "      <td>Male</td>\n",
       "      <td>Owned</td>\n",
       "      <td>1</td>\n",
       "    </tr>\n",
       "  </tbody>\n",
       "</table>\n",
       "</div>"
      ],
      "text/plain": [
       "      expenditure     income   maininc    region   nadults     nkids  SexHRP  \\\n",
       "5129   1175.00000  1184.9900  earnings  South Ea  3 adults  One chil    Male   \n",
       "5130     83.81268    84.6625  other so  West Mid   1 adult  No child    Male   \n",
       "5131    560.71360  1184.9900  earnings     Wales  3 adults  One chil    Male   \n",
       "5132    140.16690   297.6000  other so    London   1 adult  Two or m  Female   \n",
       "5133    241.42590   201.9300  earnings  North We   1 adult  No child  Female   \n",
       "5134    449.14870   137.1420  other so  North We   1 adult  No child  Female   \n",
       "5135    509.64130  1184.9900  earnings     Wales  4 and mo  No child    Male   \n",
       "5136    164.50280   246.7820  other so  North We   1 adult  No child  Female   \n",
       "5137    244.63870   858.2250  earnings     Wales   1 adult  No child    Male   \n",
       "5138    155.61500   215.3800  other so  South Ea   1 adult  Two or m  Female   \n",
       "5139    482.47080   782.0400  earnings  North We  2 adults  No child  Female   \n",
       "5140    282.60990   612.2720  other so  West Mid  2 adults  No child    Male   \n",
       "5141    934.15620  1134.9200  earnings     Wales   1 adult  Two or m  Female   \n",
       "5142    426.51050   663.6690  other so  North We  2 adults  No child    Male   \n",
       "5143    700.00400  1076.8700  earnings  Scotland  3 adults  No child    Male   \n",
       "\n",
       "       housing  internet  \n",
       "5129     Owned         1  \n",
       "5130     Owned         0  \n",
       "5131     Owned         1  \n",
       "5132  Public r         1  \n",
       "5133   Private         1  \n",
       "5134     Owned         1  \n",
       "5135     Owned         1  \n",
       "5136     Owned         0  \n",
       "5137     Owned         0  \n",
       "5138   Private         1  \n",
       "5139   Private         1  \n",
       "5140     Owned         1  \n",
       "5141     Owned         1  \n",
       "5142     Owned         1  \n",
       "5143     Owned         1  "
      ]
     },
     "execution_count": 6,
     "metadata": {},
     "output_type": "execute_result"
    }
   ],
   "source": [
    "# Display last 15 observations\n",
    "df_exp.tail(15)"
   ]
  },
  {
   "cell_type": "markdown",
   "metadata": {},
   "source": [
    "Or we can check the number of variables and observations with the ```shape``` attribute"
   ]
  },
  {
   "cell_type": "code",
   "execution_count": 6,
   "metadata": {},
   "outputs": [
    {
     "name": "stdout",
     "output_type": "stream",
     "text": [
      "This dataset contains 9 variables and 5144 observations\n"
     ]
    }
   ],
   "source": [
    "# Get number of observations and variables\n",
    "nobs, nvars = df_exp.shape\n",
    "print(f\"This dataset contains {nvars} variables and {nobs} observations\")"
   ]
  },
  {
   "cell_type": "markdown",
   "metadata": {},
   "source": [
    "As well as the names of the variables in our data frame with the ```columns``` index."
   ]
  },
  {
   "cell_type": "code",
   "execution_count": 7,
   "metadata": {},
   "outputs": [
    {
     "name": "stdout",
     "output_type": "stream",
     "text": [
      "1 expenditure\n",
      "2 income\n",
      "3 maininc\n",
      "4 region\n",
      "5 nadults\n",
      "6 nkids\n",
      "7 SexHRP\n",
      "8 housing\n",
      "9 internet\n"
     ]
    }
   ],
   "source": [
    "# Get variable names in a list\n",
    "var_names = df_exp.columns.to_list()\n",
    "\n",
    "# Display them nicely\n",
    "for pos, var_name in enumerate(var_names):\n",
    "    print(pos+1, var_name)"
   ]
  },
  {
   "cell_type": "markdown",
   "metadata": {},
   "source": [
    "# Working with data frames\n",
    "\n",
    "Data frames are the main data type of Pandas.\n",
    "\n",
    "The easiest way to understand the basic features of data frames is to think of them as **dictionaries containing lists**. Data frames are **much more** than simple dictionaries, however this analogy will allow us to grasps a few key concepts.\n",
    "\n",
    "As always, let's work with a minimal example to keep things simple. For instance, consider a dictionary that contains information on a few tennis players."
   ]
  },
  {
   "cell_type": "code",
   "execution_count": 8,
   "metadata": {},
   "outputs": [],
   "source": [
    "# Create a dictionary of lists representing a dataset\n",
    "players = {\n",
    "    \"name\": [\"Luca\", \"Roger\", \"Rafael\", \"Novak\"],\n",
    "    \"surname\": [\"Rondina\", \"Federer\", \"Nadal\", \"Djokovic\"],\n",
    "    \"email\": [\"Luca.Rondina@surrey.ac.uk\", \"R.Federer@tennis.com\", \"R.Nadal@tennis.com\", \"N.Djokovic@tennis.com\"]\n",
    "}"
   ]
  },
  {
   "cell_type": "markdown",
   "metadata": {},
   "source": [
    "The dictionary above was carefully created in a way that keys and values have a natural interpretation:\n",
    "\n",
    "- The keys represent different variables in the dataset\n",
    "- The values contain a list of observations\n",
    "\n",
    "As a result, accessing and updating data is done via the familiar indexing of the dictionary."
   ]
  },
  {
   "cell_type": "code",
   "execution_count": 9,
   "metadata": {},
   "outputs": [],
   "source": [
    "# Display all email addresses\n",
    "players[\"email\"]\n",
    "\n",
    "# Update Luca's email address\n",
    "players[\"email\"][0] = \"Luca.Rondina@sussex.ac.uk\""
   ]
  },
  {
   "cell_type": "markdown",
   "metadata": {},
   "source": [
    "Data frames work in a very similar way. Let's create a data frame from the above dictionary and see how we can access and update information within a data frame."
   ]
  },
  {
   "cell_type": "code",
   "execution_count": 10,
   "metadata": {},
   "outputs": [
    {
     "data": {
      "text/html": [
       "<div>\n",
       "<style scoped>\n",
       "    .dataframe tbody tr th:only-of-type {\n",
       "        vertical-align: middle;\n",
       "    }\n",
       "\n",
       "    .dataframe tbody tr th {\n",
       "        vertical-align: top;\n",
       "    }\n",
       "\n",
       "    .dataframe thead th {\n",
       "        text-align: right;\n",
       "    }\n",
       "</style>\n",
       "<table border=\"1\" class=\"dataframe\">\n",
       "  <thead>\n",
       "    <tr style=\"text-align: right;\">\n",
       "      <th></th>\n",
       "      <th>name</th>\n",
       "      <th>surname</th>\n",
       "      <th>email</th>\n",
       "    </tr>\n",
       "  </thead>\n",
       "  <tbody>\n",
       "    <tr>\n",
       "      <th>0</th>\n",
       "      <td>Luca</td>\n",
       "      <td>Rondina</td>\n",
       "      <td>Luca.Rondina@sussex.ac.uk</td>\n",
       "    </tr>\n",
       "    <tr>\n",
       "      <th>1</th>\n",
       "      <td>Roger</td>\n",
       "      <td>Federer</td>\n",
       "      <td>R.Federer@tennis.com</td>\n",
       "    </tr>\n",
       "    <tr>\n",
       "      <th>2</th>\n",
       "      <td>Rafael</td>\n",
       "      <td>Nadal</td>\n",
       "      <td>R.Nadal@tennis.com</td>\n",
       "    </tr>\n",
       "    <tr>\n",
       "      <th>3</th>\n",
       "      <td>Novak</td>\n",
       "      <td>Djokovic</td>\n",
       "      <td>N.Djokovic@tennis.com</td>\n",
       "    </tr>\n",
       "  </tbody>\n",
       "</table>\n",
       "</div>"
      ],
      "text/plain": [
       "     name   surname                      email\n",
       "0    Luca   Rondina  Luca.Rondina@sussex.ac.uk\n",
       "1   Roger   Federer       R.Federer@tennis.com\n",
       "2  Rafael     Nadal         R.Nadal@tennis.com\n",
       "3   Novak  Djokovic      N.Djokovic@tennis.com"
      ]
     },
     "execution_count": 10,
     "metadata": {},
     "output_type": "execute_result"
    }
   ],
   "source": [
    "# Create a data frame from a given dictionary\n",
    "df_players = pd.DataFrame(players)\n",
    "\n",
    "# Display the data frame\n",
    "df_players"
   ]
  },
  {
   "cell_type": "code",
   "execution_count": 11,
   "metadata": {},
   "outputs": [
    {
     "data": {
      "text/plain": [
       "0    Luca.Rondina@sussex.ac.uk\n",
       "1         R.Federer@tennis.com\n",
       "2           R.Nadal@tennis.com\n",
       "3        N.Djokovic@tennis.com\n",
       "Name: email, dtype: object"
      ]
     },
     "execution_count": 11,
     "metadata": {},
     "output_type": "execute_result"
    }
   ],
   "source": [
    "# Display all email addresses\n",
    "df_players[\"email\"]"
   ]
  },
  {
   "cell_type": "code",
   "execution_count": 12,
   "metadata": {
    "scrolled": true
   },
   "outputs": [
    {
     "data": {
      "text/html": [
       "<div>\n",
       "<style scoped>\n",
       "    .dataframe tbody tr th:only-of-type {\n",
       "        vertical-align: middle;\n",
       "    }\n",
       "\n",
       "    .dataframe tbody tr th {\n",
       "        vertical-align: top;\n",
       "    }\n",
       "\n",
       "    .dataframe thead th {\n",
       "        text-align: right;\n",
       "    }\n",
       "</style>\n",
       "<table border=\"1\" class=\"dataframe\">\n",
       "  <thead>\n",
       "    <tr style=\"text-align: right;\">\n",
       "      <th></th>\n",
       "      <th>name</th>\n",
       "      <th>surname</th>\n",
       "      <th>email</th>\n",
       "    </tr>\n",
       "  </thead>\n",
       "  <tbody>\n",
       "    <tr>\n",
       "      <th>0</th>\n",
       "      <td>Luca</td>\n",
       "      <td>Rondina</td>\n",
       "      <td>L.Rondina@sussex.ac.uk</td>\n",
       "    </tr>\n",
       "    <tr>\n",
       "      <th>1</th>\n",
       "      <td>Roger</td>\n",
       "      <td>Federer</td>\n",
       "      <td>R.Federer@tennis.com</td>\n",
       "    </tr>\n",
       "    <tr>\n",
       "      <th>2</th>\n",
       "      <td>Rafael</td>\n",
       "      <td>Nadal</td>\n",
       "      <td>R.Nadal@tennis.com</td>\n",
       "    </tr>\n",
       "    <tr>\n",
       "      <th>3</th>\n",
       "      <td>Novak</td>\n",
       "      <td>Djokovic</td>\n",
       "      <td>N.Djokovic@tennis.com</td>\n",
       "    </tr>\n",
       "  </tbody>\n",
       "</table>\n",
       "</div>"
      ],
      "text/plain": [
       "     name   surname                   email\n",
       "0    Luca   Rondina  L.Rondina@sussex.ac.uk\n",
       "1   Roger   Federer    R.Federer@tennis.com\n",
       "2  Rafael     Nadal      R.Nadal@tennis.com\n",
       "3   Novak  Djokovic   N.Djokovic@tennis.com"
      ]
     },
     "execution_count": 12,
     "metadata": {},
     "output_type": "execute_result"
    }
   ],
   "source": [
    "# Update Luca's email address\n",
    "df_players[\"email\"][0] = \"L.Rondina@sussex.ac.uk\"\n",
    "df_players"
   ]
  },
  {
   "cell_type": "markdown",
   "metadata": {},
   "source": [
    "## Accessing data\n",
    "\n",
    "The first advantage of data frames over dictionaries is that we can access multiple data at the same time and get a selected **view** of the data frame.\n",
    "\n",
    "Let's say that we want to see the name and surname of the players, but not their email address. We can do that by indexing the data frame with a **list of variable names**."
   ]
  },
  {
   "cell_type": "code",
   "execution_count": 13,
   "metadata": {
    "scrolled": true
   },
   "outputs": [
    {
     "data": {
      "text/html": [
       "<div>\n",
       "<style scoped>\n",
       "    .dataframe tbody tr th:only-of-type {\n",
       "        vertical-align: middle;\n",
       "    }\n",
       "\n",
       "    .dataframe tbody tr th {\n",
       "        vertical-align: top;\n",
       "    }\n",
       "\n",
       "    .dataframe thead th {\n",
       "        text-align: right;\n",
       "    }\n",
       "</style>\n",
       "<table border=\"1\" class=\"dataframe\">\n",
       "  <thead>\n",
       "    <tr style=\"text-align: right;\">\n",
       "      <th></th>\n",
       "      <th>name</th>\n",
       "      <th>surname</th>\n",
       "    </tr>\n",
       "  </thead>\n",
       "  <tbody>\n",
       "    <tr>\n",
       "      <th>0</th>\n",
       "      <td>Luca</td>\n",
       "      <td>Rondina</td>\n",
       "    </tr>\n",
       "    <tr>\n",
       "      <th>1</th>\n",
       "      <td>Roger</td>\n",
       "      <td>Federer</td>\n",
       "    </tr>\n",
       "    <tr>\n",
       "      <th>2</th>\n",
       "      <td>Rafael</td>\n",
       "      <td>Nadal</td>\n",
       "    </tr>\n",
       "    <tr>\n",
       "      <th>3</th>\n",
       "      <td>Novak</td>\n",
       "      <td>Djokovic</td>\n",
       "    </tr>\n",
       "  </tbody>\n",
       "</table>\n",
       "</div>"
      ],
      "text/plain": [
       "     name   surname\n",
       "0    Luca   Rondina\n",
       "1   Roger   Federer\n",
       "2  Rafael     Nadal\n",
       "3   Novak  Djokovic"
      ]
     },
     "execution_count": 13,
     "metadata": {},
     "output_type": "execute_result"
    }
   ],
   "source": [
    "# Display name and surname of the players only\n",
    "df_players[[\"name\", \"surname\"]]"
   ]
  },
  {
   "cell_type": "markdown",
   "metadata": {},
   "source": [
    "The interesting thing is that the operation above is **returning a data frame**! Therefore, any data frame method can be directly applied to the selected view of the data frame directly.\n",
    "\n",
    "Of course, this works on our expenditure survey data frame ```df_exp``` as well. If we want to see the first five observations of expenditure and income only, we can do so with the following lines of code."
   ]
  },
  {
   "cell_type": "code",
   "execution_count": 14,
   "metadata": {},
   "outputs": [
    {
     "data": {
      "text/html": [
       "<div>\n",
       "<style scoped>\n",
       "    .dataframe tbody tr th:only-of-type {\n",
       "        vertical-align: middle;\n",
       "    }\n",
       "\n",
       "    .dataframe tbody tr th {\n",
       "        vertical-align: top;\n",
       "    }\n",
       "\n",
       "    .dataframe thead th {\n",
       "        text-align: right;\n",
       "    }\n",
       "</style>\n",
       "<table border=\"1\" class=\"dataframe\">\n",
       "  <thead>\n",
       "    <tr style=\"text-align: right;\">\n",
       "      <th></th>\n",
       "      <th>expenditure</th>\n",
       "      <th>income</th>\n",
       "    </tr>\n",
       "  </thead>\n",
       "  <tbody>\n",
       "    <tr>\n",
       "      <th>0</th>\n",
       "      <td>380.6958</td>\n",
       "      <td>465.36</td>\n",
       "    </tr>\n",
       "    <tr>\n",
       "      <th>1</th>\n",
       "      <td>546.4134</td>\n",
       "      <td>855.26</td>\n",
       "    </tr>\n",
       "    <tr>\n",
       "      <th>2</th>\n",
       "      <td>242.1890</td>\n",
       "      <td>160.96</td>\n",
       "    </tr>\n",
       "    <tr>\n",
       "      <th>3</th>\n",
       "      <td>421.3824</td>\n",
       "      <td>656.22</td>\n",
       "    </tr>\n",
       "    <tr>\n",
       "      <th>4</th>\n",
       "      <td>370.4056</td>\n",
       "      <td>398.80</td>\n",
       "    </tr>\n",
       "  </tbody>\n",
       "</table>\n",
       "</div>"
      ],
      "text/plain": [
       "   expenditure  income\n",
       "0     380.6958  465.36\n",
       "1     546.4134  855.26\n",
       "2     242.1890  160.96\n",
       "3     421.3824  656.22\n",
       "4     370.4056  398.80"
      ]
     },
     "execution_count": 14,
     "metadata": {},
     "output_type": "execute_result"
    }
   ],
   "source": [
    "# Display the first five observations of expenditure and income only\n",
    "selected_vars = [\"expenditure\", \"income\"]\n",
    "df_exp[selected_vars].head()                   # With no arguments head() defaults to head(5)"
   ]
  },
  {
   "cell_type": "markdown",
   "metadata": {},
   "source": [
    "Or we can get information on how many British households have access to internet"
   ]
  },
  {
   "cell_type": "code",
   "execution_count": 15,
   "metadata": {},
   "outputs": [
    {
     "data": {
      "text/plain": [
       "1    4232\n",
       "0     912\n",
       "Name: internet, dtype: int64"
      ]
     },
     "execution_count": 15,
     "metadata": {},
     "output_type": "execute_result"
    }
   ],
   "source": [
    "# Apply the value_counts() method to internet variable\n",
    "df_exp[\"internet\"].value_counts()\n",
    "\n",
    "# 1 is access to internet, 0 is no access to internet"
   ]
  },
  {
   "cell_type": "markdown",
   "metadata": {},
   "source": [
    "## Accessing specific observations\n",
    "\n",
    "Another important feature of data frames is the ability to access, and potentially modify, specific observations (or subsets) in the dataset.\n",
    "\n",
    "The easiest (and best) way to do this is by using the ```loc()``` method which access elements in the data frame via **two** labels:\n",
    "\n",
    "- A first label (or list of labels) to select the row(s)\n",
    "- A second label (or list of labels) to select the column(s)\n",
    "\n",
    "The general syntax for loc is\n",
    "\n",
    "```python\n",
    "df_name.loc[rows_label, columns_label]\n",
    "```\n",
    "\n",
    "where ```rows_label``` and ```columns_label``` can either be a single label or a list of labels.\n",
    "\n",
    "Let's use our players dataframe for demonstration purposes:\n"
   ]
  },
  {
   "cell_type": "code",
   "execution_count": 17,
   "metadata": {},
   "outputs": [
    {
     "data": {
      "text/html": [
       "<div>\n",
       "<style scoped>\n",
       "    .dataframe tbody tr th:only-of-type {\n",
       "        vertical-align: middle;\n",
       "    }\n",
       "\n",
       "    .dataframe tbody tr th {\n",
       "        vertical-align: top;\n",
       "    }\n",
       "\n",
       "    .dataframe thead th {\n",
       "        text-align: right;\n",
       "    }\n",
       "</style>\n",
       "<table border=\"1\" class=\"dataframe\">\n",
       "  <thead>\n",
       "    <tr style=\"text-align: right;\">\n",
       "      <th></th>\n",
       "      <th>name</th>\n",
       "      <th>surname</th>\n",
       "      <th>email</th>\n",
       "    </tr>\n",
       "  </thead>\n",
       "  <tbody>\n",
       "    <tr>\n",
       "      <th>0</th>\n",
       "      <td>Luca</td>\n",
       "      <td>Rondina</td>\n",
       "      <td>L.Rondina@sussex.ac.uk</td>\n",
       "    </tr>\n",
       "    <tr>\n",
       "      <th>1</th>\n",
       "      <td>Roger</td>\n",
       "      <td>Federer</td>\n",
       "      <td>R.Federer@tennis.com</td>\n",
       "    </tr>\n",
       "    <tr>\n",
       "      <th>2</th>\n",
       "      <td>Rafael</td>\n",
       "      <td>Nadal</td>\n",
       "      <td>R.Nadal@tennis.com</td>\n",
       "    </tr>\n",
       "    <tr>\n",
       "      <th>3</th>\n",
       "      <td>Novak</td>\n",
       "      <td>Djokovic</td>\n",
       "      <td>N.Djokovic@tennis.com</td>\n",
       "    </tr>\n",
       "  </tbody>\n",
       "</table>\n",
       "</div>"
      ],
      "text/plain": [
       "     name   surname                   email\n",
       "0    Luca   Rondina  L.Rondina@sussex.ac.uk\n",
       "1   Roger   Federer    R.Federer@tennis.com\n",
       "2  Rafael     Nadal      R.Nadal@tennis.com\n",
       "3   Novak  Djokovic   N.Djokovic@tennis.com"
      ]
     },
     "execution_count": 17,
     "metadata": {},
     "output_type": "execute_result"
    }
   ],
   "source": [
    "df_players"
   ]
  },
  {
   "cell_type": "markdown",
   "metadata": {},
   "source": [
    "If we want to access the name and surname of Federer and Nadal only, we can do that by using the row labels and the variable names as follows"
   ]
  },
  {
   "cell_type": "code",
   "execution_count": 18,
   "metadata": {},
   "outputs": [
    {
     "data": {
      "text/html": [
       "<div>\n",
       "<style scoped>\n",
       "    .dataframe tbody tr th:only-of-type {\n",
       "        vertical-align: middle;\n",
       "    }\n",
       "\n",
       "    .dataframe tbody tr th {\n",
       "        vertical-align: top;\n",
       "    }\n",
       "\n",
       "    .dataframe thead th {\n",
       "        text-align: right;\n",
       "    }\n",
       "</style>\n",
       "<table border=\"1\" class=\"dataframe\">\n",
       "  <thead>\n",
       "    <tr style=\"text-align: right;\">\n",
       "      <th></th>\n",
       "      <th>name</th>\n",
       "      <th>surname</th>\n",
       "    </tr>\n",
       "  </thead>\n",
       "  <tbody>\n",
       "    <tr>\n",
       "      <th>1</th>\n",
       "      <td>Roger</td>\n",
       "      <td>Federer</td>\n",
       "    </tr>\n",
       "    <tr>\n",
       "      <th>2</th>\n",
       "      <td>Rafael</td>\n",
       "      <td>Nadal</td>\n",
       "    </tr>\n",
       "  </tbody>\n",
       "</table>\n",
       "</div>"
      ],
      "text/plain": [
       "     name  surname\n",
       "1   Roger  Federer\n",
       "2  Rafael    Nadal"
      ]
     },
     "execution_count": 18,
     "metadata": {},
     "output_type": "execute_result"
    }
   ],
   "source": [
    "df_players.loc[[1,2], [\"name\", \"surname\"]]"
   ]
  },
  {
   "cell_type": "markdown",
   "metadata": {},
   "source": [
    "Notice that **slicing** also works. Differently from list indexing though, **both** start and end indexes are **included**."
   ]
  },
  {
   "cell_type": "code",
   "execution_count": 19,
   "metadata": {},
   "outputs": [
    {
     "data": {
      "text/html": [
       "<div>\n",
       "<style scoped>\n",
       "    .dataframe tbody tr th:only-of-type {\n",
       "        vertical-align: middle;\n",
       "    }\n",
       "\n",
       "    .dataframe tbody tr th {\n",
       "        vertical-align: top;\n",
       "    }\n",
       "\n",
       "    .dataframe thead th {\n",
       "        text-align: right;\n",
       "    }\n",
       "</style>\n",
       "<table border=\"1\" class=\"dataframe\">\n",
       "  <thead>\n",
       "    <tr style=\"text-align: right;\">\n",
       "      <th></th>\n",
       "      <th>name</th>\n",
       "      <th>surname</th>\n",
       "    </tr>\n",
       "  </thead>\n",
       "  <tbody>\n",
       "    <tr>\n",
       "      <th>1</th>\n",
       "      <td>Roger</td>\n",
       "      <td>Federer</td>\n",
       "    </tr>\n",
       "    <tr>\n",
       "      <th>2</th>\n",
       "      <td>Rafael</td>\n",
       "      <td>Nadal</td>\n",
       "    </tr>\n",
       "  </tbody>\n",
       "</table>\n",
       "</div>"
      ],
      "text/plain": [
       "     name  surname\n",
       "1   Roger  Federer\n",
       "2  Rafael    Nadal"
      ]
     },
     "execution_count": 19,
     "metadata": {},
     "output_type": "execute_result"
    }
   ],
   "source": [
    "df_players.loc[1:2, \"name\":\"surname\"]"
   ]
  },
  {
   "cell_type": "markdown",
   "metadata": {},
   "source": [
    "Moreover, the resulting view of the data frame can be stored in a variable for later use if needed."
   ]
  },
  {
   "cell_type": "code",
   "execution_count": 16,
   "metadata": {},
   "outputs": [],
   "source": [
    "df_roger_rafa = df_players.loc[1:2, \"name\":\"surname\"]"
   ]
  },
  {
   "cell_type": "markdown",
   "metadata": {},
   "source": [
    "## Filtering data frames\n",
    "\n",
    "One of the most common tasks when exploring datasets is to search for a subset of observations that meet certain conditions and perform some operations on them. This is known as **data filtering**.\n",
    "\n",
    "A few examples:\n",
    "\n",
    "- How many British households have a weekly expenditure between £200 and £300?\n",
    "- What is the median weekly income in Wales?\n",
    "- What is the percentage of households in London with no children?\n",
    "\n",
    "\n",
    "Data filtering can be done by via a three step approach:\n",
    "\n",
    "1. Create a **series of Boolean (True or False) values** that indicates which subset of observations meet certain conditions\n",
    "2. Extract the subset of observation via **Boolean indexing**\n",
    "3. Perform some operation\n"
   ]
  },
  {
   "cell_type": "markdown",
   "metadata": {},
   "source": [
    "Let's start simple and check whether there is a player whose first name is Luca in our players data frame:"
   ]
  },
  {
   "cell_type": "code",
   "execution_count": 17,
   "metadata": {},
   "outputs": [
    {
     "data": {
      "text/plain": [
       "0     True\n",
       "1    False\n",
       "2    False\n",
       "3    False\n",
       "Name: name, dtype: bool"
      ]
     },
     "execution_count": 17,
     "metadata": {},
     "output_type": "execute_result"
    }
   ],
   "source": [
    "# Create a Boolean series that checks whether the players name are equal to \"Luca\"\n",
    "name_is_luca = (df_players[\"name\"] == \"Luca\")\n",
    "name_is_luca"
   ]
  },
  {
   "cell_type": "markdown",
   "metadata": {},
   "source": [
    "As you can see, Pandas has created a series of True or False values that indicates whether each observation matches the condition specified. In our case, Pandas went through all names in the data frame and checked whether they were equal to Luca.\n",
    "\n",
    "We can now use this series and filter out the observations that match the condition using Boolean indexing:"
   ]
  },
  {
   "cell_type": "code",
   "execution_count": 22,
   "metadata": {
    "scrolled": true
   },
   "outputs": [
    {
     "data": {
      "text/html": [
       "<div>\n",
       "<style scoped>\n",
       "    .dataframe tbody tr th:only-of-type {\n",
       "        vertical-align: middle;\n",
       "    }\n",
       "\n",
       "    .dataframe tbody tr th {\n",
       "        vertical-align: top;\n",
       "    }\n",
       "\n",
       "    .dataframe thead th {\n",
       "        text-align: right;\n",
       "    }\n",
       "</style>\n",
       "<table border=\"1\" class=\"dataframe\">\n",
       "  <thead>\n",
       "    <tr style=\"text-align: right;\">\n",
       "      <th></th>\n",
       "      <th>name</th>\n",
       "      <th>surname</th>\n",
       "      <th>email</th>\n",
       "    </tr>\n",
       "  </thead>\n",
       "  <tbody>\n",
       "    <tr>\n",
       "      <th>0</th>\n",
       "      <td>Luca</td>\n",
       "      <td>Rondina</td>\n",
       "      <td>L.Rondina@sussex.ac.uk</td>\n",
       "    </tr>\n",
       "  </tbody>\n",
       "</table>\n",
       "</div>"
      ],
      "text/plain": [
       "   name  surname                   email\n",
       "0  Luca  Rondina  L.Rondina@sussex.ac.uk"
      ]
     },
     "execution_count": 22,
     "metadata": {},
     "output_type": "execute_result"
    }
   ],
   "source": [
    "df_players.loc[name_is_luca]"
   ]
  },
  {
   "cell_type": "markdown",
   "metadata": {},
   "source": [
    "Similarly to conditional expressions in Python, we can chain multiple conditions using Boolean operators. \n",
    "\n",
    "However, Pandas uses different symbols for the ```and```, ```or```, and ```not``` operators:\n",
    "\n",
    "| Operator  | Usage                           | Result |\n",
    "| :-------- | :-----------------------------: | :----- |\n",
    "| ```&``` | condition1 ```&``` condition2 | ```True``` if both conditions are ```True```, otherwise ```False``` |\n",
    "| ```\\|```  | condition1 ```\\|``` condition2  | ```True``` if at least one of the conditions is ```True```, otherwise ```False``` |\n",
    "| ```~``` | ```~``` condition             | ```True``` if condition is ```False```, and vice versa |\n",
    "\n",
    "For instance:"
   ]
  },
  {
   "cell_type": "code",
   "execution_count": 23,
   "metadata": {},
   "outputs": [
    {
     "data": {
      "text/html": [
       "<div>\n",
       "<style scoped>\n",
       "    .dataframe tbody tr th:only-of-type {\n",
       "        vertical-align: middle;\n",
       "    }\n",
       "\n",
       "    .dataframe tbody tr th {\n",
       "        vertical-align: top;\n",
       "    }\n",
       "\n",
       "    .dataframe thead th {\n",
       "        text-align: right;\n",
       "    }\n",
       "</style>\n",
       "<table border=\"1\" class=\"dataframe\">\n",
       "  <thead>\n",
       "    <tr style=\"text-align: right;\">\n",
       "      <th></th>\n",
       "      <th>name</th>\n",
       "      <th>surname</th>\n",
       "      <th>email</th>\n",
       "    </tr>\n",
       "  </thead>\n",
       "  <tbody>\n",
       "    <tr>\n",
       "      <th>0</th>\n",
       "      <td>Luca</td>\n",
       "      <td>Rondina</td>\n",
       "      <td>L.Rondina@sussex.ac.uk</td>\n",
       "    </tr>\n",
       "    <tr>\n",
       "      <th>1</th>\n",
       "      <td>Roger</td>\n",
       "      <td>Federer</td>\n",
       "      <td>R.Federer@tennis.com</td>\n",
       "    </tr>\n",
       "  </tbody>\n",
       "</table>\n",
       "</div>"
      ],
      "text/plain": [
       "    name  surname                   email\n",
       "0   Luca  Rondina  L.Rondina@sussex.ac.uk\n",
       "1  Roger  Federer    R.Federer@tennis.com"
      ]
     },
     "execution_count": 23,
     "metadata": {},
     "output_type": "execute_result"
    }
   ],
   "source": [
    "# Check whether player name is Luca or Roger\n",
    "name_is_luca_or_roger = (df_players[\"name\"] == \"Luca\") | (df_players[\"name\"] == \"Roger\")\n",
    "\n",
    "# Filter data frame\n",
    "df_players.loc[name_is_luca_or_roger]"
   ]
  },
  {
   "cell_type": "code",
   "execution_count": 24,
   "metadata": {
    "scrolled": true
   },
   "outputs": [
    {
     "data": {
      "text/html": [
       "<div>\n",
       "<style scoped>\n",
       "    .dataframe tbody tr th:only-of-type {\n",
       "        vertical-align: middle;\n",
       "    }\n",
       "\n",
       "    .dataframe tbody tr th {\n",
       "        vertical-align: top;\n",
       "    }\n",
       "\n",
       "    .dataframe thead th {\n",
       "        text-align: right;\n",
       "    }\n",
       "</style>\n",
       "<table border=\"1\" class=\"dataframe\">\n",
       "  <thead>\n",
       "    <tr style=\"text-align: right;\">\n",
       "      <th></th>\n",
       "      <th>name</th>\n",
       "      <th>surname</th>\n",
       "      <th>email</th>\n",
       "    </tr>\n",
       "  </thead>\n",
       "  <tbody>\n",
       "  </tbody>\n",
       "</table>\n",
       "</div>"
      ],
      "text/plain": [
       "Empty DataFrame\n",
       "Columns: [name, surname, email]\n",
       "Index: []"
      ]
     },
     "execution_count": 24,
     "metadata": {},
     "output_type": "execute_result"
    }
   ],
   "source": [
    "# Check whether player name is Luca and surname Federer\n",
    "fullname_is_lucafederer = (df_players[\"name\"] == \"Luca\") & (df_players[\"surname\"] == \"Federer\")\n",
    "fullname_is_lucafederer\n",
    "\n",
    "# Filter data frame\n",
    "df_players.loc[fullname_is_lucafederer]"
   ]
  },
  {
   "cell_type": "markdown",
   "metadata": {},
   "source": [
    "We can also filter data that does NOT meet a condition and inspect specific variables."
   ]
  },
  {
   "cell_type": "code",
   "execution_count": 25,
   "metadata": {},
   "outputs": [
    {
     "data": {
      "text/plain": [
       "2       R.Nadal@tennis.com\n",
       "3    N.Djokovic@tennis.com\n",
       "Name: email, dtype: object"
      ]
     },
     "execution_count": 25,
     "metadata": {},
     "output_type": "execute_result"
    }
   ],
   "source": [
    "# Get emails of players whose name is not Luca or Roger\n",
    "df_players.loc[~name_is_luca_or_roger, \"email\"]"
   ]
  },
  {
   "cell_type": "markdown",
   "metadata": {},
   "source": [
    "# Updating data frames\n",
    "\n",
    "Another common task in data analysis is updating the existing dataset to either reflect new information or to incorporate information from different sources (merging datasets).\n",
    "\n",
    "Either way, when working with data we are likely to do one of the following:\n",
    "\n",
    "- Modify existing observations in a data frame\n",
    "- Create new variables and/or deleting existing ones\n",
    "- Add new observations and/or deleting existing ones\n",
    "\n",
    "As always, we will proceed through examples."
   ]
  },
  {
   "cell_type": "markdown",
   "metadata": {},
   "source": [
    "## Update values within a data frame\n",
    "\n",
    "Updating individual observations in a data frame is done using a syntax similar to that of updating values in a list or dictionary.\n",
    "\n",
    "All we need is the index or key of the value(s) we want to modify and the new desired value(s).\n",
    "\n",
    "Using our players data frame, let's say we want to change the name and email of Nadal to \"Rafa\" and \"Rafa.Nadal\\@tennis.com\"."
   ]
  },
  {
   "cell_type": "code",
   "execution_count": 26,
   "metadata": {},
   "outputs": [
    {
     "data": {
      "text/html": [
       "<div>\n",
       "<style scoped>\n",
       "    .dataframe tbody tr th:only-of-type {\n",
       "        vertical-align: middle;\n",
       "    }\n",
       "\n",
       "    .dataframe tbody tr th {\n",
       "        vertical-align: top;\n",
       "    }\n",
       "\n",
       "    .dataframe thead th {\n",
       "        text-align: right;\n",
       "    }\n",
       "</style>\n",
       "<table border=\"1\" class=\"dataframe\">\n",
       "  <thead>\n",
       "    <tr style=\"text-align: right;\">\n",
       "      <th></th>\n",
       "      <th>name</th>\n",
       "      <th>surname</th>\n",
       "      <th>email</th>\n",
       "    </tr>\n",
       "  </thead>\n",
       "  <tbody>\n",
       "    <tr>\n",
       "      <th>0</th>\n",
       "      <td>Luca</td>\n",
       "      <td>Rondina</td>\n",
       "      <td>L.Rondina@sussex.ac.uk</td>\n",
       "    </tr>\n",
       "    <tr>\n",
       "      <th>1</th>\n",
       "      <td>Roger</td>\n",
       "      <td>Federer</td>\n",
       "      <td>R.Federer@tennis.com</td>\n",
       "    </tr>\n",
       "    <tr>\n",
       "      <th>2</th>\n",
       "      <td>Rafa</td>\n",
       "      <td>Nadal</td>\n",
       "      <td>Rafa.Nadal@tennis.com</td>\n",
       "    </tr>\n",
       "    <tr>\n",
       "      <th>3</th>\n",
       "      <td>Novak</td>\n",
       "      <td>Djokovic</td>\n",
       "      <td>N.Djokovic@tennis.com</td>\n",
       "    </tr>\n",
       "  </tbody>\n",
       "</table>\n",
       "</div>"
      ],
      "text/plain": [
       "    name   surname                   email\n",
       "0   Luca   Rondina  L.Rondina@sussex.ac.uk\n",
       "1  Roger   Federer    R.Federer@tennis.com\n",
       "2   Rafa     Nadal   Rafa.Nadal@tennis.com\n",
       "3  Novak  Djokovic   N.Djokovic@tennis.com"
      ]
     },
     "execution_count": 26,
     "metadata": {},
     "output_type": "execute_result"
    }
   ],
   "source": [
    "# Update Nadal's name and email\n",
    "df_players.loc[df_players[\"surname\"] == \"Nadal\", [\"name\", \"email\"]] = [\"Rafa\", \"Rafa.Nadal@tennis.com\"]\n",
    "df_players"
   ]
  },
  {
   "cell_type": "markdown",
   "metadata": {},
   "source": [
    "The assignment above is doing three things:\n",
    "\n",
    "1. Getting the index location via the condition ```df_players[\"surname\"] == \"Nadal\"```\n",
    "2. Creating a smaller data frame with name and email only using ```loc[Boolean_index, [\"name\", \"email\"]]```\n",
    "3. Substituting the values via the assignment operator ```=```"
   ]
  },
  {
   "cell_type": "markdown",
   "metadata": {},
   "source": [
    "### Update multiple values\n",
    "\n",
    "Similarly to dictionaries, data frames have an ```update()``` method that allows to substitute existing values with new ones whenever the keys match. In a data frame context, the keys will be the variable names.\n",
    "\n",
    "Let's say that we want to change the emails of all players to the ```Name.Surname\\@domain``` format. We can do that by creating a **new** data frame with the desired email addresses and use the ```update()``` method on the original data frame."
   ]
  },
  {
   "cell_type": "code",
   "execution_count": 27,
   "metadata": {},
   "outputs": [
    {
     "data": {
      "text/html": [
       "<div>\n",
       "<style scoped>\n",
       "    .dataframe tbody tr th:only-of-type {\n",
       "        vertical-align: middle;\n",
       "    }\n",
       "\n",
       "    .dataframe tbody tr th {\n",
       "        vertical-align: top;\n",
       "    }\n",
       "\n",
       "    .dataframe thead th {\n",
       "        text-align: right;\n",
       "    }\n",
       "</style>\n",
       "<table border=\"1\" class=\"dataframe\">\n",
       "  <thead>\n",
       "    <tr style=\"text-align: right;\">\n",
       "      <th></th>\n",
       "      <th>email</th>\n",
       "    </tr>\n",
       "  </thead>\n",
       "  <tbody>\n",
       "    <tr>\n",
       "      <th>0</th>\n",
       "      <td>Luca.Rondina@surrey.ac.uk</td>\n",
       "    </tr>\n",
       "    <tr>\n",
       "      <th>1</th>\n",
       "      <td>Roger.Federer@tennis.com</td>\n",
       "    </tr>\n",
       "    <tr>\n",
       "      <th>2</th>\n",
       "      <td>Rafael.Nadal@tennis.com</td>\n",
       "    </tr>\n",
       "    <tr>\n",
       "      <th>3</th>\n",
       "      <td>Novak.Djokovic@tennis.com</td>\n",
       "    </tr>\n",
       "  </tbody>\n",
       "</table>\n",
       "</div>"
      ],
      "text/plain": [
       "                       email\n",
       "0  Luca.Rondina@surrey.ac.uk\n",
       "1   Roger.Federer@tennis.com\n",
       "2    Rafael.Nadal@tennis.com\n",
       "3  Novak.Djokovic@tennis.com"
      ]
     },
     "execution_count": 27,
     "metadata": {},
     "output_type": "execute_result"
    }
   ],
   "source": [
    "# Create a new data frame with email addresses only\n",
    "df_new_emails = pd.DataFrame({\"email\": [\"Luca.Rondina@surrey.ac.uk\", \"Roger.Federer@tennis.com\", \"Rafael.Nadal@tennis.com\", \"Novak.Djokovic@tennis.com\"]})\n",
    "df_new_emails"
   ]
  },
  {
   "cell_type": "code",
   "execution_count": 28,
   "metadata": {},
   "outputs": [
    {
     "data": {
      "text/html": [
       "<div>\n",
       "<style scoped>\n",
       "    .dataframe tbody tr th:only-of-type {\n",
       "        vertical-align: middle;\n",
       "    }\n",
       "\n",
       "    .dataframe tbody tr th {\n",
       "        vertical-align: top;\n",
       "    }\n",
       "\n",
       "    .dataframe thead th {\n",
       "        text-align: right;\n",
       "    }\n",
       "</style>\n",
       "<table border=\"1\" class=\"dataframe\">\n",
       "  <thead>\n",
       "    <tr style=\"text-align: right;\">\n",
       "      <th></th>\n",
       "      <th>name</th>\n",
       "      <th>surname</th>\n",
       "      <th>email</th>\n",
       "    </tr>\n",
       "  </thead>\n",
       "  <tbody>\n",
       "    <tr>\n",
       "      <th>0</th>\n",
       "      <td>Luca</td>\n",
       "      <td>Rondina</td>\n",
       "      <td>Luca.Rondina@surrey.ac.uk</td>\n",
       "    </tr>\n",
       "    <tr>\n",
       "      <th>1</th>\n",
       "      <td>Roger</td>\n",
       "      <td>Federer</td>\n",
       "      <td>Roger.Federer@tennis.com</td>\n",
       "    </tr>\n",
       "    <tr>\n",
       "      <th>2</th>\n",
       "      <td>Rafa</td>\n",
       "      <td>Nadal</td>\n",
       "      <td>Rafael.Nadal@tennis.com</td>\n",
       "    </tr>\n",
       "    <tr>\n",
       "      <th>3</th>\n",
       "      <td>Novak</td>\n",
       "      <td>Djokovic</td>\n",
       "      <td>Novak.Djokovic@tennis.com</td>\n",
       "    </tr>\n",
       "  </tbody>\n",
       "</table>\n",
       "</div>"
      ],
      "text/plain": [
       "    name   surname                      email\n",
       "0   Luca   Rondina  Luca.Rondina@surrey.ac.uk\n",
       "1  Roger   Federer   Roger.Federer@tennis.com\n",
       "2   Rafa     Nadal    Rafael.Nadal@tennis.com\n",
       "3  Novak  Djokovic  Novak.Djokovic@tennis.com"
      ]
     },
     "execution_count": 28,
     "metadata": {},
     "output_type": "execute_result"
    }
   ],
   "source": [
    "# Update the old data frame with new email addresses\n",
    "df_players.update(df_new_emails)\n",
    "df_players"
   ]
  },
  {
   "cell_type": "markdown",
   "metadata": {},
   "source": [
    "### Modify values directly: the ```apply()``` method\n",
    "\n",
    "Sometimes there are cases in which you want to modify the values directly by using some kind of transformation.\n",
    "\n",
    "Data frames have a method called ```apply()``` that allows us to apply any transformation stored in a function to the values in the data frame.\n",
    "\n",
    "As an example, let's say that we want to convert all email addresses to a lowercase version."
   ]
  },
  {
   "cell_type": "code",
   "execution_count": 29,
   "metadata": {},
   "outputs": [
    {
     "data": {
      "text/plain": [
       "0    luca.rondina@surrey.ac.uk\n",
       "1     roger.federer@tennis.com\n",
       "2      rafael.nadal@tennis.com\n",
       "3    novak.djokovic@tennis.com\n",
       "Name: email, dtype: object"
      ]
     },
     "execution_count": 29,
     "metadata": {},
     "output_type": "execute_result"
    }
   ],
   "source": [
    "# First define a function that converts strings to lowercase\n",
    "def lowercase_email(email):\n",
    "    return email.lower()\n",
    "\n",
    "# Then apply the function to all email addresses in the data frame\n",
    "df_players['email'].apply(lowercase_email)"
   ]
  },
  {
   "cell_type": "code",
   "execution_count": 30,
   "metadata": {},
   "outputs": [
    {
     "data": {
      "text/html": [
       "<div>\n",
       "<style scoped>\n",
       "    .dataframe tbody tr th:only-of-type {\n",
       "        vertical-align: middle;\n",
       "    }\n",
       "\n",
       "    .dataframe tbody tr th {\n",
       "        vertical-align: top;\n",
       "    }\n",
       "\n",
       "    .dataframe thead th {\n",
       "        text-align: right;\n",
       "    }\n",
       "</style>\n",
       "<table border=\"1\" class=\"dataframe\">\n",
       "  <thead>\n",
       "    <tr style=\"text-align: right;\">\n",
       "      <th></th>\n",
       "      <th>name</th>\n",
       "      <th>surname</th>\n",
       "      <th>email</th>\n",
       "    </tr>\n",
       "  </thead>\n",
       "  <tbody>\n",
       "    <tr>\n",
       "      <th>0</th>\n",
       "      <td>Luca</td>\n",
       "      <td>Rondina</td>\n",
       "      <td>luca.rondina@surrey.ac.uk</td>\n",
       "    </tr>\n",
       "    <tr>\n",
       "      <th>1</th>\n",
       "      <td>Roger</td>\n",
       "      <td>Federer</td>\n",
       "      <td>roger.federer@tennis.com</td>\n",
       "    </tr>\n",
       "    <tr>\n",
       "      <th>2</th>\n",
       "      <td>Rafa</td>\n",
       "      <td>Nadal</td>\n",
       "      <td>rafael.nadal@tennis.com</td>\n",
       "    </tr>\n",
       "    <tr>\n",
       "      <th>3</th>\n",
       "      <td>Novak</td>\n",
       "      <td>Djokovic</td>\n",
       "      <td>novak.djokovic@tennis.com</td>\n",
       "    </tr>\n",
       "  </tbody>\n",
       "</table>\n",
       "</div>"
      ],
      "text/plain": [
       "    name   surname                      email\n",
       "0   Luca   Rondina  luca.rondina@surrey.ac.uk\n",
       "1  Roger   Federer   roger.federer@tennis.com\n",
       "2   Rafa     Nadal    rafael.nadal@tennis.com\n",
       "3  Novak  Djokovic  novak.djokovic@tennis.com"
      ]
     },
     "execution_count": 30,
     "metadata": {},
     "output_type": "execute_result"
    }
   ],
   "source": [
    "# Finally update the original data frame\n",
    "df_players['email'] = df_players['email'].apply(lowercase_email)\n",
    "df_players"
   ]
  },
  {
   "cell_type": "markdown",
   "metadata": {},
   "source": [
    "## Adding new variables and observations\n",
    "\n",
    "Finally, let's see how we can add additional variables and/or observations to our data frame."
   ]
  },
  {
   "cell_type": "markdown",
   "metadata": {},
   "source": [
    "### Adding new variables\n",
    "\n",
    "Adding new variables, i.e. columns, is identical to adding a new key and associated values to a dictionary.\n",
    "\n",
    "For instance, if we want to add the nationality of our players we can simply do that with"
   ]
  },
  {
   "cell_type": "code",
   "execution_count": 31,
   "metadata": {},
   "outputs": [
    {
     "data": {
      "text/html": [
       "<div>\n",
       "<style scoped>\n",
       "    .dataframe tbody tr th:only-of-type {\n",
       "        vertical-align: middle;\n",
       "    }\n",
       "\n",
       "    .dataframe tbody tr th {\n",
       "        vertical-align: top;\n",
       "    }\n",
       "\n",
       "    .dataframe thead th {\n",
       "        text-align: right;\n",
       "    }\n",
       "</style>\n",
       "<table border=\"1\" class=\"dataframe\">\n",
       "  <thead>\n",
       "    <tr style=\"text-align: right;\">\n",
       "      <th></th>\n",
       "      <th>name</th>\n",
       "      <th>surname</th>\n",
       "      <th>email</th>\n",
       "      <th>nationality</th>\n",
       "    </tr>\n",
       "  </thead>\n",
       "  <tbody>\n",
       "    <tr>\n",
       "      <th>0</th>\n",
       "      <td>Luca</td>\n",
       "      <td>Rondina</td>\n",
       "      <td>luca.rondina@surrey.ac.uk</td>\n",
       "      <td>Italian</td>\n",
       "    </tr>\n",
       "    <tr>\n",
       "      <th>1</th>\n",
       "      <td>Roger</td>\n",
       "      <td>Federer</td>\n",
       "      <td>roger.federer@tennis.com</td>\n",
       "      <td>Swiss</td>\n",
       "    </tr>\n",
       "    <tr>\n",
       "      <th>2</th>\n",
       "      <td>Rafa</td>\n",
       "      <td>Nadal</td>\n",
       "      <td>rafael.nadal@tennis.com</td>\n",
       "      <td>Spanish</td>\n",
       "    </tr>\n",
       "    <tr>\n",
       "      <th>3</th>\n",
       "      <td>Novak</td>\n",
       "      <td>Djokovic</td>\n",
       "      <td>novak.djokovic@tennis.com</td>\n",
       "      <td>Serbian</td>\n",
       "    </tr>\n",
       "  </tbody>\n",
       "</table>\n",
       "</div>"
      ],
      "text/plain": [
       "    name   surname                      email nationality\n",
       "0   Luca   Rondina  luca.rondina@surrey.ac.uk     Italian\n",
       "1  Roger   Federer   roger.federer@tennis.com       Swiss\n",
       "2   Rafa     Nadal    rafael.nadal@tennis.com     Spanish\n",
       "3  Novak  Djokovic  novak.djokovic@tennis.com     Serbian"
      ]
     },
     "execution_count": 31,
     "metadata": {},
     "output_type": "execute_result"
    }
   ],
   "source": [
    "# Add variable to the data frame\n",
    "df_players[\"nationality\"] = [\"Italian\", \"Swiss\", \"Spanish\", \"Serbian\"]\n",
    "df_players"
   ]
  },
  {
   "cell_type": "markdown",
   "metadata": {},
   "source": [
    "### Adding new observations\n",
    "\n",
    "If instead we want to add new observations to our dataset we can use the data frame ```append()``` method.\n",
    "\n",
    "The ```append()``` method simply enlarges the existing data frame with another new data frame that has the same variable names.\n",
    "\n",
    "Let's another another couple of legends to our data frame: Pete Sampras and Andre Agassi."
   ]
  },
  {
   "cell_type": "code",
   "execution_count": 18,
   "metadata": {},
   "outputs": [
    {
     "data": {
      "text/html": [
       "<div>\n",
       "<style scoped>\n",
       "    .dataframe tbody tr th:only-of-type {\n",
       "        vertical-align: middle;\n",
       "    }\n",
       "\n",
       "    .dataframe tbody tr th {\n",
       "        vertical-align: top;\n",
       "    }\n",
       "\n",
       "    .dataframe thead th {\n",
       "        text-align: right;\n",
       "    }\n",
       "</style>\n",
       "<table border=\"1\" class=\"dataframe\">\n",
       "  <thead>\n",
       "    <tr style=\"text-align: right;\">\n",
       "      <th></th>\n",
       "      <th>name</th>\n",
       "      <th>surname</th>\n",
       "      <th>email</th>\n",
       "      <th>nationality</th>\n",
       "    </tr>\n",
       "  </thead>\n",
       "  <tbody>\n",
       "    <tr>\n",
       "      <th>0</th>\n",
       "      <td>Luca</td>\n",
       "      <td>Rondina</td>\n",
       "      <td>L.Rondina@sussex.ac.uk</td>\n",
       "      <td>NaN</td>\n",
       "    </tr>\n",
       "    <tr>\n",
       "      <th>1</th>\n",
       "      <td>Roger</td>\n",
       "      <td>Federer</td>\n",
       "      <td>R.Federer@tennis.com</td>\n",
       "      <td>NaN</td>\n",
       "    </tr>\n",
       "    <tr>\n",
       "      <th>2</th>\n",
       "      <td>Rafael</td>\n",
       "      <td>Nadal</td>\n",
       "      <td>R.Nadal@tennis.com</td>\n",
       "      <td>NaN</td>\n",
       "    </tr>\n",
       "    <tr>\n",
       "      <th>3</th>\n",
       "      <td>Novak</td>\n",
       "      <td>Djokovic</td>\n",
       "      <td>N.Djokovic@tennis.com</td>\n",
       "      <td>NaN</td>\n",
       "    </tr>\n",
       "    <tr>\n",
       "      <th>4</th>\n",
       "      <td>Pete</td>\n",
       "      <td>Sampras</td>\n",
       "      <td>pete.sampras@tennis.com</td>\n",
       "      <td>American</td>\n",
       "    </tr>\n",
       "    <tr>\n",
       "      <th>5</th>\n",
       "      <td>Andre</td>\n",
       "      <td>Agassi</td>\n",
       "      <td>andre.agassi@tennis.com</td>\n",
       "      <td>American</td>\n",
       "    </tr>\n",
       "  </tbody>\n",
       "</table>\n",
       "</div>"
      ],
      "text/plain": [
       "     name   surname                    email nationality\n",
       "0    Luca   Rondina   L.Rondina@sussex.ac.uk         NaN\n",
       "1   Roger   Federer     R.Federer@tennis.com         NaN\n",
       "2  Rafael     Nadal       R.Nadal@tennis.com         NaN\n",
       "3   Novak  Djokovic    N.Djokovic@tennis.com         NaN\n",
       "4    Pete   Sampras  pete.sampras@tennis.com    American\n",
       "5   Andre    Agassi  andre.agassi@tennis.com    American"
      ]
     },
     "execution_count": 18,
     "metadata": {},
     "output_type": "execute_result"
    }
   ],
   "source": [
    "# Create a new data frame with new players\n",
    "df_new_players = pd.DataFrame({\n",
    "    \"name\": [\"Pete\", \"Andre\"],\n",
    "    \"surname\": [\"Sampras\", \"Agassi\"],\n",
    "    \"email\": [\"pete.sampras@tennis.com\", \"andre.agassi@tennis.com\"],\n",
    "    \"nationality\": [\"American\", \"American\"]\n",
    "})\n",
    "\n",
    "# Enlarge existing data frame with the new one\n",
    "df_players = df_players.append(df_new_players, ignore_index=True)\n",
    "df_players"
   ]
  }
 ],
 "metadata": {
  "kernelspec": {
   "display_name": "Python 3",
   "language": "python",
   "name": "python3"
  },
  "language_info": {
   "codemirror_mode": {
    "name": "ipython",
    "version": 3
   },
   "file_extension": ".py",
   "mimetype": "text/x-python",
   "name": "python",
   "nbconvert_exporter": "python",
   "pygments_lexer": "ipython3",
   "version": "3.8.5"
  },
  "toc": {
   "base_numbering": 1,
   "nav_menu": {},
   "number_sections": false,
   "sideBar": true,
   "skip_h1_title": false,
   "title_cell": "Table of Contents",
   "title_sidebar": "Contents",
   "toc_cell": false,
   "toc_position": {},
   "toc_section_display": true,
   "toc_window_display": false
  },
  "varInspector": {
   "cols": {
    "lenName": 16,
    "lenType": 16,
    "lenVar": 40
   },
   "kernels_config": {
    "python": {
     "delete_cmd_postfix": "",
     "delete_cmd_prefix": "del ",
     "library": "var_list.py",
     "varRefreshCmd": "print(var_dic_list())"
    },
    "r": {
     "delete_cmd_postfix": ") ",
     "delete_cmd_prefix": "rm(",
     "library": "var_list.r",
     "varRefreshCmd": "cat(var_dic_list()) "
    }
   },
   "types_to_exclude": [
    "module",
    "function",
    "builtin_function_or_method",
    "instance",
    "_Feature"
   ],
   "window_display": false
  }
 },
 "nbformat": 4,
 "nbformat_minor": 4
}
