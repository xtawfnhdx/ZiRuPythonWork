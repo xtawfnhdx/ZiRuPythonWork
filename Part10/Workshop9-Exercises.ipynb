{
 "cells": [
  {
   "cell_type": "code",
   "execution_count": null,
   "metadata": {},
   "outputs": [],
   "source": [
    "# Run this cell to import the Pandas library\n",
    "import pandas as pd"
   ]
  },
  {
   "cell_type": "markdown",
   "metadata": {},
   "source": [
    "## Exercise 1\n",
    "\n",
    "The table below contains names and surnames of famous economists\n",
    "\n",
    "| Name   | Surname   | Nationality |\n",
    "|--------|-----------| ----------- |\n",
    "| Adam   | Smith     | Scottish    |\n",
    "| Thomas | Malthus   | English     |\n",
    "| David  | Ricardo   | English     |\n",
    "| Karl   | Marx      | German      |\n",
    "\n",
    "Using Pandas, create a data frame called ```df_econ``` from the table above. Then do the following:\n",
    "\n",
    "1. Using indexing, get a series of all names.\n",
    "2. Using nested indexing, i.e. ```df[][]```, get the surname of Thomas Malthus.\n",
    "3. Using the ```loc()``` method, get the name and surname of David Ricardo.\n",
    "4. Using the ```loc()``` method, get a series of all surnames."
   ]
  },
  {
   "cell_type": "code",
   "execution_count": null,
   "metadata": {},
   "outputs": [],
   "source": []
  },
  {
   "cell_type": "markdown",
   "metadata": {},
   "source": [
    "## Exercise 2\n",
    "\n",
    "Using the famous economists data frame created above, do the following:\n",
    "\n",
    "1. Using Boolean indexing, get all English economists.\n",
    "2. Using Boolean indexing, get all British economists.\n",
    "3. Using Boolean indexing, get all non-British economists."
   ]
  },
  {
   "cell_type": "code",
   "execution_count": null,
   "metadata": {},
   "outputs": [],
   "source": []
  },
  {
   "cell_type": "markdown",
   "metadata": {},
   "source": [
    "## Exercise 3\n",
    "\n",
    "In Pandas, individual columns of a data frame are objects of their own called ```Series```. For instance, the ```Surname``` column of the economists data frame above is a ```Series```."
   ]
  },
  {
   "cell_type": "code",
   "execution_count": null,
   "metadata": {},
   "outputs": [],
   "source": [
    "# Get Surname series from the famous economists data frame\n",
    "df_econ[\"Surname\"]"
   ]
  },
  {
   "cell_type": "code",
   "execution_count": null,
   "metadata": {},
   "outputs": [],
   "source": [
    "# Check data type\n",
    "type(df_econ[\"Surname\"])"
   ]
  },
  {
   "cell_type": "markdown",
   "metadata": {},
   "source": [
    "```Series``` objects have a built-in string method ```str``` that allow us to use all standard string method such as ```capitalize()```, ```count()```, ```upper()```, ```lower()```, and so on.\n",
    "\n",
    "Pandas will apply the called method to **all** strings in the series. The syntax for calling a string method on a Series object is\n",
    "\n",
    "```python\n",
    "series_name.str.method_name()\n",
    "```\n",
    "\n",
    "Using string methods, do the following:\n",
    "\n",
    "1. Convert all names to lowercase\n",
    "2. Convert all surnames to uppercase\n",
    "3. Re-covert back to original capitalised version of names and surnames\n",
    "4. Get all economists with the substring ```\"th\"``` in their surname"
   ]
  },
  {
   "cell_type": "code",
   "execution_count": null,
   "metadata": {},
   "outputs": [],
   "source": []
  },
  {
   "cell_type": "markdown",
   "metadata": {},
   "source": [
    "## Exercise 4\n",
    "\n",
    "The dictionary below represents the unemployment rate for different regions in the U.S. measured every other year from 1995 to 2017 (both included):\n",
    "\n",
    "```python\n",
    "data = {\n",
    "    \"NorthEast\": [5.9,  5.6,  4.4,  3.8,  5.8,  4.9,  4.3,  7.1,  8.3,  7.9,  5.7],\n",
    "    \"MidWest\": [4.5,  4.3,  3.6,  4. ,  5.7,  5.7,  4.9,  8.1,  8.7,  7.4,  5.1],\n",
    "    \"South\": [5.3,  5.2,  4.2,  4. ,  5.7,  5.2,  4.3,  7.6,  9.1,  7.4,  5.5],\n",
    "    \"West\": [6.6, 6., 5.2, 4.6, 6.5, 5.5, 4.5, 8.6, 10.7, 8.5, 6.1],\n",
    "    \"National\": [5.6, 5.3, 4.3, 4.2, 5.8, 5.3, 4.6, 7.8, 9.1, 8., 5.7]\n",
    "}\n",
    "```\n",
    "\n",
    "Create a data frame from the above dictionary using the years as an index. You can assign an index to a data frame with the following syntax\n",
    "\n",
    "```python\n",
    "df_name = pd.DataFrame(data, index=years)\n",
    "```\n",
    "\n",
    "where ```years``` should be a **list** containing the year values.\n",
    "\n",
    "Once the data frame is created, do the following:\n",
    "\n",
    "1. Get the national unemployment rate from 2005 to 2015.\n",
    "2. Using the method ```mean()``` compute and show the mean unemployment rate for all regions\n",
    "3. Show in which years the unemployment rate in the MidWest has been above the national average\n"
   ]
  },
  {
   "cell_type": "code",
   "execution_count": null,
   "metadata": {},
   "outputs": [],
   "source": []
  },
  {
   "cell_type": "markdown",
   "metadata": {},
   "source": [
    "## Exercise 5\n",
    "\n",
    "Import the expenditure survey dataset from the comma-separated values (csv) file ```expenditure_data.csv```. Make sure the file is stored in the same folder as this Jupyter notebook or take note of the exact location.\n",
    "\n",
    "The associated Pandas data frame should be named ```df_exp```.\n",
    "\n",
    "Get information on the data frame using the ```info()``` method, and show summary statistics for numerical values using the ```describe()``` method."
   ]
  },
  {
   "cell_type": "code",
   "execution_count": null,
   "metadata": {},
   "outputs": [],
   "source": []
  },
  {
   "cell_type": "markdown",
   "metadata": {},
   "source": [
    "## Exercise 6\n",
    "\n",
    "Using the expenditure survey ```df_exp``` data frame, answer the following questions:\n",
    "\n",
    "1. How many British households have a weekly expenditure between £200 and £300?\n",
    "2. What is the median weekly income in Wales?\n",
    "3. What is the percentage of households in London with no children?\n",
    "4. How many households outside London own a house?\n",
    "\n"
   ]
  },
  {
   "cell_type": "code",
   "execution_count": null,
   "metadata": {},
   "outputs": [],
   "source": []
  }
 ],
 "metadata": {
  "kernelspec": {
   "display_name": "Python 3",
   "language": "python",
   "name": "python3"
  },
  "language_info": {
   "codemirror_mode": {
    "name": "ipython",
    "version": 3
   },
   "file_extension": ".py",
   "mimetype": "text/x-python",
   "name": "python",
   "nbconvert_exporter": "python",
   "pygments_lexer": "ipython3",
   "version": "3.8.3"
  },
  "toc": {
   "base_numbering": 1,
   "nav_menu": {},
   "number_sections": false,
   "sideBar": true,
   "skip_h1_title": false,
   "title_cell": "Table of Contents",
   "title_sidebar": "Contents",
   "toc_cell": false,
   "toc_position": {},
   "toc_section_display": true,
   "toc_window_display": false
  },
  "varInspector": {
   "cols": {
    "lenName": 16,
    "lenType": 16,
    "lenVar": 40
   },
   "kernels_config": {
    "python": {
     "delete_cmd_postfix": "",
     "delete_cmd_prefix": "del ",
     "library": "var_list.py",
     "varRefreshCmd": "print(var_dic_list())"
    },
    "r": {
     "delete_cmd_postfix": ") ",
     "delete_cmd_prefix": "rm(",
     "library": "var_list.r",
     "varRefreshCmd": "cat(var_dic_list()) "
    }
   },
   "types_to_exclude": [
    "module",
    "function",
    "builtin_function_or_method",
    "instance",
    "_Feature"
   ],
   "window_display": false
  }
 },
 "nbformat": 4,
 "nbformat_minor": 4
}
