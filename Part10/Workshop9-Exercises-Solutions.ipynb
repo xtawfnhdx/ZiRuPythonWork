{
 "cells": [
  {
   "cell_type": "code",
   "execution_count": 1,
   "metadata": {},
   "outputs": [],
   "source": [
    "# Run this cell to import the Pandas library\n",
    "import pandas as pd"
   ]
  },
  {
   "cell_type": "markdown",
   "metadata": {},
   "source": [
    "## Exercise 1\n",
    "\n",
    "The table below contains names, surnames, and nationality of famous economists\n",
    "\n",
    "| Name   | Surname   | Nationality |\n",
    "|--------|-----------| ----------- |\n",
    "| Adam   | Smith     | Scottish    |\n",
    "| Thomas | Malthus   | English     |\n",
    "| David  | Ricardo   | English     |\n",
    "| Karl   | Marx      | German      |\n",
    "\n",
    "Using Pandas, create a data frame called ```df_econ``` from the table above. Then do the following:\n",
    "\n",
    "1. Using indexing, get a series of all names.\n",
    "2. Using nested indexing, i.e. ```df[][]```, get the surname of Thomas Malthus.\n",
    "3. Using the ```loc()``` method, get the name and surname of David Ricardo.\n",
    "4. Using the ```loc()``` method, get a series of all surnames."
   ]
  },
  {
   "cell_type": "code",
   "execution_count": 2,
   "metadata": {},
   "outputs": [
    {
     "data": {
      "text/plain": [
       "{'Name': ['Adam', 'Thomas', 'David', 'Karl'],\n",
       " 'Surname': ['Smith', 'Malthus', 'Ricardo', 'Marx'],\n",
       " 'Nationality': ['Scottish', 'English', 'English', 'German']}"
      ]
     },
     "execution_count": 2,
     "metadata": {},
     "output_type": "execute_result"
    }
   ],
   "source": [
    "# First we want to create a dictionary:\n",
    "# - The keys will represent the name of the variables\n",
    "# - The values will represents a list of observations\n",
    "economists = {\n",
    "    \"Name\": [\"Adam\", \"Thomas\", \"David\", \"Karl\"],\n",
    "    \"Surname\": [\"Smith\", \"Malthus\", \"Ricardo\", \"Marx\"],\n",
    "    \"Nationality\": [\"Scottish\", \"English\", \"English\", \"German\"]\n",
    "}\n",
    "economists"
   ]
  },
  {
   "cell_type": "code",
   "execution_count": 3,
   "metadata": {},
   "outputs": [
    {
     "data": {
      "text/html": [
       "<div>\n",
       "<style scoped>\n",
       "    .dataframe tbody tr th:only-of-type {\n",
       "        vertical-align: middle;\n",
       "    }\n",
       "\n",
       "    .dataframe tbody tr th {\n",
       "        vertical-align: top;\n",
       "    }\n",
       "\n",
       "    .dataframe thead th {\n",
       "        text-align: right;\n",
       "    }\n",
       "</style>\n",
       "<table border=\"1\" class=\"dataframe\">\n",
       "  <thead>\n",
       "    <tr style=\"text-align: right;\">\n",
       "      <th></th>\n",
       "      <th>Name</th>\n",
       "      <th>Surname</th>\n",
       "      <th>Nationality</th>\n",
       "    </tr>\n",
       "  </thead>\n",
       "  <tbody>\n",
       "    <tr>\n",
       "      <th>0</th>\n",
       "      <td>Adam</td>\n",
       "      <td>Smith</td>\n",
       "      <td>Scottish</td>\n",
       "    </tr>\n",
       "    <tr>\n",
       "      <th>1</th>\n",
       "      <td>Thomas</td>\n",
       "      <td>Malthus</td>\n",
       "      <td>English</td>\n",
       "    </tr>\n",
       "    <tr>\n",
       "      <th>2</th>\n",
       "      <td>David</td>\n",
       "      <td>Ricardo</td>\n",
       "      <td>English</td>\n",
       "    </tr>\n",
       "    <tr>\n",
       "      <th>3</th>\n",
       "      <td>Karl</td>\n",
       "      <td>Marx</td>\n",
       "      <td>German</td>\n",
       "    </tr>\n",
       "  </tbody>\n",
       "</table>\n",
       "</div>"
      ],
      "text/plain": [
       "     Name  Surname Nationality\n",
       "0    Adam    Smith    Scottish\n",
       "1  Thomas  Malthus     English\n",
       "2   David  Ricardo     English\n",
       "3    Karl     Marx      German"
      ]
     },
     "execution_count": 3,
     "metadata": {},
     "output_type": "execute_result"
    }
   ],
   "source": [
    "# Then we can use the dictionary above to create a data frame using Pandas\n",
    "df_econ = pd.DataFrame(economists)\n",
    "\n",
    "# Display the data frame\n",
    "df_econ"
   ]
  },
  {
   "cell_type": "code",
   "execution_count": 4,
   "metadata": {},
   "outputs": [
    {
     "data": {
      "text/plain": [
       "0      Adam\n",
       "1    Thomas\n",
       "2     David\n",
       "3      Karl\n",
       "Name: Name, dtype: object"
      ]
     },
     "execution_count": 4,
     "metadata": {},
     "output_type": "execute_result"
    }
   ],
   "source": [
    "# 1\n",
    "df_econ[\"Name\"]"
   ]
  },
  {
   "cell_type": "code",
   "execution_count": 5,
   "metadata": {},
   "outputs": [
    {
     "data": {
      "text/plain": [
       "'Malthus'"
      ]
     },
     "execution_count": 5,
     "metadata": {},
     "output_type": "execute_result"
    }
   ],
   "source": [
    "# 2\n",
    "df_econ[\"Surname\"][1]"
   ]
  },
  {
   "cell_type": "code",
   "execution_count": 6,
   "metadata": {},
   "outputs": [
    {
     "data": {
      "text/plain": [
       "Name         David\n",
       "Surname    Ricardo\n",
       "Name: 2, dtype: object"
      ]
     },
     "execution_count": 6,
     "metadata": {},
     "output_type": "execute_result"
    }
   ],
   "source": [
    "# 3\n",
    "# We have two options: indexing with a list or slicing\n",
    "# df_econ.loc[2, [\"Name\", \"Surname\"]]\n",
    "df_econ.loc[2, \"Name\":\"Surname\"]"
   ]
  },
  {
   "cell_type": "code",
   "execution_count": 7,
   "metadata": {},
   "outputs": [
    {
     "data": {
      "text/plain": [
       "0      Smith\n",
       "1    Malthus\n",
       "2    Ricardo\n",
       "3       Marx\n",
       "Name: Surname, dtype: object"
      ]
     },
     "execution_count": 7,
     "metadata": {},
     "output_type": "execute_result"
    }
   ],
   "source": [
    "# 4\n",
    "# We can use the colon : symbol to get all rows in the data frame\n",
    "# This is the same as slicing from start to end\n",
    "df_econ.loc[:, \"Surname\"]"
   ]
  },
  {
   "cell_type": "markdown",
   "metadata": {},
   "source": [
    "## Exercise 2\n",
    "\n",
    "Using the famous economists data frame created above, do the following:\n",
    "\n",
    "1. Using Boolean indexing, get all English economists.\n",
    "2. Using Boolean indexing, get all British economists.\n",
    "3. Using Boolean indexing, get all non-British economists."
   ]
  },
  {
   "cell_type": "code",
   "execution_count": 8,
   "metadata": {},
   "outputs": [
    {
     "data": {
      "text/html": [
       "<div>\n",
       "<style scoped>\n",
       "    .dataframe tbody tr th:only-of-type {\n",
       "        vertical-align: middle;\n",
       "    }\n",
       "\n",
       "    .dataframe tbody tr th {\n",
       "        vertical-align: top;\n",
       "    }\n",
       "\n",
       "    .dataframe thead th {\n",
       "        text-align: right;\n",
       "    }\n",
       "</style>\n",
       "<table border=\"1\" class=\"dataframe\">\n",
       "  <thead>\n",
       "    <tr style=\"text-align: right;\">\n",
       "      <th></th>\n",
       "      <th>Name</th>\n",
       "      <th>Surname</th>\n",
       "      <th>Nationality</th>\n",
       "    </tr>\n",
       "  </thead>\n",
       "  <tbody>\n",
       "    <tr>\n",
       "      <th>0</th>\n",
       "      <td>Adam</td>\n",
       "      <td>Smith</td>\n",
       "      <td>Scottish</td>\n",
       "    </tr>\n",
       "    <tr>\n",
       "      <th>1</th>\n",
       "      <td>Thomas</td>\n",
       "      <td>Malthus</td>\n",
       "      <td>English</td>\n",
       "    </tr>\n",
       "    <tr>\n",
       "      <th>2</th>\n",
       "      <td>David</td>\n",
       "      <td>Ricardo</td>\n",
       "      <td>English</td>\n",
       "    </tr>\n",
       "    <tr>\n",
       "      <th>3</th>\n",
       "      <td>Karl</td>\n",
       "      <td>Marx</td>\n",
       "      <td>German</td>\n",
       "    </tr>\n",
       "  </tbody>\n",
       "</table>\n",
       "</div>"
      ],
      "text/plain": [
       "     Name  Surname Nationality\n",
       "0    Adam    Smith    Scottish\n",
       "1  Thomas  Malthus     English\n",
       "2   David  Ricardo     English\n",
       "3    Karl     Marx      German"
      ]
     },
     "execution_count": 8,
     "metadata": {},
     "output_type": "execute_result"
    }
   ],
   "source": [
    "df_econ"
   ]
  },
  {
   "cell_type": "code",
   "execution_count": 9,
   "metadata": {},
   "outputs": [
    {
     "data": {
      "text/html": [
       "<div>\n",
       "<style scoped>\n",
       "    .dataframe tbody tr th:only-of-type {\n",
       "        vertical-align: middle;\n",
       "    }\n",
       "\n",
       "    .dataframe tbody tr th {\n",
       "        vertical-align: top;\n",
       "    }\n",
       "\n",
       "    .dataframe thead th {\n",
       "        text-align: right;\n",
       "    }\n",
       "</style>\n",
       "<table border=\"1\" class=\"dataframe\">\n",
       "  <thead>\n",
       "    <tr style=\"text-align: right;\">\n",
       "      <th></th>\n",
       "      <th>Name</th>\n",
       "      <th>Surname</th>\n",
       "      <th>Nationality</th>\n",
       "    </tr>\n",
       "  </thead>\n",
       "  <tbody>\n",
       "    <tr>\n",
       "      <th>1</th>\n",
       "      <td>Thomas</td>\n",
       "      <td>Malthus</td>\n",
       "      <td>English</td>\n",
       "    </tr>\n",
       "    <tr>\n",
       "      <th>2</th>\n",
       "      <td>David</td>\n",
       "      <td>Ricardo</td>\n",
       "      <td>English</td>\n",
       "    </tr>\n",
       "  </tbody>\n",
       "</table>\n",
       "</div>"
      ],
      "text/plain": [
       "     Name  Surname Nationality\n",
       "1  Thomas  Malthus     English\n",
       "2   David  Ricardo     English"
      ]
     },
     "execution_count": 9,
     "metadata": {},
     "output_type": "execute_result"
    }
   ],
   "source": [
    "# 1\n",
    "english_economists = (df_econ[\"Nationality\"] == \"English\")\n",
    "df_econ[english_economists]"
   ]
  },
  {
   "cell_type": "code",
   "execution_count": 10,
   "metadata": {},
   "outputs": [
    {
     "data": {
      "text/html": [
       "<div>\n",
       "<style scoped>\n",
       "    .dataframe tbody tr th:only-of-type {\n",
       "        vertical-align: middle;\n",
       "    }\n",
       "\n",
       "    .dataframe tbody tr th {\n",
       "        vertical-align: top;\n",
       "    }\n",
       "\n",
       "    .dataframe thead th {\n",
       "        text-align: right;\n",
       "    }\n",
       "</style>\n",
       "<table border=\"1\" class=\"dataframe\">\n",
       "  <thead>\n",
       "    <tr style=\"text-align: right;\">\n",
       "      <th></th>\n",
       "      <th>Name</th>\n",
       "      <th>Surname</th>\n",
       "      <th>Nationality</th>\n",
       "    </tr>\n",
       "  </thead>\n",
       "  <tbody>\n",
       "    <tr>\n",
       "      <th>0</th>\n",
       "      <td>Adam</td>\n",
       "      <td>Smith</td>\n",
       "      <td>Scottish</td>\n",
       "    </tr>\n",
       "    <tr>\n",
       "      <th>1</th>\n",
       "      <td>Thomas</td>\n",
       "      <td>Malthus</td>\n",
       "      <td>English</td>\n",
       "    </tr>\n",
       "    <tr>\n",
       "      <th>2</th>\n",
       "      <td>David</td>\n",
       "      <td>Ricardo</td>\n",
       "      <td>English</td>\n",
       "    </tr>\n",
       "  </tbody>\n",
       "</table>\n",
       "</div>"
      ],
      "text/plain": [
       "     Name  Surname Nationality\n",
       "0    Adam    Smith    Scottish\n",
       "1  Thomas  Malthus     English\n",
       "2   David  Ricardo     English"
      ]
     },
     "execution_count": 10,
     "metadata": {},
     "output_type": "execute_result"
    }
   ],
   "source": [
    "# 2\n",
    "british_economists = (df_econ[\"Nationality\"] == \"English\") | (df_econ[\"Nationality\"] == \"Scottish\")\n",
    "df_econ[british_economists]"
   ]
  },
  {
   "cell_type": "code",
   "execution_count": 11,
   "metadata": {},
   "outputs": [
    {
     "data": {
      "text/html": [
       "<div>\n",
       "<style scoped>\n",
       "    .dataframe tbody tr th:only-of-type {\n",
       "        vertical-align: middle;\n",
       "    }\n",
       "\n",
       "    .dataframe tbody tr th {\n",
       "        vertical-align: top;\n",
       "    }\n",
       "\n",
       "    .dataframe thead th {\n",
       "        text-align: right;\n",
       "    }\n",
       "</style>\n",
       "<table border=\"1\" class=\"dataframe\">\n",
       "  <thead>\n",
       "    <tr style=\"text-align: right;\">\n",
       "      <th></th>\n",
       "      <th>Name</th>\n",
       "      <th>Surname</th>\n",
       "      <th>Nationality</th>\n",
       "    </tr>\n",
       "  </thead>\n",
       "  <tbody>\n",
       "    <tr>\n",
       "      <th>3</th>\n",
       "      <td>Karl</td>\n",
       "      <td>Marx</td>\n",
       "      <td>German</td>\n",
       "    </tr>\n",
       "  </tbody>\n",
       "</table>\n",
       "</div>"
      ],
      "text/plain": [
       "   Name Surname Nationality\n",
       "3  Karl    Marx      German"
      ]
     },
     "execution_count": 11,
     "metadata": {},
     "output_type": "execute_result"
    }
   ],
   "source": [
    "# 3\n",
    "non_british_economists = ~british_economists\n",
    "df_econ[non_british_economists]"
   ]
  },
  {
   "cell_type": "markdown",
   "metadata": {},
   "source": [
    "## Exercise 3\n",
    "\n",
    "In Pandas, individual columns of a data frame are objects of their own called ```Series```. For instance, the ```Surname``` column of the economists data frame above is a ```Series```."
   ]
  },
  {
   "cell_type": "code",
   "execution_count": 12,
   "metadata": {},
   "outputs": [
    {
     "data": {
      "text/plain": [
       "0      Smith\n",
       "1    Malthus\n",
       "2    Ricardo\n",
       "3       Marx\n",
       "Name: Surname, dtype: object"
      ]
     },
     "execution_count": 12,
     "metadata": {},
     "output_type": "execute_result"
    }
   ],
   "source": [
    "# Get Surname series from the famous economists data frame\n",
    "df_econ[\"Surname\"]"
   ]
  },
  {
   "cell_type": "code",
   "execution_count": 13,
   "metadata": {},
   "outputs": [
    {
     "data": {
      "text/plain": [
       "pandas.core.series.Series"
      ]
     },
     "execution_count": 13,
     "metadata": {},
     "output_type": "execute_result"
    }
   ],
   "source": [
    "# Check data type\n",
    "type(df_econ[\"Surname\"])"
   ]
  },
  {
   "cell_type": "markdown",
   "metadata": {},
   "source": [
    "```Series``` objects have a built-in string method ```str``` that allow us to use all standard string method such as ```capitalize()```, ```count()```, ```upper()```, ```lower()```, and so on.\n",
    "\n",
    "Pandas will apply the called method to **all** strings in the series. The syntax for calling a string method on a Series object is\n",
    "\n",
    "```python\n",
    "series_name.str.method_name()\n",
    "```\n",
    "\n",
    "Using string methods, do the following:\n",
    "\n",
    "1. Convert all names to lowercase\n",
    "2. Convert all surnames to uppercase\n",
    "3. Re-covert back to original capitalised version of names and surnames\n",
    "4. Get all economists with the substring ```\"th\"``` in their surname"
   ]
  },
  {
   "cell_type": "code",
   "execution_count": 14,
   "metadata": {},
   "outputs": [
    {
     "data": {
      "text/html": [
       "<div>\n",
       "<style scoped>\n",
       "    .dataframe tbody tr th:only-of-type {\n",
       "        vertical-align: middle;\n",
       "    }\n",
       "\n",
       "    .dataframe tbody tr th {\n",
       "        vertical-align: top;\n",
       "    }\n",
       "\n",
       "    .dataframe thead th {\n",
       "        text-align: right;\n",
       "    }\n",
       "</style>\n",
       "<table border=\"1\" class=\"dataframe\">\n",
       "  <thead>\n",
       "    <tr style=\"text-align: right;\">\n",
       "      <th></th>\n",
       "      <th>Name</th>\n",
       "      <th>Surname</th>\n",
       "      <th>Nationality</th>\n",
       "    </tr>\n",
       "  </thead>\n",
       "  <tbody>\n",
       "    <tr>\n",
       "      <th>0</th>\n",
       "      <td>Adam</td>\n",
       "      <td>Smith</td>\n",
       "      <td>Scottish</td>\n",
       "    </tr>\n",
       "    <tr>\n",
       "      <th>1</th>\n",
       "      <td>Thomas</td>\n",
       "      <td>Malthus</td>\n",
       "      <td>English</td>\n",
       "    </tr>\n",
       "    <tr>\n",
       "      <th>2</th>\n",
       "      <td>David</td>\n",
       "      <td>Ricardo</td>\n",
       "      <td>English</td>\n",
       "    </tr>\n",
       "    <tr>\n",
       "      <th>3</th>\n",
       "      <td>Karl</td>\n",
       "      <td>Marx</td>\n",
       "      <td>German</td>\n",
       "    </tr>\n",
       "  </tbody>\n",
       "</table>\n",
       "</div>"
      ],
      "text/plain": [
       "     Name  Surname Nationality\n",
       "0    Adam    Smith    Scottish\n",
       "1  Thomas  Malthus     English\n",
       "2   David  Ricardo     English\n",
       "3    Karl     Marx      German"
      ]
     },
     "execution_count": 14,
     "metadata": {},
     "output_type": "execute_result"
    }
   ],
   "source": [
    "df_econ"
   ]
  },
  {
   "cell_type": "code",
   "execution_count": 15,
   "metadata": {},
   "outputs": [
    {
     "data": {
      "text/html": [
       "<div>\n",
       "<style scoped>\n",
       "    .dataframe tbody tr th:only-of-type {\n",
       "        vertical-align: middle;\n",
       "    }\n",
       "\n",
       "    .dataframe tbody tr th {\n",
       "        vertical-align: top;\n",
       "    }\n",
       "\n",
       "    .dataframe thead th {\n",
       "        text-align: right;\n",
       "    }\n",
       "</style>\n",
       "<table border=\"1\" class=\"dataframe\">\n",
       "  <thead>\n",
       "    <tr style=\"text-align: right;\">\n",
       "      <th></th>\n",
       "      <th>Name</th>\n",
       "      <th>Surname</th>\n",
       "      <th>Nationality</th>\n",
       "    </tr>\n",
       "  </thead>\n",
       "  <tbody>\n",
       "    <tr>\n",
       "      <th>0</th>\n",
       "      <td>adam</td>\n",
       "      <td>Smith</td>\n",
       "      <td>Scottish</td>\n",
       "    </tr>\n",
       "    <tr>\n",
       "      <th>1</th>\n",
       "      <td>thomas</td>\n",
       "      <td>Malthus</td>\n",
       "      <td>English</td>\n",
       "    </tr>\n",
       "    <tr>\n",
       "      <th>2</th>\n",
       "      <td>david</td>\n",
       "      <td>Ricardo</td>\n",
       "      <td>English</td>\n",
       "    </tr>\n",
       "    <tr>\n",
       "      <th>3</th>\n",
       "      <td>karl</td>\n",
       "      <td>Marx</td>\n",
       "      <td>German</td>\n",
       "    </tr>\n",
       "  </tbody>\n",
       "</table>\n",
       "</div>"
      ],
      "text/plain": [
       "     Name  Surname Nationality\n",
       "0    adam    Smith    Scottish\n",
       "1  thomas  Malthus     English\n",
       "2   david  Ricardo     English\n",
       "3    karl     Marx      German"
      ]
     },
     "execution_count": 15,
     "metadata": {},
     "output_type": "execute_result"
    }
   ],
   "source": [
    "# 1\n",
    "df_econ[\"Name\"] = df_econ[\"Name\"].str.lower()\n",
    "df_econ"
   ]
  },
  {
   "cell_type": "code",
   "execution_count": 16,
   "metadata": {
    "scrolled": true
   },
   "outputs": [
    {
     "data": {
      "text/html": [
       "<div>\n",
       "<style scoped>\n",
       "    .dataframe tbody tr th:only-of-type {\n",
       "        vertical-align: middle;\n",
       "    }\n",
       "\n",
       "    .dataframe tbody tr th {\n",
       "        vertical-align: top;\n",
       "    }\n",
       "\n",
       "    .dataframe thead th {\n",
       "        text-align: right;\n",
       "    }\n",
       "</style>\n",
       "<table border=\"1\" class=\"dataframe\">\n",
       "  <thead>\n",
       "    <tr style=\"text-align: right;\">\n",
       "      <th></th>\n",
       "      <th>Name</th>\n",
       "      <th>Surname</th>\n",
       "      <th>Nationality</th>\n",
       "    </tr>\n",
       "  </thead>\n",
       "  <tbody>\n",
       "    <tr>\n",
       "      <th>0</th>\n",
       "      <td>adam</td>\n",
       "      <td>SMITH</td>\n",
       "      <td>Scottish</td>\n",
       "    </tr>\n",
       "    <tr>\n",
       "      <th>1</th>\n",
       "      <td>thomas</td>\n",
       "      <td>MALTHUS</td>\n",
       "      <td>English</td>\n",
       "    </tr>\n",
       "    <tr>\n",
       "      <th>2</th>\n",
       "      <td>david</td>\n",
       "      <td>RICARDO</td>\n",
       "      <td>English</td>\n",
       "    </tr>\n",
       "    <tr>\n",
       "      <th>3</th>\n",
       "      <td>karl</td>\n",
       "      <td>MARX</td>\n",
       "      <td>German</td>\n",
       "    </tr>\n",
       "  </tbody>\n",
       "</table>\n",
       "</div>"
      ],
      "text/plain": [
       "     Name  Surname Nationality\n",
       "0    adam    SMITH    Scottish\n",
       "1  thomas  MALTHUS     English\n",
       "2   david  RICARDO     English\n",
       "3    karl     MARX      German"
      ]
     },
     "execution_count": 16,
     "metadata": {},
     "output_type": "execute_result"
    }
   ],
   "source": [
    "# 2\n",
    "df_econ[\"Surname\"] = df_econ[\"Surname\"].str.upper()\n",
    "df_econ"
   ]
  },
  {
   "cell_type": "code",
   "execution_count": 17,
   "metadata": {},
   "outputs": [
    {
     "data": {
      "text/html": [
       "<div>\n",
       "<style scoped>\n",
       "    .dataframe tbody tr th:only-of-type {\n",
       "        vertical-align: middle;\n",
       "    }\n",
       "\n",
       "    .dataframe tbody tr th {\n",
       "        vertical-align: top;\n",
       "    }\n",
       "\n",
       "    .dataframe thead th {\n",
       "        text-align: right;\n",
       "    }\n",
       "</style>\n",
       "<table border=\"1\" class=\"dataframe\">\n",
       "  <thead>\n",
       "    <tr style=\"text-align: right;\">\n",
       "      <th></th>\n",
       "      <th>Name</th>\n",
       "      <th>Surname</th>\n",
       "    </tr>\n",
       "  </thead>\n",
       "  <tbody>\n",
       "    <tr>\n",
       "      <th>0</th>\n",
       "      <td>adam</td>\n",
       "      <td>SMITH</td>\n",
       "    </tr>\n",
       "    <tr>\n",
       "      <th>1</th>\n",
       "      <td>thomas</td>\n",
       "      <td>MALTHUS</td>\n",
       "    </tr>\n",
       "    <tr>\n",
       "      <th>2</th>\n",
       "      <td>david</td>\n",
       "      <td>RICARDO</td>\n",
       "    </tr>\n",
       "    <tr>\n",
       "      <th>3</th>\n",
       "      <td>karl</td>\n",
       "      <td>MARX</td>\n",
       "    </tr>\n",
       "  </tbody>\n",
       "</table>\n",
       "</div>"
      ],
      "text/plain": [
       "     Name  Surname\n",
       "0    adam    SMITH\n",
       "1  thomas  MALTHUS\n",
       "2   david  RICARDO\n",
       "3    karl     MARX"
      ]
     },
     "execution_count": 17,
     "metadata": {},
     "output_type": "execute_result"
    }
   ],
   "source": [
    "df_econ[[\"Name\", \"Surname\"]]"
   ]
  },
  {
   "cell_type": "code",
   "execution_count": 18,
   "metadata": {},
   "outputs": [
    {
     "data": {
      "text/html": [
       "<div>\n",
       "<style scoped>\n",
       "    .dataframe tbody tr th:only-of-type {\n",
       "        vertical-align: middle;\n",
       "    }\n",
       "\n",
       "    .dataframe tbody tr th {\n",
       "        vertical-align: top;\n",
       "    }\n",
       "\n",
       "    .dataframe thead th {\n",
       "        text-align: right;\n",
       "    }\n",
       "</style>\n",
       "<table border=\"1\" class=\"dataframe\">\n",
       "  <thead>\n",
       "    <tr style=\"text-align: right;\">\n",
       "      <th></th>\n",
       "      <th>Name</th>\n",
       "      <th>Surname</th>\n",
       "      <th>Nationality</th>\n",
       "    </tr>\n",
       "  </thead>\n",
       "  <tbody>\n",
       "    <tr>\n",
       "      <th>0</th>\n",
       "      <td>Adam</td>\n",
       "      <td>Smith</td>\n",
       "      <td>Scottish</td>\n",
       "    </tr>\n",
       "    <tr>\n",
       "      <th>1</th>\n",
       "      <td>Thomas</td>\n",
       "      <td>Malthus</td>\n",
       "      <td>English</td>\n",
       "    </tr>\n",
       "    <tr>\n",
       "      <th>2</th>\n",
       "      <td>David</td>\n",
       "      <td>Ricardo</td>\n",
       "      <td>English</td>\n",
       "    </tr>\n",
       "    <tr>\n",
       "      <th>3</th>\n",
       "      <td>Karl</td>\n",
       "      <td>Marx</td>\n",
       "      <td>German</td>\n",
       "    </tr>\n",
       "  </tbody>\n",
       "</table>\n",
       "</div>"
      ],
      "text/plain": [
       "     Name  Surname Nationality\n",
       "0    Adam    Smith    Scottish\n",
       "1  Thomas  Malthus     English\n",
       "2   David  Ricardo     English\n",
       "3    Karl     Marx      German"
      ]
     },
     "execution_count": 18,
     "metadata": {},
     "output_type": "execute_result"
    }
   ],
   "source": [
    "# 3\n",
    "# We will use the data frame method applymap() to convert back both names and surnames to their capitalised version.\n",
    "# applymap() allows us to apply any function to EVERY element in a data frame and return a new data frame with the modified entries.\n",
    "# Therefore, the strategy is a follows: 1. Define a function that capitalises strings, pass this function to applymap()\n",
    "\n",
    "# Define a function that capitalises strings\n",
    "def capitalize_names(name):\n",
    "    return name.capitalize()\n",
    "\n",
    "# Use applymap\n",
    "df_econ[[\"Name\", \"Surname\"]] = df_econ[[\"Name\", \"Surname\"]].applymap(capitalize_names)\n",
    "df_econ"
   ]
  },
  {
   "cell_type": "code",
   "execution_count": 19,
   "metadata": {},
   "outputs": [
    {
     "data": {
      "text/html": [
       "<div>\n",
       "<style scoped>\n",
       "    .dataframe tbody tr th:only-of-type {\n",
       "        vertical-align: middle;\n",
       "    }\n",
       "\n",
       "    .dataframe tbody tr th {\n",
       "        vertical-align: top;\n",
       "    }\n",
       "\n",
       "    .dataframe thead th {\n",
       "        text-align: right;\n",
       "    }\n",
       "</style>\n",
       "<table border=\"1\" class=\"dataframe\">\n",
       "  <thead>\n",
       "    <tr style=\"text-align: right;\">\n",
       "      <th></th>\n",
       "      <th>Name</th>\n",
       "      <th>Surname</th>\n",
       "      <th>Nationality</th>\n",
       "    </tr>\n",
       "  </thead>\n",
       "  <tbody>\n",
       "    <tr>\n",
       "      <th>0</th>\n",
       "      <td>Adam</td>\n",
       "      <td>Smith</td>\n",
       "      <td>Scottish</td>\n",
       "    </tr>\n",
       "    <tr>\n",
       "      <th>1</th>\n",
       "      <td>Thomas</td>\n",
       "      <td>Malthus</td>\n",
       "      <td>English</td>\n",
       "    </tr>\n",
       "  </tbody>\n",
       "</table>\n",
       "</div>"
      ],
      "text/plain": [
       "     Name  Surname Nationality\n",
       "0    Adam    Smith    Scottish\n",
       "1  Thomas  Malthus     English"
      ]
     },
     "execution_count": 19,
     "metadata": {},
     "output_type": "execute_result"
    }
   ],
   "source": [
    "# 4\n",
    "surname_has_th = df_econ[\"Surname\"].str.contains(\"th\")\n",
    "df_econ.loc[surname_has_th,:]"
   ]
  },
  {
   "cell_type": "markdown",
   "metadata": {},
   "source": [
    "## Exercise 4\n",
    "\n",
    "The dictionary below represents the unemployment rate for different regions in the U.S. measured every other year from 1995 to 2017 (both included):\n",
    "\n",
    "```python\n",
    "data = {\n",
    "    \"NorthEast\": [5.9,  5.6,  4.4,  3.8,  5.8,  4.9,  4.3,  7.1,  8.3,  7.9,  5.7],\n",
    "    \"MidWest\": [4.5,  4.3,  3.6,  4. ,  5.7,  5.7,  4.9,  8.1,  8.7,  7.4,  5.1],\n",
    "    \"South\": [5.3,  5.2,  4.2,  4. ,  5.7,  5.2,  4.3,  7.6,  9.1,  7.4,  5.5],\n",
    "    \"West\": [6.6, 6., 5.2, 4.6, 6.5, 5.5, 4.5, 8.6, 10.7, 8.5, 6.1],\n",
    "    \"National\": [5.6, 5.3, 4.3, 4.2, 5.8, 5.3, 4.6, 7.8, 9.1, 8., 5.7]\n",
    "}\n",
    "```\n",
    "\n",
    "Create a data frame from the above dictionary using the years as an index. You can assign an index to a data frame with the following syntax\n",
    "\n",
    "```python\n",
    "df_name = pd.DataFrame(data, index=years)\n",
    "```\n",
    "\n",
    "where ```years``` should be a **list** containing the year values.\n",
    "\n",
    "Once the data frame is created, do the following:\n",
    "\n",
    "1. Get the national unemployment rate from 2005 to 2015.\n",
    "2. Using the method ```mean()``` compute and show the mean unemployment rate for all regions\n",
    "3. Show in which years the unemployment rate in the MidWest has been above the national average\n"
   ]
  },
  {
   "cell_type": "code",
   "execution_count": 20,
   "metadata": {},
   "outputs": [
    {
     "data": {
      "text/html": [
       "<div>\n",
       "<style scoped>\n",
       "    .dataframe tbody tr th:only-of-type {\n",
       "        vertical-align: middle;\n",
       "    }\n",
       "\n",
       "    .dataframe tbody tr th {\n",
       "        vertical-align: top;\n",
       "    }\n",
       "\n",
       "    .dataframe thead th {\n",
       "        text-align: right;\n",
       "    }\n",
       "</style>\n",
       "<table border=\"1\" class=\"dataframe\">\n",
       "  <thead>\n",
       "    <tr style=\"text-align: right;\">\n",
       "      <th></th>\n",
       "      <th>NorthEast</th>\n",
       "      <th>MidWest</th>\n",
       "      <th>South</th>\n",
       "      <th>West</th>\n",
       "      <th>National</th>\n",
       "    </tr>\n",
       "  </thead>\n",
       "  <tbody>\n",
       "    <tr>\n",
       "      <th>1995</th>\n",
       "      <td>5.9</td>\n",
       "      <td>4.5</td>\n",
       "      <td>5.3</td>\n",
       "      <td>6.6</td>\n",
       "      <td>5.6</td>\n",
       "    </tr>\n",
       "    <tr>\n",
       "      <th>1997</th>\n",
       "      <td>5.6</td>\n",
       "      <td>4.3</td>\n",
       "      <td>5.2</td>\n",
       "      <td>6.0</td>\n",
       "      <td>5.3</td>\n",
       "    </tr>\n",
       "    <tr>\n",
       "      <th>1999</th>\n",
       "      <td>4.4</td>\n",
       "      <td>3.6</td>\n",
       "      <td>4.2</td>\n",
       "      <td>5.2</td>\n",
       "      <td>4.3</td>\n",
       "    </tr>\n",
       "    <tr>\n",
       "      <th>2001</th>\n",
       "      <td>3.8</td>\n",
       "      <td>4.0</td>\n",
       "      <td>4.0</td>\n",
       "      <td>4.6</td>\n",
       "      <td>4.2</td>\n",
       "    </tr>\n",
       "    <tr>\n",
       "      <th>2003</th>\n",
       "      <td>5.8</td>\n",
       "      <td>5.7</td>\n",
       "      <td>5.7</td>\n",
       "      <td>6.5</td>\n",
       "      <td>5.8</td>\n",
       "    </tr>\n",
       "    <tr>\n",
       "      <th>2005</th>\n",
       "      <td>4.9</td>\n",
       "      <td>5.7</td>\n",
       "      <td>5.2</td>\n",
       "      <td>5.5</td>\n",
       "      <td>5.3</td>\n",
       "    </tr>\n",
       "    <tr>\n",
       "      <th>2007</th>\n",
       "      <td>4.3</td>\n",
       "      <td>4.9</td>\n",
       "      <td>4.3</td>\n",
       "      <td>4.5</td>\n",
       "      <td>4.6</td>\n",
       "    </tr>\n",
       "    <tr>\n",
       "      <th>2009</th>\n",
       "      <td>7.1</td>\n",
       "      <td>8.1</td>\n",
       "      <td>7.6</td>\n",
       "      <td>8.6</td>\n",
       "      <td>7.8</td>\n",
       "    </tr>\n",
       "    <tr>\n",
       "      <th>2011</th>\n",
       "      <td>8.3</td>\n",
       "      <td>8.7</td>\n",
       "      <td>9.1</td>\n",
       "      <td>10.7</td>\n",
       "      <td>9.1</td>\n",
       "    </tr>\n",
       "    <tr>\n",
       "      <th>2013</th>\n",
       "      <td>7.9</td>\n",
       "      <td>7.4</td>\n",
       "      <td>7.4</td>\n",
       "      <td>8.5</td>\n",
       "      <td>8.0</td>\n",
       "    </tr>\n",
       "    <tr>\n",
       "      <th>2015</th>\n",
       "      <td>5.7</td>\n",
       "      <td>5.1</td>\n",
       "      <td>5.5</td>\n",
       "      <td>6.1</td>\n",
       "      <td>5.7</td>\n",
       "    </tr>\n",
       "  </tbody>\n",
       "</table>\n",
       "</div>"
      ],
      "text/plain": [
       "      NorthEast  MidWest  South  West  National\n",
       "1995        5.9      4.5    5.3   6.6       5.6\n",
       "1997        5.6      4.3    5.2   6.0       5.3\n",
       "1999        4.4      3.6    4.2   5.2       4.3\n",
       "2001        3.8      4.0    4.0   4.6       4.2\n",
       "2003        5.8      5.7    5.7   6.5       5.8\n",
       "2005        4.9      5.7    5.2   5.5       5.3\n",
       "2007        4.3      4.9    4.3   4.5       4.6\n",
       "2009        7.1      8.1    7.6   8.6       7.8\n",
       "2011        8.3      8.7    9.1  10.7       9.1\n",
       "2013        7.9      7.4    7.4   8.5       8.0\n",
       "2015        5.7      5.1    5.5   6.1       5.7"
      ]
     },
     "execution_count": 20,
     "metadata": {},
     "output_type": "execute_result"
    }
   ],
   "source": [
    "# Create dictionary\n",
    "data = {\n",
    "    \"NorthEast\": [5.9,  5.6,  4.4,  3.8,  5.8,  4.9,  4.3,  7.1,  8.3,  7.9,  5.7],\n",
    "    \"MidWest\": [4.5,  4.3,  3.6,  4. ,  5.7,  5.7,  4.9,  8.1,  8.7,  7.4,  5.1],\n",
    "    \"South\": [5.3,  5.2,  4.2,  4. ,  5.7,  5.2,  4.3,  7.6,  9.1,  7.4,  5.5],\n",
    "    \"West\": [6.6, 6., 5.2, 4.6, 6.5, 5.5, 4.5, 8.6, 10.7, 8.5, 6.1],\n",
    "    \"National\": [5.6, 5.3, 4.3, 4.2, 5.8, 5.3, 4.6, 7.8, 9.1, 8., 5.7]\n",
    "}\n",
    "\n",
    "# Create a list that represents the years\n",
    "years = list(range(1995, 2017, 2))\n",
    "\n",
    "# Create a data frame with index given by the years\n",
    "df_unemp = pd.DataFrame(data, index=years)\n",
    "df_unemp"
   ]
  },
  {
   "cell_type": "code",
   "execution_count": 21,
   "metadata": {},
   "outputs": [
    {
     "data": {
      "text/plain": [
       "2005    5.3\n",
       "2007    4.6\n",
       "2009    7.8\n",
       "2011    9.1\n",
       "2013    8.0\n",
       "2015    5.7\n",
       "Name: National, dtype: float64"
      ]
     },
     "execution_count": 21,
     "metadata": {},
     "output_type": "execute_result"
    }
   ],
   "source": [
    "# 1\n",
    "df_unemp.loc[2005:2015, \"National\"]"
   ]
  },
  {
   "cell_type": "code",
   "execution_count": 22,
   "metadata": {},
   "outputs": [
    {
     "data": {
      "text/plain": [
       "NorthEast    5.790909\n",
       "MidWest      5.636364\n",
       "South        5.772727\n",
       "West         6.618182\n",
       "National     5.972727\n",
       "dtype: float64"
      ]
     },
     "execution_count": 22,
     "metadata": {},
     "output_type": "execute_result"
    }
   ],
   "source": [
    "# 2\n",
    "df_unemp.mean()"
   ]
  },
  {
   "cell_type": "code",
   "execution_count": 23,
   "metadata": {},
   "outputs": [
    {
     "data": {
      "text/plain": [
       "2009    8.1\n",
       "2011    8.7\n",
       "2013    7.4\n",
       "Name: MidWest, dtype: float64"
      ]
     },
     "execution_count": 23,
     "metadata": {},
     "output_type": "execute_result"
    }
   ],
   "source": [
    "# 3\n",
    "above_mean_midwest = df_unemp[\"MidWest\"] > df_unemp[\"National\"].mean()\n",
    "df_unemp.loc[above_mean_midwest, \"MidWest\"]"
   ]
  },
  {
   "cell_type": "markdown",
   "metadata": {},
   "source": [
    "## Exercise 5\n",
    "\n",
    "Import the expenditure survey dataset from the comma-separated values (csv) file ```expenditure_data.csv```. Make sure the file is stored in the same folder as this Jupyter notebook or take note of the exact location.\n",
    "\n",
    "The associated Pandas data frame should be named ```df_exp```.\n",
    "\n",
    "Get information on the data frame using the ```info()``` method, and show summary statistics for numerical values using the ```describe()``` method."
   ]
  },
  {
   "cell_type": "code",
   "execution_count": 24,
   "metadata": {},
   "outputs": [
    {
     "data": {
      "text/html": [
       "<div>\n",
       "<style scoped>\n",
       "    .dataframe tbody tr th:only-of-type {\n",
       "        vertical-align: middle;\n",
       "    }\n",
       "\n",
       "    .dataframe tbody tr th {\n",
       "        vertical-align: top;\n",
       "    }\n",
       "\n",
       "    .dataframe thead th {\n",
       "        text-align: right;\n",
       "    }\n",
       "</style>\n",
       "<table border=\"1\" class=\"dataframe\">\n",
       "  <thead>\n",
       "    <tr style=\"text-align: right;\">\n",
       "      <th></th>\n",
       "      <th>expenditure</th>\n",
       "      <th>income</th>\n",
       "      <th>maininc</th>\n",
       "      <th>region</th>\n",
       "      <th>nadults</th>\n",
       "      <th>nkids</th>\n",
       "      <th>SexHRP</th>\n",
       "      <th>housing</th>\n",
       "      <th>internet</th>\n",
       "    </tr>\n",
       "  </thead>\n",
       "  <tbody>\n",
       "    <tr>\n",
       "      <th>0</th>\n",
       "      <td>380.6958</td>\n",
       "      <td>465.360</td>\n",
       "      <td>earnings</td>\n",
       "      <td>East Mid</td>\n",
       "      <td>2 adults</td>\n",
       "      <td>Two or m</td>\n",
       "      <td>Female</td>\n",
       "      <td>Public r</td>\n",
       "      <td>1</td>\n",
       "    </tr>\n",
       "    <tr>\n",
       "      <th>1</th>\n",
       "      <td>546.4134</td>\n",
       "      <td>855.260</td>\n",
       "      <td>earnings</td>\n",
       "      <td>London</td>\n",
       "      <td>2 adults</td>\n",
       "      <td>No child</td>\n",
       "      <td>Female</td>\n",
       "      <td>Owned</td>\n",
       "      <td>1</td>\n",
       "    </tr>\n",
       "    <tr>\n",
       "      <th>2</th>\n",
       "      <td>242.1890</td>\n",
       "      <td>160.960</td>\n",
       "      <td>earnings</td>\n",
       "      <td>South Ea</td>\n",
       "      <td>1 adult</td>\n",
       "      <td>No child</td>\n",
       "      <td>Female</td>\n",
       "      <td>Owned</td>\n",
       "      <td>1</td>\n",
       "    </tr>\n",
       "    <tr>\n",
       "      <th>3</th>\n",
       "      <td>421.3824</td>\n",
       "      <td>656.220</td>\n",
       "      <td>earnings</td>\n",
       "      <td>Eastern</td>\n",
       "      <td>2 adults</td>\n",
       "      <td>No child</td>\n",
       "      <td>Male</td>\n",
       "      <td>Owned</td>\n",
       "      <td>1</td>\n",
       "    </tr>\n",
       "    <tr>\n",
       "      <th>4</th>\n",
       "      <td>370.4056</td>\n",
       "      <td>398.800</td>\n",
       "      <td>earnings</td>\n",
       "      <td>South Ea</td>\n",
       "      <td>1 adult</td>\n",
       "      <td>No child</td>\n",
       "      <td>Male</td>\n",
       "      <td>Owned</td>\n",
       "      <td>1</td>\n",
       "    </tr>\n",
       "    <tr>\n",
       "      <th>...</th>\n",
       "      <td>...</td>\n",
       "      <td>...</td>\n",
       "      <td>...</td>\n",
       "      <td>...</td>\n",
       "      <td>...</td>\n",
       "      <td>...</td>\n",
       "      <td>...</td>\n",
       "      <td>...</td>\n",
       "      <td>...</td>\n",
       "    </tr>\n",
       "    <tr>\n",
       "      <th>5139</th>\n",
       "      <td>482.4708</td>\n",
       "      <td>782.040</td>\n",
       "      <td>earnings</td>\n",
       "      <td>North We</td>\n",
       "      <td>2 adults</td>\n",
       "      <td>No child</td>\n",
       "      <td>Female</td>\n",
       "      <td>Private</td>\n",
       "      <td>1</td>\n",
       "    </tr>\n",
       "    <tr>\n",
       "      <th>5140</th>\n",
       "      <td>282.6099</td>\n",
       "      <td>612.272</td>\n",
       "      <td>other so</td>\n",
       "      <td>West Mid</td>\n",
       "      <td>2 adults</td>\n",
       "      <td>No child</td>\n",
       "      <td>Male</td>\n",
       "      <td>Owned</td>\n",
       "      <td>1</td>\n",
       "    </tr>\n",
       "    <tr>\n",
       "      <th>5141</th>\n",
       "      <td>934.1562</td>\n",
       "      <td>1134.920</td>\n",
       "      <td>earnings</td>\n",
       "      <td>Wales</td>\n",
       "      <td>1 adult</td>\n",
       "      <td>Two or m</td>\n",
       "      <td>Female</td>\n",
       "      <td>Owned</td>\n",
       "      <td>1</td>\n",
       "    </tr>\n",
       "    <tr>\n",
       "      <th>5142</th>\n",
       "      <td>426.5105</td>\n",
       "      <td>663.669</td>\n",
       "      <td>other so</td>\n",
       "      <td>North We</td>\n",
       "      <td>2 adults</td>\n",
       "      <td>No child</td>\n",
       "      <td>Male</td>\n",
       "      <td>Owned</td>\n",
       "      <td>1</td>\n",
       "    </tr>\n",
       "    <tr>\n",
       "      <th>5143</th>\n",
       "      <td>700.0040</td>\n",
       "      <td>1076.870</td>\n",
       "      <td>earnings</td>\n",
       "      <td>Scotland</td>\n",
       "      <td>3 adults</td>\n",
       "      <td>No child</td>\n",
       "      <td>Male</td>\n",
       "      <td>Owned</td>\n",
       "      <td>1</td>\n",
       "    </tr>\n",
       "  </tbody>\n",
       "</table>\n",
       "<p>5144 rows × 9 columns</p>\n",
       "</div>"
      ],
      "text/plain": [
       "      expenditure    income   maininc    region   nadults     nkids  SexHRP  \\\n",
       "0        380.6958   465.360  earnings  East Mid  2 adults  Two or m  Female   \n",
       "1        546.4134   855.260  earnings    London  2 adults  No child  Female   \n",
       "2        242.1890   160.960  earnings  South Ea   1 adult  No child  Female   \n",
       "3        421.3824   656.220  earnings   Eastern  2 adults  No child    Male   \n",
       "4        370.4056   398.800  earnings  South Ea   1 adult  No child    Male   \n",
       "...           ...       ...       ...       ...       ...       ...     ...   \n",
       "5139     482.4708   782.040  earnings  North We  2 adults  No child  Female   \n",
       "5140     282.6099   612.272  other so  West Mid  2 adults  No child    Male   \n",
       "5141     934.1562  1134.920  earnings     Wales   1 adult  Two or m  Female   \n",
       "5142     426.5105   663.669  other so  North We  2 adults  No child    Male   \n",
       "5143     700.0040  1076.870  earnings  Scotland  3 adults  No child    Male   \n",
       "\n",
       "       housing  internet  \n",
       "0     Public r         1  \n",
       "1        Owned         1  \n",
       "2        Owned         1  \n",
       "3        Owned         1  \n",
       "4        Owned         1  \n",
       "...        ...       ...  \n",
       "5139   Private         1  \n",
       "5140     Owned         1  \n",
       "5141     Owned         1  \n",
       "5142     Owned         1  \n",
       "5143     Owned         1  \n",
       "\n",
       "[5144 rows x 9 columns]"
      ]
     },
     "execution_count": 24,
     "metadata": {},
     "output_type": "execute_result"
    }
   ],
   "source": [
    "# Create a dataframe from csv file\n",
    "df_exp = pd.read_csv(\"expenditure_data.csv\")\n",
    "df_exp"
   ]
  },
  {
   "cell_type": "code",
   "execution_count": 25,
   "metadata": {},
   "outputs": [
    {
     "name": "stdout",
     "output_type": "stream",
     "text": [
      "<class 'pandas.core.frame.DataFrame'>\n",
      "RangeIndex: 5144 entries, 0 to 5143\n",
      "Data columns (total 9 columns):\n",
      " #   Column       Non-Null Count  Dtype  \n",
      "---  ------       --------------  -----  \n",
      " 0   expenditure  5144 non-null   float64\n",
      " 1   income       5144 non-null   float64\n",
      " 2   maininc      5144 non-null   object \n",
      " 3   region       5144 non-null   object \n",
      " 4   nadults      5144 non-null   object \n",
      " 5   nkids        5144 non-null   object \n",
      " 6   SexHRP       5144 non-null   object \n",
      " 7   housing      5144 non-null   object \n",
      " 8   internet     5144 non-null   int64  \n",
      "dtypes: float64(2), int64(1), object(6)\n",
      "memory usage: 361.8+ KB\n"
     ]
    }
   ],
   "source": [
    "# Data frame information\n",
    "df_exp.info()"
   ]
  },
  {
   "cell_type": "code",
   "execution_count": 26,
   "metadata": {},
   "outputs": [
    {
     "data": {
      "text/html": [
       "<div>\n",
       "<style scoped>\n",
       "    .dataframe tbody tr th:only-of-type {\n",
       "        vertical-align: middle;\n",
       "    }\n",
       "\n",
       "    .dataframe tbody tr th {\n",
       "        vertical-align: top;\n",
       "    }\n",
       "\n",
       "    .dataframe thead th {\n",
       "        text-align: right;\n",
       "    }\n",
       "</style>\n",
       "<table border=\"1\" class=\"dataframe\">\n",
       "  <thead>\n",
       "    <tr style=\"text-align: right;\">\n",
       "      <th></th>\n",
       "      <th>expenditure</th>\n",
       "      <th>income</th>\n",
       "      <th>internet</th>\n",
       "    </tr>\n",
       "  </thead>\n",
       "  <tbody>\n",
       "    <tr>\n",
       "      <th>count</th>\n",
       "      <td>5144.000000</td>\n",
       "      <td>5144.000000</td>\n",
       "      <td>5144.000000</td>\n",
       "    </tr>\n",
       "    <tr>\n",
       "      <th>mean</th>\n",
       "      <td>479.758420</td>\n",
       "      <td>620.433571</td>\n",
       "      <td>0.822706</td>\n",
       "    </tr>\n",
       "    <tr>\n",
       "      <th>std</th>\n",
       "      <td>292.365227</td>\n",
       "      <td>359.155681</td>\n",
       "      <td>0.381954</td>\n",
       "    </tr>\n",
       "    <tr>\n",
       "      <th>min</th>\n",
       "      <td>30.525000</td>\n",
       "      <td>0.000000</td>\n",
       "      <td>0.000000</td>\n",
       "    </tr>\n",
       "    <tr>\n",
       "      <th>25%</th>\n",
       "      <td>254.127825</td>\n",
       "      <td>314.101875</td>\n",
       "      <td>1.000000</td>\n",
       "    </tr>\n",
       "    <tr>\n",
       "      <th>50%</th>\n",
       "      <td>419.903450</td>\n",
       "      <td>563.150000</td>\n",
       "      <td>1.000000</td>\n",
       "    </tr>\n",
       "    <tr>\n",
       "      <th>75%</th>\n",
       "      <td>644.974425</td>\n",
       "      <td>928.035500</td>\n",
       "      <td>1.000000</td>\n",
       "    </tr>\n",
       "    <tr>\n",
       "      <th>max</th>\n",
       "      <td>1175.000000</td>\n",
       "      <td>1184.990000</td>\n",
       "      <td>1.000000</td>\n",
       "    </tr>\n",
       "  </tbody>\n",
       "</table>\n",
       "</div>"
      ],
      "text/plain": [
       "       expenditure       income     internet\n",
       "count  5144.000000  5144.000000  5144.000000\n",
       "mean    479.758420   620.433571     0.822706\n",
       "std     292.365227   359.155681     0.381954\n",
       "min      30.525000     0.000000     0.000000\n",
       "25%     254.127825   314.101875     1.000000\n",
       "50%     419.903450   563.150000     1.000000\n",
       "75%     644.974425   928.035500     1.000000\n",
       "max    1175.000000  1184.990000     1.000000"
      ]
     },
     "execution_count": 26,
     "metadata": {},
     "output_type": "execute_result"
    }
   ],
   "source": [
    "# Summary statistics of numerical variables\n",
    "df_exp.describe()"
   ]
  },
  {
   "cell_type": "markdown",
   "metadata": {},
   "source": [
    "## Exercise 6\n",
    "\n",
    "Using the expenditure survey ```df_exp``` data frame, answer the following questions:\n",
    "\n",
    "1. How many British households have a weekly expenditure between £200 and £300?\n",
    "2. What is the median weekly income in Wales?\n",
    "3. What is the percentage of households in London with no children?\n",
    "4. How many households outside London own a house?\n",
    "\n"
   ]
  },
  {
   "cell_type": "code",
   "execution_count": 27,
   "metadata": {},
   "outputs": [
    {
     "data": {
      "text/html": [
       "<div>\n",
       "<style scoped>\n",
       "    .dataframe tbody tr th:only-of-type {\n",
       "        vertical-align: middle;\n",
       "    }\n",
       "\n",
       "    .dataframe tbody tr th {\n",
       "        vertical-align: top;\n",
       "    }\n",
       "\n",
       "    .dataframe thead th {\n",
       "        text-align: right;\n",
       "    }\n",
       "</style>\n",
       "<table border=\"1\" class=\"dataframe\">\n",
       "  <thead>\n",
       "    <tr style=\"text-align: right;\">\n",
       "      <th></th>\n",
       "      <th>expenditure</th>\n",
       "      <th>income</th>\n",
       "      <th>maininc</th>\n",
       "      <th>region</th>\n",
       "      <th>nadults</th>\n",
       "      <th>nkids</th>\n",
       "      <th>SexHRP</th>\n",
       "      <th>housing</th>\n",
       "      <th>internet</th>\n",
       "    </tr>\n",
       "  </thead>\n",
       "  <tbody>\n",
       "    <tr>\n",
       "      <th>0</th>\n",
       "      <td>380.6958</td>\n",
       "      <td>465.36</td>\n",
       "      <td>earnings</td>\n",
       "      <td>East Mid</td>\n",
       "      <td>2 adults</td>\n",
       "      <td>Two or m</td>\n",
       "      <td>Female</td>\n",
       "      <td>Public r</td>\n",
       "      <td>1</td>\n",
       "    </tr>\n",
       "    <tr>\n",
       "      <th>1</th>\n",
       "      <td>546.4134</td>\n",
       "      <td>855.26</td>\n",
       "      <td>earnings</td>\n",
       "      <td>London</td>\n",
       "      <td>2 adults</td>\n",
       "      <td>No child</td>\n",
       "      <td>Female</td>\n",
       "      <td>Owned</td>\n",
       "      <td>1</td>\n",
       "    </tr>\n",
       "    <tr>\n",
       "      <th>2</th>\n",
       "      <td>242.1890</td>\n",
       "      <td>160.96</td>\n",
       "      <td>earnings</td>\n",
       "      <td>South Ea</td>\n",
       "      <td>1 adult</td>\n",
       "      <td>No child</td>\n",
       "      <td>Female</td>\n",
       "      <td>Owned</td>\n",
       "      <td>1</td>\n",
       "    </tr>\n",
       "    <tr>\n",
       "      <th>3</th>\n",
       "      <td>421.3824</td>\n",
       "      <td>656.22</td>\n",
       "      <td>earnings</td>\n",
       "      <td>Eastern</td>\n",
       "      <td>2 adults</td>\n",
       "      <td>No child</td>\n",
       "      <td>Male</td>\n",
       "      <td>Owned</td>\n",
       "      <td>1</td>\n",
       "    </tr>\n",
       "    <tr>\n",
       "      <th>4</th>\n",
       "      <td>370.4056</td>\n",
       "      <td>398.80</td>\n",
       "      <td>earnings</td>\n",
       "      <td>South Ea</td>\n",
       "      <td>1 adult</td>\n",
       "      <td>No child</td>\n",
       "      <td>Male</td>\n",
       "      <td>Owned</td>\n",
       "      <td>1</td>\n",
       "    </tr>\n",
       "  </tbody>\n",
       "</table>\n",
       "</div>"
      ],
      "text/plain": [
       "   expenditure  income   maininc    region   nadults     nkids  SexHRP  \\\n",
       "0     380.6958  465.36  earnings  East Mid  2 adults  Two or m  Female   \n",
       "1     546.4134  855.26  earnings    London  2 adults  No child  Female   \n",
       "2     242.1890  160.96  earnings  South Ea   1 adult  No child  Female   \n",
       "3     421.3824  656.22  earnings   Eastern  2 adults  No child    Male   \n",
       "4     370.4056  398.80  earnings  South Ea   1 adult  No child    Male   \n",
       "\n",
       "    housing  internet  \n",
       "0  Public r         1  \n",
       "1     Owned         1  \n",
       "2     Owned         1  \n",
       "3     Owned         1  \n",
       "4     Owned         1  "
      ]
     },
     "execution_count": 27,
     "metadata": {},
     "output_type": "execute_result"
    }
   ],
   "source": [
    "df_exp.head()"
   ]
  },
  {
   "cell_type": "code",
   "execution_count": 28,
   "metadata": {},
   "outputs": [
    {
     "data": {
      "text/plain": [
       "812"
      ]
     },
     "execution_count": 28,
     "metadata": {},
     "output_type": "execute_result"
    }
   ],
   "source": [
    "# 1\n",
    "exp_within_200_300 = (df_exp[\"expenditure\"] > 200) & (df_exp[\"expenditure\"] < 300)\n",
    "df_exp.loc[exp_within_200_300, \"expenditure\"].count()"
   ]
  },
  {
   "cell_type": "code",
   "execution_count": 29,
   "metadata": {},
   "outputs": [
    {
     "data": {
      "text/plain": [
       "544.8"
      ]
     },
     "execution_count": 29,
     "metadata": {},
     "output_type": "execute_result"
    }
   ],
   "source": [
    "# 2\n",
    "wales_hh = (df_exp[\"region\"] == \"Wales\")\n",
    "df_exp.loc[wales_hh, \"income\"].median()"
   ]
  },
  {
   "cell_type": "code",
   "execution_count": 30,
   "metadata": {},
   "outputs": [
    {
     "data": {
      "text/plain": [
       "No child    0.658333\n",
       "Two or m    0.206250\n",
       "One chil    0.135417\n",
       "Name: nkids, dtype: float64"
      ]
     },
     "execution_count": 30,
     "metadata": {},
     "output_type": "execute_result"
    }
   ],
   "source": [
    "# 3\n",
    "london_hh = (df_exp[\"region\"] == \"London\")\n",
    "df_exp.loc[london_hh, \"nkids\"].value_counts(normalize=True)"
   ]
  },
  {
   "cell_type": "code",
   "execution_count": 31,
   "metadata": {},
   "outputs": [
    {
     "data": {
      "text/plain": [
       "Owned       3193\n",
       "Public r     785\n",
       "Private      686\n",
       "Name: housing, dtype: int64"
      ]
     },
     "execution_count": 31,
     "metadata": {},
     "output_type": "execute_result"
    }
   ],
   "source": [
    "# 4\n",
    "no_london_hh = ~(df_exp[\"region\"] == \"London\")\n",
    "df_exp.loc[no_london_hh, \"housing\"].value_counts()"
   ]
  }
 ],
 "metadata": {
  "kernelspec": {
   "display_name": "Python 3",
   "language": "python",
   "name": "python3"
  },
  "language_info": {
   "codemirror_mode": {
    "name": "ipython",
    "version": 3
   },
   "file_extension": ".py",
   "mimetype": "text/x-python",
   "name": "python",
   "nbconvert_exporter": "python",
   "pygments_lexer": "ipython3",
   "version": "3.8.5"
  },
  "toc": {
   "base_numbering": 1,
   "nav_menu": {},
   "number_sections": false,
   "sideBar": true,
   "skip_h1_title": false,
   "title_cell": "Table of Contents",
   "title_sidebar": "Contents",
   "toc_cell": false,
   "toc_position": {},
   "toc_section_display": true,
   "toc_window_display": false
  },
  "varInspector": {
   "cols": {
    "lenName": 16,
    "lenType": 16,
    "lenVar": 40
   },
   "kernels_config": {
    "python": {
     "delete_cmd_postfix": "",
     "delete_cmd_prefix": "del ",
     "library": "var_list.py",
     "varRefreshCmd": "print(var_dic_list())"
    },
    "r": {
     "delete_cmd_postfix": ") ",
     "delete_cmd_prefix": "rm(",
     "library": "var_list.r",
     "varRefreshCmd": "cat(var_dic_list()) "
    }
   },
   "types_to_exclude": [
    "module",
    "function",
    "builtin_function_or_method",
    "instance",
    "_Feature"
   ],
   "window_display": false
  }
 },
 "nbformat": 4,
 "nbformat_minor": 4
}
