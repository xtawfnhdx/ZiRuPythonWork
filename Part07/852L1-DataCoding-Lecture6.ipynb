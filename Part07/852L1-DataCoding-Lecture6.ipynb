{
 "cells": [
  {
   "cell_type": "markdown",
   "metadata": {},
   "source": [
    "# Lecture 6: Introduction to Python and Data Types\n",
    "\n",
    "## Welcome to Python\n",
    "\n",
    "From this lecture onwards, we will learn the Python programming language and the related packages for Data Science and Visualisation.\n",
    "\n",
    "### Why Python?\n",
    "\n",
    "So you've decided that you want to learn how to code. Among the many existing programming languages, why should you choose Python?\n",
    "\n",
    "There are many reasons:\n",
    "\n",
    "- It's easy to learn and use (compared to C, C++, Fortran, etc.)\n",
    "- General purpose language:\n",
    "    - Data science, data visualiation, financial and economic modelling, websites creation, etc.\n",
    "- It is designed with readability in mind\n",
    "- It is the most popular programming language in use\n",
    "    - Check [here](http://pypl.github.io/PYPL.html)\n",
    "- High demand for Python skills in the industry\n",
    "    - Check the [list of jobs vacancies](https://www.linkedin.com/jobs/search/?geoId=90009496&keywords=data%20analyst%20economics%20python&location=London%2C%20England%20Metropolitan%20Area) on Linkedin\n",
    "    \n",
    "\n",
    "\n",
    "\n",
    "\n",
    "\n"
   ]
  },
  {
   "cell_type": "markdown",
   "metadata": {},
   "source": [
    "## Outline of Python lectures\n",
    "Over the next weeks, we will cover the following topics\n",
    "\n",
    "- Introduction to Python: basic commands and syntax\n",
    "- Data types\n",
    "    - Numbers\n",
    "    - Strings\n",
    "    - Lists, tuples, and dictionaries\n",
    "- Control flow\n",
    "    - Conditional statements (if...elseif)\n",
    "    - Loops\n",
    "- Functions\n",
    "- Importing and using packages\n",
    "- Python for Data Science and Visualisation\n",
    "     - Pandas\n",
    "     - Matplotlib"
   ]
  },
  {
   "cell_type": "markdown",
   "metadata": {},
   "source": [
    "## Your first Python program!\n",
    "In every programming language, the novice programmer always starts with the famous [Hello World program](https://en.wikipedia.org/wiki/%22Hello,_World!%22_program). This simply consists of instructing the computer to display to the screen the following sentence:\n",
    "\n",
    "> Hello, World!\n",
    "    \n",
    "Python is no different ... so let's do that!"
   ]
  },
  {
   "cell_type": "code",
   "execution_count": 1,
   "metadata": {},
   "outputs": [
    {
     "name": "stdout",
     "output_type": "stream",
     "text": [
      "Hello, World!\n"
     ]
    }
   ],
   "source": [
    "# Tell Python to print Hello, World! to the screen\n",
    "print(\"Hello, World!\")"
   ]
  },
  {
   "cell_type": "markdown",
   "metadata": {},
   "source": [
    "That's it! Our first Python program 🎉🎊🥳\n",
    "\n",
    "That was easy, wasn't it?\n",
    "\n",
    "Let's have a look at our program once again. We can see **two** distinct pieces:\n",
    "1. A **comment**\n",
    "2. A **command**\n",
    "\n",
    "In the first line, we have a **comment**:\n",
    "```python\n",
    "# Tell Python to print Hello, World! to the screen\n",
    "```\n",
    "Comments are entire lines or parts of text within our code that are **not interpreted** by the computer. Whenever Python \"reads\" our code, it **completely ignores** this part of our code entirely.\n",
    "\n",
    "Let's revisit out first program above:"
   ]
  },
  {
   "cell_type": "code",
   "execution_count": 2,
   "metadata": {},
   "outputs": [],
   "source": [
    "# Tell Python to print Hello, World! to the screen\n",
    "# print(\"Hello, World!\")"
   ]
  },
  {
   "cell_type": "markdown",
   "metadata": {},
   "source": [
    "When I run the above cell, Python does not print anything to screen. **This is the expected behaviour**: *the above program only contains comments, and not actual codes.*\n",
    "\n",
    "### Why comments?\n",
    "Comments are useful to document your code. They explain what is going on to another person that is reading your program, or your future-self that reads your own code in three months!\n",
    "\n",
    "Think of comments as little post-in notes that you put there to remind you what each line is doing.\n",
    "\n",
    "Comments start with the hash character ```#```. They will be highlighted by a different color:\n",
    "\n",
    "```python\n",
    "# This is a comment!\n",
    "```\n",
    "\n",
    "Moreover, you can occasionally use comments to select which part of code to run:"
   ]
  },
  {
   "cell_type": "code",
   "execution_count": 3,
   "metadata": {},
   "outputs": [
    {
     "name": "stdout",
     "output_type": "stream",
     "text": [
      "Hello, World!\n",
      "Hello, Luca!\n"
     ]
    }
   ],
   "source": [
    "# Tell Python to print Hello, World! to the screen\n",
    "print(\"Hello, World!\")\n",
    "print(\"Hello, Luca!\")"
   ]
  },
  {
   "cell_type": "markdown",
   "metadata": {},
   "source": [
    "You can use comments on the same line as actual code. For instance:"
   ]
  },
  {
   "cell_type": "code",
   "execution_count": 4,
   "metadata": {},
   "outputs": [
    {
     "name": "stdout",
     "output_type": "stream",
     "text": [
      "Hello, planet Earth!\n"
     ]
    }
   ],
   "source": [
    "# Below is an example of mixing code and comments on the same line\n",
    "print(\"Hello, planet Earth!\")        # This line prints \"Hello, planet Earth!\" to screen"
   ]
  },
  {
   "cell_type": "markdown",
   "metadata": {},
   "source": [
    "---\n",
    "Let's go back to our first program \"Hello, World!\".\n",
    "\n",
    "```python\n",
    "# Tell Python to print Hello, World! to the screen\n",
    "print(\"Hello, World!\")\n",
    "```\n",
    "\n",
    "In the second line, we have a **command** or **instruction**:\n",
    "\n",
    "```python\n",
    "print(\"Hello, World!\")\n",
    "```\n",
    "\n",
    "This is the core of our program. When Python \"reads\" our program, it **interprets** the line as something that should be converted into instructions understood by the computer. In very non-technical terms, computers talk in binary language (i.e. a sequence of 1s and 0s, 1010001001), while we write our code in plain English, or almost.\n",
    "\n",
    "When Python reads the code, it sees two things:\n",
    "\n",
    "- A keyword that identifies the action to be performed: ``` print() ```\n",
    "    \n",
    "    - This is known as a **function**: it takes inputs and performs pre-defined operations on them\n",
    "\n",
    "\n",
    "- What should be printed to the screen: ```Hello, World!```\n",
    "\n",
    "    - This is the input into the ```print()``` function above.\n",
    "    \n",
    "    - Moreover, ```Hello, World!``` is a collection of characters. This is known as a **string**, which is one of the main **data types** of Python. More on this later ...\n",
    "\n",
    "---"
   ]
  },
  {
   "cell_type": "markdown",
   "metadata": {},
   "source": [
    "## Can we write commands in plain English? Welcome Syntax!\n",
    "Have a look at our command once again:\n",
    "\n",
    "\n",
    "```python\n",
    "print(\"Hello, World!\")\n",
    "```\n",
    "\n",
    "Notice that it is written in a **very specific way**:\n",
    "\n",
    "- ``` print() ``` has to be followed by opening ```(``` and closing ```)``` parentheses\n",
    "- ```\"Hello, World!\"``` is contained within quotes ```\" \"```\n",
    "\n",
    "When writing Python code, we need to follow its **syntax**:\n",
    "\n",
    "- This is the set of rules of writing that allows Python to understand and interpret our code\n",
    "\n",
    "Any deviation from the specified syntax confuses Python, which starts complaining.\n",
    "\n",
    "Let's see what happens if we \"violate the rules\":"
   ]
  },
  {
   "cell_type": "code",
   "execution_count": 5,
   "metadata": {
    "scrolled": true
   },
   "outputs": [
    {
     "ename": "SyntaxError",
     "evalue": "unexpected EOF while parsing (<ipython-input-5-0bb8810d7184>, line 2)",
     "output_type": "error",
     "traceback": [
      "\u001b[0;36m  File \u001b[0;32m\"<ipython-input-5-0bb8810d7184>\"\u001b[0;36m, line \u001b[0;32m2\u001b[0m\n\u001b[0;31m    print(\"Hello, World!\"\u001b[0m\n\u001b[0m                         ^\u001b[0m\n\u001b[0;31mSyntaxError\u001b[0m\u001b[0;31m:\u001b[0m unexpected EOF while parsing\n"
     ]
    }
   ],
   "source": [
    "# Example 1 of incorrect syntax\n",
    "print(\"Hello, World!\""
   ]
  },
  {
   "cell_type": "code",
   "execution_count": 6,
   "metadata": {
    "scrolled": false
   },
   "outputs": [
    {
     "ename": "SyntaxError",
     "evalue": "EOL while scanning string literal (<ipython-input-6-149a2a6a74d6>, line 2)",
     "output_type": "error",
     "traceback": [
      "\u001b[0;36m  File \u001b[0;32m\"<ipython-input-6-149a2a6a74d6>\"\u001b[0;36m, line \u001b[0;32m2\u001b[0m\n\u001b[0;31m    print(\"Hello, World!)\u001b[0m\n\u001b[0m                         ^\u001b[0m\n\u001b[0;31mSyntaxError\u001b[0m\u001b[0;31m:\u001b[0m EOL while scanning string literal\n"
     ]
    }
   ],
   "source": [
    "# Example 2 of incorrect syntax\n",
    "print(\"Hello, World!)"
   ]
  },
  {
   "cell_type": "markdown",
   "metadata": {},
   "source": [
    "Whenever we violate the Python syntax, the program does not run correctly and reports an error.\n",
    "\n",
    "This is called a **syntax error**:\n",
    "- Syntax errors comes with a brief explanation. You should read this carefully in order to fix your code.\n",
    "\n",
    "---"
   ]
  },
  {
   "cell_type": "markdown",
   "metadata": {},
   "source": [
    "## Python as a calculator\n",
    "Python is an incredibly versatile and powerful programming language. It will allow us to perform complex and computer-intesive task such as reading, summarising, and visualising datasets, as well as writing programs that performs specific tasks.\n",
    "\n",
    "Before we jump to that, we need to start with the basics. The easiest thing that we can do with Python is to use it a **calculator**.\n",
    "\n",
    "Similarly to what you would do with a standard pocket calculator, Python can work with **numbers** and perform the following operations:\n",
    "\n",
    "| **Operation**        | **Operator** |\n",
    "| :------------        | :----------: |\n",
    "| Addition             | ```+``` |\n",
    "| Subtraction          | ```-``` |\n",
    "| Multiplication       | ```*``` |\n",
    "| Division             | ```/``` |\n",
    "| Floor division       | ```//```|\n",
    "| Modulo/remainder     | ```%``` |\n",
    "| Exponentiation       | ```**``` |\n",
    "\n",
    "Let's have a look at each of those with some examples:"
   ]
  },
  {
   "cell_type": "code",
   "execution_count": 7,
   "metadata": {},
   "outputs": [
    {
     "data": {
      "text/plain": [
       "10"
      ]
     },
     "execution_count": 7,
     "metadata": {},
     "output_type": "execute_result"
    }
   ],
   "source": [
    "# Sum the numbers 6 and 4\n",
    "6 + 4"
   ]
  },
  {
   "cell_type": "code",
   "execution_count": 8,
   "metadata": {},
   "outputs": [
    {
     "data": {
      "text/plain": [
       "7"
      ]
     },
     "execution_count": 8,
     "metadata": {},
     "output_type": "execute_result"
    }
   ],
   "source": [
    "# Subtract 3 from 10\n",
    "10 - 3"
   ]
  },
  {
   "cell_type": "code",
   "execution_count": 9,
   "metadata": {},
   "outputs": [
    {
     "data": {
      "text/plain": [
       "-7"
      ]
     },
     "execution_count": 9,
     "metadata": {},
     "output_type": "execute_result"
    }
   ],
   "source": [
    "# Subtraction works with negative results too. Subtract 10 from 3\n",
    "3 - 10"
   ]
  },
  {
   "cell_type": "code",
   "execution_count": 10,
   "metadata": {},
   "outputs": [
    {
     "data": {
      "text/plain": [
       "10"
      ]
     },
     "execution_count": 10,
     "metadata": {},
     "output_type": "execute_result"
    }
   ],
   "source": [
    "# Multiply 5 by 2\n",
    "5 * 2"
   ]
  },
  {
   "cell_type": "markdown",
   "metadata": {},
   "source": [
    "As we have seen, all of the above operations are the familiar ones that we use everyday. Morover, these operations return whole numbers, i.e. numbers without decimal points.\n",
    "\n",
    "These numbers are called **integers**:\n",
    "\n",
    "> **Integer** is a built-in **data type** in Python\n",
    "\n",
    "To confirm this we can use the ```type()``` command:"
   ]
  },
  {
   "cell_type": "code",
   "execution_count": 11,
   "metadata": {},
   "outputs": [
    {
     "data": {
      "text/plain": [
       "int"
      ]
     },
     "execution_count": 11,
     "metadata": {},
     "output_type": "execute_result"
    }
   ],
   "source": [
    "# Check that 2 is an integer using type()\n",
    "type(2)"
   ]
  },
  {
   "cell_type": "markdown",
   "metadata": {},
   "source": [
    "Integers is the first of many data types that we will use. Another one is a **float**\n",
    "\n",
    "> A **float** is a built-in data type used to represent fractions and numbers with decimal points\n",
    "\n",
    "Floats are usually the result of **division** operations.\n",
    "\n",
    "Let's see an example:"
   ]
  },
  {
   "cell_type": "code",
   "execution_count": 12,
   "metadata": {},
   "outputs": [
    {
     "data": {
      "text/plain": [
       "6.666666666666667"
      ]
     },
     "execution_count": 12,
     "metadata": {},
     "output_type": "execute_result"
    }
   ],
   "source": [
    "# Divide 20 by 3\n",
    "20 / 3"
   ]
  },
  {
   "cell_type": "markdown",
   "metadata": {},
   "source": [
    "As you can see, the result contains decimals points. Indeed, this is a **float**:"
   ]
  },
  {
   "cell_type": "code",
   "execution_count": 13,
   "metadata": {},
   "outputs": [
    {
     "data": {
      "text/plain": [
       "float"
      ]
     },
     "execution_count": 13,
     "metadata": {},
     "output_type": "execute_result"
    }
   ],
   "source": [
    "# Check that 20 / 3 is a float using type()\n",
    "type(20 / 3)"
   ]
  },
  {
   "cell_type": "markdown",
   "metadata": {},
   "source": [
    "There are two other types of \"divisions\":\n",
    "- One that discards the decimal points altogheter (floor division)\n",
    "- One that returns the remainder of the division only (modulo)"
   ]
  },
  {
   "cell_type": "code",
   "execution_count": 14,
   "metadata": {},
   "outputs": [
    {
     "data": {
      "text/plain": [
       "6"
      ]
     },
     "execution_count": 14,
     "metadata": {},
     "output_type": "execute_result"
    }
   ],
   "source": [
    "# Keep only the integer part of the division\n",
    "20 // 3"
   ]
  },
  {
   "cell_type": "code",
   "execution_count": 15,
   "metadata": {},
   "outputs": [
    {
     "data": {
      "text/plain": [
       "2"
      ]
     },
     "execution_count": 15,
     "metadata": {},
     "output_type": "execute_result"
    }
   ],
   "source": [
    "# Keep only the remainder of the division\n",
    "20 % 3"
   ]
  },
  {
   "cell_type": "markdown",
   "metadata": {},
   "source": [
    "### Operators precendence\n",
    "Different operators can be combined together, that is you can sum, subtract, multiply, and divide numbers in a single operation.\n",
    "\n",
    "When doing so we need to keep in mind the precedence of operators. Operators have a precedence order similar to standard arithmetic and mathematical operations that you do with pen and paper."
   ]
  },
  {
   "cell_type": "code",
   "execution_count": 16,
   "metadata": {},
   "outputs": [
    {
     "data": {
      "text/plain": [
       "10.0"
      ]
     },
     "execution_count": 16,
     "metadata": {},
     "output_type": "execute_result"
    }
   ],
   "source": [
    "# Division, then multiplication, and finally sum\n",
    "1 + 6 / 2 * 3       # --> should give 10"
   ]
  },
  {
   "cell_type": "markdown",
   "metadata": {},
   "source": [
    "What if I want to do the operations in a different order?\n",
    "\n",
    "This could be easily achieved by using parentheses ```(``` and ```)```"
   ]
  },
  {
   "cell_type": "code",
   "execution_count": 17,
   "metadata": {
    "scrolled": true
   },
   "outputs": [
    {
     "data": {
      "text/plain": [
       "1.1666666666666667"
      ]
     },
     "execution_count": 17,
     "metadata": {},
     "output_type": "execute_result"
    }
   ],
   "source": [
    "# Use parentheses to sum 1 and 6 first\n",
    "# then multiply 2 by 3\n",
    "# and finally divide the results\n",
    "(1 + 6) / (2 * 3)       # --> should be 1.66666667"
   ]
  },
  {
   "cell_type": "markdown",
   "metadata": {},
   "source": [
    "## Storing results: Variables\n",
    "Great, we can do basic maths with Python!\n",
    "\n",
    "What if we want to do more complex operations, for example by **storing** our results and use it later on in our code?\n",
    "\n",
    "We can do that by using **variables**\n",
    "\n",
    "> **Variables** allows us to give a \"name\" to an **instance** of data type (here numbers) or the result of an operation.\n",
    ">\n",
    "> Variables names are remembered by Python and can be **called** later on in the program\n"
   ]
  },
  {
   "cell_type": "markdown",
   "metadata": {},
   "source": [
    "### Example: cost of a basket\n",
    "Let's say that we want to compute the cost of the following basket, given the prices and quantity purchased:\n",
    "\n",
    "| **Good**      | **Price**       | **Quantity** |\n",
    "| :------------ | :------------:  | :----------: |\n",
    "| Cola          | 1.25            | 5            |\n",
    "| Water         | 0.75            | 7            |\n",
    "| Chocolate     | 3               | 4            |\n",
    "\n",
    "Of course, we need to first compute the cost of individual goods and later sum them together"
   ]
  },
  {
   "cell_type": "code",
   "execution_count": 18,
   "metadata": {},
   "outputs": [
    {
     "name": "stdout",
     "output_type": "stream",
     "text": [
      "6.25\n",
      "5.25\n",
      "12\n"
     ]
    }
   ],
   "source": [
    "# Compute cost of individual goods and store them in a variables\n",
    "cost_cola      = 1.25 * 5\n",
    "cost_water     = 0.75 * 7\n",
    "cost_chocolate = 3 * 4\n",
    "\n",
    "# You can print the cost of the goods to check if they're correct\n",
    "print(cost_cola)\n",
    "print(cost_water)\n",
    "print(cost_chocolate)"
   ]
  },
  {
   "cell_type": "code",
   "execution_count": 19,
   "metadata": {},
   "outputs": [],
   "source": [
    "# Finally, use the previously created variables to store the cost of the basket\n",
    "cost_basket = cost_cola + cost_water + cost_chocolate"
   ]
  },
  {
   "cell_type": "code",
   "execution_count": 20,
   "metadata": {},
   "outputs": [
    {
     "name": "stdout",
     "output_type": "stream",
     "text": [
      "23.5\n"
     ]
    }
   ],
   "source": [
    "# Notice that when you create a new variable, it does not show automatically\n",
    "# Use the print() function to do this\n",
    "print(cost_basket)"
   ]
  },
  {
   "cell_type": "markdown",
   "metadata": {},
   "source": [
    "### Warnings!!!\n",
    "Variables are **case sensitive**, that is lowercase and uppercase characters matter.\n",
    "\n",
    "> For instance, the variable ```Cost_basket``` is different from ```cost_basket```.\n",
    "\n",
    "If we try to use the capitalised variables, it would give us an error. Indeed, the variable does **not** exist!"
   ]
  },
  {
   "cell_type": "code",
   "execution_count": 21,
   "metadata": {},
   "outputs": [
    {
     "ename": "NameError",
     "evalue": "name 'Cost_basket' is not defined",
     "output_type": "error",
     "traceback": [
      "\u001b[0;31m---------------------------------------------------------------------------\u001b[0m",
      "\u001b[0;31mNameError\u001b[0m                                 Traceback (most recent call last)",
      "\u001b[0;32m<ipython-input-21-bfc9586a9538>\u001b[0m in \u001b[0;36m<module>\u001b[0;34m\u001b[0m\n\u001b[1;32m      1\u001b[0m \u001b[0;31m# Try to print a variable that does not exists\u001b[0m\u001b[0;34m\u001b[0m\u001b[0;34m\u001b[0m\u001b[0;34m\u001b[0m\u001b[0m\n\u001b[0;32m----> 2\u001b[0;31m \u001b[0mprint\u001b[0m\u001b[0;34m(\u001b[0m\u001b[0mCost_basket\u001b[0m\u001b[0;34m)\u001b[0m\u001b[0;34m\u001b[0m\u001b[0;34m\u001b[0m\u001b[0m\n\u001b[0m",
      "\u001b[0;31mNameError\u001b[0m: name 'Cost_basket' is not defined"
     ]
    }
   ],
   "source": [
    "# Try to print a variable that does not exists\n",
    "print(Cost_basket)"
   ]
  },
  {
   "cell_type": "markdown",
   "metadata": {},
   "source": [
    "## Scripts"
   ]
  },
  {
   "cell_type": "markdown",
   "metadata": {},
   "source": [
    "Notice that we are doing operations sequentially:\n",
    "\n",
    "1. Create and store variables with individual goods cost\n",
    "2. Use these variables to create a new variabile with total cost\n",
    "3. Print the result out\n",
    "\n",
    "Python, as other programming languages, allows you write all of these operations and commands in text file, which can be read and run by the interpreter. These text files are called **scripts**.\n",
    "\n",
    "> Python scripts are text files with extension .py\n",
    ">\n",
    "> Python scripts are read by the Python interpreter and invoke all operations sequentially when these are runned.\n",
    "\n",
    "For example, the file ```cost_of_basket.py``` stores all operations done above in a script. You can invoke and run this script in this Jupyter notebook"
   ]
  },
  {
   "cell_type": "code",
   "execution_count": 22,
   "metadata": {},
   "outputs": [
    {
     "name": "stdout",
     "output_type": "stream",
     "text": [
      "23.5\n"
     ]
    }
   ],
   "source": [
    "# Invoke and run the Python script that compute the cost of a basket\n",
    "%run cost_of_basket.py"
   ]
  },
  {
   "cell_type": "markdown",
   "metadata": {},
   "source": [
    "## Working with text: Strings\n",
    "Let's have a final look at our very first program:\n",
    "\n",
    "```python\n",
    "# Tell Python to print Hello, World! to the screen\n",
    "print(\"Hello, World!\")\n",
    "```\n",
    "\n",
    "As we previously mentioned briefly, ```\"Hello, World!\"``` is a **string**. This is the second Python built-in data type that we introduce.\n",
    "\n",
    "> A **string** is a Python data type that stores a *sequence of characters*\n",
    "\n",
    "Textual data, and thus strings, can be our main focus of analysis or can be used to document the output of our program along with numbers."
   ]
  },
  {
   "cell_type": "markdown",
   "metadata": {},
   "source": [
    "### Creating strings\n",
    "There are many way to create strings. The two most used are:\n",
    "\n",
    "- Using single quotes ```''```\n",
    "- Using double quotes ```\"\"```\n",
    "\n",
    "As with numbers, strings can be stored in variables and later printed. Let's see them in action!"
   ]
  },
  {
   "cell_type": "code",
   "execution_count": 23,
   "metadata": {},
   "outputs": [
    {
     "name": "stdout",
     "output_type": "stream",
     "text": [
      "This is a string\n"
     ]
    }
   ],
   "source": [
    "# Create, store, and print a string using single quotes\n",
    "my_first_string = 'This is a string'\n",
    "print(my_first_string)"
   ]
  },
  {
   "cell_type": "code",
   "execution_count": 24,
   "metadata": {
    "scrolled": false
   },
   "outputs": [
    {
     "name": "stdout",
     "output_type": "stream",
     "text": [
      "This is another string\n"
     ]
    }
   ],
   "source": [
    "# Create, store, and print a string using double quotes\n",
    "my_second_string = \"This is another string\"\n",
    "print(my_second_string)"
   ]
  },
  {
   "cell_type": "code",
   "execution_count": 25,
   "metadata": {
    "scrolled": true
   },
   "outputs": [
    {
     "name": "stdout",
     "output_type": "stream",
     "text": [
      "Sometimes you have a very long sentence that does not fit on a single line and you might want to define it over several lines. Nevertheless this is stored, and printed, as a SINGLE line\n"
     ]
    }
   ],
   "source": [
    "# Very long string example. Use parentheses to encapsulate the string and store it in variables\n",
    "long_sentence = (\"Sometimes you have a very long sentence \"\n",
    "                 \"that does not fit on a single line and \"\n",
    "                 \"you might want to define it over several lines. \"\n",
    "                 \"Nevertheless this is stored, and printed, as a \"\n",
    "                 \"SINGLE line\")\n",
    "print(long_sentence)"
   ]
  },
  {
   "cell_type": "markdown",
   "metadata": {},
   "source": [
    "Some other times you want to display a sentence or a sequence of sentences over **multiples** lines. There are many ways to do that. Here's two:\n",
    "\n",
    "- Define your strings using triple quotes ```\"\"\"\"\"\"```\n",
    "- Use the **escape character** ```\\n```\n"
   ]
  },
  {
   "cell_type": "code",
   "execution_count": 26,
   "metadata": {},
   "outputs": [
    {
     "name": "stdout",
     "output_type": "stream",
     "text": [
      "This\n",
      "sentence\n",
      "spans\n",
      "multiple\n",
      "lines\n"
     ]
    }
   ],
   "source": [
    "# Define a string with triple quotes in order to be displayed over several lines\n",
    "multiple_lines_string = \"\"\"This\n",
    "sentence\n",
    "spans\n",
    "multiple\n",
    "lines\"\"\"\n",
    "\n",
    "print(multiple_lines_string)"
   ]
  },
  {
   "cell_type": "code",
   "execution_count": 27,
   "metadata": {
    "scrolled": true
   },
   "outputs": [
    {
     "name": "stdout",
     "output_type": "stream",
     "text": [
      "Sometimes you have a very long sentence\n",
      "that you want to display over several lines.\n",
      "To do that use the escape character '\\n' where you want\n",
      "your line to be split.\n"
     ]
    }
   ],
   "source": [
    "# Use the escape character \\n to break a sentence over multiple lines\n",
    "long_sentence_again = (\"Sometimes you have a very long sentence\\n\"\n",
    "                 \"that you want to display over several lines.\\n\"\n",
    "                 \"To do that use the escape character '\\\\n' where you want\\nyour line to be split.\")\n",
    "print(long_sentence_again)"
   ]
  },
  {
   "cell_type": "markdown",
   "metadata": {},
   "source": [
    "### Combining strings\n",
    "We have seen how to create strings and store them in variables. As with numbers, you can use these variables to create new strings.\n",
    "\n",
    "For instance, you can combine two or more strings to create a longer string. This operation is called **string concatenation**.\n",
    "\n",
    "We can do that with two operators:\n",
    "\n",
    "- ```+``` joins two or more strings together\n",
    "- ```*``` repeats the same string multiple times\n",
    "\n",
    "Clearly, this is your favourite module of this year. You want Python to know that."
   ]
  },
  {
   "cell_type": "code",
   "execution_count": 28,
   "metadata": {},
   "outputs": [
    {
     "name": "stdout",
     "output_type": "stream",
     "text": [
      "852L1 Data Processing, Coding, & Visualisation is my favourite module of 2020\n"
     ]
    }
   ],
   "source": [
    "# Define three strings and store them in separate variables\n",
    "module_code = \"852L1\"\n",
    "module_name = \"Data Processing, Coding, & Visualisation\"\n",
    "year        = \"2020\"\n",
    "\n",
    "# Create a new variable that uses the strings above\n",
    "fav_module = module_code + \" \" + module_name + \" is my favourite module of \" + year\n",
    "\n",
    "# Print it\n",
    "print(fav_module)"
   ]
  },
  {
   "cell_type": "code",
   "execution_count": 29,
   "metadata": {
    "scrolled": true
   },
   "outputs": [
    {
     "name": "stdout",
     "output_type": "stream",
     "text": [
      "OOOOOOOOOOH YEAH! 🎉🎉🎉🎉🎉🎉🎉🎉🎉🎉🎉🎉🎉🎉🎉\n"
     ]
    }
   ],
   "source": [
    "# Show your lecturer how much you're excited about it\n",
    "oh_yeah = 10 * \"O\" + \"H YEAH! \" + 15 * \"🎉\"\n",
    "print(oh_yeah)"
   ]
  },
  {
   "cell_type": "markdown",
   "metadata": {},
   "source": [
    "### String formatting\n",
    "Combining strings with ```+``` and ```*``` works, but there is a better way to do that. That is **string formatting** and more specifically **f-strings**\n",
    "\n",
    "> A **f-string** is a string that is *prepended* by the character ```f```\n",
    "\n",
    "Example:\n",
    "```python\n",
    "f\"This is an f-string\"\n",
    "```\n",
    "\n",
    "What's so special about f-string?\n",
    "\n",
    "f-string can be used along with a *placeholder* (identified by curly braces ```{}```) which can contain **variables** and/or **expressions**.\n",
    "\n",
    "*Note: f-strings are available with versions of Python 3.6 or never*"
   ]
  },
  {
   "cell_type": "code",
   "execution_count": 30,
   "metadata": {},
   "outputs": [
    {
     "name": "stdout",
     "output_type": "stream",
     "text": [
      "852L1 Data Processing, Coding, & Visualisation is my favourite module of 2020\n"
     ]
    }
   ],
   "source": [
    "# Repeat that this is your favourite module with f-strings\n",
    "fav_module = f\"{module_code} {module_name} is my favourite module of {year}\"\n",
    "print(fav_module)"
   ]
  },
  {
   "cell_type": "markdown",
   "metadata": {},
   "source": [
    "### Combining strings and numbers\n",
    "\n",
    "\n",
    "Formatted strings allow us to combine strings with other data types, such as numbers.\n",
    "\n",
    "Let's consider again our program that computes the cost of a basket. If we print out the variable ```cost_basket```, we'll only see a number that represent the total cost of the basket.\n",
    "\n",
    "That's not very informative ..."
   ]
  },
  {
   "cell_type": "code",
   "execution_count": 31,
   "metadata": {},
   "outputs": [
    {
     "data": {
      "text/plain": [
       "23.5"
      ]
     },
     "execution_count": 31,
     "metadata": {},
     "output_type": "execute_result"
    }
   ],
   "source": [
    "cost_basket"
   ]
  },
  {
   "cell_type": "markdown",
   "metadata": {},
   "source": [
    "It would be much better if we can see the entire receipt from our grocery shopping"
   ]
  },
  {
   "cell_type": "code",
   "execution_count": 32,
   "metadata": {},
   "outputs": [
    {
     "name": "stdout",
     "output_type": "stream",
     "text": [
      "Cola:       £ 6.25\n",
      "Water:      £ 5.25\n",
      "Chocolate:  £ 12\n",
      "              ---- \n",
      "Total cost: £ 23.5\n"
     ]
    }
   ],
   "source": [
    "# Create a variable the contains all information about the basket\n",
    "receipt = (f\"Cola:       £ {cost_cola}\\n\"\n",
    "           f\"Water:      £ {cost_water}\\n\"\n",
    "           f\"Chocolate:  £ {cost_chocolate}\\n\"\n",
    "            \"              ---- \\n\"\n",
    "           f\"Total cost: £ {cost_basket}\"\n",
    "          )\n",
    "\n",
    "# Print receipt\n",
    "print(receipt)"
   ]
  },
  {
   "cell_type": "markdown",
   "metadata": {},
   "source": [
    "## Extracting text: indexing and slicing\n",
    "Sometimes we want to extract text from existing variables. That is, given some text stored in a string variable we want to\n",
    "\n",
    "- Access a specific character of that text\n",
    "- Extract a subset of the text, i.e. a sub-string\n",
    "\n",
    "We can do that with two operations: **indexing** and **slicing**."
   ]
  },
  {
   "cell_type": "markdown",
   "metadata": {},
   "source": [
    "### String indexing\n",
    "Indexing allows us to access a specific character of a given string. This is done by identifying the position of that character in the string.\n",
    "\n",
    "Given any string, e.g. ```\"Coding\"```, each character is associated to an **index** that specifies that position of each character:\n",
    "\n",
    "|    |  C   |  o   |  d   |  i   |  n   |  g   |    |\n",
    "| -: | :-:  | :-:  | :-:  | :-:  | :-:  | :-:  | :- |\n",
    "|  → |  0   |  1   |  2   |  3   |  4   |  5   |    |\n",
    "|    |  -6  |  -5  |  -4  |  -3  |  -2  |  -1  | ←  |\n",
    "\n",
    "You can access that character by doing\n",
    "\n",
    "```python\n",
    "string_name[index]\n",
    "```\n",
    "\n",
    "A few examples below:"
   ]
  },
  {
   "cell_type": "code",
   "execution_count": 33,
   "metadata": {},
   "outputs": [],
   "source": [
    "c = \"Coding\""
   ]
  },
  {
   "cell_type": "markdown",
   "metadata": {},
   "source": [
    "Going forward:"
   ]
  },
  {
   "cell_type": "code",
   "execution_count": 34,
   "metadata": {},
   "outputs": [
    {
     "data": {
      "text/plain": [
       "'C'"
      ]
     },
     "execution_count": 34,
     "metadata": {},
     "output_type": "execute_result"
    }
   ],
   "source": [
    "# First element\n",
    "c[0]"
   ]
  },
  {
   "cell_type": "code",
   "execution_count": 35,
   "metadata": {},
   "outputs": [
    {
     "data": {
      "text/plain": [
       "'d'"
      ]
     },
     "execution_count": 35,
     "metadata": {},
     "output_type": "execute_result"
    }
   ],
   "source": [
    "# Third element\n",
    "c[2]"
   ]
  },
  {
   "cell_type": "code",
   "execution_count": 36,
   "metadata": {},
   "outputs": [
    {
     "data": {
      "text/plain": [
       "'g'"
      ]
     },
     "execution_count": 36,
     "metadata": {},
     "output_type": "execute_result"
    }
   ],
   "source": [
    "# Last element\n",
    "c[5]"
   ]
  },
  {
   "cell_type": "markdown",
   "metadata": {},
   "source": [
    "Going backwards:"
   ]
  },
  {
   "cell_type": "code",
   "execution_count": 37,
   "metadata": {},
   "outputs": [
    {
     "data": {
      "text/plain": [
       "'g'"
      ]
     },
     "execution_count": 37,
     "metadata": {},
     "output_type": "execute_result"
    }
   ],
   "source": [
    "# Last element\n",
    "c[-1]"
   ]
  },
  {
   "cell_type": "code",
   "execution_count": 38,
   "metadata": {},
   "outputs": [
    {
     "data": {
      "text/plain": [
       "'d'"
      ]
     },
     "execution_count": 38,
     "metadata": {},
     "output_type": "execute_result"
    }
   ],
   "source": [
    "# Third element\n",
    "c[-4]"
   ]
  },
  {
   "cell_type": "code",
   "execution_count": 39,
   "metadata": {},
   "outputs": [
    {
     "data": {
      "text/plain": [
       "'C'"
      ]
     },
     "execution_count": 39,
     "metadata": {},
     "output_type": "execute_result"
    }
   ],
   "source": [
    "# First element\n",
    "c[-6]"
   ]
  },
  {
   "cell_type": "markdown",
   "metadata": {},
   "source": [
    "Notice that it is not allowed to use an index beyond the length of the string:"
   ]
  },
  {
   "cell_type": "code",
   "execution_count": 40,
   "metadata": {},
   "outputs": [
    {
     "ename": "IndexError",
     "evalue": "string index out of range",
     "output_type": "error",
     "traceback": [
      "\u001b[0;31m---------------------------------------------------------------------------\u001b[0m",
      "\u001b[0;31mIndexError\u001b[0m                                Traceback (most recent call last)",
      "\u001b[0;32m<ipython-input-40-0af7d9d61526>\u001b[0m in \u001b[0;36m<module>\u001b[0;34m\u001b[0m\n\u001b[1;32m      1\u001b[0m \u001b[0;31m# Index beyond length of string\u001b[0m\u001b[0;34m\u001b[0m\u001b[0;34m\u001b[0m\u001b[0;34m\u001b[0m\u001b[0m\n\u001b[0;32m----> 2\u001b[0;31m \u001b[0mc\u001b[0m\u001b[0;34m[\u001b[0m\u001b[0;36m6\u001b[0m\u001b[0;34m]\u001b[0m\u001b[0;34m\u001b[0m\u001b[0;34m\u001b[0m\u001b[0m\n\u001b[0m",
      "\u001b[0;31mIndexError\u001b[0m: string index out of range"
     ]
    }
   ],
   "source": [
    "# Index beyond length of string\n",
    "c[6]"
   ]
  },
  {
   "cell_type": "markdown",
   "metadata": {},
   "source": [
    "### String slicing\n",
    "In addition to extracting specific characters from a string, Python allows us to extract *substrings*. This is done with **slicing**.\n",
    "\n",
    "If we have a string named ```string_name```, then the following expression\n",
    "\n",
    "```python\n",
    "string_name[start:end]\n",
    "```\n",
    "\n",
    "returns a sub-string of ```string_name``` with characters from ```start``` (included) to ```end``` (**not** included)\n",
    "\n",
    "**Warning**:\n",
    "The ```end``` character is **not** included.\n",
    "\n",
    "While this might sound unintuitive, the output of the slicing operation makes sense. Indeed, we obtain a substring of length equal to ```end - start```\n",
    "\n",
    "Let's reuse our ```\"Coding\"``` string for examples:\n",
    "\n",
    "|    |  C   |  o   |  d   |  i   |  n   |  g   |    |\n",
    "| -: | :-:  | :-:  | :-:  | :-:  | :-:  | :-:  | :- |\n",
    "|  → |  0   |  1   |  2   |  3   |  4   |  5   |    |\n",
    "|    |  -6  |  -5  |  -4  |  -3  |  -2  |  -1  | ←  |\n"
   ]
  },
  {
   "cell_type": "code",
   "execution_count": 41,
   "metadata": {},
   "outputs": [
    {
     "data": {
      "text/plain": [
       "'odin'"
      ]
     },
     "execution_count": 41,
     "metadata": {},
     "output_type": "execute_result"
    }
   ],
   "source": [
    "# Get characters from 2 to 5 of \"Coding\"\n",
    "c[1:5]"
   ]
  },
  {
   "cell_type": "code",
   "execution_count": 42,
   "metadata": {},
   "outputs": [
    {
     "data": {
      "text/plain": [
       "'odin'"
      ]
     },
     "execution_count": 42,
     "metadata": {},
     "output_type": "execute_result"
    }
   ],
   "source": [
    "# Alternative way\n",
    "c[-5:-1]"
   ]
  },
  {
   "cell_type": "code",
   "execution_count": 43,
   "metadata": {},
   "outputs": [
    {
     "data": {
      "text/plain": [
       "'Codi'"
      ]
     },
     "execution_count": 43,
     "metadata": {},
     "output_type": "execute_result"
    }
   ],
   "source": [
    "# Get characters from the first to the 4th\n",
    "c[0:4]"
   ]
  },
  {
   "cell_type": "code",
   "execution_count": 44,
   "metadata": {},
   "outputs": [
    {
     "data": {
      "text/plain": [
       "'Codi'"
      ]
     },
     "execution_count": 44,
     "metadata": {},
     "output_type": "execute_result"
    }
   ],
   "source": [
    "# The first index can be omitted!\n",
    "c[:4]"
   ]
  },
  {
   "cell_type": "code",
   "execution_count": 45,
   "metadata": {},
   "outputs": [
    {
     "data": {
      "text/plain": [
       "'ding'"
      ]
     },
     "execution_count": 45,
     "metadata": {},
     "output_type": "execute_result"
    }
   ],
   "source": [
    "# Get characters from the 3rd to the last\n",
    "c[2:]"
   ]
  },
  {
   "cell_type": "code",
   "execution_count": 46,
   "metadata": {},
   "outputs": [
    {
     "data": {
      "text/plain": [
       "'Coding'"
      ]
     },
     "execution_count": 46,
     "metadata": {},
     "output_type": "execute_result"
    }
   ],
   "source": [
    "# Finally, give me the whole string!\n",
    "c[:]"
   ]
  },
  {
   "cell_type": "markdown",
   "metadata": {},
   "source": [
    "## Manipulating strings: string methods\n",
    "Some other times we want to manipulate textual data directly. Given a string we want to perform some operations that return the same string *slightly changed*.\n",
    "\n",
    "This can be done using **string methods**. Loosely speaking, a **method** is a command that applies predefined transformations to an **object**, in this case a string.\n",
    "\n",
    "The general syntax for **calling** a method is:\n",
    "\n",
    "```python\n",
    "string_name.method_name(<arguments>)\n",
    "```\n",
    "\n",
    "There are *a lot* of string methods that we can use. Check [here](https://docs.python.org/3/library/stdtypes.html#string-methods) for a full list.\n",
    "\n",
    "Below are a few examples:"
   ]
  },
  {
   "cell_type": "code",
   "execution_count": 47,
   "metadata": {},
   "outputs": [
    {
     "data": {
      "text/plain": [
       "'This is a messy string'"
      ]
     },
     "execution_count": 47,
     "metadata": {},
     "output_type": "execute_result"
    }
   ],
   "source": [
    "# Capitalize a given string\n",
    "messy_string = \"thIs IS A mESSy STrINg\"\n",
    "messy_string.capitalize()"
   ]
  },
  {
   "cell_type": "code",
   "execution_count": 48,
   "metadata": {},
   "outputs": [
    {
     "data": {
      "text/plain": [
       "'THiS is a MessY stRinG'"
      ]
     },
     "execution_count": 48,
     "metadata": {},
     "output_type": "execute_result"
    }
   ],
   "source": [
    "# Swap lowercase with uppecase\n",
    "messy_string.swapcase()"
   ]
  },
  {
   "cell_type": "code",
   "execution_count": 49,
   "metadata": {},
   "outputs": [
    {
     "data": {
      "text/plain": [
       "'This Is A Messy String'"
      ]
     },
     "execution_count": 49,
     "metadata": {},
     "output_type": "execute_result"
    }
   ],
   "source": [
    "# Capitalise each separate word in a string\n",
    "messy_string.title()"
   ]
  },
  {
   "cell_type": "code",
   "execution_count": 50,
   "metadata": {},
   "outputs": [
    {
     "data": {
      "text/plain": [
       "'THIS IS A MESSY STRING'"
      ]
     },
     "execution_count": 50,
     "metadata": {},
     "output_type": "execute_result"
    }
   ],
   "source": [
    "# ALL UPPERCASE\n",
    "messy_string.upper()"
   ]
  },
  {
   "cell_type": "markdown",
   "metadata": {},
   "source": [
    "### Searching methods\n",
    "There are methods that allow you to search for specific text in a given string."
   ]
  },
  {
   "cell_type": "code",
   "execution_count": 51,
   "metadata": {},
   "outputs": [
    {
     "name": "stdout",
     "output_type": "stream",
     "text": [
      "Help on method_descriptor:\n",
      "\n",
      "find(...)\n",
      "    S.find(sub[, start[, end]]) -> int\n",
      "    \n",
      "    Return the lowest index in S where substring sub is found,\n",
      "    such that sub is contained within S[start:end].  Optional\n",
      "    arguments start and end are interpreted as in slice notation.\n",
      "    \n",
      "    Return -1 on failure.\n",
      "\n"
     ]
    }
   ],
   "source": [
    "help(str.find)"
   ]
  },
  {
   "cell_type": "code",
   "execution_count": 52,
   "metadata": {
    "scrolled": true
   },
   "outputs": [
    {
     "data": {
      "text/plain": [
       "16"
      ]
     },
     "execution_count": 52,
     "metadata": {},
     "output_type": "execute_result"
    }
   ],
   "source": [
    "# Find \"fox\" in the following string\n",
    "foxy = \"the quick brown fox jumps over the lazy dog\"\n",
    "foxy.find(\"fox\")"
   ]
  },
  {
   "cell_type": "markdown",
   "metadata": {},
   "source": [
    "We can also replace existing text with new text.\n",
    "\n",
    "This is done using the ```str.replace()``` method:"
   ]
  },
  {
   "cell_type": "code",
   "execution_count": 53,
   "metadata": {},
   "outputs": [
    {
     "data": {
      "text/plain": [
       "'the quick brown fox jumps over the lazy cow'"
      ]
     },
     "execution_count": 53,
     "metadata": {},
     "output_type": "execute_result"
    }
   ],
   "source": [
    "# Replace \"dog\" with \"cow\"\n",
    "foxy.replace(\"dog\", \"cow\")"
   ]
  },
  {
   "cell_type": "markdown",
   "metadata": {},
   "source": [
    "### Counting methods\n",
    "In a lot of situations it is useful to know how long the string is or how many occurences of a certain text there are in a string.\n",
    "\n",
    "This is done with two methods:\n",
    "- the ```len()``` method\n",
    "- the ```str.count()``` method\n"
   ]
  },
  {
   "cell_type": "code",
   "execution_count": 54,
   "metadata": {},
   "outputs": [
    {
     "name": "stdout",
     "output_type": "stream",
     "text": [
      "Sometimes you have a very long sentence that does not fit on a single line and you might want to define it over several lines. Nevertheless this is stored, and printed, as a SINGLE line\n",
      "The sentence above contains 185 characters!\n"
     ]
    }
   ],
   "source": [
    "# Remember our long sentence? How long exactly was it?\n",
    "print(long_sentence)\n",
    "print(f\"The sentence above contains {len(long_sentence)} characters!\")"
   ]
  },
  {
   "cell_type": "code",
   "execution_count": 55,
   "metadata": {},
   "outputs": [
    {
     "data": {
      "text/plain": [
       "2"
      ]
     },
     "execution_count": 55,
     "metadata": {},
     "output_type": "execute_result"
    }
   ],
   "source": [
    "# How many occurences of \"to\" are there?\n",
    "long_sentence.count(\"to\")"
   ]
  },
  {
   "cell_type": "markdown",
   "metadata": {},
   "source": [
    "# Sequence types: lists, tuples, and dictionaries\n",
    "We know how to store information in single variables. Numbers and text can be assigned to a variable using the two data types we introduced above: **Numbers** and **Strings**.\n",
    "\n",
    "That's great but what if we have lots of them?\n",
    "\n",
    "Sometimes it is useful to store information in a single place. This can result in a tidier code and less usage of many redundant variables.\n",
    "\n",
    "Python can store multiples numbers and strings in so-called **sequence types**\n",
    "\n",
    "- **Lists**\n",
    "- **Tuples**\n",
    "- **Dictionaries**\n",
    "\n",
    "We will introduce and work with these data types in the next lecture."
   ]
  },
  {
   "cell_type": "markdown",
   "metadata": {},
   "source": [
    "# Happy coding 🤓 💻"
   ]
  }
 ],
 "metadata": {
  "kernelspec": {
   "display_name": "Python 3",
   "language": "python",
   "name": "python3"
  },
  "language_info": {
   "codemirror_mode": {
    "name": "ipython",
    "version": 3
   },
   "file_extension": ".py",
   "mimetype": "text/x-python",
   "name": "python",
   "nbconvert_exporter": "python",
   "pygments_lexer": "ipython3",
   "version": "3.8.5"
  },
  "toc": {
   "base_numbering": 1,
   "nav_menu": {},
   "number_sections": true,
   "sideBar": true,
   "skip_h1_title": false,
   "title_cell": "Table of Contents",
   "title_sidebar": "Contents",
   "toc_cell": false,
   "toc_position": {},
   "toc_section_display": true,
   "toc_window_display": false
  }
 },
 "nbformat": 4,
 "nbformat_minor": 4
}
