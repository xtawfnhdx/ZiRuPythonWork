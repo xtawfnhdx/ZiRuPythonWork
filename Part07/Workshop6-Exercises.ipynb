{
 "cells": [
  {
   "cell_type": "markdown",
   "metadata": {},
   "source": [
    "## Exercise 1\n",
    "Write a Python program that prints the following sentence:\n",
    "\n",
    "```This is Python!```\n"
   ]
  },
  {
   "cell_type": "code",
   "execution_count": 1,
   "metadata": {},
   "outputs": [
    {
     "name": "stdout",
     "output_type": "stream",
     "text": [
      "This is Python!\n"
     ]
    }
   ],
   "source": [
    "print('This is Python!')"
   ]
  },
  {
   "cell_type": "markdown",
   "metadata": {},
   "source": [
    "## Exercise 2\n",
    "Write a Python program that sums 3 and 2"
   ]
  },
  {
   "cell_type": "code",
   "execution_count": 2,
   "metadata": {},
   "outputs": [
    {
     "name": "stdout",
     "output_type": "stream",
     "text": [
      "5\n"
     ]
    }
   ],
   "source": [
    "print(3+2)"
   ]
  },
  {
   "cell_type": "markdown",
   "metadata": {},
   "source": [
    "## Exercise 3\n",
    "Write a Python program that multiplies 7 times 3"
   ]
  },
  {
   "cell_type": "code",
   "execution_count": 3,
   "metadata": {},
   "outputs": [
    {
     "name": "stdout",
     "output_type": "stream",
     "text": [
      "21\n"
     ]
    }
   ],
   "source": [
    "print(7*3)"
   ]
  },
  {
   "cell_type": "markdown",
   "metadata": {},
   "source": [
    "## Exercise 4\n",
    "Write a Python program that raises 4 to the power of 3"
   ]
  },
  {
   "cell_type": "code",
   "execution_count": null,
   "metadata": {},
   "outputs": [],
   "source": []
  },
  {
   "cell_type": "markdown",
   "metadata": {},
   "source": [
    "## Exercise 5\n",
    "Write a Python program that sums 3 and 7 first, then multiplies 2 times 9, and finally divides the result from the addition by the result of the multiplication.\n",
    "\n",
    "Moreover, check the data type of the result with ```type()```"
   ]
  },
  {
   "cell_type": "code",
   "execution_count": null,
   "metadata": {
    "scrolled": true
   },
   "outputs": [],
   "source": []
  },
  {
   "cell_type": "markdown",
   "metadata": {},
   "source": [
    "## Exercise 6\n",
    "Repeat all exercises above by storing all numerical values in variables first and then using these to perform the required calculations.\n",
    "\n",
    "Do each exercise in a new separate Jupyter notebook cell."
   ]
  },
  {
   "cell_type": "code",
   "execution_count": null,
   "metadata": {},
   "outputs": [],
   "source": []
  },
  {
   "cell_type": "markdown",
   "metadata": {},
   "source": [
    "## Exercise 7\n",
    "Given the following table:\n",
    "\n",
    "| Person        | Height (m)       | Weight (kg) |\n",
    "| :------------ | :------------:  | :----------: |\n",
    "| Luca          | 1.75            | 70            |\n",
    "| Marco         | 1.68            | 65            |\n",
    "| Andrea        | 1.82               | 92            |\n",
    "\n",
    "Write a program that computes the average BMI of Luca, Marco, and Andrea. The BMI index is given by:\n",
    "\n",
    "$$ BMI = \\frac{weight_{kg}}{height^2_{m}} $$"
   ]
  },
  {
   "cell_type": "code",
   "execution_count": null,
   "metadata": {},
   "outputs": [],
   "source": []
  },
  {
   "cell_type": "markdown",
   "metadata": {},
   "source": [
    "## Exercise 8\n",
    "\n",
    "Create a string containing the text ```Hi, I'm a string``` and store it in a variable. Then, print the variable."
   ]
  },
  {
   "cell_type": "code",
   "execution_count": null,
   "metadata": {},
   "outputs": [],
   "source": []
  },
  {
   "cell_type": "markdown",
   "metadata": {},
   "source": [
    "## Exercise 9\n",
    "Given the following words:\n",
    "```\n",
    "This\n",
    "is\n",
    "a\n",
    "complete\n",
    "sentence\n",
    "```\n",
    "\n",
    "Create a variable for each word and join them in a single string. Print the string."
   ]
  },
  {
   "cell_type": "code",
   "execution_count": null,
   "metadata": {},
   "outputs": [],
   "source": []
  },
  {
   "cell_type": "markdown",
   "metadata": {},
   "source": [
    "## Exercise 10\n",
    "Write a program that given the variable ```a = \"A\"```, prints out ```AAAAAAAAH, GOT IT!```"
   ]
  },
  {
   "cell_type": "code",
   "execution_count": null,
   "metadata": {},
   "outputs": [],
   "source": []
  },
  {
   "cell_type": "markdown",
   "metadata": {},
   "source": [
    "## Exercise 11\n",
    "Write a program that given two variables ```joke_intensity``` and ```laughter```, prints out the text:\n",
    "\n",
    "```\n",
    "That's so funny, HAHAHAHAHAHAHA!\n",
    "```\n",
    "\n",
    "where the length of the laugther is given by ```joke_intensity```."
   ]
  },
  {
   "cell_type": "code",
   "execution_count": null,
   "metadata": {},
   "outputs": [],
   "source": []
  },
  {
   "cell_type": "markdown",
   "metadata": {},
   "source": [
    "## Exercise 12\n",
    "Write a Python program that, depending on the value of the **string** variable ```love_or_hate```, prints\n",
    "\n",
    ">I love Python!\n",
    "\n",
    "or\n",
    "\n",
    ">I hate Python!\n",
    "\n"
   ]
  },
  {
   "cell_type": "code",
   "execution_count": null,
   "metadata": {},
   "outputs": [],
   "source": []
  },
  {
   "cell_type": "markdown",
   "metadata": {},
   "source": [
    "## Exercise 13\n",
    "Revisit the BMI exercise above. Write a program that displays the output of the above program nicely, such as\n",
    "\n",
    "```\n",
    "Luca's BMI index is ...\n",
    "Marco's BMI index is ...\n",
    "Andrea's BMI index is ...\n",
    "The average BMI index is ...\n",
    "```\n"
   ]
  },
  {
   "cell_type": "code",
   "execution_count": null,
   "metadata": {},
   "outputs": [],
   "source": []
  },
  {
   "cell_type": "markdown",
   "metadata": {},
   "source": [
    "## Exercise 14\n",
    "Create a script called ```TimesTable3.py``` which computes and print the 3 times table. Make sure to store the text file in the same folder as this Jupyter notebook and with the extension ```.py```.\n",
    "\n",
    "The program should output\n",
    "\n",
    "```\n",
    "1 times 3 is 3\n",
    "2 times 3 is 6\n",
    "...\n",
    "9 times 3 is 27\n",
    "10 times 3 is 30\n",
    "```\n",
    "\n",
    "The script can be run with the command\n",
    "\n",
    "```python\n",
    "%run TimesTable3.py\n",
    "```\n",
    "\n",
    "Insert this command in the cell below:"
   ]
  },
  {
   "cell_type": "code",
   "execution_count": null,
   "metadata": {},
   "outputs": [],
   "source": []
  },
  {
   "cell_type": "markdown",
   "metadata": {},
   "source": [
    "## Exercise 15\n",
    "Given the string ```\"Economics\"```. Write a program that extracts and print the following:\n",
    "\n",
    "- ```\"E\"```\n",
    "- ```\"s\"```\n",
    "- ```\"n\"```\n",
    "- ```\"onomi\"```\n",
    "- ```\"Econ\"```\n",
    "- ```\"nomics\"```\n",
    "- ```\"nom\"```\n",
    "\n",
    "Do each separate extraction in a separate cell."
   ]
  },
  {
   "cell_type": "code",
   "execution_count": null,
   "metadata": {},
   "outputs": [],
   "source": []
  },
  {
   "cell_type": "markdown",
   "metadata": {},
   "source": [
    "## Exercise 16\n",
    "Extract the string ```fox``` from the following sentence\n",
    "\n",
    "```python\n",
    "foxy = \"the quick brown fox jumps over the lazy dog\"\n",
    "```"
   ]
  },
  {
   "cell_type": "code",
   "execution_count": null,
   "metadata": {},
   "outputs": [],
   "source": []
  },
  {
   "cell_type": "markdown",
   "metadata": {},
   "source": [
    "## Exercise 17\n",
    "Write a Python program that returns how many times the letter ```e``` appears in the following sentence:\n",
    "\n",
    "```Lorem ipsum dolor sit amet, consectetur adipiscing elit. Mauris nec ligula quis augue porta vestibulum.```"
   ]
  },
  {
   "cell_type": "code",
   "execution_count": null,
   "metadata": {},
   "outputs": [],
   "source": []
  },
  {
   "cell_type": "markdown",
   "metadata": {},
   "source": [
    "## Exercise 18\n",
    "Repeat the ```foxy``` exercise above **without** manually counting the indexes. That is, the program should automatically find and extract the sub-string ```fox```"
   ]
  },
  {
   "cell_type": "code",
   "execution_count": null,
   "metadata": {},
   "outputs": [],
   "source": []
  },
  {
   "cell_type": "markdown",
   "metadata": {},
   "source": [
    "## Exercise 19\n",
    "Repeat the ```Lorem ipsum``` exercise above and count how many times the letter ```e``` appears between the comma ```,``` and the period ```.```.\n",
    "\n",
    "Check first the help for the ```str.count()``` method with ```help(str.count)``` or ```str.count?```."
   ]
  },
  {
   "cell_type": "code",
   "execution_count": null,
   "metadata": {},
   "outputs": [],
   "source": []
  }
 ],
 "metadata": {
  "kernelspec": {
   "display_name": "Python 3",
   "language": "python",
   "name": "python3"
  },
  "language_info": {
   "codemirror_mode": {
    "name": "ipython",
    "version": 3
   },
   "file_extension": ".py",
   "mimetype": "text/x-python",
   "name": "python",
   "nbconvert_exporter": "python",
   "pygments_lexer": "ipython3",
   "version": "3.8.5"
  },
  "toc": {
   "base_numbering": 1,
   "nav_menu": {},
   "number_sections": true,
   "sideBar": true,
   "skip_h1_title": false,
   "title_cell": "Table of Contents",
   "title_sidebar": "Contents",
   "toc_cell": false,
   "toc_position": {},
   "toc_section_display": true,
   "toc_window_display": false
  }
 },
 "nbformat": 4,
 "nbformat_minor": 4
}
