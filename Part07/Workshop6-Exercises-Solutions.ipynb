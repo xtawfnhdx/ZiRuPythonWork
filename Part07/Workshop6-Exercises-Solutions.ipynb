{
 "cells": [
  {
   "cell_type": "markdown",
   "metadata": {},
   "source": [
    "## Exercise 1\n",
    "Write a Python program that prints the following sentence:\n",
    "\n",
    "```This is Python!```\n"
   ]
  },
  {
   "cell_type": "code",
   "execution_count": 1,
   "metadata": {},
   "outputs": [
    {
     "name": "stdout",
     "output_type": "stream",
     "text": [
      "This is Python!\n"
     ]
    }
   ],
   "source": [
    "print(\"This is Python!\")"
   ]
  },
  {
   "cell_type": "markdown",
   "metadata": {},
   "source": [
    "## Exercise 2\n",
    "Write a Python program that sums 3 and 2"
   ]
  },
  {
   "cell_type": "code",
   "execution_count": 2,
   "metadata": {},
   "outputs": [
    {
     "data": {
      "text/plain": [
       "5"
      ]
     },
     "execution_count": 2,
     "metadata": {},
     "output_type": "execute_result"
    }
   ],
   "source": [
    "3 + 2"
   ]
  },
  {
   "cell_type": "markdown",
   "metadata": {},
   "source": [
    "## Exercise 3\n",
    "Write a Python program that multiplies 7 times 3"
   ]
  },
  {
   "cell_type": "code",
   "execution_count": 3,
   "metadata": {},
   "outputs": [
    {
     "data": {
      "text/plain": [
       "21"
      ]
     },
     "execution_count": 3,
     "metadata": {},
     "output_type": "execute_result"
    }
   ],
   "source": [
    "7 * 3"
   ]
  },
  {
   "cell_type": "markdown",
   "metadata": {},
   "source": [
    "## Exercise 4\n",
    "Write a Python program that raises 4 to the power of 3"
   ]
  },
  {
   "cell_type": "code",
   "execution_count": 4,
   "metadata": {},
   "outputs": [
    {
     "data": {
      "text/plain": [
       "64"
      ]
     },
     "execution_count": 4,
     "metadata": {},
     "output_type": "execute_result"
    }
   ],
   "source": [
    "4 ** 3"
   ]
  },
  {
   "cell_type": "markdown",
   "metadata": {},
   "source": [
    "## Exercise 5\n",
    "Write a Python program that sums 3 and 7 first, then multiplies 2 times 9, and finally divides the result from the addition by the result of the multiplication.\n",
    "\n",
    "Moreover, check the data type of the result with ```type()```"
   ]
  },
  {
   "cell_type": "code",
   "execution_count": 5,
   "metadata": {
    "scrolled": true
   },
   "outputs": [
    {
     "data": {
      "text/plain": [
       "0.5555555555555556"
      ]
     },
     "execution_count": 5,
     "metadata": {},
     "output_type": "execute_result"
    }
   ],
   "source": [
    "(3 + 7) / (2 * 9)"
   ]
  },
  {
   "cell_type": "code",
   "execution_count": 6,
   "metadata": {},
   "outputs": [
    {
     "data": {
      "text/plain": [
       "float"
      ]
     },
     "execution_count": 6,
     "metadata": {},
     "output_type": "execute_result"
    }
   ],
   "source": [
    "# The function type() can take expressions as input\n",
    "type((3 + 7) / (2 * 9))"
   ]
  },
  {
   "cell_type": "markdown",
   "metadata": {},
   "source": [
    "## Exercise 6\n",
    "Repeat all exercises above by storing all numerical values in variables first and then using these to perform the required calculations.\n",
    "\n",
    "Do each exercise in a new separate Jupyter notebook cell."
   ]
  },
  {
   "cell_type": "code",
   "execution_count": 7,
   "metadata": {},
   "outputs": [
    {
     "name": "stdout",
     "output_type": "stream",
     "text": [
      "This is Python!\n"
     ]
    }
   ],
   "source": [
    "# Exercise 1\n",
    "this_is_python = \"This is Python!\"\n",
    "print(this_is_python)"
   ]
  },
  {
   "cell_type": "code",
   "execution_count": 8,
   "metadata": {},
   "outputs": [
    {
     "name": "stdout",
     "output_type": "stream",
     "text": [
      "5\n"
     ]
    }
   ],
   "source": [
    "# Exercise 2\n",
    "three_plus_two = 3 + 2\n",
    "print(three_plus_two)"
   ]
  },
  {
   "cell_type": "code",
   "execution_count": 9,
   "metadata": {},
   "outputs": [
    {
     "name": "stdout",
     "output_type": "stream",
     "text": [
      "21\n"
     ]
    }
   ],
   "source": [
    "# Exercise 3\n",
    "seven_times_three = 7 * 3\n",
    "print(seven_times_three)"
   ]
  },
  {
   "cell_type": "code",
   "execution_count": 10,
   "metadata": {},
   "outputs": [
    {
     "name": "stdout",
     "output_type": "stream",
     "text": [
      "64\n"
     ]
    }
   ],
   "source": [
    "# Exercise 4\n",
    "four_power_three = 4 ** 3\n",
    "print(four_power_three)"
   ]
  },
  {
   "cell_type": "code",
   "execution_count": 11,
   "metadata": {},
   "outputs": [
    {
     "name": "stdout",
     "output_type": "stream",
     "text": [
      "0.5555555555555556\n"
     ]
    },
    {
     "data": {
      "text/plain": [
       "float"
      ]
     },
     "execution_count": 11,
     "metadata": {},
     "output_type": "execute_result"
    }
   ],
   "source": [
    "# Exercise 5\n",
    "\n",
    "# Three plus seven first\n",
    "three_plus_seven = 3 + 7\n",
    "type(three_plus_seven)\n",
    "\n",
    "# Two times nine then\n",
    "two_times_nine = 2 * 9\n",
    "type(two_times_nine)\n",
    "\n",
    "# Divide them\n",
    "final_result = three_plus_seven / two_times_nine\n",
    "print(final_result)\n",
    "type(final_result)"
   ]
  },
  {
   "cell_type": "markdown",
   "metadata": {},
   "source": [
    "## Exercise 7\n",
    "Given the following table:\n",
    "\n",
    "| Person        | Height (m)       | Weight (kg) |\n",
    "| :------------ | :------------:  | :----------: |\n",
    "| Luca          | 1.75            | 70            |\n",
    "| Marco         | 1.68            | 65            |\n",
    "| Andrea        | 1.82               | 92            |\n",
    "\n",
    "Write a program that computes the average BMI of Luca, Marco, and Andrea. The BMI index is given by:\n",
    "\n",
    "$$ BMI = \\frac{weight_{kg}}{height^2_{m}} $$"
   ]
  },
  {
   "cell_type": "code",
   "execution_count": 12,
   "metadata": {},
   "outputs": [
    {
     "name": "stdout",
     "output_type": "stream",
     "text": [
      "24.553870529145257\n"
     ]
    }
   ],
   "source": [
    "# Compute and store individual BMI variables\n",
    "Luca_bmi   = 70 / (1.75 ** 2)\n",
    "Marco_bmi  = 65 / 1.68 ** 2      # Since exponentiation has precedence, parentheses can be omitted\n",
    "Andrea_bmi = 92 / 1.82 ** 2\n",
    "\n",
    "# Compute, store, and print the average BMI\n",
    "average_bmi = (Luca_bmi + Marco_bmi + Andrea_bmi) / 3\n",
    "print(average_bmi)"
   ]
  },
  {
   "cell_type": "markdown",
   "metadata": {},
   "source": [
    "## Exercise 8\n",
    "\n",
    "Create a string containing the text ```Hi, I'm a string``` and store it in a variable. Then, print the variable."
   ]
  },
  {
   "cell_type": "code",
   "execution_count": 13,
   "metadata": {
    "scrolled": true
   },
   "outputs": [
    {
     "name": "stdout",
     "output_type": "stream",
     "text": [
      "Hi, I'm a string\n"
     ]
    }
   ],
   "source": [
    "# Create and store the string\n",
    "hello_string = \"Hi, I'm a string\"\n",
    "\n",
    "# Print\n",
    "print(hello_string)"
   ]
  },
  {
   "cell_type": "markdown",
   "metadata": {},
   "source": [
    "## Exercise 9\n",
    "Given the following words:\n",
    "```\n",
    "This\n",
    "is\n",
    "a\n",
    "complete\n",
    "sentence\n",
    "```\n",
    "\n",
    "Create a variable for each word and join them in a single string. Print the string."
   ]
  },
  {
   "cell_type": "code",
   "execution_count": 14,
   "metadata": {},
   "outputs": [],
   "source": [
    "# Create variables\n",
    "str1 = \"This\"\n",
    "str2 = \"is\"\n",
    "str3 = \"a\"\n",
    "str4 = \"complete\"\n",
    "str5 = \"sentence\""
   ]
  },
  {
   "cell_type": "code",
   "execution_count": 15,
   "metadata": {},
   "outputs": [
    {
     "name": "stdout",
     "output_type": "stream",
     "text": [
      "This is a complete sentence\n",
      "This is a complete sentence\n"
     ]
    }
   ],
   "source": [
    "# Solution 1\n",
    "print(str1 + \" \" + str2 + \" \" + str3 + \" \" + str4 + \" \" + str5)\n",
    "\n",
    "# Solution 2\n",
    "print(f\"{str1} {str2} {str3} {str4} {str5}\")"
   ]
  },
  {
   "cell_type": "markdown",
   "metadata": {},
   "source": [
    "## Exercise 10\n",
    "Write a program that given the variable ```a = \"A\"```, prints out ```AAAAAAAAH, GOT IT!```"
   ]
  },
  {
   "cell_type": "code",
   "execution_count": 16,
   "metadata": {},
   "outputs": [
    {
     "name": "stdout",
     "output_type": "stream",
     "text": [
      "AAAAAAAAH, GOT IT!\n",
      "AAAAAAAAH, GOT IT!\n"
     ]
    }
   ],
   "source": [
    "a = \"A\"\n",
    "\n",
    "# Solution 1\n",
    "print(8*a + \"H, GOT IT!\")\n",
    "\n",
    "# Solution 2\n",
    "print(f\"{8*a}H, GOT IT!\")"
   ]
  },
  {
   "cell_type": "markdown",
   "metadata": {},
   "source": [
    "## Exercise 11\n",
    "Write a program that given two variables ```joke_intensity``` and ```laughter```, prints out the text:\n",
    "\n",
    "```\n",
    "That's so funny, HAHAHAHAHAHAHA!\n",
    "```\n",
    "\n",
    "where the length of the laugther is given by ```joke_intensity```."
   ]
  },
  {
   "cell_type": "code",
   "execution_count": 17,
   "metadata": {},
   "outputs": [
    {
     "name": "stdout",
     "output_type": "stream",
     "text": [
      "That's so funny, HAHAHAHAHAHAHAHAHAHA!\n",
      "That's so funny, HAHAHAHAHAHAHAHAHAHA!\n"
     ]
    }
   ],
   "source": [
    "# Define variable\n",
    "joke_intesity = 10\n",
    "laughter = \"HA\"\n",
    "\n",
    "# We want to use joke_intesity*laughter in another string\n",
    "# Option 1\n",
    "print(\"That's so funny, \" + joke_intesity*laughter + \"!\")\n",
    "\n",
    "# Option 2\n",
    "print(f\"That's so funny, {joke_intesity*laughter}!\")"
   ]
  },
  {
   "cell_type": "markdown",
   "metadata": {},
   "source": [
    "## Exercise 12\n",
    "Write a Python program that, depending on the value of the **string** variable ```love_or_hate```, prints\n",
    "\n",
    ">I love Python!\n",
    "\n",
    "or\n",
    "\n",
    ">I hate Python!\n",
    "\n"
   ]
  },
  {
   "cell_type": "code",
   "execution_count": 18,
   "metadata": {},
   "outputs": [
    {
     "name": "stdout",
     "output_type": "stream",
     "text": [
      "I love Python!\n",
      "I love Python!\n"
     ]
    }
   ],
   "source": [
    "# Create the variables\n",
    "love_or_hate = \"love\"\n",
    "# love_or_hate = \"hate\"\n",
    "\n",
    "# Option 1: string concatenation\n",
    "print(\"I \" + love_or_hate + \" Python!\")\n",
    "\n",
    "# Option 2: f-string\n",
    "print(f\"I {love_or_hate} Python!\")"
   ]
  },
  {
   "cell_type": "markdown",
   "metadata": {},
   "source": [
    "## Exercise 13\n",
    "Revisit the BMI exercise above. Write a program that displays the output of the above program nicely, such as\n",
    "\n",
    "```\n",
    "Luca's BMI index is ...\n",
    "Marco's BMI index is ...\n",
    "Andrea's BMI index is ...\n",
    "The average BMI index is ...\n",
    "```\n"
   ]
  },
  {
   "cell_type": "code",
   "execution_count": 19,
   "metadata": {},
   "outputs": [
    {
     "name": "stdout",
     "output_type": "stream",
     "text": [
      "Luca's BMI index is 22.857142857142858\n",
      "Marco's BMI index is 23.030045351473927\n",
      "Andrea's BMI index is 27.77442337881898\n",
      "The average BMI index is 24.553870529145257\n",
      "Luca's BMI index is 22.857142857142858\n",
      "Marco's BMI index is 23.030045351473927\n",
      "Andrea's BMI index is 27.77442337881898\n",
      "The average BMI index is 24.553870529145257\n",
      "Luca's BMI index is 22.857142857142858\n",
      "Marco's BMI index is 23.030045351473927\n",
      "Andrea's BMI index is 27.77442337881898\n",
      "The average BMI index is 24.553870529145257\n"
     ]
    }
   ],
   "source": [
    "# Option 1\n",
    "print(f\"Luca's BMI index is {Luca_bmi}\")\n",
    "print(f\"Marco's BMI index is {Marco_bmi}\")\n",
    "print(f\"Andrea's BMI index is {Andrea_bmi}\")\n",
    "print(f\"The average BMI index is {average_bmi}\")\n",
    "\n",
    "# Option 2\n",
    "print(\"Luca's BMI index is \" + str(Luca_bmi))\n",
    "print(\"Marco's BMI index is \" + str(Marco_bmi))\n",
    "print(\"Andrea's BMI index is \" + str(Andrea_bmi))\n",
    "print(\"The average BMI index is \" + str(average_bmi))\n",
    "\n",
    "# Option 3\n",
    "print(f\"Luca's BMI index is {Luca_bmi}\\n\"\n",
    "      f\"Marco's BMI index is {Marco_bmi}\\n\"\n",
    "      f\"Andrea's BMI index is {Andrea_bmi}\\n\"\n",
    "      f\"The average BMI index is {average_bmi}\"\n",
    "     )"
   ]
  },
  {
   "cell_type": "markdown",
   "metadata": {},
   "source": [
    "## Exercise 14\n",
    "Create a script called ```TimesTable3.py``` which computes and print the 3 times table. Make sure to store the text file in the same folder as this Jupyter notebook and with the extension ```.py```.\n",
    "\n",
    "The program should output\n",
    "\n",
    "```\n",
    "1 times 3 is 3\n",
    "2 times 3 is 6\n",
    "...\n",
    "9 times 3 is 27\n",
    "10 times 3 is 30\n",
    "```\n",
    "\n",
    "The script can be run with the command\n",
    "\n",
    "```python\n",
    "%run TimesTable3.py\n",
    "```\n",
    "\n",
    "Insert this command in the cell below:"
   ]
  },
  {
   "cell_type": "code",
   "execution_count": 20,
   "metadata": {},
   "outputs": [
    {
     "name": "stdout",
     "output_type": "stream",
     "text": [
      "1 times 3 is 3\n",
      "2 times 3 is 6\n",
      "3 times 3 is 9\n",
      "4 times 3 is 12\n",
      "5 times 3 is 15\n",
      "6 times 3 is 18\n",
      "7 times 3 is 21\n",
      "8 times 3 is 24\n",
      "9 times 3 is 27\n",
      "10 times 3 is 30\n"
     ]
    }
   ],
   "source": [
    "# Run the script TimesTable3.py\n",
    "%run TimesTable3.py"
   ]
  },
  {
   "cell_type": "markdown",
   "metadata": {},
   "source": [
    "## Exercise 15\n",
    "Given the string ```\"Economics\"```. Write a program that extracts and print the following:\n",
    "\n",
    "- ```\"E\"```\n",
    "- ```\"s\"```\n",
    "- ```\"n\"```\n",
    "- ```\"onomi\"```\n",
    "- ```\"Econ\"```\n",
    "- ```\"nomics\"```\n",
    "- ```\"nom\"```\n",
    "\n",
    "Do each separate extraction in a separate cell."
   ]
  },
  {
   "cell_type": "code",
   "execution_count": 21,
   "metadata": {},
   "outputs": [
    {
     "data": {
      "text/plain": [
       "'E'"
      ]
     },
     "execution_count": 21,
     "metadata": {},
     "output_type": "execute_result"
    }
   ],
   "source": [
    "econ = \"Economics\"\n",
    "econ[0]"
   ]
  },
  {
   "cell_type": "code",
   "execution_count": 22,
   "metadata": {},
   "outputs": [
    {
     "data": {
      "text/plain": [
       "'s'"
      ]
     },
     "execution_count": 22,
     "metadata": {},
     "output_type": "execute_result"
    }
   ],
   "source": [
    "econ[-1]"
   ]
  },
  {
   "cell_type": "code",
   "execution_count": 23,
   "metadata": {},
   "outputs": [
    {
     "data": {
      "text/plain": [
       "'n'"
      ]
     },
     "execution_count": 23,
     "metadata": {},
     "output_type": "execute_result"
    }
   ],
   "source": [
    "econ[3]"
   ]
  },
  {
   "cell_type": "code",
   "execution_count": 24,
   "metadata": {},
   "outputs": [
    {
     "data": {
      "text/plain": [
       "'onomi'"
      ]
     },
     "execution_count": 24,
     "metadata": {},
     "output_type": "execute_result"
    }
   ],
   "source": [
    "econ[2:7]"
   ]
  },
  {
   "cell_type": "code",
   "execution_count": 25,
   "metadata": {},
   "outputs": [
    {
     "data": {
      "text/plain": [
       "'Econ'"
      ]
     },
     "execution_count": 25,
     "metadata": {},
     "output_type": "execute_result"
    }
   ],
   "source": [
    "econ[:4]"
   ]
  },
  {
   "cell_type": "code",
   "execution_count": 26,
   "metadata": {},
   "outputs": [
    {
     "data": {
      "text/plain": [
       "'nomics'"
      ]
     },
     "execution_count": 26,
     "metadata": {},
     "output_type": "execute_result"
    }
   ],
   "source": [
    "econ[3:]"
   ]
  },
  {
   "cell_type": "code",
   "execution_count": 27,
   "metadata": {},
   "outputs": [
    {
     "data": {
      "text/plain": [
       "'nom'"
      ]
     },
     "execution_count": 27,
     "metadata": {},
     "output_type": "execute_result"
    }
   ],
   "source": [
    "econ[3:-3]"
   ]
  },
  {
   "cell_type": "markdown",
   "metadata": {},
   "source": [
    "## Exercise 16\n",
    "Extract the string ```fox``` from the following sentence\n",
    "\n",
    "```python\n",
    "foxy = \"the quick brown fox jumps over the lazy dog\"\n",
    "```"
   ]
  },
  {
   "cell_type": "code",
   "execution_count": 28,
   "metadata": {},
   "outputs": [
    {
     "name": "stdout",
     "output_type": "stream",
     "text": [
      "fox\n"
     ]
    }
   ],
   "source": [
    "foxy = \"the quick brown fox jumps over the lazy dog\"\n",
    "fox_from_foxy = foxy[16:19]\n",
    "print(fox_from_foxy)"
   ]
  },
  {
   "cell_type": "markdown",
   "metadata": {},
   "source": [
    "## Exercise 17\n",
    "Write a Python program that returns how many times the letter ```e``` appears in the following sentence:\n",
    "\n",
    "```Lorem ipsum dolor sit amet, consectetur adipiscing elit. Mauris nec ligula quis augue porta vestibulum.```"
   ]
  },
  {
   "cell_type": "code",
   "execution_count": 29,
   "metadata": {},
   "outputs": [
    {
     "name": "stdout",
     "output_type": "stream",
     "text": [
      "8\n"
     ]
    }
   ],
   "source": [
    "# Define the string\n",
    "lorem = \"Lorem ipsum dolor sit amet, consectetur adipiscing elit. Mauris nec ligula quis augue porta vestibulum.\"\n",
    "\n",
    "# Use str.count method\n",
    "number_times_e = lorem.count(\"e\")\n",
    "\n",
    "# Print\n",
    "print(number_times_e)"
   ]
  },
  {
   "cell_type": "markdown",
   "metadata": {},
   "source": [
    "## Exercise 18\n",
    "Repeat the ```foxy``` exercise above **without** manually counting the indexes. That is, the program should automatically find and extract the sub-string ```fox```"
   ]
  },
  {
   "cell_type": "code",
   "execution_count": 30,
   "metadata": {},
   "outputs": [
    {
     "name": "stdout",
     "output_type": "stream",
     "text": [
      "Help on built-in function find:\n",
      "\n",
      "find(...) method of builtins.str instance\n",
      "    S.find(sub[, start[, end]]) -> int\n",
      "    \n",
      "    Return the lowest index in S where substring sub is found,\n",
      "    such that sub is contained within S[start:end].  Optional\n",
      "    arguments start and end are interpreted as in slice notation.\n",
      "    \n",
      "    Return -1 on failure.\n",
      "\n"
     ]
    }
   ],
   "source": [
    "# We can use the str.find method to find the index for the position of \"fox\" in foxy\n",
    "# Let's have a look at the help for the str.find method first\n",
    "help(foxy.find)"
   ]
  },
  {
   "cell_type": "code",
   "execution_count": 31,
   "metadata": {},
   "outputs": [
    {
     "name": "stdout",
     "output_type": "stream",
     "text": [
      "fox\n"
     ]
    }
   ],
   "source": [
    "# Get index for first character of fox\n",
    "fox_index = foxy.find(\"fox\")\n",
    "\n",
    "# Get length of word fox\n",
    "length_fox = len(\"fox\")\n",
    "\n",
    "# Slice the sentence to get fox\n",
    "fox_from_foxy = foxy[fox_index:fox_index+length_fox]\n",
    "\n",
    "# Print\n",
    "print(fox_from_foxy)"
   ]
  },
  {
   "cell_type": "code",
   "execution_count": 32,
   "metadata": {},
   "outputs": [
    {
     "name": "stdout",
     "output_type": "stream",
     "text": [
      "fox\n"
     ]
    }
   ],
   "source": [
    "# One liner\n",
    "print( foxy[ foxy.find(\"fox\") : foxy.find(\"fox\") + len(\"fox\") ] )"
   ]
  },
  {
   "cell_type": "markdown",
   "metadata": {},
   "source": [
    "## Exercise 19\n",
    "Repeat the ```Lorem ipsum``` exercise above and count how many times the letter ```e``` appears between the comma ```,``` and the period ```.```.\n",
    "\n",
    "Check first the help for the ```str.count()``` method with ```help(str.count)``` or ```str.count?```."
   ]
  },
  {
   "cell_type": "code",
   "execution_count": 33,
   "metadata": {},
   "outputs": [
    {
     "data": {
      "text/plain": [
       "3"
      ]
     },
     "execution_count": 33,
     "metadata": {},
     "output_type": "execute_result"
    }
   ],
   "source": [
    "# First find the index of the , and . in lorem\n",
    "comma_index  = lorem.find(\",\")\n",
    "period_index = lorem.find(\".\")\n",
    "\n",
    "# Extract the substring\n",
    "sub_lorem = lorem[comma_index+1:period_index]\n",
    "\n",
    "# Count\n",
    "sub_lorem.count(\"e\")"
   ]
  },
  {
   "cell_type": "code",
   "execution_count": 34,
   "metadata": {},
   "outputs": [
    {
     "data": {
      "text/plain": [
       "3"
      ]
     },
     "execution_count": 34,
     "metadata": {},
     "output_type": "execute_result"
    }
   ],
   "source": [
    "# One liner\n",
    "lorem[ lorem.find(\",\") + 1 : lorem.find(\".\") ].count(\"e\")"
   ]
  }
 ],
 "metadata": {
  "kernelspec": {
   "display_name": "Python 3",
   "language": "python",
   "name": "python3"
  },
  "language_info": {
   "codemirror_mode": {
    "name": "ipython",
    "version": 3
   },
   "file_extension": ".py",
   "mimetype": "text/x-python",
   "name": "python",
   "nbconvert_exporter": "python",
   "pygments_lexer": "ipython3",
   "version": "3.8.3"
  }
 },
 "nbformat": 4,
 "nbformat_minor": 4
}
