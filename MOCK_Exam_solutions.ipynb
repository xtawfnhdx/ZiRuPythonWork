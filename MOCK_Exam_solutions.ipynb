{
 "cells": [
  {
   "cell_type": "markdown",
   "metadata": {},
   "source": [
    "# Question 1\n",
    "\n",
    "**Your solution explanation here:**\n",
    "\n",
    "The first thing to notice is that we want to create a function. This will be named ```santa_laugh``` and it will have at least one parameter.\n",
    "\n",
    "Within the body of the function, we take the number passed in as argument and use it to create the final string, the ```laughter```, that will be returned. When the function is called the number as argument is bound to the function parameter ```laugh_int```.\n",
    "\n",
    "To create the string, notice that it is just a repetition of the string ```Ho```. When can then use the operator ```*``` applied to strings.\n",
    "\n",
    "Another, less preferred, option is to create the string using nested ```if..elif``` statements that check for the value of the number passed in as an argument, and create the string accordingly.\n",
    "\n",
    "Finally, we return the string with a return statement."
   ]
  },
  {
   "cell_type": "code",
   "execution_count": 1,
   "metadata": {},
   "outputs": [],
   "source": [
    "# Your code here\n",
    "\n",
    "# Define the function\n",
    "def santa_laugh(laugh_int):\n",
    "    \"\"\"This function returns Santa's laughter\"\"\"\n",
    "    \n",
    "    # Create laughter string based on function argument\n",
    "    laughter = laugh_int*\"Ho\"\n",
    "    \n",
    "    # Return string\n",
    "    return laughter"
   ]
  },
  {
   "cell_type": "code",
   "execution_count": 2,
   "metadata": {},
   "outputs": [
    {
     "data": {
      "text/plain": [
       "'HoHoHo'"
      ]
     },
     "execution_count": 2,
     "metadata": {},
     "output_type": "execute_result"
    }
   ],
   "source": [
    "# Function test 1\n",
    "santa_laugh(3)"
   ]
  },
  {
   "cell_type": "code",
   "execution_count": 3,
   "metadata": {},
   "outputs": [
    {
     "data": {
      "text/plain": [
       "'HoHoHoHoHoHoHo'"
      ]
     },
     "execution_count": 3,
     "metadata": {},
     "output_type": "execute_result"
    }
   ],
   "source": [
    "# Function test 2\n",
    "santa_laugh(7)"
   ]
  },
  {
   "cell_type": "markdown",
   "metadata": {},
   "source": [
    "# Question 2\n",
    "\n",
    "**Your solution explanation here:**\n",
    "\n",
    "We are given a list of strings, which is stored in a variable named ```string_list```. (You have to create this variable to start with! You can choose another name if you like)\n",
    "\n",
    "You should assume that the list of strings can be of any length, and contain different strings. In other words, your program should be general enough to work with any given list of strings.\n",
    "\n",
    "The program we are required to write should do the following:\n",
    "\n",
    "1. Take each string from the list\n",
    "2. Compute the length of each string\n",
    "3. Convert the string to its capitalized version\n",
    "4. Print out length and capitalized version of each string\n",
    "\n",
    "This is achieved with:\n",
    "\n",
    "1. A for loop that iterates over the elements of the list, i.e. the strings\n",
    "2. The ```len()``` function applied to each string\n",
    "3. The ```capitalize()``` method to capitalize each string\n",
    "4. The ```print()``` function\n",
    "\n",
    "Point 2, 3, and 4 will be part of the body of the for loop (indented) as they have to be repeated for each string in the list.\n",
    "\n",
    "Notice that point 3 could be applied to other modification of strings, such as uppercases, lowercases, and more. Check the appropriate string methods for each modification (Lecture 6)."
   ]
  },
  {
   "cell_type": "code",
   "execution_count": 4,
   "metadata": {},
   "outputs": [
    {
     "name": "stdout",
     "output_type": "stream",
     "text": [
      "4 Luca\n",
      "6 London\n",
      "9 Economics\n",
      "6 Python\n"
     ]
    }
   ],
   "source": [
    "# Your code here\n",
    "\n",
    "# Create a list of strings. This can be modified\n",
    "string_list = [\"luca\", \"london\", \"economics\", \"python\"]\n",
    "\n",
    "# Using a for loop print out sequentially\n",
    "for word in string_list:\n",
    "    print(len(word), word.capitalize())"
   ]
  },
  {
   "cell_type": "markdown",
   "metadata": {},
   "source": [
    "# Question 3\n",
    "\n",
    "**Your solution explanation here:**\n",
    "\n",
    "The aim is to write a function that converts a string passed as an argument into a new one according to a given rule. We will name this function ```replace_az```, but you can choose any name as long as it is informative of what the function does.\n",
    "\n",
    "Within the body of the function, instead of modifying the given string directly, we will create a **new** string starting from the given one. Then, we will return the newly created string once it is ready.\n",
    "\n",
    "The goal is to replace every letter \"A\" or \"Z\", if present, with the next letter in the string. We can do this with\n",
    "\n",
    "- Create an empty string that will be filled.\n",
    "- A for loop that iterates over every letter in the string.\n",
    "- A conditional statement that check whether the current letter is equal to \"A\" or \"Z\"\n",
    "    - If it is, we index the next position to get the next letter. Then we add this letter to the new string that is being filled.\n",
    "    - If it is not, we just add the current letter to the new string.\n",
    "\n",
    "Once the for loop is over, we will have the converted string that we want and we can return that."
   ]
  },
  {
   "cell_type": "code",
   "execution_count": 5,
   "metadata": {},
   "outputs": [],
   "source": [
    "# Your code here\n",
    "def replace_az(original_str):\n",
    "    # Initialise the new string. This will be filled iteratively\n",
    "    converted_str = \"\"\n",
    "    \n",
    "    # Iteratively go over each letter in the original string, and fill the new one\n",
    "    for pos, letter in enumerate(original_str):\n",
    "        # Note:\n",
    "        # pos indicates the index of the current letter, from 0 to length of string\n",
    "        # letter is the current letter\n",
    "        \n",
    "        # Check whether current letter is \"A\" or \"Z\"\n",
    "        if letter in \"AZ\":   # Another option is (letter == \"A\" or letter == \"Z\")\n",
    "            # Get the next letter in the original string\n",
    "            next_letter = original_str[pos+1]\n",
    "            \n",
    "            converted_str += next_letter\n",
    "        else:\n",
    "            # Simply add to the end of the new string the current letter\n",
    "            converted_str += letter\n",
    "    \n",
    "    # Return the newly created string\n",
    "    return converted_str"
   ]
  },
  {
   "cell_type": "code",
   "execution_count": 6,
   "metadata": {},
   "outputs": [
    {
     "data": {
      "text/plain": [
       "'FF'"
      ]
     },
     "execution_count": 6,
     "metadata": {},
     "output_type": "execute_result"
    }
   ],
   "source": [
    "# Test function 1\n",
    "replace_az(\"AF\")"
   ]
  },
  {
   "cell_type": "code",
   "execution_count": 7,
   "metadata": {},
   "outputs": [
    {
     "data": {
      "text/plain": [
       "'DDEE'"
      ]
     },
     "execution_count": 7,
     "metadata": {},
     "output_type": "execute_result"
    }
   ],
   "source": [
    "# Test function 2\n",
    "replace_az(\"ADZE\")"
   ]
  },
  {
   "cell_type": "code",
   "execution_count": 8,
   "metadata": {
    "scrolled": true
   },
   "outputs": [
    {
     "data": {
      "text/plain": [
       "'RRDFFEWW'"
      ]
     },
     "execution_count": 8,
     "metadata": {},
     "output_type": "execute_result"
    }
   ],
   "source": [
    "# Test function 3\n",
    "replace_az(\"ARDAFEZW\")"
   ]
  },
  {
   "cell_type": "markdown",
   "metadata": {},
   "source": [
    "# Question 4\n",
    "\n",
    "**Your solution explanation here:**\n",
    "\n",
    "This question requires us to use the Pandas library to complete 5 different tasks related to the dataset \"expenditure_data.csv\".\n",
    "\n",
    "The very first thing that we need to do is to import the Pandas library and to name the data frame created from \"expenditure_data.csv\".\n",
    "\n",
    "**Task 1:**\n",
    "\n",
    "The ```head()``` method applied to the dataframe can be used to display the first n observations. This will be sufficient for this task.\n",
    "\n",
    "**Task 2:**\n",
    "\n",
    "We are interested in the region column only, and thus we will index the dataframe ```df_exp``` with the ```region``` label. This operation will return a Series object for which we can apply methods to.\n",
    "\n",
    "We now want to count how many values of \"London\" appear in the series. The ```value_counts``` will return a Series containing counts of unique values. We can store this series in a new variable.\n",
    "\n",
    "Finally, we can index the stored series with the label \"London\" again.\n",
    "\n",
    "\n",
    "**Task 3:**\n",
    "\n",
    "There are two main steps:\n",
    "\n",
    "1. Compute the median income in each region.\n",
    "2. Take their difference \n",
    "\n",
    "To compute the median of income we can apply the ```median()``` function to the \"income\" column. However, we only need to consider households that live in \"East Mid\" and \"West Mid\" separately. This filtering can be done via Boolean indexing, i.e. find those rows that meet a condition (e.g. whether they live in \"East Mid\").\n",
    "\n",
    "Given the Boolean index, we will select those rows according to the region and pick the \"income\" column. This is done with the ```loc()``` method. Then, we apply the ```median()``` function.\n",
    "\n",
    "Finally, we take the difference of the results.\n",
    "\n",
    "**Task 4:**\n",
    "\n",
    "Since we are only interested in households that live in the \"Yorkshir\" area, we can create a new dataframe from the original one. Given the new dataframe, we can then compute the percentage by counting how many households spend over £400 and divide by total number of households.\n",
    "\n",
    "**Task 5:**\n",
    "\n",
    "The aim is to compute the average number of households. Therefore, we are interested in the \"nadults\" column of the dataframe.\n",
    "\n",
    "Notice that the values in this column are strings, which is not a suitable data type to perform numerical operations such as an average. Hence, we first need to convert all strings to their correspondent numerical value.\n",
    "\n",
    "The ```replace()``` method allows us to replace all values that we want to replace with a new value that we provide. We want to replace \"1 adult\" with the number 1, and so on. Notice the ```inplace=True``` argument is needed to correctly update the dataframe.\n",
    "\n",
    "Finally, we apply the ```mean()``` method to the \"nadult\" column to compute the mean."
   ]
  },
  {
   "cell_type": "code",
   "execution_count": 9,
   "metadata": {},
   "outputs": [],
   "source": [
    "# Your code here\n",
    "\n",
    "# Import Pandas\n",
    "import pandas as pd\n",
    "\n",
    "# Read CSV file and create a data frame\n",
    "df_exp = pd.read_csv(\"expenditure_data.csv\")"
   ]
  },
  {
   "cell_type": "code",
   "execution_count": 10,
   "metadata": {},
   "outputs": [
    {
     "data": {
      "text/html": [
       "<div>\n",
       "<style scoped>\n",
       "    .dataframe tbody tr th:only-of-type {\n",
       "        vertical-align: middle;\n",
       "    }\n",
       "\n",
       "    .dataframe tbody tr th {\n",
       "        vertical-align: top;\n",
       "    }\n",
       "\n",
       "    .dataframe thead th {\n",
       "        text-align: right;\n",
       "    }\n",
       "</style>\n",
       "<table border=\"1\" class=\"dataframe\">\n",
       "  <thead>\n",
       "    <tr style=\"text-align: right;\">\n",
       "      <th></th>\n",
       "      <th>expenditure</th>\n",
       "      <th>income</th>\n",
       "      <th>maininc</th>\n",
       "      <th>region</th>\n",
       "      <th>nadults</th>\n",
       "      <th>nkids</th>\n",
       "      <th>SexHRP</th>\n",
       "      <th>housing</th>\n",
       "      <th>internet</th>\n",
       "    </tr>\n",
       "  </thead>\n",
       "  <tbody>\n",
       "    <tr>\n",
       "      <th>0</th>\n",
       "      <td>380.69580</td>\n",
       "      <td>465.3600</td>\n",
       "      <td>earnings</td>\n",
       "      <td>East Mid</td>\n",
       "      <td>2 adults</td>\n",
       "      <td>Two or m</td>\n",
       "      <td>Female</td>\n",
       "      <td>Public r</td>\n",
       "      <td>1</td>\n",
       "    </tr>\n",
       "    <tr>\n",
       "      <th>1</th>\n",
       "      <td>546.41340</td>\n",
       "      <td>855.2600</td>\n",
       "      <td>earnings</td>\n",
       "      <td>London</td>\n",
       "      <td>2 adults</td>\n",
       "      <td>No child</td>\n",
       "      <td>Female</td>\n",
       "      <td>Owned</td>\n",
       "      <td>1</td>\n",
       "    </tr>\n",
       "    <tr>\n",
       "      <th>2</th>\n",
       "      <td>242.18900</td>\n",
       "      <td>160.9600</td>\n",
       "      <td>earnings</td>\n",
       "      <td>South Ea</td>\n",
       "      <td>1 adult</td>\n",
       "      <td>No child</td>\n",
       "      <td>Female</td>\n",
       "      <td>Owned</td>\n",
       "      <td>1</td>\n",
       "    </tr>\n",
       "    <tr>\n",
       "      <th>3</th>\n",
       "      <td>421.38240</td>\n",
       "      <td>656.2200</td>\n",
       "      <td>earnings</td>\n",
       "      <td>Eastern</td>\n",
       "      <td>2 adults</td>\n",
       "      <td>No child</td>\n",
       "      <td>Male</td>\n",
       "      <td>Owned</td>\n",
       "      <td>1</td>\n",
       "    </tr>\n",
       "    <tr>\n",
       "      <th>4</th>\n",
       "      <td>370.40560</td>\n",
       "      <td>398.8000</td>\n",
       "      <td>earnings</td>\n",
       "      <td>South Ea</td>\n",
       "      <td>1 adult</td>\n",
       "      <td>No child</td>\n",
       "      <td>Male</td>\n",
       "      <td>Owned</td>\n",
       "      <td>1</td>\n",
       "    </tr>\n",
       "    <tr>\n",
       "      <th>5</th>\n",
       "      <td>172.39720</td>\n",
       "      <td>321.0200</td>\n",
       "      <td>earnings</td>\n",
       "      <td>Scotland</td>\n",
       "      <td>1 adult</td>\n",
       "      <td>No child</td>\n",
       "      <td>Male</td>\n",
       "      <td>Public r</td>\n",
       "      <td>0</td>\n",
       "    </tr>\n",
       "    <tr>\n",
       "      <th>6</th>\n",
       "      <td>202.42500</td>\n",
       "      <td>350.8340</td>\n",
       "      <td>other so</td>\n",
       "      <td>Northern</td>\n",
       "      <td>2 adults</td>\n",
       "      <td>No child</td>\n",
       "      <td>Male</td>\n",
       "      <td>Owned</td>\n",
       "      <td>1</td>\n",
       "    </tr>\n",
       "    <tr>\n",
       "      <th>7</th>\n",
       "      <td>730.65800</td>\n",
       "      <td>1184.9900</td>\n",
       "      <td>earnings</td>\n",
       "      <td>South Ea</td>\n",
       "      <td>4 and mo</td>\n",
       "      <td>No child</td>\n",
       "      <td>Female</td>\n",
       "      <td>Public r</td>\n",
       "      <td>1</td>\n",
       "    </tr>\n",
       "    <tr>\n",
       "      <th>8</th>\n",
       "      <td>361.93100</td>\n",
       "      <td>619.5700</td>\n",
       "      <td>earnings</td>\n",
       "      <td>Wales</td>\n",
       "      <td>2 adults</td>\n",
       "      <td>No child</td>\n",
       "      <td>Male</td>\n",
       "      <td>Owned</td>\n",
       "      <td>1</td>\n",
       "    </tr>\n",
       "    <tr>\n",
       "      <th>9</th>\n",
       "      <td>659.91170</td>\n",
       "      <td>1117.8420</td>\n",
       "      <td>other so</td>\n",
       "      <td>Yorkshir</td>\n",
       "      <td>2 adults</td>\n",
       "      <td>No child</td>\n",
       "      <td>Male</td>\n",
       "      <td>Owned</td>\n",
       "      <td>1</td>\n",
       "    </tr>\n",
       "    <tr>\n",
       "      <th>10</th>\n",
       "      <td>338.70710</td>\n",
       "      <td>375.8000</td>\n",
       "      <td>other so</td>\n",
       "      <td>West Mid</td>\n",
       "      <td>2 adults</td>\n",
       "      <td>Two or m</td>\n",
       "      <td>Male</td>\n",
       "      <td>Public r</td>\n",
       "      <td>1</td>\n",
       "    </tr>\n",
       "    <tr>\n",
       "      <th>11</th>\n",
       "      <td>238.21460</td>\n",
       "      <td>819.4675</td>\n",
       "      <td>earnings</td>\n",
       "      <td>Wales</td>\n",
       "      <td>1 adult</td>\n",
       "      <td>No child</td>\n",
       "      <td>Male</td>\n",
       "      <td>Owned</td>\n",
       "      <td>1</td>\n",
       "    </tr>\n",
       "    <tr>\n",
       "      <th>12</th>\n",
       "      <td>507.49310</td>\n",
       "      <td>687.9345</td>\n",
       "      <td>other so</td>\n",
       "      <td>Eastern</td>\n",
       "      <td>2 adults</td>\n",
       "      <td>No child</td>\n",
       "      <td>Male</td>\n",
       "      <td>Owned</td>\n",
       "      <td>1</td>\n",
       "    </tr>\n",
       "    <tr>\n",
       "      <th>13</th>\n",
       "      <td>92.62071</td>\n",
       "      <td>209.8500</td>\n",
       "      <td>other so</td>\n",
       "      <td>Yorkshir</td>\n",
       "      <td>1 adult</td>\n",
       "      <td>No child</td>\n",
       "      <td>Male</td>\n",
       "      <td>Public r</td>\n",
       "      <td>1</td>\n",
       "    </tr>\n",
       "    <tr>\n",
       "      <th>14</th>\n",
       "      <td>593.81020</td>\n",
       "      <td>841.1100</td>\n",
       "      <td>earnings</td>\n",
       "      <td>West Mid</td>\n",
       "      <td>3 adults</td>\n",
       "      <td>No child</td>\n",
       "      <td>Male</td>\n",
       "      <td>Owned</td>\n",
       "      <td>0</td>\n",
       "    </tr>\n",
       "  </tbody>\n",
       "</table>\n",
       "</div>"
      ],
      "text/plain": [
       "    expenditure     income   maininc    region   nadults     nkids  SexHRP  \\\n",
       "0     380.69580   465.3600  earnings  East Mid  2 adults  Two or m  Female   \n",
       "1     546.41340   855.2600  earnings    London  2 adults  No child  Female   \n",
       "2     242.18900   160.9600  earnings  South Ea   1 adult  No child  Female   \n",
       "3     421.38240   656.2200  earnings   Eastern  2 adults  No child    Male   \n",
       "4     370.40560   398.8000  earnings  South Ea   1 adult  No child    Male   \n",
       "5     172.39720   321.0200  earnings  Scotland   1 adult  No child    Male   \n",
       "6     202.42500   350.8340  other so  Northern  2 adults  No child    Male   \n",
       "7     730.65800  1184.9900  earnings  South Ea  4 and mo  No child  Female   \n",
       "8     361.93100   619.5700  earnings     Wales  2 adults  No child    Male   \n",
       "9     659.91170  1117.8420  other so  Yorkshir  2 adults  No child    Male   \n",
       "10    338.70710   375.8000  other so  West Mid  2 adults  Two or m    Male   \n",
       "11    238.21460   819.4675  earnings     Wales   1 adult  No child    Male   \n",
       "12    507.49310   687.9345  other so   Eastern  2 adults  No child    Male   \n",
       "13     92.62071   209.8500  other so  Yorkshir   1 adult  No child    Male   \n",
       "14    593.81020   841.1100  earnings  West Mid  3 adults  No child    Male   \n",
       "\n",
       "     housing  internet  \n",
       "0   Public r         1  \n",
       "1      Owned         1  \n",
       "2      Owned         1  \n",
       "3      Owned         1  \n",
       "4      Owned         1  \n",
       "5   Public r         0  \n",
       "6      Owned         1  \n",
       "7   Public r         1  \n",
       "8      Owned         1  \n",
       "9      Owned         1  \n",
       "10  Public r         1  \n",
       "11     Owned         1  \n",
       "12     Owned         1  \n",
       "13  Public r         1  \n",
       "14     Owned         0  "
      ]
     },
     "execution_count": 10,
     "metadata": {},
     "output_type": "execute_result"
    }
   ],
   "source": [
    "# 1\n",
    "df_exp.head(15)"
   ]
  },
  {
   "cell_type": "code",
   "execution_count": 11,
   "metadata": {},
   "outputs": [
    {
     "data": {
      "text/plain": [
       "480"
      ]
     },
     "execution_count": 11,
     "metadata": {},
     "output_type": "execute_result"
    }
   ],
   "source": [
    "# 2\n",
    "\n",
    "# Create a Series that shows number of households in each region\n",
    "num_hh_per_region = df_exp[\"region\"].value_counts()\n",
    "\n",
    "# Get the number of households in London region\n",
    "num_hh_per_region[\"London\"]"
   ]
  },
  {
   "cell_type": "code",
   "execution_count": 12,
   "metadata": {},
   "outputs": [
    {
     "name": "stdout",
     "output_type": "stream",
     "text": [
      "The difference between median income in East Mid and West Mid is: 51.13999999999993\n"
     ]
    }
   ],
   "source": [
    "# 3\n",
    "\n",
    "# Compute East Mid median income\n",
    "east_mid_hh = (df_exp[\"region\"] == \"East Mid\")\n",
    "east_mid_median = df_exp.loc[east_mid_hh, \"income\"].median()\n",
    "\n",
    "# Compute West Mid median income\n",
    "west_mid_hh = (df_exp[\"region\"] == \"West Mid\")\n",
    "west_mid_median = df_exp.loc[west_mid_hh, \"income\"].median()\n",
    "\n",
    "# Compute and display difference\n",
    "print(f\"The difference between median income in East Mid and West Mid is: {east_mid_median - west_mid_median}\")"
   ]
  },
  {
   "cell_type": "code",
   "execution_count": 13,
   "metadata": {},
   "outputs": [
    {
     "name": "stdout",
     "output_type": "stream",
     "text": [
      "Pct of household with expenditure over £400 is 47.61904761904761\n"
     ]
    }
   ],
   "source": [
    "# 4\n",
    "\n",
    "# Create a new dataframe with households from \"Yorkshir\"\n",
    "york_hh = (df_exp[\"region\"] == \"Yorkshir\")\n",
    "df_exp_york = df_exp.loc[york_hh, :]\n",
    "\n",
    "# Compute total number of households in \"Yorkshir\"\n",
    "tot_num_hh_york = df_exp_york.shape[0]\n",
    "\n",
    "# Create an index that selects only household that spend over £400\n",
    "exp_over_400 = (df_exp_york[\"expenditure\"] > 400)\n",
    "\n",
    "# Create dataframe with only household with expenditure over £400\n",
    "df_exp_over_400 = df_exp_york.loc[exp_over_400,:]\n",
    "\n",
    "# Get number of households in this dataframe\n",
    "hh_num_exp_over_400 = df_exp_over_400.shape[0]\n",
    "\n",
    "# Compute percentage\n",
    "pct_hh_exp_over_400 = (hh_num_exp_over_400/tot_num_hh_york)*100\n",
    "print(f\"Pct of household with expenditure over £400 is {pct_hh_exp_over_400}\")"
   ]
  },
  {
   "cell_type": "code",
   "execution_count": 14,
   "metadata": {},
   "outputs": [
    {
     "data": {
      "text/plain": [
       "1.8108475894245724"
      ]
     },
     "execution_count": 14,
     "metadata": {},
     "output_type": "execute_result"
    }
   ],
   "source": [
    "# 5\n",
    "\n",
    "# Convert all string values to numeric values\n",
    "df_exp.replace({\"1 adult\": 1, \"2 adults\": 2, \"3 adults\": 3, \"4 and mo\": 4}, inplace=True)\n",
    "\n",
    "# Compute average number of adults per household\n",
    "df_exp[\"nadults\"].mean()"
   ]
  },
  {
   "cell_type": "markdown",
   "metadata": {},
   "source": [
    "# Question 5\n",
    "\n",
    "**Your solution explanation here:**\n",
    "\n",
    "The aim of this program is to create a simple interface where the program's user (here, the student) selects a title from a given range of titles (given by the table).\n",
    "\n",
    "The main elements of the program are:\n",
    "\n",
    "- A list, or a dictionary, variable that stores all available titles. We can call this ```shelf```.\n",
    "- A list, or a dictionary, variable that stores all borrowed titles. We can call this ```account```.\n",
    "- A set of instructions that allow the user to pick a title from the ```shelf``` and add it to the ```account```.\n",
    "    - A while loop will allow us to iteratively ask the user for an input.\n",
    "    - The ```input()``` function will prompt the user to select the title at each iteration.\n",
    "\n",
    "In the solution proposed below we will ask the user to input the position of the book on the ```shelf``` list, use that to index the ```shelf``` list, and add it to ```account``` list. If a dictionary is used instead, we could ask for the key and get the associated value by indexing the dictionary with the key.\n",
    "\n",
    "Finally, we need another input from the user to choose whether they have finished their session. This will terminate the while loop."
   ]
  },
  {
   "cell_type": "code",
   "execution_count": null,
   "metadata": {
    "scrolled": false
   },
   "outputs": [],
   "source": [
    "# Your code here\n",
    "\n",
    "# Create a list containing all available book titles\n",
    "shelf = [\"Microeconomics\", \"Macroeconomics\", \"Econometrics\", \n",
    "         \"Trade\", \"Statistics\", \"Mathematics\"]\n",
    "\n",
    "# Create an empty list that will store all borrowed titles. This will be filled later\n",
    "account = []\n",
    "\n",
    "# Initialise a variable that indicates whether the session is finished\n",
    "session_finished = False\n",
    "\n",
    "# Interactively ask user for titles\n",
    "while not session_finished:\n",
    "    \n",
    "    # Ask user which book she want to borrow\n",
    "    pos_book = int(input(f\"Which book would you like to borrow? Indicate position (0 to {len(shelf)-1})\"))\n",
    "    \n",
    "    # Update the account with the current book\n",
    "    account.append(shelf[pos_book])\n",
    "    print(f\"You've added {shelf[pos_book]} to your account\")\n",
    "    \n",
    "    # Ask whether to end this session\n",
    "    if input(\"Are you done for today? [Yes/No]\") == \"Yes\":\n",
    "        session_finished = True\n",
    "\n",
    "# Display final message\n",
    "print(\"Thanks for stopping by! You have borrowed the following titles:\")\n",
    "for title in account:\n",
    "    print(title)"
   ]
  },
  {
   "cell_type": "code",
   "execution_count": null,
   "metadata": {},
   "outputs": [],
   "source": []
  }
 ],
 "metadata": {
  "kernelspec": {
   "display_name": "Python 3",
   "language": "python",
   "name": "python3"
  },
  "language_info": {
   "codemirror_mode": {
    "name": "ipython",
    "version": 3
   },
   "file_extension": ".py",
   "mimetype": "text/x-python",
   "name": "python",
   "nbconvert_exporter": "python",
   "pygments_lexer": "ipython3",
   "version": "3.8.5"
  },
  "toc": {
   "base_numbering": 1,
   "nav_menu": {},
   "number_sections": false,
   "sideBar": true,
   "skip_h1_title": false,
   "title_cell": "Table of Contents",
   "title_sidebar": "Contents",
   "toc_cell": false,
   "toc_position": {},
   "toc_section_display": true,
   "toc_window_display": false
  },
  "varInspector": {
   "cols": {
    "lenName": 16,
    "lenType": 16,
    "lenVar": 40
   },
   "kernels_config": {
    "python": {
     "delete_cmd_postfix": "",
     "delete_cmd_prefix": "del ",
     "library": "var_list.py",
     "varRefreshCmd": "print(var_dic_list())"
    },
    "r": {
     "delete_cmd_postfix": ") ",
     "delete_cmd_prefix": "rm(",
     "library": "var_list.r",
     "varRefreshCmd": "cat(var_dic_list()) "
    }
   },
   "types_to_exclude": [
    "module",
    "function",
    "builtin_function_or_method",
    "instance",
    "_Feature"
   ],
   "window_display": false
  }
 },
 "nbformat": 4,
 "nbformat_minor": 4
}
